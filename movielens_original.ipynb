{
 "cells": [
  {
   "cell_type": "code",
   "execution_count": 1,
   "metadata": {},
   "outputs": [
    {
     "name": "stderr",
     "output_type": "stream",
     "text": [
      "/home/syudosaev/anaconda3/envs/sim4rec/lib/python3.9/site-packages/tqdm/auto.py:21: TqdmWarning: IProgress not found. Please update jupyter and ipywidgets. See https://ipywidgets.readthedocs.io/en/stable/user_install.html\n",
      "  from .autonotebook import tqdm as notebook_tqdm\n"
     ]
    },
    {
     "name": "stdout",
     "output_type": "stream",
     "text": [
      "24/04/21 15:19:54 WARN Utils: Your hostname, ecs-syudosaev-big resolves to a loopback address: 127.0.1.1; using 10.11.12.124 instead (on interface eth0)\n",
      "24/04/21 15:19:54 WARN Utils: Set SPARK_LOCAL_IP if you need to bind to another address\n"
     ]
    },
    {
     "name": "stderr",
     "output_type": "stream",
     "text": [
      "Setting default log level to \"WARN\".\n",
      "To adjust logging level use sc.setLogLevel(newLevel). For SparkR, use setLogLevel(newLevel).\n"
     ]
    },
    {
     "name": "stdout",
     "output_type": "stream",
     "text": [
      "24/04/21 15:19:54 WARN NativeCodeLoader: Unable to load native-hadoop library for your platform... using builtin-java classes where applicable\n",
      "24/04/21 15:19:55 WARN SparkConf: Note that spark.local.dir will be overridden by the value set by the cluster manager (via SPARK_LOCAL_DIRS in mesos/standalone/kubernetes and LOCAL_DIRS in YARN).\n"
     ]
    },
    {
     "data": {
      "text/plain": [
       "<replay.session_handler.State at 0x7fb96a9b90d0>"
      ]
     },
     "execution_count": 1,
     "metadata": {},
     "output_type": "execute_result"
    }
   ],
   "source": [
    "import os\n",
    "\n",
    "import pandas as pd\n",
    "import numpy as np\n",
    "\n",
    "import time\n",
    "\n",
    "from pyspark import SparkConf\n",
    "from pyspark.sql import SparkSession\n",
    "from pyspark.ml.feature import VectorAssembler, PCA\n",
    "from pyspark.ml.functions import vector_to_array\n",
    "from pyspark.sql.functions import col, lit\n",
    "import pyspark.sql.functions as sf\n",
    "from pyspark.ml.classification import LogisticRegression, RandomForestClassifier, FMClassifier\n",
    "from pyspark.ml import Pipeline, PipelineModel\n",
    "from pyspark.sql import types as st\n",
    "\n",
    "from replay.session_handler import State\n",
    "from replay.data_preparator import Indexer\n",
    "from replay.models import RandomRec\n",
    "from replay.metrics import NDCG, Precision, RocAuc\n",
    "\n",
    "from sim4rec.utils import pandas_to_spark, VectorElementExtractor\n",
    "from sim4rec.modules import RealDataGenerator, SDVDataGenerator\n",
    "from sim4rec.modules import evaluate_synthetic, EvaluateMetrics\n",
    "from sim4rec.response import ParametricResponseFunction, BernoulliResponse, NoiseResponse\n",
    "\n",
    "from replay.models import UCB\n",
    "\n",
    "%matplotlib inline\n",
    "import matplotlib.pyplot as plt\n",
    "\n",
    "import warnings\n",
    "warnings.filterwarnings(\"ignore\")\n",
    "\n",
    "spark = SparkSession.builder\\\n",
    "    .appName('simulator_movielens')\\\n",
    "    .master('local[*]')\\\n",
    "    .config('spark.sql.shuffle.partitions', '192')\\\n",
    "    .config('spark.default.parallelism', '192')\\\n",
    "    .config('spark.driver.extraJavaOptions', '-XX:+UseG1GC')\\\n",
    "    .config('spark.executor.extraJavaOptions', '-XX:+UseG1GC')\\\n",
    "    .config('spark.sql.autoBroadcastJoinThreshold', '-1')\\\n",
    "    .config('spark.driver.memory', '256g')\\\n",
    "    .config('spark.driver.maxResultSize', '256g')\\\n",
    "    .config('spark.local.dir', './tmp')\\\n",
    "    .getOrCreate()\n",
    "\n",
    "State(spark)"
   ]
  },
  {
   "cell_type": "code",
   "execution_count": 2,
   "metadata": {},
   "outputs": [],
   "source": [
    "import pyspark.sql.types as st\n",
    "\n",
    "USER_PREFIX = 'user_'\n",
    "ITEM_PREFIX = 'item_'\n",
    "\n",
    "USER_SCHEMA = st.StructType(\n",
    "    [st.StructField('user_idx', st.IntegerType())] +\\\n",
    "    [st.StructField(f'genre{i}', st.DoubleType()) for i in range(19)] +\\\n",
    "    [st.StructField('rating_avg', st.DoubleType())] +\\\n",
    "    [st.StructField(f'w2v_{i}', st.DoubleType()) for i in range(300)]\n",
    ")\n",
    "ITEM_SCHEMA = st.StructType(\n",
    "    [st.StructField('item_idx', st.IntegerType())] +\\\n",
    "    [st.StructField('year', st.IntegerType())] +\\\n",
    "    [st.StructField('rating_avg', st.DoubleType())] +\\\n",
    "    [st.StructField(f'genre{i}', st.DoubleType()) for i in range(19)] +\\\n",
    "    [st.StructField(f'w2v_{i}', st.DoubleType()) for i in range(300)]\n",
    ")\n",
    "LOG_SCHEMA = st.StructType([\n",
    "    st.StructField('user_idx', st.IntegerType()),\n",
    "    st.StructField('item_idx', st.IntegerType()),\n",
    "    st.StructField('relevance', st.DoubleType()),\n",
    "    st.StructField('timestamp', st.IntegerType())\n",
    "])\n",
    "\n",
    "items_df_train = spark.read.csv('train/items.csv', header=True, schema=ITEM_SCHEMA)\n",
    "items_df_train = items_df_train.withColumnRenamed(\"item_idx\", \"item_id\")\n",
    "\n",
    "for c in items_df_train.columns[1:]:\n",
    "    items_df_train = items_df_train.withColumnRenamed(c, 'item_' + c)"
   ]
  },
  {
   "cell_type": "code",
   "execution_count": 3,
   "metadata": {},
   "outputs": [
    {
     "name": "stderr",
     "output_type": "stream",
     "text": [
      "                                                                                \r"
     ]
    },
    {
     "data": {
      "text/plain": [
       "5000065"
      ]
     },
     "execution_count": 3,
     "metadata": {},
     "output_type": "execute_result"
    }
   ],
   "source": [
    "users_df_val = spark.read.csv('val/users.csv', header=True, schema=USER_SCHEMA)\n",
    "items_df_val = spark.read.csv('val/items.csv', header=True, schema=ITEM_SCHEMA)\n",
    "log_df_val   = spark.read.csv('val/rating.csv', header=True, schema=LOG_SCHEMA)\n",
    "\n",
    "users_df_val = users_df_val.withColumnRenamed(\"user_idx\", \"user_id\")\n",
    "items_df_val = items_df_val.withColumnRenamed(\"item_idx\", \"item_id\")\n",
    "log_df_val = log_df_val.withColumnRenamed(\"user_idx\", \"user_id\")\n",
    "log_df_val = log_df_val.withColumnRenamed(\"item_idx\", \"item_id\")\n",
    "\n",
    "log_df_val = log_df_val.join(users_df_val, log_df_val['user_id'] == users_df_val['user_id'], 'leftsemi')\n",
    "log_df_val = log_df_val.join(items_df_val, log_df_val['item_id'] == items_df_val['item_id'], 'leftsemi')\n",
    "\n",
    "for c in items_df_val.columns[1:]:\n",
    "    items_df_val = items_df_val.withColumnRenamed(c, 'item_' + c)\n",
    "\n",
    "log_df_val = log_df_val.withColumn(\n",
    "    'relevance', sf.when(sf.col('relevance') >= 3, 1).otherwise(0))\n",
    "\n",
    "log_df_val = log_df_val.cache()\n",
    "\n",
    "log_df_val.count()"
   ]
  },
  {
   "cell_type": "code",
   "execution_count": 4,
   "metadata": {},
   "outputs": [
    {
     "name": "stderr",
     "output_type": "stream",
     "text": [
      "                                                                                \r"
     ]
    },
    {
     "data": {
      "text/plain": [
       "5000066"
      ]
     },
     "execution_count": 4,
     "metadata": {},
     "output_type": "execute_result"
    }
   ],
   "source": [
    "users_df_test = spark.read.csv('test/users.csv', header=True, schema=USER_SCHEMA)\n",
    "items_df_test = spark.read.csv('test/items.csv', header=True, schema=ITEM_SCHEMA)\n",
    "log_df_test   = spark.read.csv('test/rating.csv', header=True, schema=LOG_SCHEMA)\n",
    "\n",
    "users_df_test = users_df_test.withColumnRenamed(\"user_idx\", \"user_id\")\n",
    "items_df_test = items_df_test.withColumnRenamed(\"item_idx\", \"item_id\")\n",
    "log_df_test = log_df_test.withColumnRenamed(\"user_idx\", \"user_id\")\n",
    "log_df_test = log_df_test.withColumnRenamed(\"item_idx\", \"item_id\")\n",
    "\n",
    "log_df_test = log_df_test.join(users_df_test, log_df_test['user_id'] == users_df_test['user_id'], 'leftsemi')\n",
    "log_df_test = log_df_test.join(items_df_test, log_df_test['item_id'] == items_df_test['item_id'], 'leftsemi')\n",
    "\n",
    "log_df_test = log_df_test.withColumn(\n",
    "    'relevance', sf.when(sf.col('relevance') >= 3, 1).otherwise(0))\n",
    "\n",
    "items_df_test = items_df_test.na.drop()\n",
    "\n",
    "log_df_test = log_df_test.cache()\n",
    "\n",
    "log_df_test.count()"
   ]
  },
  {
   "cell_type": "code",
   "execution_count": 5,
   "metadata": {},
   "outputs": [],
   "source": [
    "train_df = log_df_val.join(items_df_train, 'item_id', 'left')\\\n",
    "                     .drop('timestamp')\n",
    "train_df = train_df.na.drop()\n",
    "\n",
    "test_df = log_df_test.join(items_df_val, 'item_id', 'left')\\\n",
    "                     .drop('timestamp')\n",
    "test_df = test_df.na.drop()\n",
    "\n",
    "item_svd = spark.read.csv('item_svd.csv', header=True, inferSchema=True)\n",
    "user_svd = spark.read.csv('user_svd.csv', header=True, inferSchema=True)\n",
    "\n",
    "train_df = train_df.join(item_svd, on='item_id', how='left')\n",
    "train_df = train_df.join(user_svd, on='user_id', how='left')\n",
    "train_df = train_df.fillna(0)\n",
    "\n",
    "test_df = test_df.join(item_svd, on='item_id', how='left')\n",
    "test_df = test_df.join(user_svd, on='user_id', how='left')\n",
    "test_df = test_df.fillna(0)"
   ]
  },
  {
   "cell_type": "code",
   "execution_count": 6,
   "metadata": {},
   "outputs": [
    {
     "name": "stdout",
     "output_type": "stream",
     "text": [
      "train statistics\n",
      "24/04/21 15:21:04 WARN package: Truncated the string representation of a plan since it was too large. This behavior can be adjusted by setting 'spark.sql.debug.maxToStringFields'.\n"
     ]
    },
    {
     "name": "stderr",
     "output_type": "stream",
     "text": [
      "                                                                                \r"
     ]
    },
    {
     "name": "stdout",
     "output_type": "stream",
     "text": [
      "4999437\n"
     ]
    },
    {
     "name": "stderr",
     "output_type": "stream",
     "text": [
      "                                                                                \r"
     ]
    },
    {
     "name": "stdout",
     "output_type": "stream",
     "text": [
      "30213\n"
     ]
    },
    {
     "name": "stderr",
     "output_type": "stream",
     "text": [
      "                                                                                \r"
     ]
    },
    {
     "name": "stdout",
     "output_type": "stream",
     "text": [
      "10295\n"
     ]
    },
    {
     "name": "stderr",
     "output_type": "stream",
     "text": [
      "                                                                                \r"
     ]
    },
    {
     "name": "stdout",
     "output_type": "stream",
     "text": [
      "0.016073146324042473\n",
      "\n",
      "test statistics\n"
     ]
    },
    {
     "name": "stderr",
     "output_type": "stream",
     "text": [
      "                                                                                \r"
     ]
    },
    {
     "name": "stdout",
     "output_type": "stream",
     "text": [
      "4998881\n"
     ]
    },
    {
     "name": "stderr",
     "output_type": "stream",
     "text": [
      "                                                                                \r"
     ]
    },
    {
     "name": "stdout",
     "output_type": "stream",
     "text": [
      "37597\n"
     ]
    },
    {
     "name": "stderr",
     "output_type": "stream",
     "text": [
      "                                                                                \r"
     ]
    },
    {
     "name": "stdout",
     "output_type": "stream",
     "text": [
      "26418\n"
     ]
    },
    {
     "name": "stderr",
     "output_type": "stream",
     "text": [
      "[Stage 302:==========================================>         (157 + 35) / 192]\r"
     ]
    },
    {
     "name": "stdout",
     "output_type": "stream",
     "text": [
      "0.0050329158620026635\n"
     ]
    },
    {
     "name": "stderr",
     "output_type": "stream",
     "text": [
      "                                                                                \r"
     ]
    }
   ],
   "source": [
    "print('train statistics')\n",
    "print(train_df.count())\n",
    "print(train_df.select('user_id').distinct().count())\n",
    "print(train_df.select('item_id').distinct().count())\n",
    "print(train_df.count() / (train_df.select('user_id').distinct().count() * train_df.select('item_id').distinct().count()))\n",
    "print()\n",
    "\n",
    "print('test statistics')\n",
    "print(test_df.count())\n",
    "print(test_df.select('user_id').distinct().count())\n",
    "print(test_df.select('item_id').distinct().count())\n",
    "print(test_df.count() / (test_df.select('user_id').distinct().count() * test_df.select('item_id').distinct().count()))"
   ]
  },
  {
   "cell_type": "code",
   "execution_count": 7,
   "metadata": {},
   "outputs": [],
   "source": [
    "# train statistics                                                                       \n",
    "# 4999437                                                                         \n",
    "# 30213                                                                          \n",
    "# 10295                                                                            \n",
    "# 0.016073146324042473\n",
    "\n",
    "# test statistics                                                                          \n",
    "# 4998881                                                                         \n",
    "# 37597                                                                        \n",
    "# 26418\n",
    "# 0.0050329158620026635"
   ]
  },
  {
   "cell_type": "code",
   "execution_count": 8,
   "metadata": {},
   "outputs": [
    {
     "name": "stderr",
     "output_type": "stream",
     "text": [
      "[Stage 356:>                                                     (0 + 64) / 192]\r"
     ]
    },
    {
     "name": "stdout",
     "output_type": "stream",
     "text": [
      "24/04/21 15:22:56 WARN InstanceBuilder$NativeBLAS: Failed to load implementation from:dev.ludovic.netlib.blas.JNIBLAS\n",
      "24/04/21 15:22:56 WARN InstanceBuilder$NativeBLAS: Failed to load implementation from:dev.ludovic.netlib.blas.ForeignLinkerBLAS\n"
     ]
    },
    {
     "name": "stderr",
     "output_type": "stream",
     "text": [
      "                                                                                \r"
     ]
    },
    {
     "name": "stdout",
     "output_type": "stream",
     "text": [
      "24/04/21 15:23:15 WARN BLAS: Failed to load implementation from: com.github.fommil.netlib.NativeSystemBLAS\n",
      "24/04/21 15:23:15 WARN BLAS: Failed to load implementation from: com.github.fommil.netlib.NativeRefBLAS\n"
     ]
    },
    {
     "name": "stderr",
     "output_type": "stream",
     "text": [
      "[Stage 1097:===================================================>(191 + 1) / 192]\r"
     ]
    }
   ],
   "source": [
    "va = VectorAssembler(\n",
    "    inputCols=items_df_train.columns[2:] + item_svd.columns[1:] + user_svd.columns[1:],\n",
    "    outputCol='features'\n",
    ")\n",
    "\n",
    "fm = FMClassifier(\n",
    "    featuresCol='features',\n",
    "    labelCol='relevance',\n",
    "    probabilityCol='proba'\n",
    ")\n",
    "\n",
    "rf = RandomForestClassifier(\n",
    "    featuresCol='features',\n",
    "    labelCol='relevance',\n",
    "    probabilityCol='proba'\n",
    ")\n",
    "\n",
    "lr = LogisticRegression(\n",
    "    featuresCol='features',\n",
    "    labelCol='relevance',\n",
    "    probabilityCol='proba'\n",
    ")\n",
    "\n",
    "vee = VectorElementExtractor(inputCol='proba', outputCol='scores', index=1)\n",
    "mc = ParametricResponseFunction(inputCols=['scores'], outputCol='__pr', weights=[0.25])\n",
    "br = BernoulliResponse(inputCol='__pr', outputCol='response', seed=1234)\n",
    "pipeline_lr = Pipeline(stages=[va, lr, vee, mc, br])\n",
    "pipeline_rf = Pipeline(stages=[va, rf, vee, mc, br])\n",
    "pipeline_fm = Pipeline(stages=[va, fm, vee, mc, br])\n",
    "\n",
    "noise_resp = NoiseResponse(mu=0.5, sigma=0.2, outputCol='scores')\n",
    "br = BernoulliResponse(inputCol='scores', outputCol='response')\n",
    "pipeline_rand = Pipeline(stages=[noise_resp, br])\n",
    "\n",
    "lr_model = pipeline_lr.fit(train_df)\n",
    "# rf_model = pipeline_rf.fit(train_df)\n",
    "# fm_model = pipeline_fm.fit(train_df)\n",
    "# rand_model = pipeline_rand.fit(train_df)"
   ]
  },
  {
   "cell_type": "code",
   "execution_count": 9,
   "metadata": {},
   "outputs": [
    {
     "name": "stderr",
     "output_type": "stream",
     "text": [
      "                                                                                \r"
     ]
    },
    {
     "name": "stdout",
     "output_type": "stream",
     "text": [
      "ROC AUC (baseline): 0.6422977846004425\n",
      "Precision (baseline): 0.8358102086034046\n",
      "Recall (baseline): 0.7951526338166802\n",
      "Accuracy (baseline): 0.702376591881263\n",
      "F1 (baseline): 0.8149746535680876\n",
      "\n"
     ]
    },
    {
     "name": "stderr",
     "output_type": "stream",
     "text": [
      "                                                                                \r"
     ]
    },
    {
     "name": "stdout",
     "output_type": "stream",
     "text": [
      "ROC AUC (classificator): 0.6790375762734085\n",
      "Precision (classificator): 0.832467325715753\n",
      "Recall (classificator): 0.9834598972216452\n",
      "Accuracy (classificator): 0.8232150355249505\n",
      "F1 (classificator): 0.9016861691896293\n",
      "\n"
     ]
    }
   ],
   "source": [
    "from sklearn.metrics import roc_auc_score, precision_score, recall_score, f1_score, accuracy_score\n",
    "\n",
    "def get_baseline(test_df):\n",
    "    test_df = test_df.select('item_rating_avg', 'relevance').toPandas()\n",
    "    test_df['baseline'] = (test_df['item_rating_avg']-test_df['item_rating_avg'].min())/(test_df['item_rating_avg'].max()-test_df['item_rating_avg'].min())\n",
    "    test_df['baseline_bin'] = np.where(test_df['baseline'] > 0.5, 1, 0) \n",
    "    print(f\"ROC AUC (baseline): {roc_auc_score(test_df.relevance, test_df.baseline)}\")\n",
    "    print(f\"Precision (baseline): {precision_score(test_df.relevance, test_df.baseline_bin)}\")\n",
    "    print(f\"Recall (baseline): {recall_score(test_df.relevance, test_df.baseline_bin)}\")\n",
    "    print(f\"Accuracy (baseline): {accuracy_score(test_df.relevance, test_df.baseline_bin)}\")\n",
    "    print(f\"F1 (baseline): {f1_score(test_df.relevance, test_df.baseline_bin)}\")\n",
    "    print()\n",
    "\n",
    "def assess_models(model, test_df):\n",
    "    pred_df = model.transform(test_df).select(\"relevance\", \"scores\").toPandas()\n",
    "    pred_df['response_bin'] = np.where(pred_df['scores'] > 0.5, 1, 0)\n",
    "    print(f\"ROC AUC (classificator): {roc_auc_score(pred_df.relevance, pred_df.scores)}\")\n",
    "    print(f\"Precision (classificator): {precision_score(pred_df.relevance, pred_df.response_bin)}\")\n",
    "    print(f\"Recall (classificator): {recall_score(pred_df.relevance, pred_df.response_bin)}\")\n",
    "    print(f\"Accuracy (classificator): {accuracy_score(pred_df.relevance, pred_df.response_bin)}\")\n",
    "    print(f\"F1 (classificator): {f1_score(pred_df.relevance, pred_df.response_bin)}\")\n",
    "    print()\n",
    "\n",
    "get_baseline(test_df)\n",
    "assess_models(lr_model, test_df)\n",
    "# assess_models(rf_model, test_df)\n",
    "# assess_models(fm_model, test_df)\n",
    "# assess_models(rand_model, test_df)"
   ]
  },
  {
   "cell_type": "code",
   "execution_count": 10,
   "metadata": {},
   "outputs": [],
   "source": [
    "# ROC AUC (baseline): 0.6422977846004425\n",
    "# Precision (baseline): 0.8358102086034046\n",
    "# Recall (baseline): 0.7951526338166802\n",
    "# Accuracy (baseline): 0.702376591881263\n",
    "# F1 (baseline): 0.8149746535680876\n",
    "\n",
    "                                                                                \n",
    "# ROC AUC (classificator): 0.6769131456007109\n",
    "# Precision (classificator): 0.832028723575394\n",
    "# Recall (classificator): 0.9840246054565328\n",
    "# Accuracy (classificator): 0.8230732037830066\n",
    "# F1 (classificator): 0.9016659625091726\n",
    "\n",
    "                                                                                \n",
    "# ROC AUC (classificator): 0.6702304186089241\n",
    "# Precision (classificator): 0.8243268843567191\n",
    "# Recall (classificator): 1.0\n",
    "# Accuracy (classificator): 0.8243268843567191\n",
    "# F1 (classificator): 0.9037052421089407\n",
    "\n",
    "                                                                                \n",
    "# ROC AUC (classificator): 0.6671387531188318\n",
    "# Precision (classificator): 0.8322885098991416\n",
    "# Recall (classificator): 0.9790606574786105\n",
    "# Accuracy (classificator): 0.8201101406494774\n",
    "# F1 (classificator): 0.8997281699070774\n",
    "\n",
    "                                                                                \n",
    "# ROC AUC (classificator): 0.5006585630991773\n",
    "# Precision (classificator): 0.8244574752349586\n",
    "# Recall (classificator): 0.49972577554558534\n",
    "# Accuracy (classificator): 0.49990127790599537\n",
    "# F1 (classificator): 0.62227437323843"
   ]
  },
  {
   "cell_type": "code",
   "execution_count": 11,
   "metadata": {},
   "outputs": [
    {
     "name": "stdout",
     "output_type": "stream",
     "text": [
      "24/04/21 15:25:22 WARN CacheManager: Asked to cache already cached data.\n"
     ]
    },
    {
     "name": "stderr",
     "output_type": "stream",
     "text": [
      "                                                                                \r"
     ]
    },
    {
     "data": {
      "text/plain": [
       "DataFrame[user_id: int, uembed_0: double, uembed_1: double, uembed_2: double, uembed_3: double, uembed_4: double, uembed_5: double, uembed_6: double, uembed_7: double, uembed_8: double, uembed_9: double, uembed_10: double, uembed_11: double, uembed_12: double, uembed_13: double, uembed_14: double, uembed_15: double, uembed_16: double, uembed_17: double, uembed_18: double, uembed_19: double, uembed_20: double, uembed_21: double, uembed_22: double, uembed_23: double, uembed_24: double, uembed_25: double, uembed_26: double, uembed_27: double, uembed_28: double, uembed_29: double, uembed_30: double, uembed_31: double, uembed_32: double, uembed_33: double, uembed_34: double, uembed_35: double, uembed_36: double, uembed_37: double, uembed_38: double, uembed_39: double, uembed_40: double, uembed_41: double, uembed_42: double, uembed_43: double, uembed_44: double, uembed_45: double, uembed_46: double, uembed_47: double, uembed_48: double, uembed_49: double, uembed_50: double, uembed_51: double, uembed_52: double, uembed_53: double, uembed_54: double, uembed_55: double, uembed_56: double, uembed_57: double, uembed_58: double, uembed_59: double, uembed_60: double, uembed_61: double, uembed_62: double, uembed_63: double]"
      ]
     },
     "execution_count": 11,
     "metadata": {},
     "output_type": "execute_result"
    }
   ],
   "source": [
    "item_generator = RealDataGenerator(label='items_real', seed=42)\n",
    "user_generator = RealDataGenerator(label='users_real', seed=42)\n",
    "\n",
    "users_df = train_df.select(*user_svd.columns).drop('item_id').distinct()\n",
    "items_df = train_df.drop(*user_svd.columns, 'user_id', 'relevance').distinct().cache()\n",
    "\n",
    "# передадим популяции пользователей и айтемов\n",
    "item_generator.fit(items_df)\n",
    "user_generator.fit(users_df)\n",
    "\n",
    "# будем использовать всех пользователей и айтемы из популяции\n",
    "item_generator.generate(items_df.count())\n",
    "user_generator.generate(users_df.count())"
   ]
  },
  {
   "cell_type": "code",
   "execution_count": 12,
   "metadata": {},
   "outputs": [
    {
     "name": "stderr",
     "output_type": "stream",
     "text": [
      "                                                                                \r"
     ]
    },
    {
     "name": "stdout",
     "output_type": "stream",
     "text": [
      "24/04/21 15:25:56 WARN HintErrorLogger: A join hint (strategy=broadcast) is specified but it is not part of a join relation.\n",
      "24/04/21 15:25:56 WARN HintErrorLogger: A join hint (strategy=broadcast) is specified but it is not part of a join relation.\n",
      "24/04/21 15:25:57 WARN HintErrorLogger: A join hint (strategy=broadcast) is specified but it is not part of a join relation.\n",
      "24/04/21 15:25:57 WARN HintErrorLogger: A join hint (strategy=broadcast) is specified but it is not part of a join relation.\n",
      "24/04/21 15:25:59 WARN HintErrorLogger: A join hint (strategy=broadcast) is specified but it is not part of a join relation.\n",
      "24/04/21 15:25:59 WARN HintErrorLogger: A join hint (strategy=broadcast) is specified but it is not part of a join relation.\n",
      "24/04/21 15:26:00 WARN HintErrorLogger: A join hint (strategy=broadcast) is specified but it is not part of a join relation.\n",
      "24/04/21 15:26:00 WARN HintErrorLogger: A join hint (strategy=broadcast) is specified but it is not part of a join relation.\n",
      "24/04/21 15:26:02 WARN HintErrorLogger: A join hint (strategy=broadcast) is specified but it is not part of a join relation.\n",
      "24/04/21 15:26:02 WARN HintErrorLogger: A join hint (strategy=broadcast) is specified but it is not part of a join relation.\n",
      "24/04/21 15:26:03 WARN HintErrorLogger: A join hint (strategy=broadcast) is specified but it is not part of a join relation.\n",
      "24/04/21 15:26:03 WARN HintErrorLogger: A join hint (strategy=broadcast) is specified but it is not part of a join relation.\n",
      "24/04/21 15:26:05 WARN HintErrorLogger: A join hint (strategy=broadcast) is specified but it is not part of a join relation.\n",
      "24/04/21 15:26:05 WARN HintErrorLogger: A join hint (strategy=broadcast) is specified but it is not part of a join relation.\n",
      "24/04/21 15:26:05 WARN HintErrorLogger: A join hint (strategy=broadcast) is specified but it is not part of a join relation.\n",
      "24/04/21 15:26:06 WARN HintErrorLogger: A join hint (strategy=broadcast) is specified but it is not part of a join relation.\n"
     ]
    }
   ],
   "source": [
    "indexer = Indexer(user_col='user_id', item_col='item_id')\n",
    "indexer.fit(users=users_df, items=items_df)\n",
    "\n",
    "dummy_log = pandas_to_spark(pd.DataFrame({'user_id' : [1], 'item_id' : [1], 'relevance' : [0.0]}))\n",
    "\n",
    "ucb_lr = UCB()\n",
    "ucb_lr.fit(indexer.transform(dummy_log))\n",
    "\n",
    "ucb_rf = UCB()\n",
    "ucb_rf.fit(indexer.transform(dummy_log))\n",
    "\n",
    "ucb_fm = UCB()\n",
    "ucb_fm.fit(indexer.transform(dummy_log))\n",
    "\n",
    "ucb_rand = UCB()\n",
    "ucb_rand.fit(indexer.transform(dummy_log))"
   ]
  },
  {
   "cell_type": "code",
   "execution_count": 13,
   "metadata": {},
   "outputs": [
    {
     "data": {
      "text/plain": [
       "DataFrame[item_id: int, item_year: int, item_rating_avg: double, item_genre0: double, item_genre1: double, item_genre2: double, item_genre3: double, item_genre4: double, item_genre5: double, item_genre6: double, item_genre7: double, item_genre8: double, item_genre9: double, item_genre10: double, item_genre11: double, item_genre12: double, item_genre13: double, item_genre14: double, item_genre15: double, item_genre16: double, item_genre17: double, item_genre18: double, item_w2v_0: double, item_w2v_1: double, item_w2v_2: double, item_w2v_3: double, item_w2v_4: double, item_w2v_5: double, item_w2v_6: double, item_w2v_7: double, item_w2v_8: double, item_w2v_9: double, item_w2v_10: double, item_w2v_11: double, item_w2v_12: double, item_w2v_13: double, item_w2v_14: double, item_w2v_15: double, item_w2v_16: double, item_w2v_17: double, item_w2v_18: double, item_w2v_19: double, item_w2v_20: double, item_w2v_21: double, item_w2v_22: double, item_w2v_23: double, item_w2v_24: double, item_w2v_25: double, item_w2v_26: double, item_w2v_27: double, item_w2v_28: double, item_w2v_29: double, item_w2v_30: double, item_w2v_31: double, item_w2v_32: double, item_w2v_33: double, item_w2v_34: double, item_w2v_35: double, item_w2v_36: double, item_w2v_37: double, item_w2v_38: double, item_w2v_39: double, item_w2v_40: double, item_w2v_41: double, item_w2v_42: double, item_w2v_43: double, item_w2v_44: double, item_w2v_45: double, item_w2v_46: double, item_w2v_47: double, item_w2v_48: double, item_w2v_49: double, item_w2v_50: double, item_w2v_51: double, item_w2v_52: double, item_w2v_53: double, item_w2v_54: double, item_w2v_55: double, item_w2v_56: double, item_w2v_57: double, item_w2v_58: double, item_w2v_59: double, item_w2v_60: double, item_w2v_61: double, item_w2v_62: double, item_w2v_63: double, item_w2v_64: double, item_w2v_65: double, item_w2v_66: double, item_w2v_67: double, item_w2v_68: double, item_w2v_69: double, item_w2v_70: double, item_w2v_71: double, item_w2v_72: double, item_w2v_73: double, item_w2v_74: double, item_w2v_75: double, item_w2v_76: double, item_w2v_77: double, item_w2v_78: double, item_w2v_79: double, item_w2v_80: double, item_w2v_81: double, item_w2v_82: double, item_w2v_83: double, item_w2v_84: double, item_w2v_85: double, item_w2v_86: double, item_w2v_87: double, item_w2v_88: double, item_w2v_89: double, item_w2v_90: double, item_w2v_91: double, item_w2v_92: double, item_w2v_93: double, item_w2v_94: double, item_w2v_95: double, item_w2v_96: double, item_w2v_97: double, item_w2v_98: double, item_w2v_99: double, item_w2v_100: double, item_w2v_101: double, item_w2v_102: double, item_w2v_103: double, item_w2v_104: double, item_w2v_105: double, item_w2v_106: double, item_w2v_107: double, item_w2v_108: double, item_w2v_109: double, item_w2v_110: double, item_w2v_111: double, item_w2v_112: double, item_w2v_113: double, item_w2v_114: double, item_w2v_115: double, item_w2v_116: double, item_w2v_117: double, item_w2v_118: double, item_w2v_119: double, item_w2v_120: double, item_w2v_121: double, item_w2v_122: double, item_w2v_123: double, item_w2v_124: double, item_w2v_125: double, item_w2v_126: double, item_w2v_127: double, item_w2v_128: double, item_w2v_129: double, item_w2v_130: double, item_w2v_131: double, item_w2v_132: double, item_w2v_133: double, item_w2v_134: double, item_w2v_135: double, item_w2v_136: double, item_w2v_137: double, item_w2v_138: double, item_w2v_139: double, item_w2v_140: double, item_w2v_141: double, item_w2v_142: double, item_w2v_143: double, item_w2v_144: double, item_w2v_145: double, item_w2v_146: double, item_w2v_147: double, item_w2v_148: double, item_w2v_149: double, item_w2v_150: double, item_w2v_151: double, item_w2v_152: double, item_w2v_153: double, item_w2v_154: double, item_w2v_155: double, item_w2v_156: double, item_w2v_157: double, item_w2v_158: double, item_w2v_159: double, item_w2v_160: double, item_w2v_161: double, item_w2v_162: double, item_w2v_163: double, item_w2v_164: double, item_w2v_165: double, item_w2v_166: double, item_w2v_167: double, item_w2v_168: double, item_w2v_169: double, item_w2v_170: double, item_w2v_171: double, item_w2v_172: double, item_w2v_173: double, item_w2v_174: double, item_w2v_175: double, item_w2v_176: double, item_w2v_177: double, item_w2v_178: double, item_w2v_179: double, item_w2v_180: double, item_w2v_181: double, item_w2v_182: double, item_w2v_183: double, item_w2v_184: double, item_w2v_185: double, item_w2v_186: double, item_w2v_187: double, item_w2v_188: double, item_w2v_189: double, item_w2v_190: double, item_w2v_191: double, item_w2v_192: double, item_w2v_193: double, item_w2v_194: double, item_w2v_195: double, item_w2v_196: double, item_w2v_197: double, item_w2v_198: double, item_w2v_199: double, item_w2v_200: double, item_w2v_201: double, item_w2v_202: double, item_w2v_203: double, item_w2v_204: double, item_w2v_205: double, item_w2v_206: double, item_w2v_207: double, item_w2v_208: double, item_w2v_209: double, item_w2v_210: double, item_w2v_211: double, item_w2v_212: double, item_w2v_213: double, item_w2v_214: double, item_w2v_215: double, item_w2v_216: double, item_w2v_217: double, item_w2v_218: double, item_w2v_219: double, item_w2v_220: double, item_w2v_221: double, item_w2v_222: double, item_w2v_223: double, item_w2v_224: double, item_w2v_225: double, item_w2v_226: double, item_w2v_227: double, item_w2v_228: double, item_w2v_229: double, item_w2v_230: double, item_w2v_231: double, item_w2v_232: double, item_w2v_233: double, item_w2v_234: double, item_w2v_235: double, item_w2v_236: double, item_w2v_237: double, item_w2v_238: double, item_w2v_239: double, item_w2v_240: double, item_w2v_241: double, item_w2v_242: double, item_w2v_243: double, item_w2v_244: double, item_w2v_245: double, item_w2v_246: double, item_w2v_247: double, item_w2v_248: double, item_w2v_249: double, item_w2v_250: double, item_w2v_251: double, item_w2v_252: double, item_w2v_253: double, item_w2v_254: double, item_w2v_255: double, item_w2v_256: double, item_w2v_257: double, item_w2v_258: double, item_w2v_259: double, item_w2v_260: double, item_w2v_261: double, item_w2v_262: double, item_w2v_263: double, item_w2v_264: double, item_w2v_265: double, item_w2v_266: double, item_w2v_267: double, item_w2v_268: double, item_w2v_269: double, item_w2v_270: double, item_w2v_271: double, item_w2v_272: double, item_w2v_273: double, item_w2v_274: double, item_w2v_275: double, item_w2v_276: double, item_w2v_277: double, item_w2v_278: double, item_w2v_279: double, item_w2v_280: double, item_w2v_281: double, item_w2v_282: double, item_w2v_283: double, item_w2v_284: double, item_w2v_285: double, item_w2v_286: double, item_w2v_287: double, item_w2v_288: double, item_w2v_289: double, item_w2v_290: double, item_w2v_291: double, item_w2v_292: double, item_w2v_293: double, item_w2v_294: double, item_w2v_295: double, item_w2v_296: double, item_w2v_297: double, item_w2v_298: double, item_w2v_299: double, iembed_0: double, iembed_1: double, iembed_2: double, iembed_3: double, iembed_4: double, iembed_5: double, iembed_6: double, iembed_7: double, iembed_8: double, iembed_9: double, iembed_10: double, iembed_11: double, iembed_12: double, iembed_13: double, iembed_14: double, iembed_15: double, iembed_16: double, iembed_17: double, iembed_18: double, iembed_19: double, iembed_20: double, iembed_21: double, iembed_22: double, iembed_23: double, iembed_24: double, iembed_25: double, iembed_26: double, iembed_27: double, iembed_28: double, iembed_29: double, iembed_30: double, iembed_31: double, iembed_32: double, iembed_33: double, iembed_34: double, iembed_35: double, iembed_36: double, iembed_37: double, iembed_38: double, iembed_39: double, iembed_40: double, iembed_41: double, iembed_42: double, iembed_43: double, iembed_44: double, iembed_45: double, iembed_46: double, iembed_47: double, iembed_48: double, iembed_49: double, iembed_50: double, iembed_51: double, iembed_52: double, iembed_53: double, iembed_54: double, iembed_55: double, iembed_56: double, iembed_57: double, iembed_58: double, iembed_59: double, iembed_60: double, iembed_61: double, iembed_62: double, iembed_63: double]"
      ]
     },
     "execution_count": 13,
     "metadata": {},
     "output_type": "execute_result"
    }
   ],
   "source": [
    "items_df"
   ]
  },
  {
   "cell_type": "code",
   "execution_count": 14,
   "metadata": {},
   "outputs": [],
   "source": [
    "def calc_metric(response_df):\n",
    "    return (response_df\n",
    "            .groupBy(\"user_id\").agg(sf.sum(\"response\").alias(\"num_positive\"))\n",
    "            .select(sf.mean(\"num_positive\")).collect()[0][0]\n",
    "           )"
   ]
  },
  {
   "cell_type": "code",
   "execution_count": null,
   "metadata": {},
   "outputs": [],
   "source": [
    "from sim4rec.modules import Simulator\n",
    "\n",
    "def do_a_cycle(simul, model, pipeline, iteration, metrics):\n",
    "    users = simul.sample_users(0.1).dropna().cache()\n",
    "    log = simul.get_log(user_df=users)\n",
    "    log = dummy_log if log is None else log\n",
    "    log = log.cache()\n",
    "\n",
    "    recs = model.predict(\n",
    "        log=indexer.transform(log),\n",
    "        k=5,\n",
    "        users=indexer.transform(users),\n",
    "        items=indexer.transform(items_df),\n",
    "        filter_seen_items=True,\n",
    "    )\n",
    "    recs = indexer.inverse_transform(recs).cache()\n",
    "\n",
    "    resp = simul.sample_responses(\n",
    "        recs_df=recs, \n",
    "        user_features=users,\n",
    "        item_features=items_df,\n",
    "        action_models=pipeline\n",
    "    ).select('user_id', 'item_id', 'relevance', 'response').cache()\n",
    "    simul.update_log(resp, iteration=iteration)\n",
    "\n",
    "    metrics.append(calc_metric(resp))\n",
    "\n",
    "    model._clear_cache()\n",
    "    ucb_train_log = simul.log.cache()\n",
    "    model.fit(log=indexer.transform(\n",
    "        ucb_train_log.select('user_id', 'item_id', 'response').withColumnRenamed('response', 'relevance')\n",
    "    ))\n",
    "\n",
    "    log.unpersist()\n",
    "    users.unpersist()\n",
    "    recs.unpersist()\n",
    "    resp.unpersist()\n",
    "    ucb_train_log.unpersist()\n",
    "\n",
    "sim_lr = Simulator(user_generator, item_generator, f'checkpoints/lr', None, 'user_id', 'item_id', spark)\n",
    "sim_rf = Simulator(user_generator, item_generator, f'checkpoints/rf', None, 'user_id', 'item_id', spark)\n",
    "sim_fm = Simulator(user_generator, item_generator, f'checkpoints/fm', None, 'user_id', 'item_id', spark)\n",
    "sim_rand = Simulator(user_generator, item_generator, f'checkpoints/rand', None, 'user_id', 'item_id', spark)\n",
    "\n",
    "lr_metrics = []\n",
    "rf_metrics = []\n",
    "fm_metrics = []\n",
    "rnd_metrics = []\n",
    "\n",
    "for i in range(30):\n",
    "    print(f'------------------------Stage {i}------------------------')\n",
    "    start_iter = time.time()\n",
    "\n",
    "    do_a_cycle(sim_lr, ucb_lr, lr_model, i, lr_metrics)\n",
    "    # do_a_cycle(sim_rf, ucb_rf, rf_model, i, rf_metrics)\n",
    "    # do_a_cycle(sim_fm, ucb_fm, fm_model, i, fm_metrics)\n",
    "    # do_a_cycle(sim_rand, ucb_rand, rand_model, i, rnd_metrics)\n",
    "    \n",
    "    end_iter = time.time()\n",
    "    print(f\"Time of {i+1} iteration: \")\n",
    "    print(end_iter - start_iter)"
   ]
  },
  {
   "cell_type": "code",
   "execution_count": 17,
   "metadata": {},
   "outputs": [
    {
     "data": {
      "image/png": "[encoded data removed]",
      "text/plain": [
       "<Figure size 640x480 with 1 Axes>"
      ]
     },
     "metadata": {},
     "output_type": "display_data"
    }
   ],
   "source": [
    "plt.plot(lr_metrics)\n",
    "plt.grid()\n",
    "plt.xlabel('iteration')\n",
    "plt.ylabel('# of clicks')\n",
    "plt.show()"
   ]
  }
 ],
 "metadata": {
  "kernelspec": {
   "display_name": "sim4rec",
   "language": "python",
   "name": "python3"
  },
  "language_info": {
   "codemirror_mode": {
    "name": "ipython",
    "version": 3
   },
   "file_extension": ".py",
   "mimetype": "text/x-python",
   "name": "python",
   "nbconvert_exporter": "python",
   "pygments_lexer": "ipython3",
   "version": "3.9.18"
  }
 },
 "nbformat": 4,
 "nbformat_minor": 2
}
