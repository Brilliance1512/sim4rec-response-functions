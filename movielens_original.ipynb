{
 "cells": [
  {
   "cell_type": "code",
   "execution_count": 1,
   "metadata": {},
   "outputs": [
    {
     "name": "stdout",
     "output_type": "stream",
     "text": [
      "24/04/24 15:03:36 WARN Utils: Your hostname, ecs-syudosaev-big resolves to a loopback address: 127.0.1.1; using 10.11.12.124 instead (on interface eth0)\n",
      "24/04/24 15:03:36 WARN Utils: Set SPARK_LOCAL_IP if you need to bind to another address\n"
     ]
    },
    {
     "name": "stderr",
     "output_type": "stream",
     "text": [
      "Setting default log level to \"WARN\".\n",
      "To adjust logging level use sc.setLogLevel(newLevel). For SparkR, use setLogLevel(newLevel).\n"
     ]
    },
    {
     "name": "stdout",
     "output_type": "stream",
     "text": [
      "24/04/24 15:03:37 WARN NativeCodeLoader: Unable to load native-hadoop library for your platform... using builtin-java classes where applicable\n"
     ]
    }
   ],
   "source": [
    "import pandas as pd\n",
    "import numpy as np\n",
    "\n",
    "import time\n",
    "\n",
    "from pyspark.sql import SparkSession\n",
    "from pyspark.ml.feature import VectorAssembler\n",
    "import pyspark.sql.functions as sf\n",
    "from pyspark.ml.classification import LogisticRegression, RandomForestClassifier, FMClassifier\n",
    "from pyspark.ml import Pipeline\n",
    "from pyspark.sql import types as st\n",
    "\n",
    "from replay.models import RandomRec\n",
    "\n",
    "from sim4rec.utils import pandas_to_spark, VectorElementExtractor\n",
    "from sim4rec.modules import RealDataGenerator\n",
    "from sim4rec.modules import Simulator\n",
    "from sim4rec.response import ParametricResponseFunction, BernoulliResponse, NoiseResponse\n",
    "\n",
    "from replay.models import ThompsonSampling\n",
    "\n",
    "%matplotlib inline\n",
    "import matplotlib.pyplot as plt\n",
    "\n",
    "from IPython.display import clear_output\n",
    "\n",
    "import warnings\n",
    "warnings.filterwarnings(\"ignore\")\n",
    "\n",
    "spark = SparkSession.builder\\\n",
    "    .appName('simulator_movielens')\\\n",
    "    .master('local[*]')\\\n",
    "    .config('spark.sql.shuffle.partitions', '192')\\\n",
    "    .config('spark.default.parallelism', '192')\\\n",
    "    .config('spark.driver.memory', '256g')\\\n",
    "    .config('spark.driver.maxResultSize', '256g')\\\n",
    "    .getOrCreate()"
   ]
  },
  {
   "cell_type": "code",
   "execution_count": 2,
   "metadata": {},
   "outputs": [
    {
     "name": "stdout",
     "output_type": "stream",
     "text": [
      "24/04/24 15:04:16 WARN package: Truncated the string representation of a plan since it was too large. This behavior can be adjusted by setting 'spark.sql.debug.maxToStringFields'.\n"
     ]
    },
    {
     "name": "stderr",
     "output_type": "stream",
     "text": [
      "                                                                                \r"
     ]
    },
    {
     "name": "stdout",
     "output_type": "stream",
     "text": [
      "80650\n"
     ]
    },
    {
     "name": "stderr",
     "output_type": "stream",
     "text": [
      "                                                                                \r"
     ]
    },
    {
     "name": "stdout",
     "output_type": "stream",
     "text": [
      "27278\n"
     ]
    },
    {
     "name": "stderr",
     "output_type": "stream",
     "text": [
      "[Stage 8:==============>                                         (16 + 44) / 60]\r"
     ]
    },
    {
     "name": "stdout",
     "output_type": "stream",
     "text": [
      "10000132\n"
     ]
    },
    {
     "name": "stderr",
     "output_type": "stream",
     "text": [
      "                                                                                \r"
     ]
    }
   ],
   "source": [
    "USER_PREFIX = 'user_'\n",
    "ITEM_PREFIX = 'item_'\n",
    "\n",
    "USER_SCHEMA = st.StructType(\n",
    "    [st.StructField('user_idx', st.IntegerType())] +\\\n",
    "    [st.StructField(f'genre{i}', st.DoubleType()) for i in range(19)] +\\\n",
    "    [st.StructField('rating_avg', st.DoubleType())] +\\\n",
    "    [st.StructField(f'w2v_{i}', st.DoubleType()) for i in range(300)]\n",
    ")\n",
    "ITEM_SCHEMA = st.StructType(\n",
    "    [st.StructField('item_idx', st.IntegerType())] +\\\n",
    "    [st.StructField('year', st.IntegerType())] +\\\n",
    "    [st.StructField('rating_avg', st.DoubleType())] +\\\n",
    "    [st.StructField(f'genre{i}', st.DoubleType()) for i in range(19)] +\\\n",
    "    [st.StructField(f'w2v_{i}', st.DoubleType()) for i in range(300)]\n",
    ")\n",
    "LOG_SCHEMA = st.StructType([\n",
    "    st.StructField('user_idx', st.IntegerType()),\n",
    "    st.StructField('item_idx', st.IntegerType()),\n",
    "    st.StructField('relevance', st.DoubleType()),\n",
    "    st.StructField('timestamp', st.IntegerType())\n",
    "])\n",
    "\n",
    "users_df_train = spark.read.csv('train/users.csv', header=True, schema=USER_SCHEMA)\n",
    "items_df_train = spark.read.csv('train/items.csv', header=True, schema=ITEM_SCHEMA)\n",
    "log_df_train   = spark.read.csv('train/rating.csv', header=True, schema=LOG_SCHEMA)\n",
    "\n",
    "log_df_train = log_df_train.join(users_df_train, log_df_train['user_idx'] == users_df_train['user_idx'], 'leftsemi')\n",
    "log_df_train = log_df_train.join(items_df_train, log_df_train['item_idx'] == items_df_train['item_idx'], 'leftsemi')\n",
    "\n",
    "for c in users_df_train.columns[1:]:\n",
    "    users_df_train = users_df_train.withColumnRenamed(c, 'user_' + c)\n",
    "    \n",
    "for c in items_df_train.columns[1:]:\n",
    "    items_df_train = items_df_train.withColumnRenamed(c, 'item_' + c)\n",
    "\n",
    "log_df_train = log_df_train.withColumn(\n",
    "    'relevance', sf.when(sf.col('relevance') >= 3, 1).otherwise(0))\n",
    "\n",
    "users_df_train = users_df_train.cache()\n",
    "items_df_train = items_df_train.cache()\n",
    "log_df_train = log_df_train.cache()\n",
    "\n",
    "print(users_df_train.count())\n",
    "print(items_df_train.count())\n",
    "print(log_df_train.count())"
   ]
  },
  {
   "cell_type": "code",
   "execution_count": 3,
   "metadata": {},
   "outputs": [
    {
     "name": "stderr",
     "output_type": "stream",
     "text": [
      "                                                                                \r"
     ]
    },
    {
     "name": "stdout",
     "output_type": "stream",
     "text": [
      "106573\n",
      "27278\n",
      "5000065\n"
     ]
    }
   ],
   "source": [
    "users_df_val = spark.read.csv('val/users.csv', header=True, schema=USER_SCHEMA)\n",
    "items_df_val = spark.read.csv('val/items.csv', header=True, schema=ITEM_SCHEMA)\n",
    "log_df_val   = spark.read.csv('val/rating.csv', header=True, schema=LOG_SCHEMA)\n",
    "\n",
    "log_df_val = log_df_val.join(users_df_val, log_df_val['user_idx'] == users_df_val['user_idx'], 'leftsemi')\n",
    "log_df_val = log_df_val.join(items_df_val, log_df_val['item_idx'] == items_df_val['item_idx'], 'leftsemi')\n",
    "\n",
    "for c in users_df_val.columns[1:]:\n",
    "    users_df_val = users_df_val.withColumnRenamed(c, 'user_' + c)\n",
    "\n",
    "for c in items_df_val.columns[1:]:\n",
    "    items_df_val = items_df_val.withColumnRenamed(c, 'item_' + c)\n",
    "\n",
    "log_df_val = log_df_val.withColumn(\n",
    "    'relevance', sf.when(sf.col('relevance') >= 3, 1).otherwise(0))\n",
    "\n",
    "users_df_val = users_df_val.cache()\n",
    "items_df_val = items_df_val.cache()\n",
    "log_df_val = log_df_val.cache()\n",
    "\n",
    "print(users_df_val.count())\n",
    "print(items_df_val.count())\n",
    "print(log_df_val.count())"
   ]
  },
  {
   "cell_type": "code",
   "execution_count": 4,
   "metadata": {},
   "outputs": [
    {
     "name": "stdout",
     "output_type": "stream",
     "text": [
      "5000066\n"
     ]
    }
   ],
   "source": [
    "users_df_test = spark.read.csv('test/users.csv', header=True, schema=USER_SCHEMA)\n",
    "items_df_test = spark.read.csv('test/items.csv', header=True, schema=ITEM_SCHEMA)\n",
    "log_df_test   = spark.read.csv('test/rating.csv', header=True, schema=LOG_SCHEMA)\n",
    "\n",
    "log_df_test = log_df_test.join(users_df_test, log_df_test['user_idx'] == users_df_test['user_idx'], 'leftsemi')\n",
    "log_df_test = log_df_test.join(items_df_test, log_df_test['item_idx'] == items_df_test['item_idx'], 'leftsemi')\n",
    "\n",
    "for c in items_df_test.columns[1:]:\n",
    "    items_df_test = items_df_test.withColumnRenamed(c, 'item_' + c)\n",
    "\n",
    "log_df_test = log_df_test.withColumn(\n",
    "    'relevance', sf.when(sf.col('relevance') >= 3, 1).otherwise(0))\n",
    "\n",
    "items_df_test = items_df_test.na.drop()\n",
    "\n",
    "items_df_test = items_df_test.cache()\n",
    "log_df_test = log_df_test.cache()\n",
    "\n",
    "print(log_df_test.count())"
   ]
  },
  {
   "cell_type": "code",
   "execution_count": 5,
   "metadata": {},
   "outputs": [
    {
     "name": "stderr",
     "output_type": "stream",
     "text": [
      "                                                                                \r"
     ]
    }
   ],
   "source": [
    "train_df = log_df_val.join(items_df_train, 'item_idx', 'left')\\\n",
    "                     .join(users_df_train, 'user_idx', 'left')\\\n",
    "                     .drop('timestamp')\n",
    "\n",
    "test_df = log_df_test.join(items_df_val, 'item_idx', 'left')\\\n",
    "                     .join(users_df_val, 'user_idx', 'left')\\\n",
    "                     .drop('timestamp')\n",
    "\n",
    "item_svd = spark.read.csv('item_svd.csv', header=True, inferSchema=True).withColumnRenamed('item_id', 'item_idx')\n",
    "user_svd = spark.read.csv('user_svd.csv', header=True, inferSchema=True).withColumnRenamed('user_id', 'user_idx')\n",
    "\n",
    "train_df = train_df.join(item_svd, on='item_idx', how='left')\n",
    "train_df = train_df.join(user_svd, on='user_idx', how='left')\n",
    "\n",
    "test_df = test_df.join(item_svd, on='item_idx', how='left')\n",
    "test_df = test_df.join(user_svd, on='user_idx', how='left')\n",
    "\n",
    "train_df = train_df.na.drop()\n",
    "test_df = test_df.na.drop()\n",
    "\n",
    "train_df.write.parquet('final_train.parquet', mode='overwrite')\n",
    "test_df.write.parquet('final_test.parquet', mode='overwrite')"
   ]
  },
  {
   "cell_type": "code",
   "execution_count": 7,
   "metadata": {},
   "outputs": [
    {
     "name": "stdout",
     "output_type": "stream",
     "text": [
      "train statistics\n"
     ]
    },
    {
     "name": "stderr",
     "output_type": "stream",
     "text": [
      "                                                                                \r"
     ]
    },
    {
     "name": "stdout",
     "output_type": "stream",
     "text": [
      "402391\n"
     ]
    },
    {
     "name": "stderr",
     "output_type": "stream",
     "text": [
      "                                                                                \r"
     ]
    },
    {
     "name": "stdout",
     "output_type": "stream",
     "text": [
      "4207\n"
     ]
    },
    {
     "name": "stderr",
     "output_type": "stream",
     "text": [
      "                                                                                \r"
     ]
    },
    {
     "name": "stdout",
     "output_type": "stream",
     "text": [
      "7816\n"
     ]
    },
    {
     "name": "stderr",
     "output_type": "stream",
     "text": [
      "                                                                                \r"
     ]
    },
    {
     "name": "stdout",
     "output_type": "stream",
     "text": [
      "0.012237457481182967\n",
      "\n",
      "test statistics\n"
     ]
    },
    {
     "name": "stderr",
     "output_type": "stream",
     "text": [
      "                                                                                \r"
     ]
    },
    {
     "name": "stdout",
     "output_type": "stream",
     "text": [
      "89829\n"
     ]
    },
    {
     "name": "stderr",
     "output_type": "stream",
     "text": [
      "                                                                                \r"
     ]
    },
    {
     "name": "stdout",
     "output_type": "stream",
     "text": [
      "1709\n"
     ]
    },
    {
     "name": "stderr",
     "output_type": "stream",
     "text": [
      "                                                                                \r"
     ]
    },
    {
     "name": "stdout",
     "output_type": "stream",
     "text": [
      "6748\n"
     ]
    },
    {
     "name": "stderr",
     "output_type": "stream",
     "text": [
      "[Stage 378:====================================================>(191 + 1) / 192]\r"
     ]
    },
    {
     "name": "stdout",
     "output_type": "stream",
     "text": [
      "0.007789317893380107\n"
     ]
    },
    {
     "name": "stderr",
     "output_type": "stream",
     "text": [
      "                                                                                \r"
     ]
    }
   ],
   "source": [
    "print('train statistics')\n",
    "print(train_df.count())\n",
    "print(train_df.select('user_idx').distinct().count())\n",
    "print(train_df.select('item_idx').distinct().count())\n",
    "print(train_df.count() / (train_df.select('user_idx').distinct().count() * train_df.select('item_idx').distinct().count()))\n",
    "print()\n",
    "\n",
    "print('test statistics')\n",
    "print(test_df.count())\n",
    "print(test_df.select('user_idx').distinct().count())\n",
    "print(test_df.select('item_idx').distinct().count())\n",
    "print(test_df.count() / (test_df.select('user_idx').distinct().count() * test_df.select('item_idx').distinct().count()))"
   ]
  },
  {
   "cell_type": "code",
   "execution_count": null,
   "metadata": {},
   "outputs": [
    {
     "name": "stderr",
     "output_type": "stream",
     "text": [
      "[Stage 3:>                                                       (0 + 64) / 191]\r"
     ]
    },
    {
     "name": "stdout",
     "output_type": "stream",
     "text": [
      "24/04/24 14:30:10 WARN InstanceBuilder$NativeBLAS: Failed to load implementation from:dev.ludovic.netlib.blas.JNIBLAS\n",
      "24/04/24 14:30:10 WARN InstanceBuilder$NativeBLAS: Failed to load implementation from:dev.ludovic.netlib.blas.ForeignLinkerBLAS\n"
     ]
    },
    {
     "name": "stderr",
     "output_type": "stream",
     "text": [
      "                                                                                \r"
     ]
    },
    {
     "name": "stdout",
     "output_type": "stream",
     "text": [
      "24/04/24 14:30:14 WARN BLAS: Failed to load implementation from: com.github.fommil.netlib.NativeSystemBLAS\n",
      "24/04/24 14:30:14 WARN BLAS: Failed to load implementation from: com.github.fommil.netlib.NativeRefBLAS\n"
     ]
    }
   ],
   "source": [
    "train_df = spark.read.parquet('final_train.parquet')\n",
    "test_df = spark.read.parquet('final_test.parquet')\n",
    "\n",
    "va = VectorAssembler(\n",
    "    inputCols=items_df_train.columns[2:] + users_df_train.columns[1:],\n",
    "    outputCol='features'\n",
    ")\n",
    "\n",
    "fm = FMClassifier(\n",
    "    featuresCol='features',\n",
    "    labelCol='relevance',\n",
    "    probabilityCol='proba'\n",
    ")\n",
    "\n",
    "rf = RandomForestClassifier(\n",
    "    featuresCol='features',\n",
    "    labelCol='relevance',\n",
    "    probabilityCol='proba'\n",
    ")\n",
    "\n",
    "lr = LogisticRegression(\n",
    "    featuresCol='features',\n",
    "    labelCol='relevance',\n",
    "    probabilityCol='proba'\n",
    ")\n",
    "\n",
    "vee = VectorElementExtractor(inputCol='proba', outputCol='scores', index=1)\n",
    "mc = ParametricResponseFunction(inputCols=['scores'], outputCol='__pr', weights=[0.25])\n",
    "br = BernoulliResponse(inputCol='__pr', outputCol='response', seed=1234)\n",
    "pipeline_lr = Pipeline(stages=[va, lr, vee, mc, br])\n",
    "pipeline_rf = Pipeline(stages=[va, rf, vee, mc, br])\n",
    "pipeline_fm = Pipeline(stages=[va, fm, vee, mc, br])\n",
    "\n",
    "noise_resp = NoiseResponse(mu=0.5, sigma=0.2, outputCol='scores')\n",
    "br = BernoulliResponse(inputCol='scores', outputCol='response')\n",
    "pipeline_rand = Pipeline(stages=[noise_resp, br])\n",
    "\n",
    "lr_model = pipeline_lr.fit(train_df)\n",
    "# rf_model = pipeline_rf.fit(train_df)\n",
    "# fm_model = pipeline_fm.fit(train_df)\n",
    "# rand_model = pipeline_rand.fit(train_df)"
   ]
  },
  {
   "cell_type": "code",
   "execution_count": null,
   "metadata": {},
   "outputs": [],
   "source": [
    "from sklearn.metrics import roc_auc_score, precision_score, recall_score, f1_score, accuracy_score\n",
    "\n",
    "def get_baseline(test_df):\n",
    "    test_df = test_df.select('item_rating_avg', 'relevance').toPandas()\n",
    "    test_df['baseline'] = (test_df['item_rating_avg']-test_df['item_rating_avg'].min())/(test_df['item_rating_avg'].max()-test_df['item_rating_avg'].min())\n",
    "    test_df['baseline_bin'] = np.where(test_df['baseline'] > 0.5, 1, 0) \n",
    "    print(f\"ROC AUC (baseline): {roc_auc_score(test_df.relevance, test_df.baseline)}\")\n",
    "    print(f\"Precision (baseline): {precision_score(test_df.relevance, test_df.baseline_bin)}\")\n",
    "    print(f\"Recall (baseline): {recall_score(test_df.relevance, test_df.baseline_bin)}\")\n",
    "    print(f\"Accuracy (baseline): {accuracy_score(test_df.relevance, test_df.baseline_bin)}\")\n",
    "    print(f\"F1 (baseline): {f1_score(test_df.relevance, test_df.baseline_bin)}\")\n",
    "    print()\n",
    "\n",
    "def assess_models(model, test_df):\n",
    "    pred_df = model.transform(test_df).select(\"relevance\", \"scores\").toPandas()\n",
    "    pred_df['response_bin'] = np.where(pred_df['scores'] > 0.5, 1, 0)\n",
    "    print(f\"ROC AUC (classificator): {roc_auc_score(pred_df.relevance, pred_df.scores)}\")\n",
    "    print(f\"Precision (classificator): {precision_score(pred_df.relevance, pred_df.response_bin)}\")\n",
    "    print(f\"Recall (classificator): {recall_score(pred_df.relevance, pred_df.response_bin)}\")\n",
    "    print(f\"Accuracy (classificator): {accuracy_score(pred_df.relevance, pred_df.response_bin)}\")\n",
    "    print(f\"F1 (classificator): {f1_score(pred_df.relevance, pred_df.response_bin)}\")\n",
    "    print()\n",
    "\n",
    "# get_baseline(test_df)\n",
    "assess_models(lr_model, test_df)\n",
    "# assess_models(rf_model, test_df)\n",
    "# assess_models(fm_model, test_df)\n",
    "# assess_models(rand_model, test_df)"
   ]
  },
  {
   "cell_type": "code",
   "execution_count": null,
   "metadata": {},
   "outputs": [],
   "source": [
    "# BASELINE\n",
    "\n",
    "# ROC AUC (baseline): 0.582591123278372\n",
    "# Precision (baseline): 0.8167168049900662\n",
    "# Recall (baseline): 0.6070843580362276\n",
    "# Accuracy (baseline): 0.5741678347491657\n",
    "# F1 (baseline): 0.6964680323774068\n",
    "\n",
    "# RANDOM\n",
    "\n",
    "# ROC AUC (classificator): 0.4978546228997185\n",
    "# Precision (classificator): 0.8037183230642253\n",
    "# Recall (classificator): 0.4994878422585149\n",
    "# Accuracy (classificator): 0.49905223199365495\n",
    "# F1 (classificator): 0.6160921297844889\n",
    "\n",
    "\n",
    "# ONLY SVD\n",
    "# LR\n",
    "# ROC AUC (classificator): 0.5401508841365394\n",
    "# Precision (classificator): 0.8047410847454245\n",
    "# Recall (classificator): 1.0\n",
    "# Accuracy (classificator): 0.8047410847454245\n",
    "# F1 (classificator): 0.8918077961958081\n",
    "\n",
    "# RF\n",
    "# ROC AUC (classificator): 0.53787730764202\n",
    "# Precision (classificator): 0.8047410847454245\n",
    "# Recall (classificator): 1.0\n",
    "# Accuracy (classificator): 0.8047410847454245\n",
    "# F1 (classificator): 0.8918077961958081\n",
    "\n",
    "# FM\n",
    "# ROC AUC (classificator): 0.5741205172469663\n",
    "# Precision (classificator): 0.8049914790284219\n",
    "# Recall (classificator): 0.9991647412324948\n",
    "# Accuracy (classificator): 0.8045428017019918\n",
    "# F1 (classificator): 0.8916291103898707\n",
    "\n",
    "\n",
    "# ONLY BASE FEATURES\n",
    "\n",
    "# LR\n",
    "# ROC AUC (classificator): 0.7180440343733357\n",
    "# Precision (classificator): 0.8347450148784075\n",
    "# Recall (classificator): 0.9454943290733586\n",
    "# Accuracy (classificator): 0.8055055344663318\n",
    "# F1 (classificator): 0.8866747951293167\n",
    "\n",
    "# RF\n",
    "# ROC AUC (classificator): 0.6642930786535302\n",
    "# Precision (classificator): 0.8047410847454245\n",
    "# Recall (classificator): 1.0\n",
    "# Accuracy (classificator): 0.8047410847454245\n",
    "# F1 (classificator): 0.8918077961958081\n",
    "\n",
    "# FM\n",
    "# ROC AUC (classificator): 0.6755055487545727\n",
    "# Precision (classificator): 0.8138726679301715\n",
    "# Recall (classificator): 0.9842122146134642\n",
    "# Accuracy (classificator): 0.8061614896917759\n",
    "# F1 (classificator): 0.8909739786964518\n",
    "\n",
    "\n",
    "# All Features\n",
    "\n",
    "# LR\n",
    "# ROC AUC (classificator): 0.7198633684425806\n",
    "# Precision (classificator): 0.8350650025858742\n",
    "# Recall (classificator): 0.9458166552767744\n",
    "# Accuracy (classificator): 0.8060629717016426\n",
    "# F1 (classificator): 0.8869970491271999\n",
    "\n",
    "# RF\n",
    "# ROC AUC (classificator): 0.6829319011020921\n",
    "# Precision (classificator): 0.8047410847454245\n",
    "# Recall (classificator): 1.0\n",
    "# Accuracy (classificator): 0.8047410847454245\n",
    "# F1 (classificator): 0.8918077961958081\n",
    "\n",
    "# FM\n",
    "# ROC AUC (classificator): 0.6753245513076216\n",
    "# Precision (classificator): 0.8610686655103108\n",
    "# Recall (classificator): 0.775439363157805\n",
    "# Accuracy (classificator): 0.7186014436003212\n",
    "# F1 (classificator): 0.8160137633566935"
   ]
  },
  {
   "cell_type": "code",
   "execution_count": null,
   "metadata": {},
   "outputs": [],
   "source": [
    "# DROP no embeds\n",
    "\n",
    "# Baseline \n",
    "\n",
    "# ROC AUC (baseline): 0.7372742266277569\n",
    "# Precision (baseline): 0.8376844361229849\n",
    "# Recall (baseline): 0.9745328511151296\n",
    "# Accuracy (baseline): 0.8258580191252268\n",
    "# F1 (baseline): 0.9009416338962872\n",
    "\n",
    "# RANDOM\n",
    "\n",
    "# ROC AUC (classificator): 0.4968626700791594\n",
    "# Precision (classificator): 0.8118302328171995\n",
    "# Recall (classificator): 0.4991917365335087\n",
    "# Accuracy (classificator): 0.4990147947767425\n",
    "# F1 (classificator): 0.6182336424020834\n",
    "\n",
    "\n",
    "# Only SVD\n",
    "\n",
    "# LR\n",
    "# ROC AUC (classificator): 0.5464820885361235\n",
    "# Precision (classificator): 0.8126106268576962\n",
    "# Recall (classificator): 1.0\n",
    "# Accuracy (classificator): 0.8126106268576962\n",
    "# F1 (classificator): 0.8966190695532013\n",
    "\n",
    "# RF\n",
    "# ROC AUC (classificator): 0.577793365350413\n",
    "# Precision (classificator): 0.8126106268576962\n",
    "# Recall (classificator): 1.0\n",
    "# Accuracy (classificator): 0.8126106268576962\n",
    "# F1 (classificator): 0.8966190695532013\n",
    "\n",
    "# FM\n",
    "# ROC AUC (classificator): 0.6091758621796814\n",
    "# Precision (classificator): 0.8141132692975869\n",
    "# Recall (classificator): 0.9950682229163241\n",
    "# Accuracy (classificator): 0.8113638134678111\n",
    "# F1 (classificator): 0.8955411578317931\n",
    "\n",
    "\n",
    "# All features\n",
    "\n",
    "# LR\n",
    "# ROC AUC (classificator): 0.7625562576754742\n",
    "# Precision (classificator): 0.8582738221794214\n",
    "# Recall (classificator): 0.9401200065757028\n",
    "# Accuracy (classificator): 0.8251900833806455\n",
    "# F1 (classificator): 0.8973344752963329\n",
    "\n",
    "# RF\n",
    "# ROC AUC (classificator): 0.7087306251422736\n",
    "# Precision (classificator): 0.8126106268576962\n",
    "# Recall (classificator): 1.0\n",
    "# Accuracy (classificator): 0.8126106268576962\n",
    "# F1 (classificator): 0.8966190695532013\n",
    "\n",
    "# FM\n",
    "# ROC AUC (classificator): 0.7013788751892476\n",
    "# Precision (classificator): 0.8707407735197805\n",
    "# Recall (classificator): 0.8086881472957422\n",
    "# Accuracy (classificator): 0.7469859399525766\n",
    "# F1 (classificator): 0.8385680801193267\n",
    "\n",
    "\n",
    "# Only base features\n",
    "\n",
    "# LR\n",
    "# ROC AUC (classificator): 0.7609366161740678\n",
    "# Precision (classificator): 0.8574875904925043\n",
    "# Recall (classificator): 0.9395172338210313\n",
    "# Accuracy (classificator): 0.8239655345155796\n",
    "# F1 (classificator): 0.8966301683281583\n",
    "\n",
    "# RF\n",
    "# ROC AUC (classificator): 0.7118090411336161\n",
    "# Precision (classificator): 0.8126106268576962\n",
    "# Recall (classificator): 1.0\n",
    "# Accuracy (classificator): 0.8126106268576962\n",
    "# F1 (classificator): 0.8966190695532013\n",
    "\n",
    "# FM\n",
    "# ROC AUC (classificator): 0.716919842422077\n",
    "# Precision (classificator): 0.8468572410491819\n",
    "# Recall (classificator): 0.9452024768480465\n",
    "# Accuracy (classificator): 0.8165737122755458\n",
    "# F1 (classificator): 0.8933313480374703"
   ]
  },
  {
   "cell_type": "code",
   "execution_count": 8,
   "metadata": {},
   "outputs": [
    {
     "name": "stdout",
     "output_type": "stream",
     "text": [
      "test statistics\n"
     ]
    },
    {
     "name": "stderr",
     "output_type": "stream",
     "text": [
      "                                                                                \r"
     ]
    },
    {
     "name": "stdout",
     "output_type": "stream",
     "text": [
      "10196\n"
     ]
    },
    {
     "name": "stderr",
     "output_type": "stream",
     "text": [
      "                                                                                \r"
     ]
    },
    {
     "name": "stdout",
     "output_type": "stream",
     "text": [
      "1348\n"
     ]
    },
    {
     "name": "stderr",
     "output_type": "stream",
     "text": [
      "                                                                                \r"
     ]
    },
    {
     "name": "stdout",
     "output_type": "stream",
     "text": [
      "100\n"
     ]
    },
    {
     "name": "stderr",
     "output_type": "stream",
     "text": [
      "[Stage 652:====================================================>(191 + 1) / 192]\r"
     ]
    },
    {
     "name": "stdout",
     "output_type": "stream",
     "text": [
      "0.0756379821958457\n"
     ]
    },
    {
     "name": "stderr",
     "output_type": "stream",
     "text": [
      "                                                                                \r"
     ]
    }
   ],
   "source": [
    "train_users_counts = test_df.groupBy(\"item_idx\").agg(sf.count('user_idx').alias('counts'))\n",
    "train_users_counts = train_users_counts.sort('counts', ascending=False).limit(100).select('item_idx')\n",
    "test_df = test_df.join(train_users_counts, on='item_idx', how='inner')       \n",
    "\n",
    "print('test statistics')\n",
    "print(test_df.count())\n",
    "print(test_df.select('user_idx').distinct().count())\n",
    "print(test_df.select('item_idx').distinct().count())\n",
    "print(test_df.count() / (test_df.select('user_idx').distinct().count() * test_df.select('item_idx').distinct().count()))"
   ]
  },
  {
   "cell_type": "code",
   "execution_count": 9,
   "metadata": {},
   "outputs": [
    {
     "name": "stdout",
     "output_type": "stream",
     "text": [
      "24/04/24 15:17:28 WARN CacheManager: Asked to cache already cached data.\n",
      "24/04/24 15:17:28 WARN CacheManager: Asked to cache already cached data.\n"
     ]
    },
    {
     "name": "stderr",
     "output_type": "stream",
     "text": [
      "[Stage 747:====================================>               (133 + 59) / 192]]]\r"
     ]
    }
   ],
   "source": [
    "item_generator = RealDataGenerator(label='items_real', seed=42)\n",
    "user_generator = RealDataGenerator(label='users_real', seed=42)\n",
    "\n",
    "users_df = test_df.select(*users_df_train.columns).distinct().cache()\n",
    "items_df = test_df.select(*items_df_train.columns).drop('item_year').distinct().cache()\n",
    "\n",
    "# передадим популяции пользователей и айтемов\n",
    "item_generator.fit(items_df)\n",
    "user_generator.fit(users_df)\n",
    "\n",
    "# будем использовать всех пользователей и айтемы из популяции\n",
    "item_generator.generate(items_df.count())\n",
    "user_generator.generate(users_df.count())"
   ]
  },
  {
   "cell_type": "code",
   "execution_count": 10,
   "metadata": {},
   "outputs": [
    {
     "name": "stdout",
     "output_type": "stream",
     "text": [
      "24/04/24 14:33:38 WARN HintErrorLogger: A join hint (strategy=broadcast) is specified but it is not part of a join relation.\n",
      "24/04/24 14:33:38 WARN HintErrorLogger: A join hint (strategy=broadcast) is specified but it is not part of a join relation.\n",
      "24/04/24 14:33:39 WARN HintErrorLogger: A join hint (strategy=broadcast) is specified but it is not part of a join relation.\n",
      "24/04/24 14:33:39 WARN HintErrorLogger: A join hint (strategy=broadcast) is specified but it is not part of a join relation.\n",
      "24/04/24 14:33:40 WARN HintErrorLogger: A join hint (strategy=broadcast) is specified but it is not part of a join relation.\n",
      "24/04/24 14:33:40 WARN HintErrorLogger: A join hint (strategy=broadcast) is specified but it is not part of a join relation.\n",
      "24/04/24 14:33:41 WARN HintErrorLogger: A join hint (strategy=broadcast) is specified but it is not part of a join relation.\n",
      "24/04/24 14:33:41 WARN HintErrorLogger: A join hint (strategy=broadcast) is specified but it is not part of a join relation.\n",
      "24/04/24 14:33:42 WARN HintErrorLogger: A join hint (strategy=broadcast) is specified but it is not part of a join relation.\n",
      "24/04/24 14:33:43 WARN HintErrorLogger: A join hint (strategy=broadcast) is specified but it is not part of a join relation.\n",
      "24/04/24 14:33:43 WARN HintErrorLogger: A join hint (strategy=broadcast) is specified but it is not part of a join relation.\n",
      "24/04/24 14:33:43 WARN HintErrorLogger: A join hint (strategy=broadcast) is specified but it is not part of a join relation.\n",
      "24/04/24 14:33:44 WARN HintErrorLogger: A join hint (strategy=broadcast) is specified but it is not part of a join relation.\n",
      "24/04/24 14:33:45 WARN HintErrorLogger: A join hint (strategy=broadcast) is specified but it is not part of a join relation.\n",
      "24/04/24 14:33:45 WARN HintErrorLogger: A join hint (strategy=broadcast) is specified but it is not part of a join relation.\n",
      "24/04/24 14:33:45 WARN HintErrorLogger: A join hint (strategy=broadcast) is specified but it is not part of a join relation.\n"
     ]
    }
   ],
   "source": [
    "dummy_log = interactions=pandas_to_spark(pd.DataFrame({'user_idx' : [1], 'item_idx' : [1], 'relevance' : [0.0]}))\n",
    "\n",
    "ts_lr = ThompsonSampling(sample=True)\n",
    "ts_lr.fit(dummy_log)\n",
    "\n",
    "ts_rf = ThompsonSampling(sample=True)\n",
    "ts_rf.fit(dummy_log)\n",
    "\n",
    "ts_fm = ThompsonSampling(sample=True)\n",
    "ts_fm.fit(dummy_log)\n",
    "\n",
    "ts_rand = ThompsonSampling(sample=True)\n",
    "ts_rand.fit(dummy_log)"
   ]
  },
  {
   "cell_type": "code",
   "execution_count": 7,
   "metadata": {},
   "outputs": [],
   "source": [
    "def calc_metric(response_df):\n",
    "    return (response_df\n",
    "            .groupBy(\"user_idx\").agg(sf.sum(\"response\").alias(\"num_positive\"))\n",
    "            .select(sf.mean(\"num_positive\")).collect()[0][0]\n",
    "           )"
   ]
  },
  {
   "cell_type": "code",
   "execution_count": 11,
   "metadata": {},
   "outputs": [
    {
     "data": {
      "image/png": "[encoded data removed]",
      "text/plain": [
       "<Figure size 640x480 with 1 Axes>"
      ]
     },
     "metadata": {},
     "output_type": "display_data"
    },
    {
     "name": "stdout",
     "output_type": "stream",
     "text": [
      "Time of 50 iteration: \n",
      "25.26887583732605\n"
     ]
    }
   ],
   "source": [
    "def plot_metric(metrics):\n",
    "    clear_output(wait=True)\n",
    "    plt.plot(metrics)\n",
    "    plt.grid()\n",
    "    plt.xlabel('iteration')\n",
    "    plt.ylabel('# of clicks')\n",
    "    plt.show()\n",
    "\n",
    "def do_a_cycle(simul, model, pipeline, iteration, metrics):\n",
    "    users = simul.sample_users(1.0).dropna().cache()\n",
    "    log = simul.get_log(user_df=users)\n",
    "    log = dummy_log if log is None else log\n",
    "\n",
    "    recs = model.predict(\n",
    "        log,\n",
    "        k=10,\n",
    "        users=users,\n",
    "        items=items_df,\n",
    "    )\n",
    "    resp = simul.sample_responses(\n",
    "        recs_df=recs, \n",
    "        user_features=users,\n",
    "        item_features=items_df,\n",
    "        action_models=pipeline\n",
    "    ).select('user_idx', 'item_idx', 'relevance', 'response').cache()\n",
    "    simul.update_log(resp, iteration=iteration)\n",
    "    met = calc_metric(resp)\n",
    "    metrics.append(met)\n",
    "\n",
    "    model._clear_cache()\n",
    "    train_log = simul.log.cache()\n",
    "    model.fit(train_log.select('user_idx', 'item_idx', 'response').withColumnRenamed('response', 'relevance'))\n",
    "\n",
    "    log.unpersist()\n",
    "    users.unpersist()\n",
    "    recs.unpersist()\n",
    "    resp.unpersist()\n",
    "    train_log.unpersist()\n",
    "\n",
    "sim_lr = Simulator(user_generator, item_generator, f'checkpoints/lr', None, 'user_idx', 'item_idx', spark)\n",
    "sim_rf = Simulator(user_generator, item_generator, f'checkpoints/rf', None, 'user_idx', 'item_idx', spark)\n",
    "sim_fm = Simulator(user_generator, item_generator, f'checkpoints/fm', None, 'user_idx', 'item_idx', spark)\n",
    "sim_rand = Simulator(user_generator, item_generator, f'checkpoints/rand', None, 'user_idx', 'item_idx', spark)\n",
    "\n",
    "lr_metrics = []\n",
    "rf_metrics = []\n",
    "fm_metrics = []\n",
    "rnd_metrics = []\n",
    "\n",
    "for i in range(50):\n",
    "    print(f'------------------------Stage {i}------------------------')\n",
    "    start_iter = time.time()\n",
    "\n",
    "    do_a_cycle(sim_lr, ts_lr, lr_model, i, lr_metrics)\n",
    "    # do_a_cycle(sim_rf, ts_rf, rf_model, i, rf_metrics)\n",
    "    # do_a_cycle(sim_fm, ts_fm, fm_model, i, fm_metrics)\n",
    "    # do_a_cycle(sim_rand, ts_rand, rand_model, i, rnd_metrics)\n",
    "    plot_metric(lr_metrics)\n",
    "    end_iter = time.time()\n",
    "    print(f\"Time of {i+1} iteration: \")\n",
    "    print(end_iter - start_iter)"
   ]
  }
 ],
 "metadata": {
  "kernelspec": {
   "display_name": "sim4rec",
   "language": "python",
   "name": "python3"
  },
  "language_info": {
   "codemirror_mode": {
    "name": "ipython",
    "version": 3
   },
   "file_extension": ".py",
   "mimetype": "text/x-python",
   "name": "python",
   "nbconvert_exporter": "python",
   "pygments_lexer": "ipython3",
   "version": "3.9.18"
  }
 },
 "nbformat": 4,
 "nbformat_minor": 2
}
