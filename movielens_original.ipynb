{
 "cells": [
  {
   "cell_type": "code",
   "execution_count": 1,
   "metadata": {},
   "outputs": [
    {
     "name": "stdout",
     "output_type": "stream",
     "text": [
      "24/04/22 23:35:56 WARN Utils: Your hostname, ecs-syudosaev-big resolves to a loopback address: 127.0.1.1; using 10.11.12.124 instead (on interface eth0)\n",
      "24/04/22 23:35:56 WARN Utils: Set SPARK_LOCAL_IP if you need to bind to another address\n"
     ]
    },
    {
     "name": "stderr",
     "output_type": "stream",
     "text": [
      "Setting default log level to \"WARN\".\n",
      "To adjust logging level use sc.setLogLevel(newLevel). For SparkR, use setLogLevel(newLevel).\n"
     ]
    },
    {
     "name": "stdout",
     "output_type": "stream",
     "text": [
      "24/04/22 23:35:57 WARN NativeCodeLoader: Unable to load native-hadoop library for your platform... using builtin-java classes where applicable\n",
      "24/04/22 23:35:57 WARN SparkConf: Note that spark.local.dir will be overridden by the value set by the cluster manager (via SPARK_LOCAL_DIRS in mesos/standalone/kubernetes and LOCAL_DIRS in YARN).\n"
     ]
    }
   ],
   "source": [
    "import pandas as pd\n",
    "import numpy as np\n",
    "\n",
    "import time\n",
    "\n",
    "from pyspark.sql import SparkSession\n",
    "from pyspark.ml.feature import VectorAssembler\n",
    "from pyspark.ml.functions import vector_to_array\n",
    "from pyspark.sql.functions import col, lit\n",
    "import pyspark.sql.functions as sf\n",
    "from pyspark.ml.classification import LogisticRegression, RandomForestClassifier, FMClassifier\n",
    "from pyspark.ml import Pipeline\n",
    "from pyspark.sql import types as st\n",
    "\n",
    "from replay.models import RandomRec\n",
    "\n",
    "from sim4rec.utils import pandas_to_spark, VectorElementExtractor\n",
    "from sim4rec.modules import RealDataGenerator\n",
    "from sim4rec.modules import evaluate_synthetic\n",
    "from sim4rec.response import ParametricResponseFunction, BernoulliResponse, NoiseResponse\n",
    "\n",
    "from replay.models import ThompsonSampling\n",
    "\n",
    "%matplotlib inline\n",
    "import matplotlib.pyplot as plt\n",
    "\n",
    "import warnings\n",
    "warnings.filterwarnings(\"ignore\")\n",
    "\n",
    "spark = SparkSession.builder\\\n",
    "    .appName('simulator_movielens')\\\n",
    "    .master('local[*]')\\\n",
    "    .config('spark.sql.shuffle.partitions', '192')\\\n",
    "    .config('spark.default.parallelism', '192')\\\n",
    "    .config('spark.driver.extraJavaOptions', '-XX:+UseG1GC')\\\n",
    "    .config('spark.executor.extraJavaOptions', '-XX:+UseG1GC')\\\n",
    "    .config('spark.sql.autoBroadcastJoinThreshold', '-1')\\\n",
    "    .config('spark.driver.memory', '256g')\\\n",
    "    .config('spark.driver.maxResultSize', '256g')\\\n",
    "    .config('spark.local.dir', './tmp')\\\n",
    "    .getOrCreate()"
   ]
  },
  {
   "cell_type": "code",
   "execution_count": 2,
   "metadata": {},
   "outputs": [],
   "source": [
    "import pyspark.sql.types as st\n",
    "\n",
    "USER_PREFIX = 'user_'\n",
    "ITEM_PREFIX = 'item_'\n",
    "\n",
    "USER_SCHEMA = st.StructType(\n",
    "    [st.StructField('user_idx', st.IntegerType())] +\\\n",
    "    [st.StructField(f'genre{i}', st.DoubleType()) for i in range(19)] +\\\n",
    "    [st.StructField('rating_avg', st.DoubleType())] +\\\n",
    "    [st.StructField(f'w2v_{i}', st.DoubleType()) for i in range(300)]\n",
    ")\n",
    "ITEM_SCHEMA = st.StructType(\n",
    "    [st.StructField('item_idx', st.IntegerType())] +\\\n",
    "    [st.StructField('year', st.IntegerType())] +\\\n",
    "    [st.StructField('rating_avg', st.DoubleType())] +\\\n",
    "    [st.StructField(f'genre{i}', st.DoubleType()) for i in range(19)] +\\\n",
    "    [st.StructField(f'w2v_{i}', st.DoubleType()) for i in range(300)]\n",
    ")\n",
    "LOG_SCHEMA = st.StructType([\n",
    "    st.StructField('user_idx', st.IntegerType()),\n",
    "    st.StructField('item_idx', st.IntegerType()),\n",
    "    st.StructField('relevance', st.DoubleType()),\n",
    "    st.StructField('timestamp', st.IntegerType())\n",
    "])\n",
    "\n",
    "items_df_train = spark.read.csv('train/items.csv', header=True, schema=ITEM_SCHEMA)\n",
    "items_df_train = items_df_train.withColumnRenamed(\"item_idx\", \"item_id\")\n",
    "\n",
    "for c in items_df_train.columns[1:]:\n",
    "    items_df_train = items_df_train.withColumnRenamed(c, 'item_' + c)"
   ]
  },
  {
   "cell_type": "code",
   "execution_count": 3,
   "metadata": {},
   "outputs": [
    {
     "name": "stderr",
     "output_type": "stream",
     "text": [
      "                                                                                \r"
     ]
    },
    {
     "data": {
      "text/plain": [
       "5000065"
      ]
     },
     "execution_count": 3,
     "metadata": {},
     "output_type": "execute_result"
    }
   ],
   "source": [
    "users_df_val = spark.read.csv('val/users.csv', header=True, schema=USER_SCHEMA)\n",
    "items_df_val = spark.read.csv('val/items.csv', header=True, schema=ITEM_SCHEMA)\n",
    "log_df_val   = spark.read.csv('val/rating.csv', header=True, schema=LOG_SCHEMA)\n",
    "\n",
    "users_df_val = users_df_val.withColumnRenamed(\"user_idx\", \"user_id\")\n",
    "items_df_val = items_df_val.withColumnRenamed(\"item_idx\", \"item_id\")\n",
    "log_df_val = log_df_val.withColumnRenamed(\"user_idx\", \"user_id\")\n",
    "log_df_val = log_df_val.withColumnRenamed(\"item_idx\", \"item_id\")\n",
    "\n",
    "log_df_val = log_df_val.join(users_df_val, log_df_val['user_id'] == users_df_val['user_id'], 'leftsemi')\n",
    "log_df_val = log_df_val.join(items_df_val, log_df_val['item_id'] == items_df_val['item_id'], 'leftsemi')\n",
    "\n",
    "for c in items_df_val.columns[1:]:\n",
    "    items_df_val = items_df_val.withColumnRenamed(c, 'item_' + c)\n",
    "\n",
    "log_df_val = log_df_val.withColumn(\n",
    "    'relevance', sf.when(sf.col('relevance') >= 3, 1).otherwise(0))\n",
    "\n",
    "log_df_val = log_df_val.cache()\n",
    "\n",
    "log_df_val.count()"
   ]
  },
  {
   "cell_type": "code",
   "execution_count": 4,
   "metadata": {},
   "outputs": [
    {
     "name": "stderr",
     "output_type": "stream",
     "text": [
      "                                                                                \r"
     ]
    },
    {
     "data": {
      "text/plain": [
       "5000066"
      ]
     },
     "execution_count": 4,
     "metadata": {},
     "output_type": "execute_result"
    }
   ],
   "source": [
    "users_df_test = spark.read.csv('test/users.csv', header=True, schema=USER_SCHEMA)\n",
    "items_df_test = spark.read.csv('test/items.csv', header=True, schema=ITEM_SCHEMA)\n",
    "log_df_test   = spark.read.csv('test/rating.csv', header=True, schema=LOG_SCHEMA)\n",
    "\n",
    "users_df_test = users_df_test.withColumnRenamed(\"user_idx\", \"user_id\")\n",
    "items_df_test = items_df_test.withColumnRenamed(\"item_idx\", \"item_id\")\n",
    "log_df_test = log_df_test.withColumnRenamed(\"user_idx\", \"user_id\")\n",
    "log_df_test = log_df_test.withColumnRenamed(\"item_idx\", \"item_id\")\n",
    "\n",
    "log_df_test = log_df_test.join(users_df_test, log_df_test['user_id'] == users_df_test['user_id'], 'leftsemi')\n",
    "log_df_test = log_df_test.join(items_df_test, log_df_test['item_id'] == items_df_test['item_id'], 'leftsemi')\n",
    "\n",
    "log_df_test = log_df_test.withColumn(\n",
    "    'relevance', sf.when(sf.col('relevance') >= 3, 1).otherwise(0))\n",
    "\n",
    "items_df_test = items_df_test.na.drop()\n",
    "\n",
    "log_df_test = log_df_test.cache()\n",
    "\n",
    "log_df_test.count()"
   ]
  },
  {
   "cell_type": "code",
   "execution_count": 5,
   "metadata": {},
   "outputs": [
    {
     "name": "stderr",
     "output_type": "stream",
     "text": [
      "                                                                                \r"
     ]
    }
   ],
   "source": [
    "train_df = log_df_val.join(items_df_train, 'item_id', 'left')\\\n",
    "                     .drop('timestamp')\n",
    "train_df = train_df.na.drop()\n",
    "\n",
    "test_df = log_df_test.join(items_df_val, 'item_id', 'left')\\\n",
    "                     .drop('timestamp')\n",
    "test_df = test_df.na.drop()\n",
    "\n",
    "item_svd = spark.read.csv('item_svd.csv', header=True, inferSchema=True)\n",
    "user_svd = spark.read.csv('user_svd.csv', header=True, inferSchema=True)\n",
    "\n",
    "train_df = train_df.join(item_svd, on='item_id', how='left')\n",
    "train_df = train_df.join(user_svd, on='user_id', how='left')\n",
    "train_df = train_df.fillna(0)\n",
    "\n",
    "test_df = test_df.join(item_svd, on='item_id', how='left')\n",
    "test_df = test_df.join(user_svd, on='user_id', how='left')\n",
    "test_df = test_df.fillna(0)"
   ]
  },
  {
   "cell_type": "code",
   "execution_count": 6,
   "metadata": {},
   "outputs": [],
   "source": [
    "# print('train statistics')\n",
    "# print(train_df.count())\n",
    "# print(train_df.select('user_id').distinct().count())\n",
    "# print(train_df.select('item_id').distinct().count())\n",
    "# print(train_df.count() / (train_df.select('user_id').distinct().count() * train_df.select('item_id').distinct().count()))\n",
    "# print()\n",
    "\n",
    "# print('test statistics')\n",
    "# print(test_df.count())\n",
    "# print(test_df.select('user_id').distinct().count())\n",
    "# print(test_df.select('item_id').distinct().count())\n",
    "# print(test_df.count() / (test_df.select('user_id').distinct().count() * test_df.select('item_id').distinct().count()))"
   ]
  },
  {
   "cell_type": "code",
   "execution_count": 7,
   "metadata": {},
   "outputs": [],
   "source": [
    "# train statistics                                                                       \n",
    "# 4999437                                                                         \n",
    "# 30213                                                                          \n",
    "# 10295                                                                            \n",
    "# 0.016073146324042473\n",
    "\n",
    "# test statistics                                                                          \n",
    "# 4998881                                                                         \n",
    "# 37597                                                                        \n",
    "# 26418\n",
    "# 0.0050329158620026635"
   ]
  },
  {
   "cell_type": "code",
   "execution_count": 8,
   "metadata": {},
   "outputs": [
    {
     "name": "stderr",
     "output_type": "stream",
     "text": [
      "[Stage 64:>                                                      (0 + 64) / 192]\r"
     ]
    },
    {
     "name": "stdout",
     "output_type": "stream",
     "text": [
      "24/04/22 23:38:05 WARN InstanceBuilder$NativeBLAS: Failed to load implementation from:dev.ludovic.netlib.blas.JNIBLAS\n",
      "24/04/22 23:38:05 WARN InstanceBuilder$NativeBLAS: Failed to load implementation from:dev.ludovic.netlib.blas.ForeignLinkerBLAS\n"
     ]
    },
    {
     "name": "stderr",
     "output_type": "stream",
     "text": [
      "                                                                                \r"
     ]
    },
    {
     "name": "stdout",
     "output_type": "stream",
     "text": [
      "24/04/22 23:38:27 WARN BLAS: Failed to load implementation from: com.github.fommil.netlib.NativeSystemBLAS\n",
      "24/04/22 23:38:27 WARN BLAS: Failed to load implementation from: com.github.fommil.netlib.NativeRefBLAS\n"
     ]
    },
    {
     "name": "stderr",
     "output_type": "stream",
     "text": [
      "[Stage 805:====================================================>(189 + 3) / 192]\r"
     ]
    }
   ],
   "source": [
    "va = VectorAssembler(\n",
    "    inputCols=items_df_train.columns[2:] + item_svd.columns[1:] + user_svd.columns[1:],\n",
    "    outputCol='features'\n",
    ")\n",
    "\n",
    "fm = FMClassifier(\n",
    "    featuresCol='features',\n",
    "    labelCol='relevance',\n",
    "    probabilityCol='proba'\n",
    ")\n",
    "\n",
    "rf = RandomForestClassifier(\n",
    "    featuresCol='features',\n",
    "    labelCol='relevance',\n",
    "    probabilityCol='proba'\n",
    ")\n",
    "\n",
    "lr = LogisticRegression(\n",
    "    featuresCol='features',\n",
    "    labelCol='relevance',\n",
    "    probabilityCol='proba'\n",
    ")\n",
    "\n",
    "vee = VectorElementExtractor(inputCol='proba', outputCol='scores', index=1)\n",
    "mc = ParametricResponseFunction(inputCols=['scores'], outputCol='__pr', weights=[0.25])\n",
    "br = BernoulliResponse(inputCol='__pr', outputCol='response', seed=1234)\n",
    "pipeline_lr = Pipeline(stages=[va, lr, vee, mc, br])\n",
    "pipeline_rf = Pipeline(stages=[va, rf, vee, mc, br])\n",
    "pipeline_fm = Pipeline(stages=[va, fm, vee, mc, br])\n",
    "\n",
    "noise_resp = NoiseResponse(mu=0.5, sigma=0.2, outputCol='scores')\n",
    "br = BernoulliResponse(inputCol='scores', outputCol='response')\n",
    "pipeline_rand = Pipeline(stages=[noise_resp, br])\n",
    "\n",
    "lr_model = pipeline_lr.fit(train_df)\n",
    "# rf_model = pipeline_rf.fit(train_df)\n",
    "# fm_model = pipeline_fm.fit(train_df)\n",
    "# rand_model = pipeline_rand.fit(train_df)"
   ]
  },
  {
   "cell_type": "code",
   "execution_count": 9,
   "metadata": {},
   "outputs": [],
   "source": [
    "# from sklearn.metrics import roc_auc_score, precision_score, recall_score, f1_score, accuracy_score\n",
    "\n",
    "# def get_baseline(test_df):\n",
    "#     test_df = test_df.select('item_rating_avg', 'relevance').toPandas()\n",
    "#     test_df['baseline'] = (test_df['item_rating_avg']-test_df['item_rating_avg'].min())/(test_df['item_rating_avg'].max()-test_df['item_rating_avg'].min())\n",
    "#     test_df['baseline_bin'] = np.where(test_df['baseline'] > 0.5, 1, 0) \n",
    "#     print(f\"ROC AUC (baseline): {roc_auc_score(test_df.relevance, test_df.baseline)}\")\n",
    "#     print(f\"Precision (baseline): {precision_score(test_df.relevance, test_df.baseline_bin)}\")\n",
    "#     print(f\"Recall (baseline): {recall_score(test_df.relevance, test_df.baseline_bin)}\")\n",
    "#     print(f\"Accuracy (baseline): {accuracy_score(test_df.relevance, test_df.baseline_bin)}\")\n",
    "#     print(f\"F1 (baseline): {f1_score(test_df.relevance, test_df.baseline_bin)}\")\n",
    "#     print()\n",
    "\n",
    "# def assess_models(model, test_df):\n",
    "#     pred_df = model.transform(test_df).select(\"relevance\", \"scores\").toPandas()\n",
    "#     pred_df['response_bin'] = np.where(pred_df['scores'] > 0.5, 1, 0)\n",
    "#     print(f\"ROC AUC (classificator): {roc_auc_score(pred_df.relevance, pred_df.scores)}\")\n",
    "#     print(f\"Precision (classificator): {precision_score(pred_df.relevance, pred_df.response_bin)}\")\n",
    "#     print(f\"Recall (classificator): {recall_score(pred_df.relevance, pred_df.response_bin)}\")\n",
    "#     print(f\"Accuracy (classificator): {accuracy_score(pred_df.relevance, pred_df.response_bin)}\")\n",
    "#     print(f\"F1 (classificator): {f1_score(pred_df.relevance, pred_df.response_bin)}\")\n",
    "#     print()\n",
    "\n",
    "# get_baseline(test_df)\n",
    "# assess_models(lr_model, test_df)\n",
    "# assess_models(rf_model, test_df)\n",
    "# assess_models(fm_model, test_df)\n",
    "# assess_models(rand_model, test_df)"
   ]
  },
  {
   "cell_type": "code",
   "execution_count": 10,
   "metadata": {},
   "outputs": [],
   "source": [
    "# ROC AUC (baseline): 0.6422977846004425\n",
    "# Precision (baseline): 0.8358102086034046\n",
    "# Recall (baseline): 0.7951526338166802\n",
    "# Accuracy (baseline): 0.702376591881263\n",
    "# F1 (baseline): 0.8149746535680876\n",
    "\n",
    "                                                                                \n",
    "# ROC AUC (classificator): 0.6769131456007109\n",
    "# Precision (classificator): 0.832028723575394\n",
    "# Recall (classificator): 0.9840246054565328\n",
    "# Accuracy (classificator): 0.8230732037830066\n",
    "# F1 (classificator): 0.9016659625091726\n",
    "\n",
    "                                                                                \n",
    "# ROC AUC (classificator): 0.6702304186089241\n",
    "# Precision (classificator): 0.8243268843567191\n",
    "# Recall (classificator): 1.0\n",
    "# Accuracy (classificator): 0.8243268843567191\n",
    "# F1 (classificator): 0.9037052421089407\n",
    "\n",
    "                                                                                \n",
    "# ROC AUC (classificator): 0.6671387531188318\n",
    "# Precision (classificator): 0.8322885098991416\n",
    "# Recall (classificator): 0.9790606574786105\n",
    "# Accuracy (classificator): 0.8201101406494774\n",
    "# F1 (classificator): 0.8997281699070774\n",
    "\n",
    "                                                                                \n",
    "# ROC AUC (classificator): 0.5006585630991773\n",
    "# Precision (classificator): 0.8244574752349586\n",
    "# Recall (classificator): 0.49972577554558534\n",
    "# Accuracy (classificator): 0.49990127790599537\n",
    "# F1 (classificator): 0.62227437323843"
   ]
  },
  {
   "cell_type": "code",
   "execution_count": 11,
   "metadata": {},
   "outputs": [
    {
     "name": "stdout",
     "output_type": "stream",
     "text": [
      "24/04/22 23:39:20 WARN package: Truncated the string representation of a plan since it was too large. This behavior can be adjusted by setting 'spark.sql.debug.maxToStringFields'.\n",
      "24/04/22 23:39:20 WARN CacheManager: Asked to cache already cached data.\n"
     ]
    },
    {
     "name": "stderr",
     "output_type": "stream",
     "text": [
      "                                                                                \r"
     ]
    },
    {
     "data": {
      "text/plain": [
       "DataFrame[user_id: int, uembed_0: double, uembed_1: double, uembed_2: double, uembed_3: double, uembed_4: double, uembed_5: double, uembed_6: double, uembed_7: double, uembed_8: double, uembed_9: double, uembed_10: double, uembed_11: double, uembed_12: double, uembed_13: double, uembed_14: double, uembed_15: double, uembed_16: double, uembed_17: double, uembed_18: double, uembed_19: double, uembed_20: double, uembed_21: double, uembed_22: double, uembed_23: double, uembed_24: double, uembed_25: double, uembed_26: double, uembed_27: double, uembed_28: double, uembed_29: double, uembed_30: double, uembed_31: double, uembed_32: double, uembed_33: double, uembed_34: double, uembed_35: double, uembed_36: double, uembed_37: double, uembed_38: double, uembed_39: double, uembed_40: double, uembed_41: double, uembed_42: double, uembed_43: double, uembed_44: double, uembed_45: double, uembed_46: double, uembed_47: double, uembed_48: double, uembed_49: double, uembed_50: double, uembed_51: double, uembed_52: double, uembed_53: double, uembed_54: double, uembed_55: double, uembed_56: double, uembed_57: double, uembed_58: double, uembed_59: double, uembed_60: double, uembed_61: double, uembed_62: double, uembed_63: double]"
      ]
     },
     "execution_count": 11,
     "metadata": {},
     "output_type": "execute_result"
    }
   ],
   "source": [
    "item_generator = RealDataGenerator(label='items_real', seed=42)\n",
    "user_generator = RealDataGenerator(label='users_real', seed=42)\n",
    "\n",
    "users_df = train_df.select(*user_svd.columns).drop('item_id').distinct()\n",
    "items_df = train_df.drop(*user_svd.columns, 'user_id', 'relevance').distinct().cache()\n",
    "\n",
    "# передадим популяции пользователей и айтемов\n",
    "item_generator.fit(items_df)\n",
    "user_generator.fit(users_df)\n",
    "\n",
    "# будем использовать всех пользователей и айтемы из популяции\n",
    "item_generator.generate(items_df.count())\n",
    "user_generator.generate(users_df.count())"
   ]
  },
  {
   "cell_type": "code",
   "execution_count": 12,
   "metadata": {},
   "outputs": [],
   "source": [
    "from replay.data import FeatureSchema, FeatureInfo, FeatureType, FeatureHint, Dataset\n",
    "\n",
    "feature_schema = FeatureSchema(\n",
    "    [\n",
    "        FeatureInfo(\n",
    "            column=\"user_id\",\n",
    "            feature_type=FeatureType.CATEGORICAL,\n",
    "            feature_hint=FeatureHint.QUERY_ID,\n",
    "        ),\n",
    "        FeatureInfo(\n",
    "            column=\"item_id\",\n",
    "            feature_type=FeatureType.CATEGORICAL,\n",
    "            feature_hint=FeatureHint.ITEM_ID,\n",
    "        ),\n",
    "        FeatureInfo(\n",
    "            column=\"relevance\",\n",
    "            feature_type=FeatureType.NUMERICAL,\n",
    "            feature_hint=FeatureHint.RATING,\n",
    "        ),\n",
    "    ]\n",
    ")"
   ]
  },
  {
   "cell_type": "code",
   "execution_count": 13,
   "metadata": {},
   "outputs": [
    {
     "name": "stdout",
     "output_type": "stream",
     "text": [
      "24/04/22 23:39:48 WARN SparkSession: Using an existing Spark session; only runtime SQL configurations will take effect.\n",
      "24/04/22 23:39:49 WARN HintErrorLogger: A join hint (strategy=broadcast) is specified but it is not part of a join relation.\n"
     ]
    },
    {
     "name": "stderr",
     "output_type": "stream",
     "text": [
      "                                                                                \r"
     ]
    },
    {
     "name": "stdout",
     "output_type": "stream",
     "text": [
      "24/04/22 23:39:50 WARN HintErrorLogger: A join hint (strategy=broadcast) is specified but it is not part of a join relation.\n",
      "24/04/22 23:39:50 WARN HintErrorLogger: A join hint (strategy=broadcast) is specified but it is not part of a join relation.\n",
      "24/04/22 23:39:50 WARN HintErrorLogger: A join hint (strategy=broadcast) is specified but it is not part of a join relation.\n"
     ]
    },
    {
     "name": "stderr",
     "output_type": "stream",
     "text": [
      "                                                                                \r"
     ]
    },
    {
     "name": "stdout",
     "output_type": "stream",
     "text": [
      "24/04/22 23:39:53 WARN HintErrorLogger: A join hint (strategy=broadcast) is specified but it is not part of a join relation.\n",
      "24/04/22 23:39:53 WARN HintErrorLogger: A join hint (strategy=broadcast) is specified but it is not part of a join relation.\n"
     ]
    },
    {
     "name": "stderr",
     "output_type": "stream",
     "text": [
      "                                                                                \r"
     ]
    },
    {
     "name": "stdout",
     "output_type": "stream",
     "text": [
      "24/04/22 23:39:54 WARN HintErrorLogger: A join hint (strategy=broadcast) is specified but it is not part of a join relation.\n",
      "24/04/22 23:39:54 WARN HintErrorLogger: A join hint (strategy=broadcast) is specified but it is not part of a join relation.\n",
      "24/04/22 23:39:55 WARN HintErrorLogger: A join hint (strategy=broadcast) is specified but it is not part of a join relation.\n",
      "24/04/22 23:39:55 WARN HintErrorLogger: A join hint (strategy=broadcast) is specified but it is not part of a join relation.\n",
      "24/04/22 23:39:55 WARN HintErrorLogger: A join hint (strategy=broadcast) is specified but it is not part of a join relation.\n",
      "24/04/22 23:39:55 WARN HintErrorLogger: A join hint (strategy=broadcast) is specified but it is not part of a join relation.\n",
      "24/04/22 23:39:55 WARN HintErrorLogger: A join hint (strategy=broadcast) is specified but it is not part of a join relation.\n",
      "24/04/22 23:39:56 WARN HintErrorLogger: A join hint (strategy=broadcast) is specified but it is not part of a join relation.\n",
      "24/04/22 23:39:56 WARN HintErrorLogger: A join hint (strategy=broadcast) is specified but it is not part of a join relation.\n",
      "24/04/22 23:39:56 WARN HintErrorLogger: A join hint (strategy=broadcast) is specified but it is not part of a join relation.\n"
     ]
    }
   ],
   "source": [
    "dummy_log = Dataset(feature_schema=feature_schema, interactions=pandas_to_spark(pd.DataFrame({'user_id' : [1], 'item_id' : [1], 'relevance' : [0.0]})))\n",
    "\n",
    "ucb_lr = ThompsonSampling()\n",
    "ucb_lr.fit(dummy_log)\n",
    "\n",
    "ucb_rf = ThompsonSampling()\n",
    "ucb_rf.fit(dummy_log)\n",
    "\n",
    "ucb_fm = ThompsonSampling()\n",
    "ucb_fm.fit(dummy_log)\n",
    "\n",
    "ucb_rand = ThompsonSampling()\n",
    "ucb_rand.fit(dummy_log)"
   ]
  },
  {
   "cell_type": "code",
   "execution_count": 14,
   "metadata": {},
   "outputs": [],
   "source": [
    "def calc_metric(response_df):\n",
    "    return (response_df\n",
    "            .groupBy(\"user_id\").agg(sf.sum(\"response\").alias(\"num_positive\"))\n",
    "            .select(sf.mean(\"num_positive\")).collect()[0][0]\n",
    "           )"
   ]
  },
  {
   "cell_type": "code",
   "execution_count": null,
   "metadata": {},
   "outputs": [],
   "source": [
    "from sim4rec.modules import Simulator\n",
    "\n",
    "def do_a_cycle(simul, model, pipeline, iteration, metrics):\n",
    "    users = simul.sample_users(0.1).dropna().cache()\n",
    "    log = simul.get_log(user_df=users)\n",
    "    log = pandas_to_spark(pd.DataFrame({'user_id' : [1], 'item_id' : [1], 'relevance' : [0.0]})) if log is None else log\n",
    "    log = Dataset(feature_schema=feature_schema, interactions=log)\n",
    "\n",
    "    recs = model.predict(\n",
    "        log,\n",
    "        k=5,\n",
    "        queries=users,\n",
    "        items=items_df,\n",
    "        filter_seen_items=True,\n",
    "    ).cache()\n",
    "\n",
    "    resp = simul.sample_responses(\n",
    "        recs_df=recs, \n",
    "        user_features=users,\n",
    "        item_features=items_df,\n",
    "        action_models=pipeline\n",
    "    ).select('user_id', 'item_id', 'relevance', 'response').cache()\n",
    "    simul.update_log(resp, iteration=iteration)\n",
    "\n",
    "    metrics.append(calc_metric(resp))\n",
    "\n",
    "    model._clear_cache()\n",
    "    ucb_train_log = simul.log.cache()\n",
    "    model.fit(Dataset(feature_schema=feature_schema, interactions=ucb_train_log.select('user_id', 'item_id', 'response').withColumnRenamed('response', 'relevance')))\n",
    "\n",
    "    log.unpersist()\n",
    "    users.unpersist()\n",
    "    recs.unpersist()\n",
    "    resp.unpersist()\n",
    "    ucb_train_log.unpersist()\n",
    "\n",
    "sim_lr = Simulator(user_generator, item_generator, f'checkpoints/lr', None, 'user_id', 'item_id', spark)\n",
    "sim_rf = Simulator(user_generator, item_generator, f'checkpoints/rf', None, 'user_id', 'item_id', spark)\n",
    "sim_fm = Simulator(user_generator, item_generator, f'checkpoints/fm', None, 'user_id', 'item_id', spark)\n",
    "sim_rand = Simulator(user_generator, item_generator, f'checkpoints/rand', None, 'user_id', 'item_id', spark)\n",
    "\n",
    "lr_metrics = []\n",
    "rf_metrics = []\n",
    "fm_metrics = []\n",
    "rnd_metrics = []\n",
    "\n",
    "for i in range(30):\n",
    "    print(f'------------------------Stage {i}------------------------')\n",
    "    start_iter = time.time()\n",
    "\n",
    "    do_a_cycle(sim_lr, ucb_lr, lr_model, i, lr_metrics)\n",
    "    # do_a_cycle(sim_rf, ucb_rf, rf_model, i, rf_metrics)\n",
    "    # do_a_cycle(sim_fm, ucb_fm, fm_model, i, fm_metrics)\n",
    "    # do_a_cycle(sim_rand, ucb_rand, rand_model, i, rnd_metrics)\n",
    "    \n",
    "    end_iter = time.time()\n",
    "    print(f\"Time of {i+1} iteration: \")\n",
    "    print(end_iter - start_iter)"
   ]
  },
  {
   "cell_type": "code",
   "execution_count": 17,
   "metadata": {},
   "outputs": [
    {
     "data": {
      "image/png": "[encoded data removed]",
      "text/plain": [
       "<Figure size 640x480 with 1 Axes>"
      ]
     },
     "metadata": {},
     "output_type": "display_data"
    }
   ],
   "source": [
    "plt.plot(lr_metrics)\n",
    "plt.grid()\n",
    "plt.xlabel('iteration')\n",
    "plt.ylabel('# of clicks')\n",
    "plt.show()"
   ]
  }
 ],
 "metadata": {
  "kernelspec": {
   "display_name": "sim4rec",
   "language": "python",
   "name": "python3"
  },
  "language_info": {
   "codemirror_mode": {
    "name": "ipython",
    "version": 3
   },
   "file_extension": ".py",
   "mimetype": "text/x-python",
   "name": "python",
   "nbconvert_exporter": "python",
   "pygments_lexer": "ipython3",
   "version": "3.9.18"
  }
 },
 "nbformat": 4,
 "nbformat_minor": 2
}
