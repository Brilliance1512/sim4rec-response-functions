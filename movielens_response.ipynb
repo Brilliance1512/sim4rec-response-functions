{
 "cells": [
  {
   "cell_type": "code",
   "execution_count": 1,
   "id": "3a4ca285",
   "metadata": {},
   "outputs": [
    {
     "name": "stdout",
     "output_type": "stream",
     "text": [
      "24/05/25 10:54:31 WARN Utils: Your hostname, ecs-syudosaev-big resolves to a loopback address: 127.0.1.1; using 10.11.12.124 instead (on interface eth0)\n",
      "24/05/25 10:54:31 WARN Utils: Set SPARK_LOCAL_IP if you need to bind to another address\n"
     ]
    },
    {
     "name": "stderr",
     "output_type": "stream",
     "text": [
      "Setting default log level to \"WARN\".\n",
      "To adjust logging level use sc.setLogLevel(newLevel). For SparkR, use setLogLevel(newLevel).\n"
     ]
    },
    {
     "name": "stdout",
     "output_type": "stream",
     "text": [
      "24/05/25 10:54:31 WARN NativeCodeLoader: Unable to load native-hadoop library for your platform... using builtin-java classes where applicable\n"
     ]
    }
   ],
   "source": [
    "import pandas as pd\n",
    "\n",
    "import time\n",
    "\n",
    "from pyspark.sql import SparkSession\n",
    "from pyspark.ml.feature import VectorAssembler, PCA\n",
    "from pyspark.ml.functions import vector_to_array\n",
    "from pyspark.sql.functions import col, lit\n",
    "import pyspark.sql.functions as sf\n",
    "from sim4rec.modules import Simulator\n",
    "from pyspark.ml.classification import LogisticRegression, FMClassifier, RandomForestClassifier\n",
    "from pyspark.ml import PipelineModel\n",
    "from pyspark.sql import types as st\n",
    "\n",
    "from replay.session_handler import State\n",
    "from replay.models import RandomRec\n",
    "from replay.metrics import NDCG, Precision, RocAuc\n",
    "\n",
    "from sim4rec.utils import pandas_to_spark, VectorElementExtractor\n",
    "from sim4rec.modules import RealDataGenerator, SDVDataGenerator\n",
    "from sim4rec.modules import evaluate_synthetic, EvaluateMetrics\n",
    "from sim4rec.response import ParametricResponseFunction, BernoulliResponse\n",
    "\n",
    "from IPython.display import clear_output\n",
    "\n",
    "from replay.models import UCB, ThompsonSampling\n",
    "\n",
    "%matplotlib inline\n",
    "import matplotlib.pyplot as plt\n",
    "\n",
    "import warnings\n",
    "warnings.filterwarnings(\"ignore\")\n",
    "\n",
    "def calc_metric(response_df):\n",
    "    return response_df.groupBy(\"user_idx\").agg(sf.sum(\"response\").alias(\"num_positive\")).select(sf.mean(\"num_positive\")).collect()[0][0]\n",
    "\n",
    "spark = SparkSession.builder\\\n",
    "    .appName('simulator_movielens')\\\n",
    "    .master('local[*]')\\\n",
    "    .config('spark.sql.shuffle.partitions', '192')\\\n",
    "    .config('spark.default.parallelism', '192')\\\n",
    "    .config('spark.driver.memory', '256g')\\\n",
    "    .config('spark.driver.maxResultSize', '256g')\\\n",
    "    .getOrCreate()\n",
    "\n",
    "State(spark)\n",
    "spark.sparkContext.setLogLevel('ERROR')"
   ]
  },
  {
   "cell_type": "code",
   "execution_count": 2,
   "id": "7cafd3cd",
   "metadata": {},
   "outputs": [
    {
     "name": "stderr",
     "output_type": "stream",
     "text": [
      "                                                                                \r"
     ]
    }
   ],
   "source": [
    "USER_PREFIX = 'user_'\n",
    "ITEM_PREFIX = 'item_'\n",
    "\n",
    "USER_SCHEMA = st.StructType(\n",
    "    [st.StructField('user_idx', st.IntegerType())] +\\\n",
    "    [st.StructField(f'genre{i}', st.DoubleType()) for i in range(19)] +\\\n",
    "    [st.StructField('rating_avg', st.DoubleType())] +\\\n",
    "    [st.StructField(f'w2v_{i}', st.DoubleType()) for i in range(300)]\n",
    ")\n",
    "ITEM_SCHEMA = st.StructType(\n",
    "    [st.StructField('item_idx', st.IntegerType())] +\\\n",
    "    [st.StructField('year', st.IntegerType())] +\\\n",
    "    [st.StructField('rating_avg', st.DoubleType())] +\\\n",
    "    [st.StructField(f'genre{i}', st.DoubleType()) for i in range(19)] +\\\n",
    "    [st.StructField(f'w2v_{i}', st.DoubleType()) for i in range(300)]\n",
    ")\n",
    "LOG_SCHEMA = st.StructType([\n",
    "    st.StructField('user_idx', st.IntegerType()),\n",
    "    st.StructField('item_idx', st.IntegerType()),\n",
    "    st.StructField('relevance', st.DoubleType()),\n",
    "    st.StructField('timestamp', st.IntegerType())\n",
    "])\n",
    "\n",
    "user_svd = spark.read.csv('user_svd.csv', header=True, inferSchema=True)\n",
    "item_svd = spark.read.csv('item_svd.csv', header=True, inferSchema=True)\n",
    "\n",
    "users_df_train = spark.read.csv('train/users.csv', header=True, schema=USER_SCHEMA)\n",
    "items_df_train = spark.read.csv('train/items.csv', header=True, schema=ITEM_SCHEMA).na.drop().drop('year')\n",
    "log_df_val = spark.read.csv('val/rating.csv', header=True, schema=LOG_SCHEMA)\n",
    "\n",
    "for c in users_df_train.columns[1:]:\n",
    "    users_df_train = users_df_train.withColumnRenamed(c, 'user_' + c)\n",
    "    \n",
    "for c in items_df_train.columns[1:]:\n",
    "    items_df_train = items_df_train.withColumnRenamed(c, 'item_' + c)\n",
    "\n",
    "log_df_val = log_df_val.join(users_df_train, log_df_val['user_idx'] == users_df_train['user_idx'], 'leftsemi')\n",
    "log_df_val = log_df_val.join(items_df_train, log_df_val['item_idx'] == items_df_train['item_idx'], 'leftsemi')\n",
    "\n",
    "log_df_val = log_df_val.withColumn(\n",
    "    'relevance', sf.when(sf.col('relevance') > 3, 1).otherwise(0))\n",
    "\n",
    "log_df_val = log_df_val.cache()\n",
    "\n",
    "users_df_train = users_df_train.cache()\n",
    "items_df_train = items_df_train.cache()"
   ]
  },
  {
   "cell_type": "code",
   "execution_count": 2,
   "id": "575119aa",
   "metadata": {},
   "outputs": [],
   "source": [
    "USER_SCHEMA = st.StructType(\n",
    "    [st.StructField(f'uembed_{i}', st.DoubleType()) for i in range(128)] +\\\n",
    "    [st.StructField('user_idx', st.IntegerType())]\n",
    ")\n",
    "ITEM_SCHEMA = st.StructType(\n",
    "    [st.StructField(f'iembed_{i}', st.DoubleType()) for i in range(128)] +\\\n",
    "    [st.StructField('item_idx', st.IntegerType())]\n",
    ")\n",
    "LOG_SCHEMA = st.StructType([\n",
    "    st.StructField('user_idx', st.IntegerType()),\n",
    "    st.StructField('item_idx', st.IntegerType()),\n",
    "    st.StructField('relevance', st.DoubleType()),\n",
    "    st.StructField('timestamp', st.IntegerType())\n",
    "])\n",
    "\n",
    "pca_users = spark.read.csv('user_svd.csv', header=True, schema=USER_SCHEMA)\n",
    "items_df_train = spark.read.csv('item_svd.csv', header=True, schema=ITEM_SCHEMA)\n",
    "log_df_val = spark.read.csv('val/rating.csv', header=True, schema=LOG_SCHEMA)\n",
    "\n",
    "log_df_val = log_df_val.join(pca_users, log_df_val['user_idx'] == pca_users['user_idx'], 'leftsemi')\n",
    "log_df_val = log_df_val.join(items_df_train, log_df_val['item_idx'] == items_df_train['item_idx'], 'leftsemi')\n",
    "\n",
    "log_df_val = log_df_val.withColumn(\n",
    "    'relevance', sf.when(sf.col('relevance') > 3, 1).otherwise(0))\n",
    "\n",
    "log_df_val = log_df_val.cache()"
   ]
  },
  {
   "cell_type": "code",
   "execution_count": 3,
   "id": "484ff229",
   "metadata": {},
   "outputs": [
    {
     "name": "stderr",
     "output_type": "stream",
     "text": [
      "                                                                                \r"
     ]
    },
    {
     "name": "stdout",
     "output_type": "stream",
     "text": [
      "0.9216818424353497\n"
     ]
    }
   ],
   "source": [
    "va_users = VectorAssembler(\n",
    "    inputCols=users_df_train.columns[1:],\n",
    "    outputCol='features'\n",
    ")\n",
    "pca_u = PCA(k=9, inputCol=\"features\")\n",
    "pca_u.setOutputCol(\"pca_features\")\n",
    "model_users = pca_u.fit(va_users.transform(users_df_train))\n",
    "print(sum(model_users.explainedVariance))\n",
    "\n",
    "pca_users = model_users.transform(va_users.transform(users_df_train)).select(['user_idx', 'pca_features'])\n",
    "pca_users = (pca_users.withColumn('user_feature', vector_to_array('pca_features'))).select(['user_idx'] + [col('user_feature')[i].alias(f'user_feature_{i}') for i in range(9)])"
   ]
  },
  {
   "cell_type": "code",
   "execution_count": 4,
   "id": "80872385",
   "metadata": {},
   "outputs": [],
   "source": [
    "pca_users = pca_users.join(user_svd, on='user_idx', how='inner')\n",
    "items_df_train = items_df_train.join(item_svd, on='item_idx', how='inner')\n",
    "\n",
    "train_df = log_df_val.join(pca_users, 'user_idx', 'inner')\\\n",
    "                     .join(items_df_train, 'item_idx', 'inner')\\\n",
    "                     .drop('timestamp')"
   ]
  },
  {
   "cell_type": "code",
   "execution_count": 7,
   "id": "3c0bec2f",
   "metadata": {},
   "outputs": [
    {
     "name": "stderr",
     "output_type": "stream",
     "text": [
      "                                                                                \r"
     ]
    }
   ],
   "source": [
    "va = VectorAssembler(\n",
    "    inputCols=pca_users.columns[1:] + items_df_train.columns[1:],\n",
    "    outputCol='features'\n",
    ")\n",
    "\n",
    "lr = LogisticRegression(\n",
    "    featuresCol='features',\n",
    "    labelCol='relevance',\n",
    "    probabilityCol='proba'\n",
    ")\n",
    "fm = FMClassifier(\n",
    "    featuresCol='features',\n",
    "    labelCol='relevance',\n",
    "    probabilityCol='proba'\n",
    ")\n",
    "rf = RandomForestClassifier(\n",
    "    featuresCol='features',\n",
    "    labelCol='relevance',\n",
    "    probabilityCol='proba'\n",
    ")\n",
    "lr_model = lr.fit(va.transform(train_df))\n",
    "rf_model = rf.fit(va.transform(train_df))\n",
    "fm_model = fm.fit(va.transform(train_df))\n",
    "\n",
    "vee = VectorElementExtractor(inputCol='proba', outputCol='__r1', index=1)\n",
    "mc = ParametricResponseFunction(inputCols=['__r1'], outputCol='__pr', weights=[0.25])\n",
    "br = BernoulliResponse(inputCol='__pr', outputCol='response', seed=1234)\n",
    "pipeline_lr = PipelineModel(stages=[va, lr_model, vee, mc, br])\n",
    "pipeline_rf = PipelineModel(stages=[va, rf_model, vee, mc, br])\n",
    "pipeline_fm = PipelineModel(stages=[va, fm_model, vee, mc, br])"
   ]
  },
  {
   "cell_type": "code",
   "execution_count": 8,
   "id": "c5e6a1b0",
   "metadata": {},
   "outputs": [],
   "source": [
    "ts_lr = ThompsonSampling(sample = True)\n",
    "ts_lr.fit(log=log_df_val.drop('response').limit(1))\n",
    "\n",
    "ts_rf = ThompsonSampling(sample = True)\n",
    "ts_rf.fit(log=log_df_val.drop('response').limit(1))\n",
    "\n",
    "ts_fm = ThompsonSampling(sample = True)\n",
    "ts_fm.fit(log=log_df_val.drop('response').limit(1))\n",
    "\n",
    "random_uni = RandomRec(distribution=\"uniform\")\n",
    "random_uni.fit(log=log_df_val.drop('response').limit(1))"
   ]
  },
  {
   "cell_type": "code",
   "execution_count": 9,
   "id": "9acf433f",
   "metadata": {},
   "outputs": [
    {
     "name": "stderr",
     "output_type": "stream",
     "text": [
      "                                                                                \r"
     ]
    }
   ],
   "source": [
    "evaluator = EvaluateMetrics(\n",
    "    userKeyCol='user_idx',\n",
    "    itemKeyCol='item_idx',\n",
    "    predictionCol='relevance',\n",
    "    labelCol='response',\n",
    "    replay_label_filter=1.0,\n",
    "    replay_metrics={NDCG() : 10, Precision() : 10, RocAuc(): 10}\n",
    ")\n",
    "\n",
    "users_generator = SDVDataGenerator(\n",
    "    label='synth',\n",
    "    id_column_name='user_id',\n",
    "    model_name='gaussiancopula',\n",
    "    parallelization_level=4,\n",
    "    device_name='cpu',\n",
    "    seed=1234\n",
    ")\n",
    "\n",
    "items_generator = RealDataGenerator(label='items_real', seed=1234)\n",
    "users_generator.fit(pca_users.drop('user_id'))\n",
    "items_generator.fit(items_df_train)\n",
    "real_users = pca_users.sample(1.0)\n",
    "syn_users = users_generator.generate(real_users.count())"
   ]
  },
  {
   "cell_type": "code",
   "execution_count": 10,
   "id": "cbbffc5c",
   "metadata": {},
   "outputs": [
    {
     "name": "stdout",
     "output_type": "stream",
     "text": [
      "Time of 50 iteration: \n",
      "181.9082374572754\n"
     ]
    }
   ],
   "source": [
    "def do_a_cycle(simul, model, pipeline, iteration, metrics):\n",
    "    users = simul.sample_users(1.0).cache()\n",
    "    log = simul.get_log(user_df=users)\n",
    "    log = log_df_val.drop('response').limit(1) if log is None else log\n",
    "\n",
    "    item_ids = items_df_train.select(\"item_idx\").sample(0.2).cache()\n",
    "    recs = model.predict(\n",
    "        log,\n",
    "        k=10,\n",
    "        users=users.select(\"user_idx\"),\n",
    "        items=item_ids,\n",
    "        filter_seen_items = False\n",
    "    )\n",
    "    resp = simul.sample_responses(\n",
    "        recs_df=recs, \n",
    "        user_features=users,\n",
    "        item_features=items_df_train,\n",
    "        action_models=pipeline,\n",
    "    ).select('user_idx', 'item_idx', 'relevance', 'response').cache()\n",
    "\n",
    "    simul.update_log(resp, iteration=iteration)\n",
    "    met = calc_metric(resp)\n",
    "    ev = evaluator(resp)\n",
    "    ev['CR'] = met\n",
    "    metrics.append(ev)\n",
    "\n",
    "    model._clear_cache()\n",
    "    train_log = simul.log.cache()\n",
    "    model.fit(train_log.select('user_idx', 'item_idx', 'response').withColumnRenamed('response', 'relevance'))\n",
    "\n",
    "    log.unpersist()\n",
    "    users.unpersist()\n",
    "    recs.unpersist()\n",
    "    resp.unpersist()\n",
    "    train_log.unpersist()\n",
    "\n",
    "sim_lr = Simulator(users_generator, items_generator, f'checkpoints/lr', None, 'user_idx', 'item_idx', spark)\n",
    "sim_rf = Simulator(users_generator, items_generator, f'checkpoints/rf', None, 'user_idx', 'item_idx', spark)\n",
    "sim_fm = Simulator(users_generator, items_generator, f'checkpoints/fm', None, 'user_idx', 'item_idx', spark)\n",
    "sim_rand = Simulator(users_generator, items_generator, f'checkpoints/rand', None, 'user_idx', 'item_idx', spark)\n",
    "\n",
    "lr_metrics = []\n",
    "rf_metrics = []\n",
    "fm_metrics = []\n",
    "rnd_metrics = []\n",
    "\n",
    "for i in range(50):\n",
    "    print(f'------------------------Stage {i}------------------------')\n",
    "    start_iter = time.time()\n",
    "\n",
    "    do_a_cycle(sim_lr, ts_lr, pipeline_lr, i, lr_metrics)\n",
    "    do_a_cycle(sim_rf, ts_rf, pipeline_rf, i, rf_metrics)\n",
    "    do_a_cycle(sim_fm, ts_fm, pipeline_fm, i, fm_metrics)\n",
    "    do_a_cycle(sim_rand, random_uni, pipeline_lr, i, rnd_metrics)\n",
    "    # plot_metric(lr_metrics)\n",
    "    clear_output(wait=True)\n",
    "    end_iter = time.time()\n",
    "    print(f\"Time of {i+1} iteration: \")\n",
    "    print(end_iter - start_iter)"
   ]
  },
  {
   "cell_type": "code",
   "execution_count": 11,
   "id": "45a9803f",
   "metadata": {},
   "outputs": [],
   "source": [
    "import pickle\n",
    "with open('records/lr_all_feats.pickle', 'wb') as f:\n",
    "    pickle.dump(lr_metrics, f)\n",
    "with open('records/rf_all_feats.pickle', 'wb') as f:\n",
    "    pickle.dump(rf_metrics, f)\n",
    "with open('records/fm_all_feats.pickle', 'wb') as f:\n",
    "    pickle.dump(fm_metrics, f)\n",
    "with open('records/rand_all_feats.pickle', 'wb') as f:\n",
    "    pickle.dump(rnd_metrics, f)"
   ]
  },
  {
   "cell_type": "code",
   "execution_count": null,
   "id": "850d1ba0",
   "metadata": {},
   "outputs": [
    {
     "data": {
      "text/plain": [
       "(3.0, 7.0)"
      ]
     },
     "execution_count": 86,
     "metadata": {},
     "output_type": "execute_result"
    },
    {
     "data": {
      "image/png": "[encoded data removed]",
      "text/plain": [
       "<Figure size 640x480 with 1 Axes>"
      ]
     },
     "metadata": {},
     "output_type": "display_data"
    }
   ],
   "source": [
    "metrics_lr = pd.DataFrame(lr_metrics)\n",
    "metrics_rnd = pd.DataFrame(rnd_metrics)\n",
    "metrics_rf = pd.DataFrame(rf_metrics)\n",
    "metrics_fm = pd.DataFrame(fm_metrics)\n",
    "\n",
    "plt.plot(metrics_lr['CR'], color='b')\n",
    "plt.plot(metrics_rnd['CR'], color='g')\n",
    "plt.plot(metrics_rf['CR'], color='r')\n",
    "plt.plot(metrics_fm['CR'], color='y')\n",
    "plt.xlabel('iteration')\n",
    "plt.ylabel('CR')\n",
    "plt.ylim(3, 7)\n",
    "plt.savefig('ml_ndcg_new_users_base.png', dpi=300)"
   ]
  }
 ],
 "metadata": {
  "kernelspec": {
   "display_name": "sim4rec",
   "language": "python",
   "name": "python3"
  },
  "language_info": {
   "codemirror_mode": {
    "name": "ipython",
    "version": 3
   },
   "file_extension": ".py",
   "mimetype": "text/x-python",
   "name": "python",
   "nbconvert_exporter": "python",
   "pygments_lexer": "ipython3",
   "version": "3.9.18"
  }
 },
 "nbformat": 4,
 "nbformat_minor": 5
}
