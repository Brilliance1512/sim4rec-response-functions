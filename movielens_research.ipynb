{
 "cells": [
  {
   "cell_type": "code",
   "execution_count": 7,
   "metadata": {},
   "outputs": [],
   "source": [
    "import os\n",
    "\n",
    "import pandas as pd\n",
    "import numpy as np\n",
    "\n",
    "import time\n",
    "\n",
    "from pyspark.sql import SparkSession\n",
    "from pyspark.ml.feature import VectorAssembler, PCA\n",
    "from pyspark.ml.functions import vector_to_array\n",
    "from pyspark.sql.functions import col\n",
    "import pyspark.sql.functions as sf\n",
    "import pyspark.sql.types as st\n",
    "from pyspark.ml.recommendation import ALS\n",
    "from pyspark.ml.classification import LogisticRegression, RandomForestClassifier, NaiveBayes, FMClassifier\n",
    "from pyspark.ml import Pipeline, PipelineModel\n",
    "from sim4rec.modules import Simulator\n",
    "\n",
    "from replay.metrics import NDCG, Precision, RocAuc, Metric\n",
    "from sklearn.metrics import roc_auc_score, precision_score, recall_score, accuracy_score\n",
    "from replay.data_preparator import Indexer\n",
    "\n",
    "from sim4rec.utils import pandas_to_spark, VectorElementExtractor\n",
    "from sim4rec.modules import RealDataGenerator, SDVDataGenerator\n",
    "from sim4rec.modules import evaluate_synthetic, EvaluateMetrics\n",
    "from sim4rec.response import ParametricResponseFunction, BernoulliResponse, NoiseResponse\n",
    "\n",
    "from replay.models import UCB, ItemKNN\n",
    "from replay.models import RandomRec\n",
    "\n",
    "%matplotlib inline\n",
    "import matplotlib.pyplot as plt\n",
    "\n",
    "import warnings\n",
    "warnings.filterwarnings(\"ignore\")\n",
    "\n",
    "spark = SparkSession.builder\\\n",
    "    .appName('simulator_movielens')\\\n",
    "    .master('local[*]')\\\n",
    "    .config('spark.sql.shuffle.partitions', '192')\\\n",
    "    .config('spark.default.parallelism', '192')\\\n",
    "    .config('spark.driver.extraJavaOptions', '-XX:+UseG1GC')\\\n",
    "    .config('spark.executor.extraJavaOptions', '-XX:+UseG1GC')\\\n",
    "    .config('spark.sql.autoBroadcastJoinThreshold', '-1')\\\n",
    "    .config('spark.driver.memory', '256g')\\\n",
    "    .getOrCreate()\n",
    "spark.sparkContext.setLogLevel('ERROR')"
   ]
  },
  {
   "cell_type": "code",
   "execution_count": 8,
   "metadata": {},
   "outputs": [
    {
     "name": "stdout",
     "output_type": "stream",
     "text": [
      "80650\n",
      "8267\n",
      "10000132\n"
     ]
    }
   ],
   "source": [
    "USER_SCHEMA = st.StructType(\n",
    "    [st.StructField('user_idx', st.IntegerType())] +\\\n",
    "    [st.StructField(f'uembed_{i}', st.DoubleType()) for i in range(64)]\n",
    ")\n",
    "ITEM_SCHEMA = st.StructType(\n",
    "    [st.StructField('item_idx', st.IntegerType())] +\\\n",
    "    [st.StructField(f'iembed_{i}', st.DoubleType()) for i in range(64)]\n",
    ")\n",
    "LOG_SCHEMA = st.StructType([\n",
    "    st.StructField('user_idx', st.IntegerType()),\n",
    "    st.StructField('item_idx', st.IntegerType()),\n",
    "    st.StructField('relevance', st.DoubleType()),\n",
    "    st.StructField('timestamp', st.IntegerType())\n",
    "])\n",
    "\n",
    "users_df_train = spark.read.csv('user_svd.csv', header=True, schema=USER_SCHEMA)\n",
    "items_df_train = spark.read.csv('item_svd.csv', header=True, schema=ITEM_SCHEMA)\n",
    "log_df_train   = spark.read.csv('train/rating.csv', header=True, schema=LOG_SCHEMA)\n",
    "\n",
    "users_df_train = users_df_train.withColumnRenamed(\"user_idx\", \"user_id\")\n",
    "items_df_train = items_df_train.withColumnRenamed(\"item_idx\", \"item_id\")\n",
    "log_df_train = log_df_train.withColumnRenamed(\"user_idx\", \"user_id\")\n",
    "log_df_train = log_df_train.withColumnRenamed(\"item_idx\", \"item_id\")\n",
    "\n",
    "log_df_train = log_df_train.join(users_df_train, log_df_train['user_id'] == users_df_train['user_id'], 'leftsemi')\n",
    "log_df_train = log_df_train.join(items_df_train, log_df_train['item_id'] == items_df_train['item_id'], 'leftsemi')\n",
    "\n",
    "for c in users_df_train.columns[1:]:\n",
    "    users_df_train = users_df_train.withColumnRenamed(c, 'user_' + c)\n",
    "    \n",
    "for c in items_df_train.columns[1:]:\n",
    "    items_df_train = items_df_train.withColumnRenamed(c, 'item_' + c)\n",
    "\n",
    "avg_item_ratings = log_df_train.groupBy('item_id').agg(sf.avg(sf.col('relevance')).alias('item_rating_avg'))\n",
    "\n",
    "log_df_train = log_df_train.withColumn(\n",
    "    'relevance', sf.when(sf.col('relevance') > 3, 1).otherwise(0))\n",
    "\n",
    "users_df_train = users_df_train.cache()\n",
    "items_df_train = items_df_train.cache()\n",
    "log_df_train = log_df_train.cache()\n",
    "\n",
    "print(users_df_train.count())\n",
    "print(items_df_train.count())\n",
    "print(log_df_train.count())"
   ]
  },
  {
   "cell_type": "code",
   "execution_count": 10,
   "metadata": {},
   "outputs": [
    {
     "name": "stdout",
     "output_type": "stream",
     "text": [
      "80650\n",
      "8267\n"
     ]
    },
    {
     "name": "stderr",
     "output_type": "stream",
     "text": [
      "[Stage 58:=========================================>           (151 + 41) / 192]\r"
     ]
    },
    {
     "name": "stdout",
     "output_type": "stream",
     "text": [
      "402507\n"
     ]
    },
    {
     "name": "stderr",
     "output_type": "stream",
     "text": [
      "                                                                                \r"
     ]
    }
   ],
   "source": [
    "users_df_val = spark.read.csv('user_svd.csv', header=True, schema=USER_SCHEMA)\n",
    "items_df_val = spark.read.csv('item_svd.csv', header=True, schema=ITEM_SCHEMA)\n",
    "log_df_val   = spark.read.csv('val/rating.csv', header=True, schema=LOG_SCHEMA)\n",
    "\n",
    "users_df_val = users_df_val.withColumnRenamed(\"user_idx\", \"user_id\")\n",
    "items_df_val = items_df_val.withColumnRenamed(\"item_idx\", \"item_id\")\n",
    "log_df_val = log_df_val.withColumnRenamed(\"user_idx\", \"user_id\")\n",
    "log_df_val = log_df_val.withColumnRenamed(\"item_idx\", \"item_id\")\n",
    "\n",
    "log_df_val = log_df_val.join(users_df_val, log_df_val['user_id'] == users_df_val['user_id'], 'leftsemi')\n",
    "log_df_val = log_df_val.join(items_df_val, log_df_val['item_id'] == items_df_val['item_id'], 'leftsemi')\n",
    "\n",
    "for c in users_df_val.columns[1:]:\n",
    "    users_df_val = users_df_val.withColumnRenamed(c, 'user_' + c)\n",
    "\n",
    "for c in items_df_val.columns[1:]:\n",
    "    items_df_val = items_df_val.withColumnRenamed(c, 'item_' + c)\n",
    "\n",
    "log_df_val = log_df_val.withColumn(\n",
    "    'relevance', sf.when(sf.col('relevance') > 3, 1).otherwise(0))\n",
    "\n",
    "users_df_val = users_df_val.cache()\n",
    "items_df_val = items_df_val.cache()\n",
    "log_df_val = log_df_val.cache()\n",
    "\n",
    "print(users_df_val.count())\n",
    "print(items_df_val.count())\n",
    "print(log_df_val.count())"
   ]
  },
  {
   "cell_type": "code",
   "execution_count": 11,
   "metadata": {},
   "outputs": [
    {
     "name": "stderr",
     "output_type": "stream",
     "text": [
      "                                                                                \r"
     ]
    },
    {
     "data": {
      "text/plain": [
       "402507"
      ]
     },
     "execution_count": 11,
     "metadata": {},
     "output_type": "execute_result"
    }
   ],
   "source": [
    "items_generator = RealDataGenerator(label='items_real', seed=1234)\n",
    "\n",
    "users_generator = SDVDataGenerator(\n",
    "    label='synth',\n",
    "    id_column_name='user_id',\n",
    "    model_name='gaussiancopula',\n",
    "    parallelization_level=4,\n",
    "    device_name='cpu',\n",
    "    seed=1234\n",
    ")\n",
    "\n",
    "users_generator.fit(users_df_train.drop('user_id'))\n",
    "items_generator.fit(items_df_train)\n",
    "\n",
    "real_users = users_df_train.sample(0.12)\n",
    "syn_users = users_generator.generate(real_users.count())\n",
    "_ = items_generator.generate(items_df_train.select('item_id').distinct().count())\n",
    "\n",
    "train_df = log_df_train.join(users_df_train, 'user_id', 'left')\\\n",
    "                     .join(items_df_train, 'item_id', 'left')\\\n",
    "                     .drop('timestamp')\n",
    "train_df = train_df.na.drop()\n",
    "\n",
    "val_df = log_df_val.join(users_df_val, 'user_id', 'left')\\\n",
    "                     .join(items_df_val, 'item_id', 'left')\\\n",
    "                     .drop('timestamp')\n",
    "val_df = val_df.na.drop()\n",
    "val_df.count()"
   ]
  },
  {
   "cell_type": "code",
   "execution_count": 12,
   "metadata": {},
   "outputs": [
    {
     "name": "stderr",
     "output_type": "stream",
     "text": [
      "[Stage 1695:=================================================>    (88 + 8) / 96]]\r"
     ]
    }
   ],
   "source": [
    "va = VectorAssembler(\n",
    "    inputCols=users_df_train.columns[1:] + items_df_train.columns[1:],\n",
    "    outputCol='features'\n",
    ")\n",
    "\n",
    "fm = FMClassifier(\n",
    "    featuresCol='features',\n",
    "    labelCol='relevance',\n",
    "    probabilityCol='proba'\n",
    ")\n",
    "\n",
    "rf = RandomForestClassifier(\n",
    "    featuresCol='features',\n",
    "    labelCol='relevance',\n",
    "    probabilityCol='proba'\n",
    ")\n",
    "\n",
    "lr = LogisticRegression(\n",
    "    featuresCol='features',\n",
    "    labelCol='relevance',\n",
    "    probabilityCol='proba'\n",
    ")\n",
    "\n",
    "lr_model = lr.fit(va.transform(train_df))\n",
    "rf_model = rf.fit(va.transform(train_df))\n",
    "fm_model = fm.fit(va.transform(train_df))\n",
    "vee = VectorElementExtractor(inputCol='proba', outputCol='scores', index=1)\n",
    "mc = ParametricResponseFunction(inputCols=['scores'], outputCol='__pr', weights=[0.25])\n",
    "br = BernoulliResponse(inputCol='__pr', outputCol='response', seed=1234)\n",
    "pipeline_lr = PipelineModel(stages=[va, lr_model, vee, mc, br])\n",
    "pipeline_rf = PipelineModel(stages=[va, rf_model, vee, mc, br])\n",
    "pipeline_fm = PipelineModel(stages=[va, fm_model, vee, mc, br])\n",
    "\n",
    "noise_resp = NoiseResponse(mu=0.5, sigma=0.2, outputCol='__noise')\n",
    "br = BernoulliResponse(inputCol='__noise', outputCol='response')\n",
    "pipeline_rand = PipelineModel(stages=[noise_resp, br])"
   ]
  },
  {
   "cell_type": "code",
   "execution_count": 15,
   "metadata": {},
   "outputs": [
    {
     "name": "stderr",
     "output_type": "stream",
     "text": [
      "                                                                                ]\r"
     ]
    },
    {
     "name": "stdout",
     "output_type": "stream",
     "text": [
      "ROC AUC (baseline): 0.7364567206633343\n",
      "ROC AUC (classificator): 0.5414111941477786\n",
      "Precision (baseline): 0.6667442887541655\n",
      "Precision (classificator): 0.6414003260643594\n",
      "Recall (baseline): 0.9775066612774741\n",
      "Recall (classificator): 0.9201313811898866\n",
      "Accuracy (baseline): 0.676432956445478\n",
      "Accuracy (classificator): 0.623740705130594\n",
      "\n"
     ]
    },
    {
     "name": "stderr",
     "output_type": "stream",
     "text": [
      "                                                                                ]\r"
     ]
    },
    {
     "name": "stdout",
     "output_type": "stream",
     "text": [
      "ROC AUC (baseline): 0.7364567206633343\n",
      "ROC AUC (classificator): 0.5979397964860597\n",
      "Precision (baseline): 0.6667442887541655\n",
      "Precision (classificator): 0.6397484537962405\n",
      "Recall (baseline): 0.9775066612774741\n",
      "Recall (classificator): 0.9912334056688551\n",
      "Accuracy (baseline): 0.676432956445478\n",
      "Accuracy (classificator): 0.6410621430186307\n",
      "\n"
     ]
    },
    {
     "name": "stderr",
     "output_type": "stream",
     "text": [
      "                                                                                ]\r"
     ]
    },
    {
     "name": "stdout",
     "output_type": "stream",
     "text": [
      "ROC AUC (baseline): 0.7364567206633343\n",
      "ROC AUC (classificator): 0.6049908830376873\n",
      "Precision (baseline): 0.6667442887541655\n",
      "Precision (classificator): 0.67158745675794\n",
      "Recall (baseline): 0.9775066612774741\n",
      "Recall (classificator): 0.8006757419623202\n",
      "Accuracy (baseline): 0.676432956445478\n",
      "Accuracy (classificator): 0.6259195492252309\n",
      "\n"
     ]
    },
    {
     "ename": "AnalysisException",
     "evalue": "Column 'scores' does not exist. Did you mean one of the following? [__noise, response, user_id, item_id, relevance, user_uembed_0, user_uembed_1, user_uembed_2, user_uembed_3, user_uembed_4, user_uembed_5, user_uembed_6, user_uembed_7, user_uembed_8, user_uembed_9, item_iembed_0, item_iembed_1, item_iembed_2, item_iembed_3, item_iembed_4, item_iembed_5, item_iembed_6, item_iembed_7, item_iembed_8, item_iembed_9, user_uembed_10, user_uembed_11, user_uembed_12, user_uembed_13, user_uembed_14, user_uembed_15, user_uembed_16, user_uembed_17, user_uembed_18, user_uembed_19, user_uembed_20, user_uembed_21, user_uembed_22, user_uembed_23, user_uembed_24, user_uembed_25, user_uembed_26, user_uembed_27, user_uembed_28, user_uembed_29, user_uembed_30, user_uembed_31, user_uembed_32, user_uembed_33, user_uembed_34, user_uembed_35, user_uembed_36, user_uembed_37, user_uembed_38, user_uembed_39, user_uembed_40, user_uembed_41, user_uembed_42, user_uembed_43, user_uembed_44, user_uembed_45, user_uembed_46, user_uembed_47, user_uembed_48, user_uembed_49, user_uembed_50, user_uembed_51, user_uembed_52, user_uembed_53, user_uembed_54, user_uembed_55, user_uembed_56, user_uembed_57, user_uembed_58, user_uembed_59, user_uembed_60, user_uembed_61, user_uembed_62, user_uembed_63, item_iembed_10, item_iembed_11, item_iembed_12, item_iembed_13, item_iembed_14, item_iembed_15, item_iembed_16, item_iembed_17, item_iembed_18, item_iembed_19, item_iembed_20, item_iembed_21, item_iembed_22, item_iembed_23, item_iembed_24, item_iembed_25, item_iembed_26, item_iembed_27, item_iembed_28, item_iembed_29, item_iembed_30, item_iembed_31, item_iembed_32, item_iembed_33, item_iembed_34, item_iembed_35, item_iembed_36, item_iembed_37, item_iembed_38, item_iembed_39, item_iembed_40, item_iembed_41, item_iembed_42, item_iembed_43, item_iembed_44, item_iembed_45, item_iembed_46, item_iembed_47, item_iembed_48, item_iembed_49, item_iembed_50, item_iembed_51, item_iembed_52, item_iembed_53, item_iembed_54, item_iembed_55, item_iembed_56, item_iembed_57, item_iembed_58, item_iembed_59, item_iembed_60, item_iembed_61, item_iembed_62, item_iembed_63];\n'Project [user_id#26093, item_id#26099, relevance#34568, 'scores]\n+- Project [item_id#26099, user_id#26093, relevance#34568, user_uembed_0#26120, user_uembed_1#26186, user_uembed_2#26252, user_uembed_3#26318, user_uembed_4#26384, user_uembed_5#26450, user_uembed_6#26516, user_uembed_7#26582, user_uembed_8#26648, user_uembed_9#26714, user_uembed_10#26780, user_uembed_11#26846, user_uembed_12#26912, user_uembed_13#26978, user_uembed_14#27044, user_uembed_15#27110, user_uembed_16#27176, user_uembed_17#27242, user_uembed_18#27308, user_uembed_19#27374, user_uembed_20#27440, ... 109 more fields]\n   +- Project [item_id#26099, user_id#26093, relevance#34568, user_uembed_0#26120, user_uembed_1#26186, user_uembed_2#26252, user_uembed_3#26318, user_uembed_4#26384, user_uembed_5#26450, user_uembed_6#26516, user_uembed_7#26582, user_uembed_8#26648, user_uembed_9#26714, user_uembed_10#26780, user_uembed_11#26846, user_uembed_12#26912, user_uembed_13#26978, user_uembed_14#27044, user_uembed_15#27110, user_uembed_16#27176, user_uembed_17#27242, user_uembed_18#27308, user_uembed_19#27374, user_uembed_20#27440, ... 108 more fields]\n      +- Filter atleastnnonnulls(131, item_id#26099, user_id#26093, relevance#34568, user_uembed_0#26120, user_uembed_1#26186, user_uembed_2#26252, user_uembed_3#26318, user_uembed_4#26384, user_uembed_5#26450, user_uembed_6#26516, user_uembed_7#26582, user_uembed_8#26648, user_uembed_9#26714, user_uembed_10#26780, user_uembed_11#26846, user_uembed_12#26912, user_uembed_13#26978, user_uembed_14#27044, user_uembed_15#27110, user_uembed_16#27176, user_uembed_17#27242, user_uembed_18#27308, user_uembed_19#27374, ... 108 more fields)\n         +- Project [item_id#26099, user_id#26093, relevance#34568, user_uembed_0#26120, user_uembed_1#26186, user_uembed_2#26252, user_uembed_3#26318, user_uembed_4#26384, user_uembed_5#26450, user_uembed_6#26516, user_uembed_7#26582, user_uembed_8#26648, user_uembed_9#26714, user_uembed_10#26780, user_uembed_11#26846, user_uembed_12#26912, user_uembed_13#26978, user_uembed_14#27044, user_uembed_15#27110, user_uembed_16#27176, user_uembed_17#27242, user_uembed_18#27308, user_uembed_19#27374, user_uembed_20#27440, ... 107 more fields]\n            +- Project [item_id#26099, user_id#26093, relevance#34568, timestamp#25954, user_uembed_0#26120, user_uembed_1#26186, user_uembed_2#26252, user_uembed_3#26318, user_uembed_4#26384, user_uembed_5#26450, user_uembed_6#26516, user_uembed_7#26582, user_uembed_8#26648, user_uembed_9#26714, user_uembed_10#26780, user_uembed_11#26846, user_uembed_12#26912, user_uembed_13#26978, user_uembed_14#27044, user_uembed_15#27110, user_uembed_16#27176, user_uembed_17#27242, user_uembed_18#27308, user_uembed_19#27374, ... 108 more fields]\n               +- Join LeftOuter, (item_id#26099 = item_id#26026)\n                  :- Project [user_id#26093, item_id#26099, relevance#34568, timestamp#25954, user_uembed_0#26120, user_uembed_1#26186, user_uembed_2#26252, user_uembed_3#26318, user_uembed_4#26384, user_uembed_5#26450, user_uembed_6#26516, user_uembed_7#26582, user_uembed_8#26648, user_uembed_9#26714, user_uembed_10#26780, user_uembed_11#26846, user_uembed_12#26912, user_uembed_13#26978, user_uembed_14#27044, user_uembed_15#27110, user_uembed_16#27176, user_uembed_17#27242, user_uembed_18#27308, user_uembed_19#27374, ... 44 more fields]\n                  :  +- Join LeftOuter, (user_id#26093 = user_id#25959)\n                  :     :- Project [user_id#26093, item_id#26099, CASE WHEN (relevance#25953 > cast(3 as double)) THEN 1 ELSE 0 END AS relevance#34568, timestamp#25954]\n                  :     :  +- Join LeftSemi, (item_id#26099 = item_id#26026)\n                  :     :     :- Join LeftSemi, (user_id#26093 = user_id#25959)\n                  :     :     :  :- Project [user_id#26093, item_idx#25952 AS item_id#26099, relevance#25953, timestamp#25954]\n                  :     :     :  :  +- Project [user_idx#25951 AS user_id#26093, item_idx#25952, relevance#25953, timestamp#25954]\n                  :     :     :  :     +- Relation [user_idx#25951,item_idx#25952,relevance#25953,timestamp#25954] csv\n                  :     :     :  +- Project [user_idx#25691 AS user_id#25959, uembed_0#25692, uembed_1#25693, uembed_2#25694, uembed_3#25695, uembed_4#25696, uembed_5#25697, uembed_6#25698, uembed_7#25699, uembed_8#25700, uembed_9#25701, uembed_10#25702, uembed_11#25703, uembed_12#25704, uembed_13#25705, uembed_14#25706, uembed_15#25707, uembed_16#25708, uembed_17#25709, uembed_18#25710, uembed_19#25711, uembed_20#25712, uembed_21#25713, uembed_22#25714, ... 41 more fields]\n                  :     :     :     +- Relation [user_idx#25691,uembed_0#25692,uembed_1#25693,uembed_2#25694,uembed_3#25695,uembed_4#25696,uembed_5#25697,uembed_6#25698,uembed_7#25699,uembed_8#25700,uembed_9#25701,uembed_10#25702,uembed_11#25703,uembed_12#25704,uembed_13#25705,uembed_14#25706,uembed_15#25707,uembed_16#25708,uembed_17#25709,uembed_18#25710,uembed_19#25711,uembed_20#25712,uembed_21#25713,uembed_22#25714,... 41 more fields] csv\n                  :     :     +- Project [item_idx#25821 AS item_id#26026, iembed_0#25822, iembed_1#25823, iembed_2#25824, iembed_3#25825, iembed_4#25826, iembed_5#25827, iembed_6#25828, iembed_7#25829, iembed_8#25830, iembed_9#25831, iembed_10#25832, iembed_11#25833, iembed_12#25834, iembed_13#25835, iembed_14#25836, iembed_15#25837, iembed_16#25838, iembed_17#25839, iembed_18#25840, iembed_19#25841, iembed_20#25842, iembed_21#25843, iembed_22#25844, ... 41 more fields]\n                  :     :        +- Relation [item_idx#25821,iembed_0#25822,iembed_1#25823,iembed_2#25824,iembed_3#25825,iembed_4#25826,iembed_5#25827,iembed_6#25828,iembed_7#25829,iembed_8#25830,iembed_9#25831,iembed_10#25832,iembed_11#25833,iembed_12#25834,iembed_13#25835,iembed_14#25836,iembed_15#25837,iembed_16#25838,iembed_17#25839,iembed_18#25840,iembed_19#25841,iembed_20#25842,iembed_21#25843,iembed_22#25844,... 41 more fields] csv\n                  :     +- Project [user_id#25959, user_uembed_0#26120, user_uembed_1#26186, user_uembed_2#26252, user_uembed_3#26318, user_uembed_4#26384, user_uembed_5#26450, user_uembed_6#26516, user_uembed_7#26582, user_uembed_8#26648, user_uembed_9#26714, user_uembed_10#26780, user_uembed_11#26846, user_uembed_12#26912, user_uembed_13#26978, user_uembed_14#27044, user_uembed_15#27110, user_uembed_16#27176, user_uembed_17#27242, user_uembed_18#27308, user_uembed_19#27374, user_uembed_20#27440, user_uembed_21#27506, user_uembed_22#27572, ... 41 more fields]\n                  :        +- Project [user_id#25959, user_uembed_0#26120, user_uembed_1#26186, user_uembed_2#26252, user_uembed_3#26318, user_uembed_4#26384, user_uembed_5#26450, user_uembed_6#26516, user_uembed_7#26582, user_uembed_8#26648, user_uembed_9#26714, user_uembed_10#26780, user_uembed_11#26846, user_uembed_12#26912, user_uembed_13#26978, user_uembed_14#27044, user_uembed_15#27110, user_uembed_16#27176, user_uembed_17#27242, user_uembed_18#27308, user_uembed_19#27374, user_uembed_20#27440, user_uembed_21#27506, user_uembed_22#27572, ... 41 more fields]\n                  :           +- Project [user_id#25959, user_uembed_0#26120, user_uembed_1#26186, user_uembed_2#26252, user_uembed_3#26318, user_uembed_4#26384, user_uembed_5#26450, user_uembed_6#26516, user_uembed_7#26582, user_uembed_8#26648, user_uembed_9#26714, user_uembed_10#26780, user_uembed_11#26846, user_uembed_12#26912, user_uembed_13#26978, user_uembed_14#27044, user_uembed_15#27110, user_uembed_16#27176, user_uembed_17#27242, user_uembed_18#27308, user_uembed_19#27374, user_uembed_20#27440, user_uembed_21#27506, user_uembed_22#27572, ... 41 more fields]\n                  :              +- Project [user_id#25959, user_uembed_0#26120, user_uembed_1#26186, user_uembed_2#26252, user_uembed_3#26318, user_uembed_4#26384, user_uembed_5#26450, user_uembed_6#26516, user_uembed_7#26582, user_uembed_8#26648, user_uembed_9#26714, user_uembed_10#26780, user_uembed_11#26846, user_uembed_12#26912, user_uembed_13#26978, user_uembed_14#27044, user_uembed_15#27110, user_uembed_16#27176, user_uembed_17#27242, user_uembed_18#27308, user_uembed_19#27374, user_uembed_20#27440, user_uembed_21#27506, user_uembed_22#27572, ... 41 more fields]\n                  :                 +- Project [user_id#25959, user_uembed_0#26120, user_uembed_1#26186, user_uembed_2#26252, user_uembed_3#26318, user_uembed_4#26384, user_uembed_5#26450, user_uembed_6#26516, user_uembed_7#26582, user_uembed_8#26648, user_uembed_9#26714, user_uembed_10#26780, user_uembed_11#26846, user_uembed_12#26912, user_uembed_13#26978, user_uembed_14#27044, user_uembed_15#27110, user_uembed_16#27176, user_uembed_17#27242, user_uembed_18#27308, user_uembed_19#27374, user_uembed_20#27440, user_uembed_21#27506, user_uembed_22#27572, ... 41 more fields]\n                  :                    +- Project [user_id#25959, user_uembed_0#26120, user_uembed_1#26186, user_uembed_2#26252, user_uembed_3#26318, user_uembed_4#26384, user_uembed_5#26450, user_uembed_6#26516, user_uembed_7#26582, user_uembed_8#26648, user_uembed_9#26714, user_uembed_10#26780, user_uembed_11#26846, user_uembed_12#26912, user_uembed_13#26978, user_uembed_14#27044, user_uembed_15#27110, user_uembed_16#27176, user_uembed_17#27242, user_uembed_18#27308, user_uembed_19#27374, user_uembed_20#27440, user_uembed_21#27506, user_uembed_22#27572, ... 41 more fields]\n                  :                       +- Project [user_id#25959, user_uembed_0#26120, user_uembed_1#26186, user_uembed_2#26252, user_uembed_3#26318, user_uembed_4#26384, user_uembed_5#26450, user_uembed_6#26516, user_uembed_7#26582, user_uembed_8#26648, user_uembed_9#26714, user_uembed_10#26780, user_uembed_11#26846, user_uembed_12#26912, user_uembed_13#26978, user_uembed_14#27044, user_uembed_15#27110, user_uembed_16#27176, user_uembed_17#27242, user_uembed_18#27308, user_uembed_19#27374, user_uembed_20#27440, user_uembed_21#27506, user_uembed_22#27572, ... 41 more fields]\n                  :                          +- Project [user_id#25959, user_uembed_0#26120, user_uembed_1#26186, user_uembed_2#26252, user_uembed_3#26318, user_uembed_4#26384, user_uembed_5#26450, user_uembed_6#26516, user_uembed_7#26582, user_uembed_8#26648, user_uembed_9#26714, user_uembed_10#26780, user_uembed_11#26846, user_uembed_12#26912, user_uembed_13#26978, user_uembed_14#27044, user_uembed_15#27110, user_uembed_16#27176, user_uembed_17#27242, user_uembed_18#27308, user_uembed_19#27374, user_uembed_20#27440, user_uembed_21#27506, user_uembed_22#27572, ... 41 more fields]\n                  :                             +- Project [user_id#25959, user_uembed_0#26120, user_uembed_1#26186, user_uembed_2#26252, user_uembed_3#26318, user_uembed_4#26384, user_uembed_5#26450, user_uembed_6#26516, user_uembed_7#26582, user_uembed_8#26648, user_uembed_9#26714, user_uembed_10#26780, user_uembed_11#26846, user_uembed_12#26912, user_uembed_13#26978, user_uembed_14#27044, user_uembed_15#27110, user_uembed_16#27176, user_uembed_17#27242, user_uembed_18#27308, user_uembed_19#27374, user_uembed_20#27440, user_uembed_21#27506, user_uembed_22#27572, ... 41 more fields]\n                  :                                +- Project [user_id#25959, user_uembed_0#26120, user_uembed_1#26186, user_uembed_2#26252, user_uembed_3#26318, user_uembed_4#26384, user_uembed_5#26450, user_uembed_6#26516, user_uembed_7#26582, user_uembed_8#26648, user_uembed_9#26714, user_uembed_10#26780, user_uembed_11#26846, user_uembed_12#26912, user_uembed_13#26978, user_uembed_14#27044, user_uembed_15#27110, user_uembed_16#27176, user_uembed_17#27242, user_uembed_18#27308, user_uembed_19#27374, user_uembed_20#27440, user_uembed_21#27506, user_uembed_22#27572, ... 41 more fields]\n                  :                                   +- Project [user_id#25959, user_uembed_0#26120, user_uembed_1#26186, user_uembed_2#26252, user_uembed_3#26318, user_uembed_4#26384, user_uembed_5#26450, user_uembed_6#26516, user_uembed_7#26582, user_uembed_8#26648, user_uembed_9#26714, user_uembed_10#26780, user_uembed_11#26846, user_uembed_12#26912, user_uembed_13#26978, user_uembed_14#27044, user_uembed_15#27110, user_uembed_16#27176, user_uembed_17#27242, user_uembed_18#27308, user_uembed_19#27374, user_uembed_20#27440, user_uembed_21#27506, user_uembed_22#27572, ... 41 more fields]\n                  :                                      +- Project [user_id#25959, user_uembed_0#26120, user_uembed_1#26186, user_uembed_2#26252, user_uembed_3#26318, user_uembed_4#26384, user_uembed_5#26450, user_uembed_6#26516, user_uembed_7#26582, user_uembed_8#26648, user_uembed_9#26714, user_uembed_10#26780, user_uembed_11#26846, user_uembed_12#26912, user_uembed_13#26978, user_uembed_14#27044, user_uembed_15#27110, user_uembed_16#27176, user_uembed_17#27242, user_uembed_18#27308, user_uembed_19#27374, user_uembed_20#27440, user_uembed_21#27506, user_uembed_22#27572, ... 41 more fields]\n                  :                                         +- Project [user_id#25959, user_uembed_0#26120, user_uembed_1#26186, user_uembed_2#26252, user_uembed_3#26318, user_uembed_4#26384, user_uembed_5#26450, user_uembed_6#26516, user_uembed_7#26582, user_uembed_8#26648, user_uembed_9#26714, user_uembed_10#26780, user_uembed_11#26846, user_uembed_12#26912, user_uembed_13#26978, user_uembed_14#27044, user_uembed_15#27110, user_uembed_16#27176, user_uembed_17#27242, user_uembed_18#27308, user_uembed_19#27374, user_uembed_20#27440, user_uembed_21#27506, user_uembed_22#27572, ... 41 more fields]\n                  :                                            +- Project [user_id#25959, user_uembed_0#26120, user_uembed_1#26186, user_uembed_2#26252, user_uembed_3#26318, user_uembed_4#26384, user_uembed_5#26450, user_uembed_6#26516, user_uembed_7#26582, user_uembed_8#26648, user_uembed_9#26714, user_uembed_10#26780, user_uembed_11#26846, user_uembed_12#26912, user_uembed_13#26978, user_uembed_14#27044, user_uembed_15#27110, user_uembed_16#27176, user_uembed_17#27242, user_uembed_18#27308, user_uembed_19#27374, user_uembed_20#27440, user_uembed_21#27506, user_uembed_22#27572, ... 41 more fields]\n                  :                                               +- Project [user_id#25959, user_uembed_0#26120, user_uembed_1#26186, user_uembed_2#26252, user_uembed_3#26318, user_uembed_4#26384, user_uembed_5#26450, user_uembed_6#26516, user_uembed_7#26582, user_uembed_8#26648, user_uembed_9#26714, user_uembed_10#26780, user_uembed_11#26846, user_uembed_12#26912, user_uembed_13#26978, user_uembed_14#27044, user_uembed_15#27110, user_uembed_16#27176, user_uembed_17#27242, user_uembed_18#27308, user_uembed_19#27374, user_uembed_20#27440, user_uembed_21#27506, user_uembed_22#27572, ... 41 more fields]\n                  :                                                  +- Project [user_id#25959, user_uembed_0#26120, user_uembed_1#26186, user_uembed_2#26252, user_uembed_3#26318, user_uembed_4#26384, user_uembed_5#26450, user_uembed_6#26516, user_uembed_7#26582, user_uembed_8#26648, user_uembed_9#26714, user_uembed_10#26780, user_uembed_11#26846, user_uembed_12#26912, user_uembed_13#26978, user_uembed_14#27044, user_uembed_15#27110, user_uembed_16#27176, user_uembed_17#27242, user_uembed_18#27308, user_uembed_19#27374, user_uembed_20#27440, user_uembed_21#27506, user_uembed_22#27572, ... 41 more fields]\n                  :                                                     +- Project [user_id#25959, user_uembed_0#26120, user_uembed_1#26186, user_uembed_2#26252, user_uembed_3#26318, user_uembed_4#26384, user_uembed_5#26450, user_uembed_6#26516, user_uembed_7#26582, user_uembed_8#26648, user_uembed_9#26714, user_uembed_10#26780, user_uembed_11#26846, user_uembed_12#26912, user_uembed_13#26978, user_uembed_14#27044, user_uembed_15#27110, user_uembed_16#27176, user_uembed_17#27242, user_uembed_18#27308, user_uembed_19#27374, user_uembed_20#27440, user_uembed_21#27506, user_uembed_22#27572, ... 41 more fields]\n                  :                                                        +- Project [user_id#25959, user_uembed_0#26120, user_uembed_1#26186, user_uembed_2#26252, user_uembed_3#26318, user_uembed_4#26384, user_uembed_5#26450, user_uembed_6#26516, user_uembed_7#26582, user_uembed_8#26648, user_uembed_9#26714, user_uembed_10#26780, user_uembed_11#26846, user_uembed_12#26912, user_uembed_13#26978, user_uembed_14#27044, user_uembed_15#27110, user_uembed_16#27176, user_uembed_17#27242, user_uembed_18#27308, user_uembed_19#27374, user_uembed_20#27440, user_uembed_21#27506, user_uembed_22#27572, ... 41 more fields]\n                  :                                                           +- Project [user_id#25959, user_uembed_0#26120, user_uembed_1#26186, user_uembed_2#26252, user_uembed_3#26318, user_uembed_4#26384, user_uembed_5#26450, user_uembed_6#26516, user_uembed_7#26582, user_uembed_8#26648, user_uembed_9#26714, user_uembed_10#26780, user_uembed_11#26846, user_uembed_12#26912, user_uembed_13#26978, user_uembed_14#27044, user_uembed_15#27110, user_uembed_16#27176, user_uembed_17#27242, user_uembed_18#27308, user_uembed_19#27374, user_uembed_20#27440, user_uembed_21#27506, user_uembed_22#27572, ... 41 more fields]\n                  :                                                              +- Project [user_id#25959, user_uembed_0#26120, user_uembed_1#26186, user_uembed_2#26252, user_uembed_3#26318, user_uembed_4#26384, user_uembed_5#26450, user_uembed_6#26516, user_uembed_7#26582, user_uembed_8#26648, user_uembed_9#26714, user_uembed_10#26780, user_uembed_11#26846, user_uembed_12#26912, user_uembed_13#26978, user_uembed_14#27044, user_uembed_15#27110, user_uembed_16#27176, user_uembed_17#27242, user_uembed_18#27308, user_uembed_19#27374, user_uembed_20#27440, user_uembed_21#27506, user_uembed_22#27572, ... 41 more fields]\n                  :                                                                 +- Project [user_id#25959, user_uembed_0#26120, user_uembed_1#26186, user_uembed_2#26252, user_uembed_3#26318, user_uembed_4#26384, user_uembed_5#26450, user_uembed_6#26516, user_uembed_7#26582, user_uembed_8#26648, user_uembed_9#26714, user_uembed_10#26780, user_uembed_11#26846, user_uembed_12#26912, user_uembed_13#26978, user_uembed_14#27044, user_uembed_15#27110, user_uembed_16#27176, user_uembed_17#27242, user_uembed_18#27308, user_uembed_19#27374, user_uembed_20#27440, user_uembed_21#27506, user_uembed_22#27572, ... 41 more fields]\n                  :                                                                    +- Project [user_id#25959, user_uembed_0#26120, user_uembed_1#26186, user_uembed_2#26252, user_uembed_3#26318, user_uembed_4#26384, user_uembed_5#26450, user_uembed_6#26516, user_uembed_7#26582, user_uembed_8#26648, user_uembed_9#26714, user_uembed_10#26780, user_uembed_11#26846, user_uembed_12#26912, user_uembed_13#26978, user_uembed_14#27044, user_uembed_15#27110, user_uembed_16#27176, user_uembed_17#27242, user_uembed_18#27308, user_uembed_19#27374, user_uembed_20#27440, user_uembed_21#27506, user_uembed_22#27572, ... 41 more fields]\n                  :                                                                       +- Project [user_id#25959, user_uembed_0#26120, user_uembed_1#26186, user_uembed_2#26252, user_uembed_3#26318, user_uembed_4#26384, user_uembed_5#26450, user_uembed_6#26516, user_uembed_7#26582, user_uembed_8#26648, user_uembed_9#26714, user_uembed_10#26780, user_uembed_11#26846, user_uembed_12#26912, user_uembed_13#26978, user_uembed_14#27044, user_uembed_15#27110, user_uembed_16#27176, user_uembed_17#27242, user_uembed_18#27308, user_uembed_19#27374, user_uembed_20#27440, user_uembed_21#27506, user_uembed_22#27572, ... 41 more fields]\n                  :                                                                          +- Project [user_id#25959, user_uembed_0#26120, user_uembed_1#26186, user_uembed_2#26252, user_uembed_3#26318, user_uembed_4#26384, user_uembed_5#26450, user_uembed_6#26516, user_uembed_7#26582, user_uembed_8#26648, user_uembed_9#26714, user_uembed_10#26780, user_uembed_11#26846, user_uembed_12#26912, user_uembed_13#26978, user_uembed_14#27044, user_uembed_15#27110, user_uembed_16#27176, user_uembed_17#27242, user_uembed_18#27308, user_uembed_19#27374, user_uembed_20#27440, user_uembed_21#27506, user_uembed_22#27572, ... 41 more fields]\n                  :                                                                             +- Project [user_id#25959, user_uembed_0#26120, user_uembed_1#26186, user_uembed_2#26252, user_uembed_3#26318, user_uembed_4#26384, user_uembed_5#26450, user_uembed_6#26516, user_uembed_7#26582, user_uembed_8#26648, user_uembed_9#26714, user_uembed_10#26780, user_uembed_11#26846, user_uembed_12#26912, user_uembed_13#26978, user_uembed_14#27044, user_uembed_15#27110, user_uembed_16#27176, user_uembed_17#27242, user_uembed_18#27308, user_uembed_19#27374, user_uembed_20#27440, user_uembed_21#27506, user_uembed_22#27572, ... 41 more fields]\n                  :                                                                                +- Project [user_id#25959, user_uembed_0#26120, user_uembed_1#26186, user_uembed_2#26252, user_uembed_3#26318, user_uembed_4#26384, user_uembed_5#26450, user_uembed_6#26516, user_uembed_7#26582, user_uembed_8#26648, user_uembed_9#26714, user_uembed_10#26780, user_uembed_11#26846, user_uembed_12#26912, user_uembed_13#26978, user_uembed_14#27044, user_uembed_15#27110, user_uembed_16#27176, user_uembed_17#27242, user_uembed_18#27308, user_uembed_19#27374, user_uembed_20#27440, user_uembed_21#27506, user_uembed_22#27572, ... 41 more fields]\n                  :                                                                                   +- Project [user_id#25959, user_uembed_0#26120, user_uembed_1#26186, user_uembed_2#26252, user_uembed_3#26318, user_uembed_4#26384, user_uembed_5#26450, user_uembed_6#26516, user_uembed_7#26582, user_uembed_8#26648, user_uembed_9#26714, user_uembed_10#26780, user_uembed_11#26846, user_uembed_12#26912, user_uembed_13#26978, user_uembed_14#27044, user_uembed_15#27110, user_uembed_16#27176, user_uembed_17#27242, user_uembed_18#27308, user_uembed_19#27374, user_uembed_20#27440, user_uembed_21#27506, user_uembed_22#27572, ... 41 more fields]\n                  :                                                                                      +- Project [user_id#25959, user_uembed_0#26120, user_uembed_1#26186, user_uembed_2#26252, user_uembed_3#26318, user_uembed_4#26384, user_uembed_5#26450, user_uembed_6#26516, user_uembed_7#26582, user_uembed_8#26648, user_uembed_9#26714, user_uembed_10#26780, user_uembed_11#26846, user_uembed_12#26912, user_uembed_13#26978, user_uembed_14#27044, user_uembed_15#27110, user_uembed_16#27176, user_uembed_17#27242, user_uembed_18#27308, user_uembed_19#27374, user_uembed_20#27440, user_uembed_21#27506, user_uembed_22#27572, ... 41 more fields]\n                  :                                                                                         +- Project [user_id#25959, user_uembed_0#26120, user_uembed_1#26186, user_uembed_2#26252, user_uembed_3#26318, user_uembed_4#26384, user_uembed_5#26450, user_uembed_6#26516, user_uembed_7#26582, user_uembed_8#26648, user_uembed_9#26714, user_uembed_10#26780, user_uembed_11#26846, user_uembed_12#26912, user_uembed_13#26978, user_uembed_14#27044, user_uembed_15#27110, user_uembed_16#27176, user_uembed_17#27242, user_uembed_18#27308, user_uembed_19#27374, user_uembed_20#27440, user_uembed_21#27506, user_uembed_22#27572, ... 41 more fields]\n                  :                                                                                            +- Project [user_id#25959, user_uembed_0#26120, user_uembed_1#26186, user_uembed_2#26252, user_uembed_3#26318, user_uembed_4#26384, user_uembed_5#26450, user_uembed_6#26516, user_uembed_7#26582, user_uembed_8#26648, user_uembed_9#26714, user_uembed_10#26780, user_uembed_11#26846, user_uembed_12#26912, user_uembed_13#26978, user_uembed_14#27044, user_uembed_15#27110, user_uembed_16#27176, user_uembed_17#27242, user_uembed_18#27308, user_uembed_19#27374, user_uembed_20#27440, user_uembed_21#27506, user_uembed_22#27572, ... 41 more fields]\n                  :                                                                                               +- Project [user_id#25959, user_uembed_0#26120, user_uembed_1#26186, user_uembed_2#26252, user_uembed_3#26318, user_uembed_4#26384, user_uembed_5#26450, user_uembed_6#26516, user_uembed_7#26582, user_uembed_8#26648, user_uembed_9#26714, user_uembed_10#26780, user_uembed_11#26846, user_uembed_12#26912, user_uembed_13#26978, user_uembed_14#27044, user_uembed_15#27110, user_uembed_16#27176, user_uembed_17#27242, user_uembed_18#27308, user_uembed_19#27374, user_uembed_20#27440, user_uembed_21#27506, user_uembed_22#27572, ... 41 more fields]\n                  :                                                                                                  +- Project [user_id#25959, user_uembed_0#26120, user_uembed_1#26186, user_uembed_2#26252, user_uembed_3#26318, user_uembed_4#26384, user_uembed_5#26450, user_uembed_6#26516, user_uembed_7#26582, user_uembed_8#26648, user_uembed_9#26714, user_uembed_10#26780, user_uembed_11#26846, user_uembed_12#26912, user_uembed_13#26978, user_uembed_14#27044, user_uembed_15#27110, user_uembed_16#27176, user_uembed_17#27242, user_uembed_18#27308, user_uembed_19#27374, user_uembed_20#27440, user_uembed_21#27506, user_uembed_22#27572, ... 41 more fields]\n                  :                                                                                                     +- Project [user_id#25959, user_uembed_0#26120, user_uembed_1#26186, user_uembed_2#26252, user_uembed_3#26318, user_uembed_4#26384, user_uembed_5#26450, user_uembed_6#26516, user_uembed_7#26582, user_uembed_8#26648, user_uembed_9#26714, user_uembed_10#26780, user_uembed_11#26846, user_uembed_12#26912, user_uembed_13#26978, user_uembed_14#27044, user_uembed_15#27110, user_uembed_16#27176, user_uembed_17#27242, user_uembed_18#27308, user_uembed_19#27374, user_uembed_20#27440, user_uembed_21#27506, user_uembed_22#27572, ... 41 more fields]\n                  :                                                                                                        +- Project [user_id#25959, user_uembed_0#26120, user_uembed_1#26186, user_uembed_2#26252, user_uembed_3#26318, user_uembed_4#26384, user_uembed_5#26450, user_uembed_6#26516, user_uembed_7#26582, user_uembed_8#26648, user_uembed_9#26714, user_uembed_10#26780, user_uembed_11#26846, user_uembed_12#26912, user_uembed_13#26978, user_uembed_14#27044, user_uembed_15#27110, user_uembed_16#27176, user_uembed_17#27242, user_uembed_18#27308, user_uembed_19#27374, user_uembed_20#27440, user_uembed_21#27506, user_uembed_22#27572, ... 41 more fields]\n                  :                                                                                                           +- Project [user_id#25959, user_uembed_0#26120, user_uembed_1#26186, user_uembed_2#26252, user_uembed_3#26318, user_uembed_4#26384, user_uembed_5#26450, user_uembed_6#26516, user_uembed_7#26582, user_uembed_8#26648, user_uembed_9#26714, user_uembed_10#26780, user_uembed_11#26846, user_uembed_12#26912, user_uembed_13#26978, user_uembed_14#27044, user_uembed_15#27110, user_uembed_16#27176, user_uembed_17#27242, user_uembed_18#27308, user_uembed_19#27374, user_uembed_20#27440, user_uembed_21#27506, user_uembed_22#27572, ... 41 more fields]\n                  :                                                                                                              +- Project [user_id#25959, user_uembed_0#26120, user_uembed_1#26186, user_uembed_2#26252, user_uembed_3#26318, user_uembed_4#26384, user_uembed_5#26450, user_uembed_6#26516, user_uembed_7#26582, user_uembed_8#26648, user_uembed_9#26714, user_uembed_10#26780, user_uembed_11#26846, user_uembed_12#26912, user_uembed_13#26978, user_uembed_14#27044, user_uembed_15#27110, user_uembed_16#27176, user_uembed_17#27242, user_uembed_18#27308, user_uembed_19#27374, user_uembed_20#27440, user_uembed_21#27506, user_uembed_22#27572, ... 41 more fields]\n                  :                                                                                                                 +- Project [user_id#25959, user_uembed_0#26120, user_uembed_1#26186, user_uembed_2#26252, user_uembed_3#26318, user_uembed_4#26384, user_uembed_5#26450, user_uembed_6#26516, user_uembed_7#26582, user_uembed_8#26648, user_uembed_9#26714, user_uembed_10#26780, user_uembed_11#26846, user_uembed_12#26912, user_uembed_13#26978, user_uembed_14#27044, user_uembed_15#27110, user_uembed_16#27176, user_uembed_17#27242, user_uembed_18#27308, user_uembed_19#27374, user_uembed_20#27440, user_uembed_21#27506, user_uembed_22#27572, ... 41 more fields]\n                  :                                                                                                                    +- Project [user_id#25959, user_uembed_0#26120, user_uembed_1#26186, user_uembed_2#26252, user_uembed_3#26318, user_uembed_4#26384, user_uembed_5#26450, user_uembed_6#26516, user_uembed_7#26582, user_uembed_8#26648, user_uembed_9#26714, user_uembed_10#26780, user_uembed_11#26846, user_uembed_12#26912, user_uembed_13#26978, user_uembed_14#27044, user_uembed_15#27110, user_uembed_16#27176, user_uembed_17#27242, user_uembed_18#27308, user_uembed_19#27374, user_uembed_20#27440, user_uembed_21#27506, user_uembed_22#27572, ... 41 more fields]\n                  :                                                                                                                       +- Project [user_id#25959, user_uembed_0#26120, user_uembed_1#26186, user_uembed_2#26252, user_uembed_3#26318, user_uembed_4#26384, user_uembed_5#26450, user_uembed_6#26516, user_uembed_7#26582, user_uembed_8#26648, user_uembed_9#26714, user_uembed_10#26780, user_uembed_11#26846, user_uembed_12#26912, user_uembed_13#26978, user_uembed_14#27044, user_uembed_15#27110, user_uembed_16#27176, user_uembed_17#27242, user_uembed_18#27308, user_uembed_19#27374, user_uembed_20#27440, user_uembed_21#27506, user_uembed_22#27572, ... 41 more fields]\n                  :                                                                                                                          +- Project [user_id#25959, user_uembed_0#26120, user_uembed_1#26186, user_uembed_2#26252, user_uembed_3#26318, user_uembed_4#26384, user_uembed_5#26450, user_uembed_6#26516, user_uembed_7#26582, user_uembed_8#26648, user_uembed_9#26714, user_uembed_10#26780, user_uembed_11#26846, user_uembed_12#26912, user_uembed_13#26978, user_uembed_14#27044, user_uembed_15#27110, user_uembed_16#27176, user_uembed_17#27242, user_uembed_18#27308, user_uembed_19#27374, user_uembed_20#27440, user_uembed_21#27506, user_uembed_22#27572, ... 41 more fields]\n                  :                                                                                                                             +- Project [user_id#25959, user_uembed_0#26120, user_uembed_1#26186, user_uembed_2#26252, user_uembed_3#26318, user_uembed_4#26384, user_uembed_5#26450, user_uembed_6#26516, user_uembed_7#26582, user_uembed_8#26648, user_uembed_9#26714, user_uembed_10#26780, user_uembed_11#26846, user_uembed_12#26912, user_uembed_13#26978, user_uembed_14#27044, user_uembed_15#27110, user_uembed_16#27176, user_uembed_17#27242, user_uembed_18#27308, user_uembed_19#27374, user_uembed_20#27440, user_uembed_21#27506, user_uembed_22#27572, ... 41 more fields]\n                  :                                                                                                                                +- Project [user_id#25959, user_uembed_0#26120, user_uembed_1#26186, user_uembed_2#26252, user_uembed_3#26318, user_uembed_4#26384, user_uembed_5#26450, user_uembed_6#26516, user_uembed_7#26582, user_uembed_8#26648, user_uembed_9#26714, user_uembed_10#26780, user_uembed_11#26846, user_uembed_12#26912, user_uembed_13#26978, user_uembed_14#27044, user_uembed_15#27110, user_uembed_16#27176, user_uembed_17#27242, user_uembed_18#27308, user_uembed_19#27374, user_uembed_20#27440, user_uembed_21#27506, uembed_22#50257 AS user_uembed_22#27572, ... 41 more fields]\n                  :                                                                                                                                   +- Project [user_id#25959, user_uembed_0#26120, user_uembed_1#26186, user_uembed_2#26252, user_uembed_3#26318, user_uembed_4#26384, user_uembed_5#26450, user_uembed_6#26516, user_uembed_7#26582, user_uembed_8#26648, user_uembed_9#26714, user_uembed_10#26780, user_uembed_11#26846, user_uembed_12#26912, user_uembed_13#26978, user_uembed_14#27044, user_uembed_15#27110, user_uembed_16#27176, user_uembed_17#27242, user_uembed_18#27308, user_uembed_19#27374, user_uembed_20#27440, uembed_21#50256 AS user_uembed_21#27506, uembed_22#50257, ... 41 more fields]\n                  :                                                                                                                                      +- Project [user_id#25959, user_uembed_0#26120, user_uembed_1#26186, user_uembed_2#26252, user_uembed_3#26318, user_uembed_4#26384, user_uembed_5#26450, user_uembed_6#26516, user_uembed_7#26582, user_uembed_8#26648, user_uembed_9#26714, user_uembed_10#26780, user_uembed_11#26846, user_uembed_12#26912, user_uembed_13#26978, user_uembed_14#27044, user_uembed_15#27110, user_uembed_16#27176, user_uembed_17#27242, user_uembed_18#27308, user_uembed_19#27374, uembed_20#50255 AS user_uembed_20#27440, uembed_21#50256, uembed_22#50257, ... 41 more fields]\n                  :                                                                                                                                         +- Project [user_id#25959, user_uembed_0#26120, user_uembed_1#26186, user_uembed_2#26252, user_uembed_3#26318, user_uembed_4#26384, user_uembed_5#26450, user_uembed_6#26516, user_uembed_7#26582, user_uembed_8#26648, user_uembed_9#26714, user_uembed_10#26780, user_uembed_11#26846, user_uembed_12#26912, user_uembed_13#26978, user_uembed_14#27044, user_uembed_15#27110, user_uembed_16#27176, user_uembed_17#27242, user_uembed_18#27308, uembed_19#50254 AS user_uembed_19#27374, uembed_20#50255, uembed_21#50256, uembed_22#50257, ... 41 more fields]\n                  :                                                                                                                                            +- Project [user_id#25959, user_uembed_0#26120, user_uembed_1#26186, user_uembed_2#26252, user_uembed_3#26318, user_uembed_4#26384, user_uembed_5#26450, user_uembed_6#26516, user_uembed_7#26582, user_uembed_8#26648, user_uembed_9#26714, user_uembed_10#26780, user_uembed_11#26846, user_uembed_12#26912, user_uembed_13#26978, user_uembed_14#27044, user_uembed_15#27110, user_uembed_16#27176, user_uembed_17#27242, uembed_18#50253 AS user_uembed_18#27308, uembed_19#50254, uembed_20#50255, uembed_21#50256, uembed_22#50257, ... 41 more fields]\n                  :                                                                                                                                               +- Project [user_id#25959, user_uembed_0#26120, user_uembed_1#26186, user_uembed_2#26252, user_uembed_3#26318, user_uembed_4#26384, user_uembed_5#26450, user_uembed_6#26516, user_uembed_7#26582, user_uembed_8#26648, user_uembed_9#26714, user_uembed_10#26780, user_uembed_11#26846, user_uembed_12#26912, user_uembed_13#26978, user_uembed_14#27044, user_uembed_15#27110, user_uembed_16#27176, uembed_17#50252 AS user_uembed_17#27242, uembed_18#50253, uembed_19#50254, uembed_20#50255, uembed_21#50256, uembed_22#50257, ... 41 more fields]\n                  :                                                                                                                                                  +- Project [user_id#25959, user_uembed_0#26120, user_uembed_1#26186, user_uembed_2#26252, user_uembed_3#26318, user_uembed_4#26384, user_uembed_5#26450, user_uembed_6#26516, user_uembed_7#26582, user_uembed_8#26648, user_uembed_9#26714, user_uembed_10#26780, user_uembed_11#26846, user_uembed_12#26912, user_uembed_13#26978, user_uembed_14#27044, user_uembed_15#27110, uembed_16#50251 AS user_uembed_16#27176, uembed_17#50252, uembed_18#50253, uembed_19#50254, uembed_20#50255, uembed_21#50256, uembed_22#50257, ... 41 more fields]\n                  :                                                                                                                                                     +- Project [user_id#25959, user_uembed_0#26120, user_uembed_1#26186, user_uembed_2#26252, user_uembed_3#26318, user_uembed_4#26384, user_uembed_5#26450, user_uembed_6#26516, user_uembed_7#26582, user_uembed_8#26648, user_uembed_9#26714, user_uembed_10#26780, user_uembed_11#26846, user_uembed_12#26912, user_uembed_13#26978, user_uembed_14#27044, uembed_15#50250 AS user_uembed_15#27110, uembed_16#50251, uembed_17#50252, uembed_18#50253, uembed_19#50254, uembed_20#50255, uembed_21#50256, uembed_22#50257, ... 41 more fields]\n                  :                                                                                                                                                        +- Project [user_id#25959, user_uembed_0#26120, user_uembed_1#26186, user_uembed_2#26252, user_uembed_3#26318, user_uembed_4#26384, user_uembed_5#26450, user_uembed_6#26516, user_uembed_7#26582, user_uembed_8#26648, user_uembed_9#26714, user_uembed_10#26780, user_uembed_11#26846, user_uembed_12#26912, user_uembed_13#26978, uembed_14#50249 AS user_uembed_14#27044, uembed_15#50250, uembed_16#50251, uembed_17#50252, uembed_18#50253, uembed_19#50254, uembed_20#50255, uembed_21#50256, uembed_22#50257, ... 41 more fields]\n                  :                                                                                                                                                           +- Project [user_id#25959, user_uembed_0#26120, user_uembed_1#26186, user_uembed_2#26252, user_uembed_3#26318, user_uembed_4#26384, user_uembed_5#26450, user_uembed_6#26516, user_uembed_7#26582, user_uembed_8#26648, user_uembed_9#26714, user_uembed_10#26780, user_uembed_11#26846, user_uembed_12#26912, uembed_13#50248 AS user_uembed_13#26978, uembed_14#50249, uembed_15#50250, uembed_16#50251, uembed_17#50252, uembed_18#50253, uembed_19#50254, uembed_20#50255, uembed_21#50256, uembed_22#50257, ... 41 more fields]\n                  :                                                                                                                                                              +- Project [user_id#25959, user_uembed_0#26120, user_uembed_1#26186, user_uembed_2#26252, user_uembed_3#26318, user_uembed_4#26384, user_uembed_5#26450, user_uembed_6#26516, user_uembed_7#26582, user_uembed_8#26648, user_uembed_9#26714, user_uembed_10#26780, user_uembed_11#26846, uembed_12#50247 AS user_uembed_12#26912, uembed_13#50248, uembed_14#50249, uembed_15#50250, uembed_16#50251, uembed_17#50252, uembed_18#50253, uembed_19#50254, uembed_20#50255, uembed_21#50256, uembed_22#50257, ... 41 more fields]\n                  :                                                                                                                                                                 +- Project [user_id#25959, user_uembed_0#26120, user_uembed_1#26186, user_uembed_2#26252, user_uembed_3#26318, user_uembed_4#26384, user_uembed_5#26450, user_uembed_6#26516, user_uembed_7#26582, user_uembed_8#26648, user_uembed_9#26714, user_uembed_10#26780, uembed_11#50246 AS user_uembed_11#26846, uembed_12#50247, uembed_13#50248, uembed_14#50249, uembed_15#50250, uembed_16#50251, uembed_17#50252, uembed_18#50253, uembed_19#50254, uembed_20#50255, uembed_21#50256, uembed_22#50257, ... 41 more fields]\n                  :                                                                                                                                                                    +- Project [user_id#25959, user_uembed_0#26120, user_uembed_1#26186, user_uembed_2#26252, user_uembed_3#26318, user_uembed_4#26384, user_uembed_5#26450, user_uembed_6#26516, user_uembed_7#26582, user_uembed_8#26648, user_uembed_9#26714, uembed_10#50245 AS user_uembed_10#26780, uembed_11#50246, uembed_12#50247, uembed_13#50248, uembed_14#50249, uembed_15#50250, uembed_16#50251, uembed_17#50252, uembed_18#50253, uembed_19#50254, uembed_20#50255, uembed_21#50256, uembed_22#50257, ... 41 more fields]\n                  :                                                                                                                                                                       +- Project [user_id#25959, user_uembed_0#26120, user_uembed_1#26186, user_uembed_2#26252, user_uembed_3#26318, user_uembed_4#26384, user_uembed_5#26450, user_uembed_6#26516, user_uembed_7#26582, user_uembed_8#26648, uembed_9#50244 AS user_uembed_9#26714, uembed_10#50245, uembed_11#50246, uembed_12#50247, uembed_13#50248, uembed_14#50249, uembed_15#50250, uembed_16#50251, uembed_17#50252, uembed_18#50253, uembed_19#50254, uembed_20#50255, uembed_21#50256, uembed_22#50257, ... 41 more fields]\n                  :                                                                                                                                                                          +- Project [user_id#25959, user_uembed_0#26120, user_uembed_1#26186, user_uembed_2#26252, user_uembed_3#26318, user_uembed_4#26384, user_uembed_5#26450, user_uembed_6#26516, user_uembed_7#26582, uembed_8#50243 AS user_uembed_8#26648, uembed_9#50244, uembed_10#50245, uembed_11#50246, uembed_12#50247, uembed_13#50248, uembed_14#50249, uembed_15#50250, uembed_16#50251, uembed_17#50252, uembed_18#50253, uembed_19#50254, uembed_20#50255, uembed_21#50256, uembed_22#50257, ... 41 more fields]\n                  :                                                                                                                                                                             +- Project [user_id#25959, user_uembed_0#26120, user_uembed_1#26186, user_uembed_2#26252, user_uembed_3#26318, user_uembed_4#26384, user_uembed_5#26450, user_uembed_6#26516, uembed_7#50242 AS user_uembed_7#26582, uembed_8#50243, uembed_9#50244, uembed_10#50245, uembed_11#50246, uembed_12#50247, uembed_13#50248, uembed_14#50249, uembed_15#50250, uembed_16#50251, uembed_17#50252, uembed_18#50253, uembed_19#50254, uembed_20#50255, uembed_21#50256, uembed_22#50257, ... 41 more fields]\n                  :                                                                                                                                                                                +- Project [user_id#25959, user_uembed_0#26120, user_uembed_1#26186, user_uembed_2#26252, user_uembed_3#26318, user_uembed_4#26384, user_uembed_5#26450, uembed_6#50241 AS user_uembed_6#26516, uembed_7#50242, uembed_8#50243, uembed_9#50244, uembed_10#50245, uembed_11#50246, uembed_12#50247, uembed_13#50248, uembed_14#50249, uembed_15#50250, uembed_16#50251, uembed_17#50252, uembed_18#50253, uembed_19#50254, uembed_20#50255, uembed_21#50256, uembed_22#50257, ... 41 more fields]\n                  :                                                                                                                                                                                   +- Project [user_id#25959, user_uembed_0#26120, user_uembed_1#26186, user_uembed_2#26252, user_uembed_3#26318, user_uembed_4#26384, uembed_5#50240 AS user_uembed_5#26450, uembed_6#50241, uembed_7#50242, uembed_8#50243, uembed_9#50244, uembed_10#50245, uembed_11#50246, uembed_12#50247, uembed_13#50248, uembed_14#50249, uembed_15#50250, uembed_16#50251, uembed_17#50252, uembed_18#50253, uembed_19#50254, uembed_20#50255, uembed_21#50256, uembed_22#50257, ... 41 more fields]\n                  :                                                                                                                                                                                      +- Project [user_id#25959, user_uembed_0#26120, user_uembed_1#26186, user_uembed_2#26252, user_uembed_3#26318, uembed_4#50239 AS user_uembed_4#26384, uembed_5#50240, uembed_6#50241, uembed_7#50242, uembed_8#50243, uembed_9#50244, uembed_10#50245, uembed_11#50246, uembed_12#50247, uembed_13#50248, uembed_14#50249, uembed_15#50250, uembed_16#50251, uembed_17#50252, uembed_18#50253, uembed_19#50254, uembed_20#50255, uembed_21#50256, uembed_22#50257, ... 41 more fields]\n                  :                                                                                                                                                                                         +- Project [user_id#25959, user_uembed_0#26120, user_uembed_1#26186, user_uembed_2#26252, uembed_3#50238 AS user_uembed_3#26318, uembed_4#50239, uembed_5#50240, uembed_6#50241, uembed_7#50242, uembed_8#50243, uembed_9#50244, uembed_10#50245, uembed_11#50246, uembed_12#50247, uembed_13#50248, uembed_14#50249, uembed_15#50250, uembed_16#50251, uembed_17#50252, uembed_18#50253, uembed_19#50254, uembed_20#50255, uembed_21#50256, uembed_22#50257, ... 41 more fields]\n                  :                                                                                                                                                                                            +- Project [user_id#25959, user_uembed_0#26120, user_uembed_1#26186, uembed_2#50237 AS user_uembed_2#26252, uembed_3#50238, uembed_4#50239, uembed_5#50240, uembed_6#50241, uembed_7#50242, uembed_8#50243, uembed_9#50244, uembed_10#50245, uembed_11#50246, uembed_12#50247, uembed_13#50248, uembed_14#50249, uembed_15#50250, uembed_16#50251, uembed_17#50252, uembed_18#50253, uembed_19#50254, uembed_20#50255, uembed_21#50256, uembed_22#50257, ... 41 more fields]\n                  :                                                                                                                                                                                               +- Project [user_id#25959, user_uembed_0#26120, uembed_1#50236 AS user_uembed_1#26186, uembed_2#50237, uembed_3#50238, uembed_4#50239, uembed_5#50240, uembed_6#50241, uembed_7#50242, uembed_8#50243, uembed_9#50244, uembed_10#50245, uembed_11#50246, uembed_12#50247, uembed_13#50248, uembed_14#50249, uembed_15#50250, uembed_16#50251, uembed_17#50252, uembed_18#50253, uembed_19#50254, uembed_20#50255, uembed_21#50256, uembed_22#50257, ... 41 more fields]\n                  :                                                                                                                                                                                                  +- Project [user_id#25959, uembed_0#50235 AS user_uembed_0#26120, uembed_1#50236, uembed_2#50237, uembed_3#50238, uembed_4#50239, uembed_5#50240, uembed_6#50241, uembed_7#50242, uembed_8#50243, uembed_9#50244, uembed_10#50245, uembed_11#50246, uembed_12#50247, uembed_13#50248, uembed_14#50249, uembed_15#50250, uembed_16#50251, uembed_17#50252, uembed_18#50253, uembed_19#50254, uembed_20#50255, uembed_21#50256, uembed_22#50257, ... 41 more fields]\n                  :                                                                                                                                                                                                     +- Project [user_idx#50234 AS user_id#25959, uembed_0#50235, uembed_1#50236, uembed_2#50237, uembed_3#50238, uembed_4#50239, uembed_5#50240, uembed_6#50241, uembed_7#50242, uembed_8#50243, uembed_9#50244, uembed_10#50245, uembed_11#50246, uembed_12#50247, uembed_13#50248, uembed_14#50249, uembed_15#50250, uembed_16#50251, uembed_17#50252, uembed_18#50253, uembed_19#50254, uembed_20#50255, uembed_21#50256, uembed_22#50257, ... 41 more fields]\n                  :                                                                                                                                                                                                        +- Relation [user_idx#50234,uembed_0#50235,uembed_1#50236,uembed_2#50237,uembed_3#50238,uembed_4#50239,uembed_5#50240,uembed_6#50241,uembed_7#50242,uembed_8#50243,uembed_9#50244,uembed_10#50245,uembed_11#50246,uembed_12#50247,uembed_13#50248,uembed_14#50249,uembed_15#50250,uembed_16#50251,uembed_17#50252,uembed_18#50253,uembed_19#50254,uembed_20#50255,uembed_21#50256,uembed_22#50257,... 41 more fields] csv\n                  +- Project [item_id#26026, item_iembed_0#30344, item_iembed_1#30410, item_iembed_2#30476, item_iembed_3#30542, item_iembed_4#30608, item_iembed_5#30674, item_iembed_6#30740, item_iembed_7#30806, item_iembed_8#30872, item_iembed_9#30938, item_iembed_10#31004, item_iembed_11#31070, item_iembed_12#31136, item_iembed_13#31202, item_iembed_14#31268, item_iembed_15#31334, item_iembed_16#31400, item_iembed_17#31466, item_iembed_18#31532, item_iembed_19#31598, item_iembed_20#31664, item_iembed_21#31730, item_iembed_22#31796, ... 41 more fields]\n                     +- Project [item_id#26026, item_iembed_0#30344, item_iembed_1#30410, item_iembed_2#30476, item_iembed_3#30542, item_iembed_4#30608, item_iembed_5#30674, item_iembed_6#30740, item_iembed_7#30806, item_iembed_8#30872, item_iembed_9#30938, item_iembed_10#31004, item_iembed_11#31070, item_iembed_12#31136, item_iembed_13#31202, item_iembed_14#31268, item_iembed_15#31334, item_iembed_16#31400, item_iembed_17#31466, item_iembed_18#31532, item_iembed_19#31598, item_iembed_20#31664, item_iembed_21#31730, item_iembed_22#31796, ... 41 more fields]\n                        +- Project [item_id#26026, item_iembed_0#30344, item_iembed_1#30410, item_iembed_2#30476, item_iembed_3#30542, item_iembed_4#30608, item_iembed_5#30674, item_iembed_6#30740, item_iembed_7#30806, item_iembed_8#30872, item_iembed_9#30938, item_iembed_10#31004, item_iembed_11#31070, item_iembed_12#31136, item_iembed_13#31202, item_iembed_14#31268, item_iembed_15#31334, item_iembed_16#31400, item_iembed_17#31466, item_iembed_18#31532, item_iembed_19#31598, item_iembed_20#31664, item_iembed_21#31730, item_iembed_22#31796, ... 41 more fields]\n                           +- Project [item_id#26026, item_iembed_0#30344, item_iembed_1#30410, item_iembed_2#30476, item_iembed_3#30542, item_iembed_4#30608, item_iembed_5#30674, item_iembed_6#30740, item_iembed_7#30806, item_iembed_8#30872, item_iembed_9#30938, item_iembed_10#31004, item_iembed_11#31070, item_iembed_12#31136, item_iembed_13#31202, item_iembed_14#31268, item_iembed_15#31334, item_iembed_16#31400, item_iembed_17#31466, item_iembed_18#31532, item_iembed_19#31598, item_iembed_20#31664, item_iembed_21#31730, item_iembed_22#31796, ... 41 more fields]\n                              +- Project [item_id#26026, item_iembed_0#30344, item_iembed_1#30410, item_iembed_2#30476, item_iembed_3#30542, item_iembed_4#30608, item_iembed_5#30674, item_iembed_6#30740, item_iembed_7#30806, item_iembed_8#30872, item_iembed_9#30938, item_iembed_10#31004, item_iembed_11#31070, item_iembed_12#31136, item_iembed_13#31202, item_iembed_14#31268, item_iembed_15#31334, item_iembed_16#31400, item_iembed_17#31466, item_iembed_18#31532, item_iembed_19#31598, item_iembed_20#31664, item_iembed_21#31730, item_iembed_22#31796, ... 41 more fields]\n                                 +- Project [item_id#26026, item_iembed_0#30344, item_iembed_1#30410, item_iembed_2#30476, item_iembed_3#30542, item_iembed_4#30608, item_iembed_5#30674, item_iembed_6#30740, item_iembed_7#30806, item_iembed_8#30872, item_iembed_9#30938, item_iembed_10#31004, item_iembed_11#31070, item_iembed_12#31136, item_iembed_13#31202, item_iembed_14#31268, item_iembed_15#31334, item_iembed_16#31400, item_iembed_17#31466, item_iembed_18#31532, item_iembed_19#31598, item_iembed_20#31664, item_iembed_21#31730, item_iembed_22#31796, ... 41 more fields]\n                                    +- Project [item_id#26026, item_iembed_0#30344, item_iembed_1#30410, item_iembed_2#30476, item_iembed_3#30542, item_iembed_4#30608, item_iembed_5#30674, item_iembed_6#30740, item_iembed_7#30806, item_iembed_8#30872, item_iembed_9#30938, item_iembed_10#31004, item_iembed_11#31070, item_iembed_12#31136, item_iembed_13#31202, item_iembed_14#31268, item_iembed_15#31334, item_iembed_16#31400, item_iembed_17#31466, item_iembed_18#31532, item_iembed_19#31598, item_iembed_20#31664, item_iembed_21#31730, item_iembed_22#31796, ... 41 more fields]\n                                       +- Project [item_id#26026, item_iembed_0#30344, item_iembed_1#30410, item_iembed_2#30476, item_iembed_3#30542, item_iembed_4#30608, item_iembed_5#30674, item_iembed_6#30740, item_iembed_7#30806, item_iembed_8#30872, item_iembed_9#30938, item_iembed_10#31004, item_iembed_11#31070, item_iembed_12#31136, item_iembed_13#31202, item_iembed_14#31268, item_iembed_15#31334, item_iembed_16#31400, item_iembed_17#31466, item_iembed_18#31532, item_iembed_19#31598, item_iembed_20#31664, item_iembed_21#31730, item_iembed_22#31796, ... 41 more fields]\n                                          +- Project [item_id#26026, item_iembed_0#30344, item_iembed_1#30410, item_iembed_2#30476, item_iembed_3#30542, item_iembed_4#30608, item_iembed_5#30674, item_iembed_6#30740, item_iembed_7#30806, item_iembed_8#30872, item_iembed_9#30938, item_iembed_10#31004, item_iembed_11#31070, item_iembed_12#31136, item_iembed_13#31202, item_iembed_14#31268, item_iembed_15#31334, item_iembed_16#31400, item_iembed_17#31466, item_iembed_18#31532, item_iembed_19#31598, item_iembed_20#31664, item_iembed_21#31730, item_iembed_22#31796, ... 41 more fields]\n                                             +- Project [item_id#26026, item_iembed_0#30344, item_iembed_1#30410, item_iembed_2#30476, item_iembed_3#30542, item_iembed_4#30608, item_iembed_5#30674, item_iembed_6#30740, item_iembed_7#30806, item_iembed_8#30872, item_iembed_9#30938, item_iembed_10#31004, item_iembed_11#31070, item_iembed_12#31136, item_iembed_13#31202, item_iembed_14#31268, item_iembed_15#31334, item_iembed_16#31400, item_iembed_17#31466, item_iembed_18#31532, item_iembed_19#31598, item_iembed_20#31664, item_iembed_21#31730, item_iembed_22#31796, ... 41 more fields]\n                                                +- Project [item_id#26026, item_iembed_0#30344, item_iembed_1#30410, item_iembed_2#30476, item_iembed_3#30542, item_iembed_4#30608, item_iembed_5#30674, item_iembed_6#30740, item_iembed_7#30806, item_iembed_8#30872, item_iembed_9#30938, item_iembed_10#31004, item_iembed_11#31070, item_iembed_12#31136, item_iembed_13#31202, item_iembed_14#31268, item_iembed_15#31334, item_iembed_16#31400, item_iembed_17#31466, item_iembed_18#31532, item_iembed_19#31598, item_iembed_20#31664, item_iembed_21#31730, item_iembed_22#31796, ... 41 more fields]\n                                                   +- Project [item_id#26026, item_iembed_0#30344, item_iembed_1#30410, item_iembed_2#30476, item_iembed_3#30542, item_iembed_4#30608, item_iembed_5#30674, item_iembed_6#30740, item_iembed_7#30806, item_iembed_8#30872, item_iembed_9#30938, item_iembed_10#31004, item_iembed_11#31070, item_iembed_12#31136, item_iembed_13#31202, item_iembed_14#31268, item_iembed_15#31334, item_iembed_16#31400, item_iembed_17#31466, item_iembed_18#31532, item_iembed_19#31598, item_iembed_20#31664, item_iembed_21#31730, item_iembed_22#31796, ... 41 more fields]\n                                                      +- Project [item_id#26026, item_iembed_0#30344, item_iembed_1#30410, item_iembed_2#30476, item_iembed_3#30542, item_iembed_4#30608, item_iembed_5#30674, item_iembed_6#30740, item_iembed_7#30806, item_iembed_8#30872, item_iembed_9#30938, item_iembed_10#31004, item_iembed_11#31070, item_iembed_12#31136, item_iembed_13#31202, item_iembed_14#31268, item_iembed_15#31334, item_iembed_16#31400, item_iembed_17#31466, item_iembed_18#31532, item_iembed_19#31598, item_iembed_20#31664, item_iembed_21#31730, item_iembed_22#31796, ... 41 more fields]\n                                                         +- Project [item_id#26026, item_iembed_0#30344, item_iembed_1#30410, item_iembed_2#30476, item_iembed_3#30542, item_iembed_4#30608, item_iembed_5#30674, item_iembed_6#30740, item_iembed_7#30806, item_iembed_8#30872, item_iembed_9#30938, item_iembed_10#31004, item_iembed_11#31070, item_iembed_12#31136, item_iembed_13#31202, item_iembed_14#31268, item_iembed_15#31334, item_iembed_16#31400, item_iembed_17#31466, item_iembed_18#31532, item_iembed_19#31598, item_iembed_20#31664, item_iembed_21#31730, item_iembed_22#31796, ... 41 more fields]\n                                                            +- Project [item_id#26026, item_iembed_0#30344, item_iembed_1#30410, item_iembed_2#30476, item_iembed_3#30542, item_iembed_4#30608, item_iembed_5#30674, item_iembed_6#30740, item_iembed_7#30806, item_iembed_8#30872, item_iembed_9#30938, item_iembed_10#31004, item_iembed_11#31070, item_iembed_12#31136, item_iembed_13#31202, item_iembed_14#31268, item_iembed_15#31334, item_iembed_16#31400, item_iembed_17#31466, item_iembed_18#31532, item_iembed_19#31598, item_iembed_20#31664, item_iembed_21#31730, item_iembed_22#31796, ... 41 more fields]\n                                                               +- Project [item_id#26026, item_iembed_0#30344, item_iembed_1#30410, item_iembed_2#30476, item_iembed_3#30542, item_iembed_4#30608, item_iembed_5#30674, item_iembed_6#30740, item_iembed_7#30806, item_iembed_8#30872, item_iembed_9#30938, item_iembed_10#31004, item_iembed_11#31070, item_iembed_12#31136, item_iembed_13#31202, item_iembed_14#31268, item_iembed_15#31334, item_iembed_16#31400, item_iembed_17#31466, item_iembed_18#31532, item_iembed_19#31598, item_iembed_20#31664, item_iembed_21#31730, item_iembed_22#31796, ... 41 more fields]\n                                                                  +- Project [item_id#26026, item_iembed_0#30344, item_iembed_1#30410, item_iembed_2#30476, item_iembed_3#30542, item_iembed_4#30608, item_iembed_5#30674, item_iembed_6#30740, item_iembed_7#30806, item_iembed_8#30872, item_iembed_9#30938, item_iembed_10#31004, item_iembed_11#31070, item_iembed_12#31136, item_iembed_13#31202, item_iembed_14#31268, item_iembed_15#31334, item_iembed_16#31400, item_iembed_17#31466, item_iembed_18#31532, item_iembed_19#31598, item_iembed_20#31664, item_iembed_21#31730, item_iembed_22#31796, ... 41 more fields]\n                                                                     +- Project [item_id#26026, item_iembed_0#30344, item_iembed_1#30410, item_iembed_2#30476, item_iembed_3#30542, item_iembed_4#30608, item_iembed_5#30674, item_iembed_6#30740, item_iembed_7#30806, item_iembed_8#30872, item_iembed_9#30938, item_iembed_10#31004, item_iembed_11#31070, item_iembed_12#31136, item_iembed_13#31202, item_iembed_14#31268, item_iembed_15#31334, item_iembed_16#31400, item_iembed_17#31466, item_iembed_18#31532, item_iembed_19#31598, item_iembed_20#31664, item_iembed_21#31730, item_iembed_22#31796, ... 41 more fields]\n                                                                        +- Project [item_id#26026, item_iembed_0#30344, item_iembed_1#30410, item_iembed_2#30476, item_iembed_3#30542, item_iembed_4#30608, item_iembed_5#30674, item_iembed_6#30740, item_iembed_7#30806, item_iembed_8#30872, item_iembed_9#30938, item_iembed_10#31004, item_iembed_11#31070, item_iembed_12#31136, item_iembed_13#31202, item_iembed_14#31268, item_iembed_15#31334, item_iembed_16#31400, item_iembed_17#31466, item_iembed_18#31532, item_iembed_19#31598, item_iembed_20#31664, item_iembed_21#31730, item_iembed_22#31796, ... 41 more fields]\n                                                                           +- Project [item_id#26026, item_iembed_0#30344, item_iembed_1#30410, item_iembed_2#30476, item_iembed_3#30542, item_iembed_4#30608, item_iembed_5#30674, item_iembed_6#30740, item_iembed_7#30806, item_iembed_8#30872, item_iembed_9#30938, item_iembed_10#31004, item_iembed_11#31070, item_iembed_12#31136, item_iembed_13#31202, item_iembed_14#31268, item_iembed_15#31334, item_iembed_16#31400, item_iembed_17#31466, item_iembed_18#31532, item_iembed_19#31598, item_iembed_20#31664, item_iembed_21#31730, item_iembed_22#31796, ... 41 more fields]\n                                                                              +- Project [item_id#26026, item_iembed_0#30344, item_iembed_1#30410, item_iembed_2#30476, item_iembed_3#30542, item_iembed_4#30608, item_iembed_5#30674, item_iembed_6#30740, item_iembed_7#30806, item_iembed_8#30872, item_iembed_9#30938, item_iembed_10#31004, item_iembed_11#31070, item_iembed_12#31136, item_iembed_13#31202, item_iembed_14#31268, item_iembed_15#31334, item_iembed_16#31400, item_iembed_17#31466, item_iembed_18#31532, item_iembed_19#31598, item_iembed_20#31664, item_iembed_21#31730, item_iembed_22#31796, ... 41 more fields]\n                                                                                 +- Project [item_id#26026, item_iembed_0#30344, item_iembed_1#30410, item_iembed_2#30476, item_iembed_3#30542, item_iembed_4#30608, item_iembed_5#30674, item_iembed_6#30740, item_iembed_7#30806, item_iembed_8#30872, item_iembed_9#30938, item_iembed_10#31004, item_iembed_11#31070, item_iembed_12#31136, item_iembed_13#31202, item_iembed_14#31268, item_iembed_15#31334, item_iembed_16#31400, item_iembed_17#31466, item_iembed_18#31532, item_iembed_19#31598, item_iembed_20#31664, item_iembed_21#31730, item_iembed_22#31796, ... 41 more fields]\n                                                                                    +- Project [item_id#26026, item_iembed_0#30344, item_iembed_1#30410, item_iembed_2#30476, item_iembed_3#30542, item_iembed_4#30608, item_iembed_5#30674, item_iembed_6#30740, item_iembed_7#30806, item_iembed_8#30872, item_iembed_9#30938, item_iembed_10#31004, item_iembed_11#31070, item_iembed_12#31136, item_iembed_13#31202, item_iembed_14#31268, item_iembed_15#31334, item_iembed_16#31400, item_iembed_17#31466, item_iembed_18#31532, item_iembed_19#31598, item_iembed_20#31664, item_iembed_21#31730, item_iembed_22#31796, ... 41 more fields]\n                                                                                       +- Project [item_id#26026, item_iembed_0#30344, item_iembed_1#30410, item_iembed_2#30476, item_iembed_3#30542, item_iembed_4#30608, item_iembed_5#30674, item_iembed_6#30740, item_iembed_7#30806, item_iembed_8#30872, item_iembed_9#30938, item_iembed_10#31004, item_iembed_11#31070, item_iembed_12#31136, item_iembed_13#31202, item_iembed_14#31268, item_iembed_15#31334, item_iembed_16#31400, item_iembed_17#31466, item_iembed_18#31532, item_iembed_19#31598, item_iembed_20#31664, item_iembed_21#31730, item_iembed_22#31796, ... 41 more fields]\n                                                                                          +- Project [item_id#26026, item_iembed_0#30344, item_iembed_1#30410, item_iembed_2#30476, item_iembed_3#30542, item_iembed_4#30608, item_iembed_5#30674, item_iembed_6#30740, item_iembed_7#30806, item_iembed_8#30872, item_iembed_9#30938, item_iembed_10#31004, item_iembed_11#31070, item_iembed_12#31136, item_iembed_13#31202, item_iembed_14#31268, item_iembed_15#31334, item_iembed_16#31400, item_iembed_17#31466, item_iembed_18#31532, item_iembed_19#31598, item_iembed_20#31664, item_iembed_21#31730, item_iembed_22#31796, ... 41 more fields]\n                                                                                             +- Project [item_id#26026, item_iembed_0#30344, item_iembed_1#30410, item_iembed_2#30476, item_iembed_3#30542, item_iembed_4#30608, item_iembed_5#30674, item_iembed_6#30740, item_iembed_7#30806, item_iembed_8#30872, item_iembed_9#30938, item_iembed_10#31004, item_iembed_11#31070, item_iembed_12#31136, item_iembed_13#31202, item_iembed_14#31268, item_iembed_15#31334, item_iembed_16#31400, item_iembed_17#31466, item_iembed_18#31532, item_iembed_19#31598, item_iembed_20#31664, item_iembed_21#31730, item_iembed_22#31796, ... 41 more fields]\n                                                                                                +- Project [item_id#26026, item_iembed_0#30344, item_iembed_1#30410, item_iembed_2#30476, item_iembed_3#30542, item_iembed_4#30608, item_iembed_5#30674, item_iembed_6#30740, item_iembed_7#30806, item_iembed_8#30872, item_iembed_9#30938, item_iembed_10#31004, item_iembed_11#31070, item_iembed_12#31136, item_iembed_13#31202, item_iembed_14#31268, item_iembed_15#31334, item_iembed_16#31400, item_iembed_17#31466, item_iembed_18#31532, item_iembed_19#31598, item_iembed_20#31664, item_iembed_21#31730, item_iembed_22#31796, ... 41 more fields]\n                                                                                                   +- Project [item_id#26026, item_iembed_0#30344, item_iembed_1#30410, item_iembed_2#30476, item_iembed_3#30542, item_iembed_4#30608, item_iembed_5#30674, item_iembed_6#30740, item_iembed_7#30806, item_iembed_8#30872, item_iembed_9#30938, item_iembed_10#31004, item_iembed_11#31070, item_iembed_12#31136, item_iembed_13#31202, item_iembed_14#31268, item_iembed_15#31334, item_iembed_16#31400, item_iembed_17#31466, item_iembed_18#31532, item_iembed_19#31598, item_iembed_20#31664, item_iembed_21#31730, item_iembed_22#31796, ... 41 more fields]\n                                                                                                      +- Project [item_id#26026, item_iembed_0#30344, item_iembed_1#30410, item_iembed_2#30476, item_iembed_3#30542, item_iembed_4#30608, item_iembed_5#30674, item_iembed_6#30740, item_iembed_7#30806, item_iembed_8#30872, item_iembed_9#30938, item_iembed_10#31004, item_iembed_11#31070, item_iembed_12#31136, item_iembed_13#31202, item_iembed_14#31268, item_iembed_15#31334, item_iembed_16#31400, item_iembed_17#31466, item_iembed_18#31532, item_iembed_19#31598, item_iembed_20#31664, item_iembed_21#31730, item_iembed_22#31796, ... 41 more fields]\n                                                                                                         +- Project [item_id#26026, item_iembed_0#30344, item_iembed_1#30410, item_iembed_2#30476, item_iembed_3#30542, item_iembed_4#30608, item_iembed_5#30674, item_iembed_6#30740, item_iembed_7#30806, item_iembed_8#30872, item_iembed_9#30938, item_iembed_10#31004, item_iembed_11#31070, item_iembed_12#31136, item_iembed_13#31202, item_iembed_14#31268, item_iembed_15#31334, item_iembed_16#31400, item_iembed_17#31466, item_iembed_18#31532, item_iembed_19#31598, item_iembed_20#31664, item_iembed_21#31730, item_iembed_22#31796, ... 41 more fields]\n                                                                                                            +- Project [item_id#26026, item_iembed_0#30344, item_iembed_1#30410, item_iembed_2#30476, item_iembed_3#30542, item_iembed_4#30608, item_iembed_5#30674, item_iembed_6#30740, item_iembed_7#30806, item_iembed_8#30872, item_iembed_9#30938, item_iembed_10#31004, item_iembed_11#31070, item_iembed_12#31136, item_iembed_13#31202, item_iembed_14#31268, item_iembed_15#31334, item_iembed_16#31400, item_iembed_17#31466, item_iembed_18#31532, item_iembed_19#31598, item_iembed_20#31664, item_iembed_21#31730, item_iembed_22#31796, ... 41 more fields]\n                                                                                                               +- Project [item_id#26026, item_iembed_0#30344, item_iembed_1#30410, item_iembed_2#30476, item_iembed_3#30542, item_iembed_4#30608, item_iembed_5#30674, item_iembed_6#30740, item_iembed_7#30806, item_iembed_8#30872, item_iembed_9#30938, item_iembed_10#31004, item_iembed_11#31070, item_iembed_12#31136, item_iembed_13#31202, item_iembed_14#31268, item_iembed_15#31334, item_iembed_16#31400, item_iembed_17#31466, item_iembed_18#31532, item_iembed_19#31598, item_iembed_20#31664, item_iembed_21#31730, item_iembed_22#31796, ... 41 more fields]\n                                                                                                                  +- Project [item_id#26026, item_iembed_0#30344, item_iembed_1#30410, item_iembed_2#30476, item_iembed_3#30542, item_iembed_4#30608, item_iembed_5#30674, item_iembed_6#30740, item_iembed_7#30806, item_iembed_8#30872, item_iembed_9#30938, item_iembed_10#31004, item_iembed_11#31070, item_iembed_12#31136, item_iembed_13#31202, item_iembed_14#31268, item_iembed_15#31334, item_iembed_16#31400, item_iembed_17#31466, item_iembed_18#31532, item_iembed_19#31598, item_iembed_20#31664, item_iembed_21#31730, item_iembed_22#31796, ... 41 more fields]\n                                                                                                                     +- Project [item_id#26026, item_iembed_0#30344, item_iembed_1#30410, item_iembed_2#30476, item_iembed_3#30542, item_iembed_4#30608, item_iembed_5#30674, item_iembed_6#30740, item_iembed_7#30806, item_iembed_8#30872, item_iembed_9#30938, item_iembed_10#31004, item_iembed_11#31070, item_iembed_12#31136, item_iembed_13#31202, item_iembed_14#31268, item_iembed_15#31334, item_iembed_16#31400, item_iembed_17#31466, item_iembed_18#31532, item_iembed_19#31598, item_iembed_20#31664, item_iembed_21#31730, item_iembed_22#31796, ... 41 more fields]\n                                                                                                                        +- Project [item_id#26026, item_iembed_0#30344, item_iembed_1#30410, item_iembed_2#30476, item_iembed_3#30542, item_iembed_4#30608, item_iembed_5#30674, item_iembed_6#30740, item_iembed_7#30806, item_iembed_8#30872, item_iembed_9#30938, item_iembed_10#31004, item_iembed_11#31070, item_iembed_12#31136, item_iembed_13#31202, item_iembed_14#31268, item_iembed_15#31334, item_iembed_16#31400, item_iembed_17#31466, item_iembed_18#31532, item_iembed_19#31598, item_iembed_20#31664, item_iembed_21#31730, item_iembed_22#31796, ... 41 more fields]\n                                                                                                                           +- Project [item_id#26026, item_iembed_0#30344, item_iembed_1#30410, item_iembed_2#30476, item_iembed_3#30542, item_iembed_4#30608, item_iembed_5#30674, item_iembed_6#30740, item_iembed_7#30806, item_iembed_8#30872, item_iembed_9#30938, item_iembed_10#31004, item_iembed_11#31070, item_iembed_12#31136, item_iembed_13#31202, item_iembed_14#31268, item_iembed_15#31334, item_iembed_16#31400, item_iembed_17#31466, item_iembed_18#31532, item_iembed_19#31598, item_iembed_20#31664, item_iembed_21#31730, item_iembed_22#31796, ... 41 more fields]\n                                                                                                                              +- Project [item_id#26026, item_iembed_0#30344, item_iembed_1#30410, item_iembed_2#30476, item_iembed_3#30542, item_iembed_4#30608, item_iembed_5#30674, item_iembed_6#30740, item_iembed_7#30806, item_iembed_8#30872, item_iembed_9#30938, item_iembed_10#31004, item_iembed_11#31070, item_iembed_12#31136, item_iembed_13#31202, item_iembed_14#31268, item_iembed_15#31334, item_iembed_16#31400, item_iembed_17#31466, item_iembed_18#31532, item_iembed_19#31598, item_iembed_20#31664, item_iembed_21#31730, item_iembed_22#31796, ... 41 more fields]\n                                                                                                                                 +- Project [item_id#26026, item_iembed_0#30344, item_iembed_1#30410, item_iembed_2#30476, item_iembed_3#30542, item_iembed_4#30608, item_iembed_5#30674, item_iembed_6#30740, item_iembed_7#30806, item_iembed_8#30872, item_iembed_9#30938, item_iembed_10#31004, item_iembed_11#31070, item_iembed_12#31136, item_iembed_13#31202, item_iembed_14#31268, item_iembed_15#31334, item_iembed_16#31400, item_iembed_17#31466, item_iembed_18#31532, item_iembed_19#31598, item_iembed_20#31664, item_iembed_21#31730, item_iembed_22#31796, ... 41 more fields]\n                                                                                                                                    +- Project [item_id#26026, item_iembed_0#30344, item_iembed_1#30410, item_iembed_2#30476, item_iembed_3#30542, item_iembed_4#30608, item_iembed_5#30674, item_iembed_6#30740, item_iembed_7#30806, item_iembed_8#30872, item_iembed_9#30938, item_iembed_10#31004, item_iembed_11#31070, item_iembed_12#31136, item_iembed_13#31202, item_iembed_14#31268, item_iembed_15#31334, item_iembed_16#31400, item_iembed_17#31466, item_iembed_18#31532, item_iembed_19#31598, item_iembed_20#31664, item_iembed_21#31730, item_iembed_22#31796, ... 41 more fields]\n                                                                                                                                       +- Project [item_id#26026, item_iembed_0#30344, item_iembed_1#30410, item_iembed_2#30476, item_iembed_3#30542, item_iembed_4#30608, item_iembed_5#30674, item_iembed_6#30740, item_iembed_7#30806, item_iembed_8#30872, item_iembed_9#30938, item_iembed_10#31004, item_iembed_11#31070, item_iembed_12#31136, item_iembed_13#31202, item_iembed_14#31268, item_iembed_15#31334, item_iembed_16#31400, item_iembed_17#31466, item_iembed_18#31532, item_iembed_19#31598, item_iembed_20#31664, item_iembed_21#31730, item_iembed_22#31796, ... 41 more fields]\n                                                                                                                                          +- Project [item_id#26026, item_iembed_0#30344, item_iembed_1#30410, item_iembed_2#30476, item_iembed_3#30542, item_iembed_4#30608, item_iembed_5#30674, item_iembed_6#30740, item_iembed_7#30806, item_iembed_8#30872, item_iembed_9#30938, item_iembed_10#31004, item_iembed_11#31070, item_iembed_12#31136, item_iembed_13#31202, item_iembed_14#31268, item_iembed_15#31334, item_iembed_16#31400, item_iembed_17#31466, item_iembed_18#31532, item_iembed_19#31598, item_iembed_20#31664, item_iembed_21#31730, item_iembed_22#31796, ... 41 more fields]\n                                                                                                                                             +- Project [item_id#26026, item_iembed_0#30344, item_iembed_1#30410, item_iembed_2#30476, item_iembed_3#30542, item_iembed_4#30608, item_iembed_5#30674, item_iembed_6#30740, item_iembed_7#30806, item_iembed_8#30872, item_iembed_9#30938, item_iembed_10#31004, item_iembed_11#31070, item_iembed_12#31136, item_iembed_13#31202, item_iembed_14#31268, item_iembed_15#31334, item_iembed_16#31400, item_iembed_17#31466, item_iembed_18#31532, item_iembed_19#31598, item_iembed_20#31664, item_iembed_21#31730, iembed_22#50391 AS item_iembed_22#31796, ... 41 more fields]\n                                                                                                                                                +- Project [item_id#26026, item_iembed_0#30344, item_iembed_1#30410, item_iembed_2#30476, item_iembed_3#30542, item_iembed_4#30608, item_iembed_5#30674, item_iembed_6#30740, item_iembed_7#30806, item_iembed_8#30872, item_iembed_9#30938, item_iembed_10#31004, item_iembed_11#31070, item_iembed_12#31136, item_iembed_13#31202, item_iembed_14#31268, item_iembed_15#31334, item_iembed_16#31400, item_iembed_17#31466, item_iembed_18#31532, item_iembed_19#31598, item_iembed_20#31664, iembed_21#50390 AS item_iembed_21#31730, iembed_22#50391, ... 41 more fields]\n                                                                                                                                                   +- Project [item_id#26026, item_iembed_0#30344, item_iembed_1#30410, item_iembed_2#30476, item_iembed_3#30542, item_iembed_4#30608, item_iembed_5#30674, item_iembed_6#30740, item_iembed_7#30806, item_iembed_8#30872, item_iembed_9#30938, item_iembed_10#31004, item_iembed_11#31070, item_iembed_12#31136, item_iembed_13#31202, item_iembed_14#31268, item_iembed_15#31334, item_iembed_16#31400, item_iembed_17#31466, item_iembed_18#31532, item_iembed_19#31598, iembed_20#50389 AS item_iembed_20#31664, iembed_21#50390, iembed_22#50391, ... 41 more fields]\n                                                                                                                                                      +- Project [item_id#26026, item_iembed_0#30344, item_iembed_1#30410, item_iembed_2#30476, item_iembed_3#30542, item_iembed_4#30608, item_iembed_5#30674, item_iembed_6#30740, item_iembed_7#30806, item_iembed_8#30872, item_iembed_9#30938, item_iembed_10#31004, item_iembed_11#31070, item_iembed_12#31136, item_iembed_13#31202, item_iembed_14#31268, item_iembed_15#31334, item_iembed_16#31400, item_iembed_17#31466, item_iembed_18#31532, iembed_19#50388 AS item_iembed_19#31598, iembed_20#50389, iembed_21#50390, iembed_22#50391, ... 41 more fields]\n                                                                                                                                                         +- Project [item_id#26026, item_iembed_0#30344, item_iembed_1#30410, item_iembed_2#30476, item_iembed_3#30542, item_iembed_4#30608, item_iembed_5#30674, item_iembed_6#30740, item_iembed_7#30806, item_iembed_8#30872, item_iembed_9#30938, item_iembed_10#31004, item_iembed_11#31070, item_iembed_12#31136, item_iembed_13#31202, item_iembed_14#31268, item_iembed_15#31334, item_iembed_16#31400, item_iembed_17#31466, iembed_18#50387 AS item_iembed_18#31532, iembed_19#50388, iembed_20#50389, iembed_21#50390, iembed_22#50391, ... 41 more fields]\n                                                                                                                                                            +- Project [item_id#26026, item_iembed_0#30344, item_iembed_1#30410, item_iembed_2#30476, item_iembed_3#30542, item_iembed_4#30608, item_iembed_5#30674, item_iembed_6#30740, item_iembed_7#30806, item_iembed_8#30872, item_iembed_9#30938, item_iembed_10#31004, item_iembed_11#31070, item_iembed_12#31136, item_iembed_13#31202, item_iembed_14#31268, item_iembed_15#31334, item_iembed_16#31400, iembed_17#50386 AS item_iembed_17#31466, iembed_18#50387, iembed_19#50388, iembed_20#50389, iembed_21#50390, iembed_22#50391, ... 41 more fields]\n                                                                                                                                                               +- Project [item_id#26026, item_iembed_0#30344, item_iembed_1#30410, item_iembed_2#30476, item_iembed_3#30542, item_iembed_4#30608, item_iembed_5#30674, item_iembed_6#30740, item_iembed_7#30806, item_iembed_8#30872, item_iembed_9#30938, item_iembed_10#31004, item_iembed_11#31070, item_iembed_12#31136, item_iembed_13#31202, item_iembed_14#31268, item_iembed_15#31334, iembed_16#50385 AS item_iembed_16#31400, iembed_17#50386, iembed_18#50387, iembed_19#50388, iembed_20#50389, iembed_21#50390, iembed_22#50391, ... 41 more fields]\n                                                                                                                                                                  +- Project [item_id#26026, item_iembed_0#30344, item_iembed_1#30410, item_iembed_2#30476, item_iembed_3#30542, item_iembed_4#30608, item_iembed_5#30674, item_iembed_6#30740, item_iembed_7#30806, item_iembed_8#30872, item_iembed_9#30938, item_iembed_10#31004, item_iembed_11#31070, item_iembed_12#31136, item_iembed_13#31202, item_iembed_14#31268, iembed_15#50384 AS item_iembed_15#31334, iembed_16#50385, iembed_17#50386, iembed_18#50387, iembed_19#50388, iembed_20#50389, iembed_21#50390, iembed_22#50391, ... 41 more fields]\n                                                                                                                                                                     +- Project [item_id#26026, item_iembed_0#30344, item_iembed_1#30410, item_iembed_2#30476, item_iembed_3#30542, item_iembed_4#30608, item_iembed_5#30674, item_iembed_6#30740, item_iembed_7#30806, item_iembed_8#30872, item_iembed_9#30938, item_iembed_10#31004, item_iembed_11#31070, item_iembed_12#31136, item_iembed_13#31202, iembed_14#50383 AS item_iembed_14#31268, iembed_15#50384, iembed_16#50385, iembed_17#50386, iembed_18#50387, iembed_19#50388, iembed_20#50389, iembed_21#50390, iembed_22#50391, ... 41 more fields]\n                                                                                                                                                                        +- Project [item_id#26026, item_iembed_0#30344, item_iembed_1#30410, item_iembed_2#30476, item_iembed_3#30542, item_iembed_4#30608, item_iembed_5#30674, item_iembed_6#30740, item_iembed_7#30806, item_iembed_8#30872, item_iembed_9#30938, item_iembed_10#31004, item_iembed_11#31070, item_iembed_12#31136, iembed_13#50382 AS item_iembed_13#31202, iembed_14#50383, iembed_15#50384, iembed_16#50385, iembed_17#50386, iembed_18#50387, iembed_19#50388, iembed_20#50389, iembed_21#50390, iembed_22#50391, ... 41 more fields]\n                                                                                                                                                                           +- Project [item_id#26026, item_iembed_0#30344, item_iembed_1#30410, item_iembed_2#30476, item_iembed_3#30542, item_iembed_4#30608, item_iembed_5#30674, item_iembed_6#30740, item_iembed_7#30806, item_iembed_8#30872, item_iembed_9#30938, item_iembed_10#31004, item_iembed_11#31070, iembed_12#50381 AS item_iembed_12#31136, iembed_13#50382, iembed_14#50383, iembed_15#50384, iembed_16#50385, iembed_17#50386, iembed_18#50387, iembed_19#50388, iembed_20#50389, iembed_21#50390, iembed_22#50391, ... 41 more fields]\n                                                                                                                                                                              +- Project [item_id#26026, item_iembed_0#30344, item_iembed_1#30410, item_iembed_2#30476, item_iembed_3#30542, item_iembed_4#30608, item_iembed_5#30674, item_iembed_6#30740, item_iembed_7#30806, item_iembed_8#30872, item_iembed_9#30938, item_iembed_10#31004, iembed_11#50380 AS item_iembed_11#31070, iembed_12#50381, iembed_13#50382, iembed_14#50383, iembed_15#50384, iembed_16#50385, iembed_17#50386, iembed_18#50387, iembed_19#50388, iembed_20#50389, iembed_21#50390, iembed_22#50391, ... 41 more fields]\n                                                                                                                                                                                 +- Project [item_id#26026, item_iembed_0#30344, item_iembed_1#30410, item_iembed_2#30476, item_iembed_3#30542, item_iembed_4#30608, item_iembed_5#30674, item_iembed_6#30740, item_iembed_7#30806, item_iembed_8#30872, item_iembed_9#30938, iembed_10#50379 AS item_iembed_10#31004, iembed_11#50380, iembed_12#50381, iembed_13#50382, iembed_14#50383, iembed_15#50384, iembed_16#50385, iembed_17#50386, iembed_18#50387, iembed_19#50388, iembed_20#50389, iembed_21#50390, iembed_22#50391, ... 41 more fields]\n                                                                                                                                                                                    +- Project [item_id#26026, item_iembed_0#30344, item_iembed_1#30410, item_iembed_2#30476, item_iembed_3#30542, item_iembed_4#30608, item_iembed_5#30674, item_iembed_6#30740, item_iembed_7#30806, item_iembed_8#30872, iembed_9#50378 AS item_iembed_9#30938, iembed_10#50379, iembed_11#50380, iembed_12#50381, iembed_13#50382, iembed_14#50383, iembed_15#50384, iembed_16#50385, iembed_17#50386, iembed_18#50387, iembed_19#50388, iembed_20#50389, iembed_21#50390, iembed_22#50391, ... 41 more fields]\n                                                                                                                                                                                       +- Project [item_id#26026, item_iembed_0#30344, item_iembed_1#30410, item_iembed_2#30476, item_iembed_3#30542, item_iembed_4#30608, item_iembed_5#30674, item_iembed_6#30740, item_iembed_7#30806, iembed_8#50377 AS item_iembed_8#30872, iembed_9#50378, iembed_10#50379, iembed_11#50380, iembed_12#50381, iembed_13#50382, iembed_14#50383, iembed_15#50384, iembed_16#50385, iembed_17#50386, iembed_18#50387, iembed_19#50388, iembed_20#50389, iembed_21#50390, iembed_22#50391, ... 41 more fields]\n                                                                                                                                                                                          +- Project [item_id#26026, item_iembed_0#30344, item_iembed_1#30410, item_iembed_2#30476, item_iembed_3#30542, item_iembed_4#30608, item_iembed_5#30674, item_iembed_6#30740, iembed_7#50376 AS item_iembed_7#30806, iembed_8#50377, iembed_9#50378, iembed_10#50379, iembed_11#50380, iembed_12#50381, iembed_13#50382, iembed_14#50383, iembed_15#50384, iembed_16#50385, iembed_17#50386, iembed_18#50387, iembed_19#50388, iembed_20#50389, iembed_21#50390, iembed_22#50391, ... 41 more fields]\n                                                                                                                                                                                             +- Project [item_id#26026, item_iembed_0#30344, item_iembed_1#30410, item_iembed_2#30476, item_iembed_3#30542, item_iembed_4#30608, item_iembed_5#30674, iembed_6#50375 AS item_iembed_6#30740, iembed_7#50376, iembed_8#50377, iembed_9#50378, iembed_10#50379, iembed_11#50380, iembed_12#50381, iembed_13#50382, iembed_14#50383, iembed_15#50384, iembed_16#50385, iembed_17#50386, iembed_18#50387, iembed_19#50388, iembed_20#50389, iembed_21#50390, iembed_22#50391, ... 41 more fields]\n                                                                                                                                                                                                +- Project [item_id#26026, item_iembed_0#30344, item_iembed_1#30410, item_iembed_2#30476, item_iembed_3#30542, item_iembed_4#30608, iembed_5#50374 AS item_iembed_5#30674, iembed_6#50375, iembed_7#50376, iembed_8#50377, iembed_9#50378, iembed_10#50379, iembed_11#50380, iembed_12#50381, iembed_13#50382, iembed_14#50383, iembed_15#50384, iembed_16#50385, iembed_17#50386, iembed_18#50387, iembed_19#50388, iembed_20#50389, iembed_21#50390, iembed_22#50391, ... 41 more fields]\n                                                                                                                                                                                                   +- Project [item_id#26026, item_iembed_0#30344, item_iembed_1#30410, item_iembed_2#30476, item_iembed_3#30542, iembed_4#50373 AS item_iembed_4#30608, iembed_5#50374, iembed_6#50375, iembed_7#50376, iembed_8#50377, iembed_9#50378, iembed_10#50379, iembed_11#50380, iembed_12#50381, iembed_13#50382, iembed_14#50383, iembed_15#50384, iembed_16#50385, iembed_17#50386, iembed_18#50387, iembed_19#50388, iembed_20#50389, iembed_21#50390, iembed_22#50391, ... 41 more fields]\n                                                                                                                                                                                                      +- Project [item_id#26026, item_iembed_0#30344, item_iembed_1#30410, item_iembed_2#30476, iembed_3#50372 AS item_iembed_3#30542, iembed_4#50373, iembed_5#50374, iembed_6#50375, iembed_7#50376, iembed_8#50377, iembed_9#50378, iembed_10#50379, iembed_11#50380, iembed_12#50381, iembed_13#50382, iembed_14#50383, iembed_15#50384, iembed_16#50385, iembed_17#50386, iembed_18#50387, iembed_19#50388, iembed_20#50389, iembed_21#50390, iembed_22#50391, ... 41 more fields]\n                                                                                                                                                                                                         +- Project [item_id#26026, item_iembed_0#30344, item_iembed_1#30410, iembed_2#50371 AS item_iembed_2#30476, iembed_3#50372, iembed_4#50373, iembed_5#50374, iembed_6#50375, iembed_7#50376, iembed_8#50377, iembed_9#50378, iembed_10#50379, iembed_11#50380, iembed_12#50381, iembed_13#50382, iembed_14#50383, iembed_15#50384, iembed_16#50385, iembed_17#50386, iembed_18#50387, iembed_19#50388, iembed_20#50389, iembed_21#50390, iembed_22#50391, ... 41 more fields]\n                                                                                                                                                                                                            +- Project [item_id#26026, item_iembed_0#30344, iembed_1#50370 AS item_iembed_1#30410, iembed_2#50371, iembed_3#50372, iembed_4#50373, iembed_5#50374, iembed_6#50375, iembed_7#50376, iembed_8#50377, iembed_9#50378, iembed_10#50379, iembed_11#50380, iembed_12#50381, iembed_13#50382, iembed_14#50383, iembed_15#50384, iembed_16#50385, iembed_17#50386, iembed_18#50387, iembed_19#50388, iembed_20#50389, iembed_21#50390, iembed_22#50391, ... 41 more fields]\n                                                                                                                                                                                                               +- Project [item_id#26026, iembed_0#50369 AS item_iembed_0#30344, iembed_1#50370, iembed_2#50371, iembed_3#50372, iembed_4#50373, iembed_5#50374, iembed_6#50375, iembed_7#50376, iembed_8#50377, iembed_9#50378, iembed_10#50379, iembed_11#50380, iembed_12#50381, iembed_13#50382, iembed_14#50383, iembed_15#50384, iembed_16#50385, iembed_17#50386, iembed_18#50387, iembed_19#50388, iembed_20#50389, iembed_21#50390, iembed_22#50391, ... 41 more fields]\n                                                                                                                                                                                                                  +- Project [item_idx#50368 AS item_id#26026, iembed_0#50369, iembed_1#50370, iembed_2#50371, iembed_3#50372, iembed_4#50373, iembed_5#50374, iembed_6#50375, iembed_7#50376, iembed_8#50377, iembed_9#50378, iembed_10#50379, iembed_11#50380, iembed_12#50381, iembed_13#50382, iembed_14#50383, iembed_15#50384, iembed_16#50385, iembed_17#50386, iembed_18#50387, iembed_19#50388, iembed_20#50389, iembed_21#50390, iembed_22#50391, ... 41 more fields]\n                                                                                                                                                                                                                     +- Relation [item_idx#50368,iembed_0#50369,iembed_1#50370,iembed_2#50371,iembed_3#50372,iembed_4#50373,iembed_5#50374,iembed_6#50375,iembed_7#50376,iembed_8#50377,iembed_9#50378,iembed_10#50379,iembed_11#50380,iembed_12#50381,iembed_13#50382,iembed_14#50383,iembed_15#50384,iembed_16#50385,iembed_17#50386,iembed_18#50387,iembed_19#50388,iembed_20#50389,iembed_21#50390,iembed_22#50391,... 41 more fields] csv\n",
     "output_type": "error",
     "traceback": [
      "\u001b[0;31m---------------------------------------------------------------------------\u001b[0m",
      "\u001b[0;31mAnalysisException\u001b[0m                         Traceback (most recent call last)",
      "Cell \u001b[0;32mIn[15], line 22\u001b[0m\n\u001b[1;32m     20\u001b[0m assess_models(pipeline_rf, val_df)\n\u001b[1;32m     21\u001b[0m assess_models(pipeline_fm, val_df)\n\u001b[0;32m---> 22\u001b[0m \u001b[43massess_models\u001b[49m\u001b[43m(\u001b[49m\u001b[43mpipeline_rand\u001b[49m\u001b[43m,\u001b[49m\u001b[43m \u001b[49m\u001b[43mval_df\u001b[49m\u001b[43m)\u001b[49m\n",
      "Cell \u001b[0;32mIn[15], line 2\u001b[0m, in \u001b[0;36massess_models\u001b[0;34m(model, test_df)\u001b[0m\n\u001b[1;32m      1\u001b[0m \u001b[38;5;28;01mdef\u001b[39;00m \u001b[38;5;21massess_models\u001b[39m(model, test_df):\n\u001b[0;32m----> 2\u001b[0m     pred_df \u001b[38;5;241m=\u001b[39m \u001b[43mmodel\u001b[49m\u001b[38;5;241;43m.\u001b[39;49m\u001b[43mtransform\u001b[49m\u001b[43m(\u001b[49m\u001b[43mtest_df\u001b[49m\u001b[43m)\u001b[49m\u001b[38;5;241;43m.\u001b[39;49m\u001b[43mselect\u001b[49m\u001b[43m(\u001b[49m\u001b[38;5;124;43m\"\u001b[39;49m\u001b[38;5;124;43muser_id\u001b[39;49m\u001b[38;5;124;43m\"\u001b[39;49m\u001b[43m,\u001b[49m\u001b[43m \u001b[49m\u001b[38;5;124;43m\"\u001b[39;49m\u001b[38;5;124;43mitem_id\u001b[39;49m\u001b[38;5;124;43m\"\u001b[39;49m\u001b[43m,\u001b[49m\u001b[43m \u001b[49m\u001b[38;5;124;43m\"\u001b[39;49m\u001b[38;5;124;43mrelevance\u001b[39;49m\u001b[38;5;124;43m\"\u001b[39;49m\u001b[43m,\u001b[49m\u001b[43m \u001b[49m\u001b[38;5;124;43m\"\u001b[39;49m\u001b[38;5;124;43mscores\u001b[39;49m\u001b[38;5;124;43m\"\u001b[39;49m\u001b[43m)\u001b[49m\u001b[38;5;241m.\u001b[39mtoPandas()\n\u001b[1;32m      3\u001b[0m     pred_df \u001b[38;5;241m=\u001b[39m pred_df\u001b[38;5;241m.\u001b[39mmerge(avg_item_ratings\u001b[38;5;241m.\u001b[39mtoPandas(), on\u001b[38;5;241m=\u001b[39m\u001b[38;5;124m'\u001b[39m\u001b[38;5;124mitem_id\u001b[39m\u001b[38;5;124m'\u001b[39m, how\u001b[38;5;241m=\u001b[39m\u001b[38;5;124m'\u001b[39m\u001b[38;5;124minner\u001b[39m\u001b[38;5;124m'\u001b[39m)\n\u001b[1;32m      5\u001b[0m     pred_df[\u001b[38;5;124m'\u001b[39m\u001b[38;5;124mbaseline\u001b[39m\u001b[38;5;124m'\u001b[39m] \u001b[38;5;241m=\u001b[39m (pred_df[\u001b[38;5;124m'\u001b[39m\u001b[38;5;124mitem_rating_avg\u001b[39m\u001b[38;5;124m'\u001b[39m]\u001b[38;5;241m-\u001b[39mpred_df[\u001b[38;5;124m'\u001b[39m\u001b[38;5;124mitem_rating_avg\u001b[39m\u001b[38;5;124m'\u001b[39m]\u001b[38;5;241m.\u001b[39mmin())\u001b[38;5;241m/\u001b[39m(pred_df[\u001b[38;5;124m'\u001b[39m\u001b[38;5;124mitem_rating_avg\u001b[39m\u001b[38;5;124m'\u001b[39m]\u001b[38;5;241m.\u001b[39mmax()\u001b[38;5;241m-\u001b[39mpred_df[\u001b[38;5;124m'\u001b[39m\u001b[38;5;124mitem_rating_avg\u001b[39m\u001b[38;5;124m'\u001b[39m]\u001b[38;5;241m.\u001b[39mmin())\n",
      "File \u001b[0;32m~/anaconda3/envs/sim4rec/lib/python3.9/site-packages/pyspark/sql/dataframe.py:1669\u001b[0m, in \u001b[0;36mDataFrame.select\u001b[0;34m(self, *cols)\u001b[0m\n\u001b[1;32m   1648\u001b[0m \u001b[38;5;28;01mdef\u001b[39;00m \u001b[38;5;21mselect\u001b[39m(\u001b[38;5;28mself\u001b[39m, \u001b[38;5;241m*\u001b[39mcols):\n\u001b[1;32m   1649\u001b[0m \u001b[38;5;250m    \u001b[39m\u001b[38;5;124;03m\"\"\"Projects a set of expressions and returns a new :class:`DataFrame`.\u001b[39;00m\n\u001b[1;32m   1650\u001b[0m \n\u001b[1;32m   1651\u001b[0m \u001b[38;5;124;03m    .. versionadded:: 1.3.0\u001b[39;00m\n\u001b[0;32m   (...)\u001b[0m\n\u001b[1;32m   1667\u001b[0m \u001b[38;5;124;03m    [Row(name='Alice', age=12), Row(name='Bob', age=15)]\u001b[39;00m\n\u001b[1;32m   1668\u001b[0m \u001b[38;5;124;03m    \"\"\"\u001b[39;00m\n\u001b[0;32m-> 1669\u001b[0m     jdf \u001b[38;5;241m=\u001b[39m \u001b[38;5;28;43mself\u001b[39;49m\u001b[38;5;241;43m.\u001b[39;49m\u001b[43m_jdf\u001b[49m\u001b[38;5;241;43m.\u001b[39;49m\u001b[43mselect\u001b[49m\u001b[43m(\u001b[49m\u001b[38;5;28;43mself\u001b[39;49m\u001b[38;5;241;43m.\u001b[39;49m\u001b[43m_jcols\u001b[49m\u001b[43m(\u001b[49m\u001b[38;5;241;43m*\u001b[39;49m\u001b[43mcols\u001b[49m\u001b[43m)\u001b[49m\u001b[43m)\u001b[49m\n\u001b[1;32m   1670\u001b[0m     \u001b[38;5;28;01mreturn\u001b[39;00m DataFrame(jdf, \u001b[38;5;28mself\u001b[39m\u001b[38;5;241m.\u001b[39msql_ctx)\n",
      "File \u001b[0;32m~/anaconda3/envs/sim4rec/lib/python3.9/site-packages/py4j/java_gateway.py:1304\u001b[0m, in \u001b[0;36mJavaMember.__call__\u001b[0;34m(self, *args)\u001b[0m\n\u001b[1;32m   1298\u001b[0m command \u001b[38;5;241m=\u001b[39m proto\u001b[38;5;241m.\u001b[39mCALL_COMMAND_NAME \u001b[38;5;241m+\u001b[39m\\\n\u001b[1;32m   1299\u001b[0m     \u001b[38;5;28mself\u001b[39m\u001b[38;5;241m.\u001b[39mcommand_header \u001b[38;5;241m+\u001b[39m\\\n\u001b[1;32m   1300\u001b[0m     args_command \u001b[38;5;241m+\u001b[39m\\\n\u001b[1;32m   1301\u001b[0m     proto\u001b[38;5;241m.\u001b[39mEND_COMMAND_PART\n\u001b[1;32m   1303\u001b[0m answer \u001b[38;5;241m=\u001b[39m \u001b[38;5;28mself\u001b[39m\u001b[38;5;241m.\u001b[39mgateway_client\u001b[38;5;241m.\u001b[39msend_command(command)\n\u001b[0;32m-> 1304\u001b[0m return_value \u001b[38;5;241m=\u001b[39m \u001b[43mget_return_value\u001b[49m\u001b[43m(\u001b[49m\n\u001b[1;32m   1305\u001b[0m \u001b[43m    \u001b[49m\u001b[43manswer\u001b[49m\u001b[43m,\u001b[49m\u001b[43m \u001b[49m\u001b[38;5;28;43mself\u001b[39;49m\u001b[38;5;241;43m.\u001b[39;49m\u001b[43mgateway_client\u001b[49m\u001b[43m,\u001b[49m\u001b[43m \u001b[49m\u001b[38;5;28;43mself\u001b[39;49m\u001b[38;5;241;43m.\u001b[39;49m\u001b[43mtarget_id\u001b[49m\u001b[43m,\u001b[49m\u001b[43m \u001b[49m\u001b[38;5;28;43mself\u001b[39;49m\u001b[38;5;241;43m.\u001b[39;49m\u001b[43mname\u001b[49m\u001b[43m)\u001b[49m\n\u001b[1;32m   1307\u001b[0m \u001b[38;5;28;01mfor\u001b[39;00m temp_arg \u001b[38;5;129;01min\u001b[39;00m temp_args:\n\u001b[1;32m   1308\u001b[0m     temp_arg\u001b[38;5;241m.\u001b[39m_detach()\n",
      "File \u001b[0;32m~/anaconda3/envs/sim4rec/lib/python3.9/site-packages/pyspark/sql/utils.py:117\u001b[0m, in \u001b[0;36mcapture_sql_exception.<locals>.deco\u001b[0;34m(*a, **kw)\u001b[0m\n\u001b[1;32m    113\u001b[0m converted \u001b[38;5;241m=\u001b[39m convert_exception(e\u001b[38;5;241m.\u001b[39mjava_exception)\n\u001b[1;32m    114\u001b[0m \u001b[38;5;28;01mif\u001b[39;00m \u001b[38;5;129;01mnot\u001b[39;00m \u001b[38;5;28misinstance\u001b[39m(converted, UnknownException):\n\u001b[1;32m    115\u001b[0m     \u001b[38;5;66;03m# Hide where the exception came from that shows a non-Pythonic\u001b[39;00m\n\u001b[1;32m    116\u001b[0m     \u001b[38;5;66;03m# JVM exception message.\u001b[39;00m\n\u001b[0;32m--> 117\u001b[0m     \u001b[38;5;28;01mraise\u001b[39;00m converted \u001b[38;5;28;01mfrom\u001b[39;00m \u001b[38;5;28;01mNone\u001b[39;00m\n\u001b[1;32m    118\u001b[0m \u001b[38;5;28;01melse\u001b[39;00m:\n\u001b[1;32m    119\u001b[0m     \u001b[38;5;28;01mraise\u001b[39;00m\n",
      "\u001b[0;31mAnalysisException\u001b[0m: Column 'scores' does not exist. Did you mean one of the following? [__noise, response, user_id, item_id, relevance, user_uembed_0, user_uembed_1, user_uembed_2, user_uembed_3, user_uembed_4, user_uembed_5, user_uembed_6, user_uembed_7, user_uembed_8, user_uembed_9, item_iembed_0, item_iembed_1, item_iembed_2, item_iembed_3, item_iembed_4, item_iembed_5, item_iembed_6, item_iembed_7, item_iembed_8, item_iembed_9, user_uembed_10, user_uembed_11, user_uembed_12, user_uembed_13, user_uembed_14, user_uembed_15, user_uembed_16, user_uembed_17, user_uembed_18, user_uembed_19, user_uembed_20, user_uembed_21, user_uembed_22, user_uembed_23, user_uembed_24, user_uembed_25, user_uembed_26, user_uembed_27, user_uembed_28, user_uembed_29, user_uembed_30, user_uembed_31, user_uembed_32, user_uembed_33, user_uembed_34, user_uembed_35, user_uembed_36, user_uembed_37, user_uembed_38, user_uembed_39, user_uembed_40, user_uembed_41, user_uembed_42, user_uembed_43, user_uembed_44, user_uembed_45, user_uembed_46, user_uembed_47, user_uembed_48, user_uembed_49, user_uembed_50, user_uembed_51, user_uembed_52, user_uembed_53, user_uembed_54, user_uembed_55, user_uembed_56, user_uembed_57, user_uembed_58, user_uembed_59, user_uembed_60, user_uembed_61, user_uembed_62, user_uembed_63, item_iembed_10, item_iembed_11, item_iembed_12, item_iembed_13, item_iembed_14, item_iembed_15, item_iembed_16, item_iembed_17, item_iembed_18, item_iembed_19, item_iembed_20, item_iembed_21, item_iembed_22, item_iembed_23, item_iembed_24, item_iembed_25, item_iembed_26, item_iembed_27, item_iembed_28, item_iembed_29, item_iembed_30, item_iembed_31, item_iembed_32, item_iembed_33, item_iembed_34, item_iembed_35, item_iembed_36, item_iembed_37, item_iembed_38, item_iembed_39, item_iembed_40, item_iembed_41, item_iembed_42, item_iembed_43, item_iembed_44, item_iembed_45, item_iembed_46, item_iembed_47, item_iembed_48, item_iembed_49, item_iembed_50, item_iembed_51, item_iembed_52, item_iembed_53, item_iembed_54, item_iembed_55, item_iembed_56, item_iembed_57, item_iembed_58, item_iembed_59, item_iembed_60, item_iembed_61, item_iembed_62, item_iembed_63];\n'Project [user_id#26093, item_id#26099, relevance#34568, 'scores]\n+- Project [item_id#26099, user_id#26093, relevance#34568, user_uembed_0#26120, user_uembed_1#26186, user_uembed_2#26252, user_uembed_3#26318, user_uembed_4#26384, user_uembed_5#26450, user_uembed_6#26516, user_uembed_7#26582, user_uembed_8#26648, user_uembed_9#26714, user_uembed_10#26780, user_uembed_11#26846, user_uembed_12#26912, user_uembed_13#26978, user_uembed_14#27044, user_uembed_15#27110, user_uembed_16#27176, user_uembed_17#27242, user_uembed_18#27308, user_uembed_19#27374, user_uembed_20#27440, ... 109 more fields]\n   +- Project [item_id#26099, user_id#26093, relevance#34568, user_uembed_0#26120, user_uembed_1#26186, user_uembed_2#26252, user_uembed_3#26318, user_uembed_4#26384, user_uembed_5#26450, user_uembed_6#26516, user_uembed_7#26582, user_uembed_8#26648, user_uembed_9#26714, user_uembed_10#26780, user_uembed_11#26846, user_uembed_12#26912, user_uembed_13#26978, user_uembed_14#27044, user_uembed_15#27110, user_uembed_16#27176, user_uembed_17#27242, user_uembed_18#27308, user_uembed_19#27374, user_uembed_20#27440, ... 108 more fields]\n      +- Filter atleastnnonnulls(131, item_id#26099, user_id#26093, relevance#34568, user_uembed_0#26120, user_uembed_1#26186, user_uembed_2#26252, user_uembed_3#26318, user_uembed_4#26384, user_uembed_5#26450, user_uembed_6#26516, user_uembed_7#26582, user_uembed_8#26648, user_uembed_9#26714, user_uembed_10#26780, user_uembed_11#26846, user_uembed_12#26912, user_uembed_13#26978, user_uembed_14#27044, user_uembed_15#27110, user_uembed_16#27176, user_uembed_17#27242, user_uembed_18#27308, user_uembed_19#27374, ... 108 more fields)\n         +- Project [item_id#26099, user_id#26093, relevance#34568, user_uembed_0#26120, user_uembed_1#26186, user_uembed_2#26252, user_uembed_3#26318, user_uembed_4#26384, user_uembed_5#26450, user_uembed_6#26516, user_uembed_7#26582, user_uembed_8#26648, user_uembed_9#26714, user_uembed_10#26780, user_uembed_11#26846, user_uembed_12#26912, user_uembed_13#26978, user_uembed_14#27044, user_uembed_15#27110, user_uembed_16#27176, user_uembed_17#27242, user_uembed_18#27308, user_uembed_19#27374, user_uembed_20#27440, ... 107 more fields]\n            +- Project [item_id#26099, user_id#26093, relevance#34568, timestamp#25954, user_uembed_0#26120, user_uembed_1#26186, user_uembed_2#26252, user_uembed_3#26318, user_uembed_4#26384, user_uembed_5#26450, user_uembed_6#26516, user_uembed_7#26582, user_uembed_8#26648, user_uembed_9#26714, user_uembed_10#26780, user_uembed_11#26846, user_uembed_12#26912, user_uembed_13#26978, user_uembed_14#27044, user_uembed_15#27110, user_uembed_16#27176, user_uembed_17#27242, user_uembed_18#27308, user_uembed_19#27374, ... 108 more fields]\n               +- Join LeftOuter, (item_id#26099 = item_id#26026)\n                  :- Project [user_id#26093, item_id#26099, relevance#34568, timestamp#25954, user_uembed_0#26120, user_uembed_1#26186, user_uembed_2#26252, user_uembed_3#26318, user_uembed_4#26384, user_uembed_5#26450, user_uembed_6#26516, user_uembed_7#26582, user_uembed_8#26648, user_uembed_9#26714, user_uembed_10#26780, user_uembed_11#26846, user_uembed_12#26912, user_uembed_13#26978, user_uembed_14#27044, user_uembed_15#27110, user_uembed_16#27176, user_uembed_17#27242, user_uembed_18#27308, user_uembed_19#27374, ... 44 more fields]\n                  :  +- Join LeftOuter, (user_id#26093 = user_id#25959)\n                  :     :- Project [user_id#26093, item_id#26099, CASE WHEN (relevance#25953 > cast(3 as double)) THEN 1 ELSE 0 END AS relevance#34568, timestamp#25954]\n                  :     :  +- Join LeftSemi, (item_id#26099 = item_id#26026)\n                  :     :     :- Join LeftSemi, (user_id#26093 = user_id#25959)\n                  :     :     :  :- Project [user_id#26093, item_idx#25952 AS item_id#26099, relevance#25953, timestamp#25954]\n                  :     :     :  :  +- Project [user_idx#25951 AS user_id#26093, item_idx#25952, relevance#25953, timestamp#25954]\n                  :     :     :  :     +- Relation [user_idx#25951,item_idx#25952,relevance#25953,timestamp#25954] csv\n                  :     :     :  +- Project [user_idx#25691 AS user_id#25959, uembed_0#25692, uembed_1#25693, uembed_2#25694, uembed_3#25695, uembed_4#25696, uembed_5#25697, uembed_6#25698, uembed_7#25699, uembed_8#25700, uembed_9#25701, uembed_10#25702, uembed_11#25703, uembed_12#25704, uembed_13#25705, uembed_14#25706, uembed_15#25707, uembed_16#25708, uembed_17#25709, uembed_18#25710, uembed_19#25711, uembed_20#25712, uembed_21#25713, uembed_22#25714, ... 41 more fields]\n                  :     :     :     +- Relation [user_idx#25691,uembed_0#25692,uembed_1#25693,uembed_2#25694,uembed_3#25695,uembed_4#25696,uembed_5#25697,uembed_6#25698,uembed_7#25699,uembed_8#25700,uembed_9#25701,uembed_10#25702,uembed_11#25703,uembed_12#25704,uembed_13#25705,uembed_14#25706,uembed_15#25707,uembed_16#25708,uembed_17#25709,uembed_18#25710,uembed_19#25711,uembed_20#25712,uembed_21#25713,uembed_22#25714,... 41 more fields] csv\n                  :     :     +- Project [item_idx#25821 AS item_id#26026, iembed_0#25822, iembed_1#25823, iembed_2#25824, iembed_3#25825, iembed_4#25826, iembed_5#25827, iembed_6#25828, iembed_7#25829, iembed_8#25830, iembed_9#25831, iembed_10#25832, iembed_11#25833, iembed_12#25834, iembed_13#25835, iembed_14#25836, iembed_15#25837, iembed_16#25838, iembed_17#25839, iembed_18#25840, iembed_19#25841, iembed_20#25842, iembed_21#25843, iembed_22#25844, ... 41 more fields]\n                  :     :        +- Relation [item_idx#25821,iembed_0#25822,iembed_1#25823,iembed_2#25824,iembed_3#25825,iembed_4#25826,iembed_5#25827,iembed_6#25828,iembed_7#25829,iembed_8#25830,iembed_9#25831,iembed_10#25832,iembed_11#25833,iembed_12#25834,iembed_13#25835,iembed_14#25836,iembed_15#25837,iembed_16#25838,iembed_17#25839,iembed_18#25840,iembed_19#25841,iembed_20#25842,iembed_21#25843,iembed_22#25844,... 41 more fields] csv\n                  :     +- Project [user_id#25959, user_uembed_0#26120, user_uembed_1#26186, user_uembed_2#26252, user_uembed_3#26318, user_uembed_4#26384, user_uembed_5#26450, user_uembed_6#26516, user_uembed_7#26582, user_uembed_8#26648, user_uembed_9#26714, user_uembed_10#26780, user_uembed_11#26846, user_uembed_12#26912, user_uembed_13#26978, user_uembed_14#27044, user_uembed_15#27110, user_uembed_16#27176, user_uembed_17#27242, user_uembed_18#27308, user_uembed_19#27374, user_uembed_20#27440, user_uembed_21#27506, user_uembed_22#27572, ... 41 more fields]\n                  :        +- Project [user_id#25959, user_uembed_0#26120, user_uembed_1#26186, user_uembed_2#26252, user_uembed_3#26318, user_uembed_4#26384, user_uembed_5#26450, user_uembed_6#26516, user_uembed_7#26582, user_uembed_8#26648, user_uembed_9#26714, user_uembed_10#26780, user_uembed_11#26846, user_uembed_12#26912, user_uembed_13#26978, user_uembed_14#27044, user_uembed_15#27110, user_uembed_16#27176, user_uembed_17#27242, user_uembed_18#27308, user_uembed_19#27374, user_uembed_20#27440, user_uembed_21#27506, user_uembed_22#27572, ... 41 more fields]\n                  :           +- Project [user_id#25959, user_uembed_0#26120, user_uembed_1#26186, user_uembed_2#26252, user_uembed_3#26318, user_uembed_4#26384, user_uembed_5#26450, user_uembed_6#26516, user_uembed_7#26582, user_uembed_8#26648, user_uembed_9#26714, user_uembed_10#26780, user_uembed_11#26846, user_uembed_12#26912, user_uembed_13#26978, user_uembed_14#27044, user_uembed_15#27110, user_uembed_16#27176, user_uembed_17#27242, user_uembed_18#27308, user_uembed_19#27374, user_uembed_20#27440, user_uembed_21#27506, user_uembed_22#27572, ... 41 more fields]\n                  :              +- Project [user_id#25959, user_uembed_0#26120, user_uembed_1#26186, user_uembed_2#26252, user_uembed_3#26318, user_uembed_4#26384, user_uembed_5#26450, user_uembed_6#26516, user_uembed_7#26582, user_uembed_8#26648, user_uembed_9#26714, user_uembed_10#26780, user_uembed_11#26846, user_uembed_12#26912, user_uembed_13#26978, user_uembed_14#27044, user_uembed_15#27110, user_uembed_16#27176, user_uembed_17#27242, user_uembed_18#27308, user_uembed_19#27374, user_uembed_20#27440, user_uembed_21#27506, user_uembed_22#27572, ... 41 more fields]\n                  :                 +- Project [user_id#25959, user_uembed_0#26120, user_uembed_1#26186, user_uembed_2#26252, user_uembed_3#26318, user_uembed_4#26384, user_uembed_5#26450, user_uembed_6#26516, user_uembed_7#26582, user_uembed_8#26648, user_uembed_9#26714, user_uembed_10#26780, user_uembed_11#26846, user_uembed_12#26912, user_uembed_13#26978, user_uembed_14#27044, user_uembed_15#27110, user_uembed_16#27176, user_uembed_17#27242, user_uembed_18#27308, user_uembed_19#27374, user_uembed_20#27440, user_uembed_21#27506, user_uembed_22#27572, ... 41 more fields]\n                  :                    +- Project [user_id#25959, user_uembed_0#26120, user_uembed_1#26186, user_uembed_2#26252, user_uembed_3#26318, user_uembed_4#26384, user_uembed_5#26450, user_uembed_6#26516, user_uembed_7#26582, user_uembed_8#26648, user_uembed_9#26714, user_uembed_10#26780, user_uembed_11#26846, user_uembed_12#26912, user_uembed_13#26978, user_uembed_14#27044, user_uembed_15#27110, user_uembed_16#27176, user_uembed_17#27242, user_uembed_18#27308, user_uembed_19#27374, user_uembed_20#27440, user_uembed_21#27506, user_uembed_22#27572, ... 41 more fields]\n                  :                       +- Project [user_id#25959, user_uembed_0#26120, user_uembed_1#26186, user_uembed_2#26252, user_uembed_3#26318, user_uembed_4#26384, user_uembed_5#26450, user_uembed_6#26516, user_uembed_7#26582, user_uembed_8#26648, user_uembed_9#26714, user_uembed_10#26780, user_uembed_11#26846, user_uembed_12#26912, user_uembed_13#26978, user_uembed_14#27044, user_uembed_15#27110, user_uembed_16#27176, user_uembed_17#27242, user_uembed_18#27308, user_uembed_19#27374, user_uembed_20#27440, user_uembed_21#27506, user_uembed_22#27572, ... 41 more fields]\n                  :                          +- Project [user_id#25959, user_uembed_0#26120, user_uembed_1#26186, user_uembed_2#26252, user_uembed_3#26318, user_uembed_4#26384, user_uembed_5#26450, user_uembed_6#26516, user_uembed_7#26582, user_uembed_8#26648, user_uembed_9#26714, user_uembed_10#26780, user_uembed_11#26846, user_uembed_12#26912, user_uembed_13#26978, user_uembed_14#27044, user_uembed_15#27110, user_uembed_16#27176, user_uembed_17#27242, user_uembed_18#27308, user_uembed_19#27374, user_uembed_20#27440, user_uembed_21#27506, user_uembed_22#27572, ... 41 more fields]\n                  :                             +- Project [user_id#25959, user_uembed_0#26120, user_uembed_1#26186, user_uembed_2#26252, user_uembed_3#26318, user_uembed_4#26384, user_uembed_5#26450, user_uembed_6#26516, user_uembed_7#26582, user_uembed_8#26648, user_uembed_9#26714, user_uembed_10#26780, user_uembed_11#26846, user_uembed_12#26912, user_uembed_13#26978, user_uembed_14#27044, user_uembed_15#27110, user_uembed_16#27176, user_uembed_17#27242, user_uembed_18#27308, user_uembed_19#27374, user_uembed_20#27440, user_uembed_21#27506, user_uembed_22#27572, ... 41 more fields]\n                  :                                +- Project [user_id#25959, user_uembed_0#26120, user_uembed_1#26186, user_uembed_2#26252, user_uembed_3#26318, user_uembed_4#26384, user_uembed_5#26450, user_uembed_6#26516, user_uembed_7#26582, user_uembed_8#26648, user_uembed_9#26714, user_uembed_10#26780, user_uembed_11#26846, user_uembed_12#26912, user_uembed_13#26978, user_uembed_14#27044, user_uembed_15#27110, user_uembed_16#27176, user_uembed_17#27242, user_uembed_18#27308, user_uembed_19#27374, user_uembed_20#27440, user_uembed_21#27506, user_uembed_22#27572, ... 41 more fields]\n                  :                                   +- Project [user_id#25959, user_uembed_0#26120, user_uembed_1#26186, user_uembed_2#26252, user_uembed_3#26318, user_uembed_4#26384, user_uembed_5#26450, user_uembed_6#26516, user_uembed_7#26582, user_uembed_8#26648, user_uembed_9#26714, user_uembed_10#26780, user_uembed_11#26846, user_uembed_12#26912, user_uembed_13#26978, user_uembed_14#27044, user_uembed_15#27110, user_uembed_16#27176, user_uembed_17#27242, user_uembed_18#27308, user_uembed_19#27374, user_uembed_20#27440, user_uembed_21#27506, user_uembed_22#27572, ... 41 more fields]\n                  :                                      +- Project [user_id#25959, user_uembed_0#26120, user_uembed_1#26186, user_uembed_2#26252, user_uembed_3#26318, user_uembed_4#26384, user_uembed_5#26450, user_uembed_6#26516, user_uembed_7#26582, user_uembed_8#26648, user_uembed_9#26714, user_uembed_10#26780, user_uembed_11#26846, user_uembed_12#26912, user_uembed_13#26978, user_uembed_14#27044, user_uembed_15#27110, user_uembed_16#27176, user_uembed_17#27242, user_uembed_18#27308, user_uembed_19#27374, user_uembed_20#27440, user_uembed_21#27506, user_uembed_22#27572, ... 41 more fields]\n                  :                                         +- Project [user_id#25959, user_uembed_0#26120, user_uembed_1#26186, user_uembed_2#26252, user_uembed_3#26318, user_uembed_4#26384, user_uembed_5#26450, user_uembed_6#26516, user_uembed_7#26582, user_uembed_8#26648, user_uembed_9#26714, user_uembed_10#26780, user_uembed_11#26846, user_uembed_12#26912, user_uembed_13#26978, user_uembed_14#27044, user_uembed_15#27110, user_uembed_16#27176, user_uembed_17#27242, user_uembed_18#27308, user_uembed_19#27374, user_uembed_20#27440, user_uembed_21#27506, user_uembed_22#27572, ... 41 more fields]\n                  :                                            +- Project [user_id#25959, user_uembed_0#26120, user_uembed_1#26186, user_uembed_2#26252, user_uembed_3#26318, user_uembed_4#26384, user_uembed_5#26450, user_uembed_6#26516, user_uembed_7#26582, user_uembed_8#26648, user_uembed_9#26714, user_uembed_10#26780, user_uembed_11#26846, user_uembed_12#26912, user_uembed_13#26978, user_uembed_14#27044, user_uembed_15#27110, user_uembed_16#27176, user_uembed_17#27242, user_uembed_18#27308, user_uembed_19#27374, user_uembed_20#27440, user_uembed_21#27506, user_uembed_22#27572, ... 41 more fields]\n                  :                                               +- Project [user_id#25959, user_uembed_0#26120, user_uembed_1#26186, user_uembed_2#26252, user_uembed_3#26318, user_uembed_4#26384, user_uembed_5#26450, user_uembed_6#26516, user_uembed_7#26582, user_uembed_8#26648, user_uembed_9#26714, user_uembed_10#26780, user_uembed_11#26846, user_uembed_12#26912, user_uembed_13#26978, user_uembed_14#27044, user_uembed_15#27110, user_uembed_16#27176, user_uembed_17#27242, user_uembed_18#27308, user_uembed_19#27374, user_uembed_20#27440, user_uembed_21#27506, user_uembed_22#27572, ... 41 more fields]\n                  :                                                  +- Project [user_id#25959, user_uembed_0#26120, user_uembed_1#26186, user_uembed_2#26252, user_uembed_3#26318, user_uembed_4#26384, user_uembed_5#26450, user_uembed_6#26516, user_uembed_7#26582, user_uembed_8#26648, user_uembed_9#26714, user_uembed_10#26780, user_uembed_11#26846, user_uembed_12#26912, user_uembed_13#26978, user_uembed_14#27044, user_uembed_15#27110, user_uembed_16#27176, user_uembed_17#27242, user_uembed_18#27308, user_uembed_19#27374, user_uembed_20#27440, user_uembed_21#27506, user_uembed_22#27572, ... 41 more fields]\n                  :                                                     +- Project [user_id#25959, user_uembed_0#26120, user_uembed_1#26186, user_uembed_2#26252, user_uembed_3#26318, user_uembed_4#26384, user_uembed_5#26450, user_uembed_6#26516, user_uembed_7#26582, user_uembed_8#26648, user_uembed_9#26714, user_uembed_10#26780, user_uembed_11#26846, user_uembed_12#26912, user_uembed_13#26978, user_uembed_14#27044, user_uembed_15#27110, user_uembed_16#27176, user_uembed_17#27242, user_uembed_18#27308, user_uembed_19#27374, user_uembed_20#27440, user_uembed_21#27506, user_uembed_22#27572, ... 41 more fields]\n                  :                                                        +- Project [user_id#25959, user_uembed_0#26120, user_uembed_1#26186, user_uembed_2#26252, user_uembed_3#26318, user_uembed_4#26384, user_uembed_5#26450, user_uembed_6#26516, user_uembed_7#26582, user_uembed_8#26648, user_uembed_9#26714, user_uembed_10#26780, user_uembed_11#26846, user_uembed_12#26912, user_uembed_13#26978, user_uembed_14#27044, user_uembed_15#27110, user_uembed_16#27176, user_uembed_17#27242, user_uembed_18#27308, user_uembed_19#27374, user_uembed_20#27440, user_uembed_21#27506, user_uembed_22#27572, ... 41 more fields]\n                  :                                                           +- Project [user_id#25959, user_uembed_0#26120, user_uembed_1#26186, user_uembed_2#26252, user_uembed_3#26318, user_uembed_4#26384, user_uembed_5#26450, user_uembed_6#26516, user_uembed_7#26582, user_uembed_8#26648, user_uembed_9#26714, user_uembed_10#26780, user_uembed_11#26846, user_uembed_12#26912, user_uembed_13#26978, user_uembed_14#27044, user_uembed_15#27110, user_uembed_16#27176, user_uembed_17#27242, user_uembed_18#27308, user_uembed_19#27374, user_uembed_20#27440, user_uembed_21#27506, user_uembed_22#27572, ... 41 more fields]\n                  :                                                              +- Project [user_id#25959, user_uembed_0#26120, user_uembed_1#26186, user_uembed_2#26252, user_uembed_3#26318, user_uembed_4#26384, user_uembed_5#26450, user_uembed_6#26516, user_uembed_7#26582, user_uembed_8#26648, user_uembed_9#26714, user_uembed_10#26780, user_uembed_11#26846, user_uembed_12#26912, user_uembed_13#26978, user_uembed_14#27044, user_uembed_15#27110, user_uembed_16#27176, user_uembed_17#27242, user_uembed_18#27308, user_uembed_19#27374, user_uembed_20#27440, user_uembed_21#27506, user_uembed_22#27572, ... 41 more fields]\n                  :                                                                 +- Project [user_id#25959, user_uembed_0#26120, user_uembed_1#26186, user_uembed_2#26252, user_uembed_3#26318, user_uembed_4#26384, user_uembed_5#26450, user_uembed_6#26516, user_uembed_7#26582, user_uembed_8#26648, user_uembed_9#26714, user_uembed_10#26780, user_uembed_11#26846, user_uembed_12#26912, user_uembed_13#26978, user_uembed_14#27044, user_uembed_15#27110, user_uembed_16#27176, user_uembed_17#27242, user_uembed_18#27308, user_uembed_19#27374, user_uembed_20#27440, user_uembed_21#27506, user_uembed_22#27572, ... 41 more fields]\n                  :                                                                    +- Project [user_id#25959, user_uembed_0#26120, user_uembed_1#26186, user_uembed_2#26252, user_uembed_3#26318, user_uembed_4#26384, user_uembed_5#26450, user_uembed_6#26516, user_uembed_7#26582, user_uembed_8#26648, user_uembed_9#26714, user_uembed_10#26780, user_uembed_11#26846, user_uembed_12#26912, user_uembed_13#26978, user_uembed_14#27044, user_uembed_15#27110, user_uembed_16#27176, user_uembed_17#27242, user_uembed_18#27308, user_uembed_19#27374, user_uembed_20#27440, user_uembed_21#27506, user_uembed_22#27572, ... 41 more fields]\n                  :                                                                       +- Project [user_id#25959, user_uembed_0#26120, user_uembed_1#26186, user_uembed_2#26252, user_uembed_3#26318, user_uembed_4#26384, user_uembed_5#26450, user_uembed_6#26516, user_uembed_7#26582, user_uembed_8#26648, user_uembed_9#26714, user_uembed_10#26780, user_uembed_11#26846, user_uembed_12#26912, user_uembed_13#26978, user_uembed_14#27044, user_uembed_15#27110, user_uembed_16#27176, user_uembed_17#27242, user_uembed_18#27308, user_uembed_19#27374, user_uembed_20#27440, user_uembed_21#27506, user_uembed_22#27572, ... 41 more fields]\n                  :                                                                          +- Project [user_id#25959, user_uembed_0#26120, user_uembed_1#26186, user_uembed_2#26252, user_uembed_3#26318, user_uembed_4#26384, user_uembed_5#26450, user_uembed_6#26516, user_uembed_7#26582, user_uembed_8#26648, user_uembed_9#26714, user_uembed_10#26780, user_uembed_11#26846, user_uembed_12#26912, user_uembed_13#26978, user_uembed_14#27044, user_uembed_15#27110, user_uembed_16#27176, user_uembed_17#27242, user_uembed_18#27308, user_uembed_19#27374, user_uembed_20#27440, user_uembed_21#27506, user_uembed_22#27572, ... 41 more fields]\n                  :                                                                             +- Project [user_id#25959, user_uembed_0#26120, user_uembed_1#26186, user_uembed_2#26252, user_uembed_3#26318, user_uembed_4#26384, user_uembed_5#26450, user_uembed_6#26516, user_uembed_7#26582, user_uembed_8#26648, user_uembed_9#26714, user_uembed_10#26780, user_uembed_11#26846, user_uembed_12#26912, user_uembed_13#26978, user_uembed_14#27044, user_uembed_15#27110, user_uembed_16#27176, user_uembed_17#27242, user_uembed_18#27308, user_uembed_19#27374, user_uembed_20#27440, user_uembed_21#27506, user_uembed_22#27572, ... 41 more fields]\n                  :                                                                                +- Project [user_id#25959, user_uembed_0#26120, user_uembed_1#26186, user_uembed_2#26252, user_uembed_3#26318, user_uembed_4#26384, user_uembed_5#26450, user_uembed_6#26516, user_uembed_7#26582, user_uembed_8#26648, user_uembed_9#26714, user_uembed_10#26780, user_uembed_11#26846, user_uembed_12#26912, user_uembed_13#26978, user_uembed_14#27044, user_uembed_15#27110, user_uembed_16#27176, user_uembed_17#27242, user_uembed_18#27308, user_uembed_19#27374, user_uembed_20#27440, user_uembed_21#27506, user_uembed_22#27572, ... 41 more fields]\n                  :                                                                                   +- Project [user_id#25959, user_uembed_0#26120, user_uembed_1#26186, user_uembed_2#26252, user_uembed_3#26318, user_uembed_4#26384, user_uembed_5#26450, user_uembed_6#26516, user_uembed_7#26582, user_uembed_8#26648, user_uembed_9#26714, user_uembed_10#26780, user_uembed_11#26846, user_uembed_12#26912, user_uembed_13#26978, user_uembed_14#27044, user_uembed_15#27110, user_uembed_16#27176, user_uembed_17#27242, user_uembed_18#27308, user_uembed_19#27374, user_uembed_20#27440, user_uembed_21#27506, user_uembed_22#27572, ... 41 more fields]\n                  :                                                                                      +- Project [user_id#25959, user_uembed_0#26120, user_uembed_1#26186, user_uembed_2#26252, user_uembed_3#26318, user_uembed_4#26384, user_uembed_5#26450, user_uembed_6#26516, user_uembed_7#26582, user_uembed_8#26648, user_uembed_9#26714, user_uembed_10#26780, user_uembed_11#26846, user_uembed_12#26912, user_uembed_13#26978, user_uembed_14#27044, user_uembed_15#27110, user_uembed_16#27176, user_uembed_17#27242, user_uembed_18#27308, user_uembed_19#27374, user_uembed_20#27440, user_uembed_21#27506, user_uembed_22#27572, ... 41 more fields]\n                  :                                                                                         +- Project [user_id#25959, user_uembed_0#26120, user_uembed_1#26186, user_uembed_2#26252, user_uembed_3#26318, user_uembed_4#26384, user_uembed_5#26450, user_uembed_6#26516, user_uembed_7#26582, user_uembed_8#26648, user_uembed_9#26714, user_uembed_10#26780, user_uembed_11#26846, user_uembed_12#26912, user_uembed_13#26978, user_uembed_14#27044, user_uembed_15#27110, user_uembed_16#27176, user_uembed_17#27242, user_uembed_18#27308, user_uembed_19#27374, user_uembed_20#27440, user_uembed_21#27506, user_uembed_22#27572, ... 41 more fields]\n                  :                                                                                            +- Project [user_id#25959, user_uembed_0#26120, user_uembed_1#26186, user_uembed_2#26252, user_uembed_3#26318, user_uembed_4#26384, user_uembed_5#26450, user_uembed_6#26516, user_uembed_7#26582, user_uembed_8#26648, user_uembed_9#26714, user_uembed_10#26780, user_uembed_11#26846, user_uembed_12#26912, user_uembed_13#26978, user_uembed_14#27044, user_uembed_15#27110, user_uembed_16#27176, user_uembed_17#27242, user_uembed_18#27308, user_uembed_19#27374, user_uembed_20#27440, user_uembed_21#27506, user_uembed_22#27572, ... 41 more fields]\n                  :                                                                                               +- Project [user_id#25959, user_uembed_0#26120, user_uembed_1#26186, user_uembed_2#26252, user_uembed_3#26318, user_uembed_4#26384, user_uembed_5#26450, user_uembed_6#26516, user_uembed_7#26582, user_uembed_8#26648, user_uembed_9#26714, user_uembed_10#26780, user_uembed_11#26846, user_uembed_12#26912, user_uembed_13#26978, user_uembed_14#27044, user_uembed_15#27110, user_uembed_16#27176, user_uembed_17#27242, user_uembed_18#27308, user_uembed_19#27374, user_uembed_20#27440, user_uembed_21#27506, user_uembed_22#27572, ... 41 more fields]\n                  :                                                                                                  +- Project [user_id#25959, user_uembed_0#26120, user_uembed_1#26186, user_uembed_2#26252, user_uembed_3#26318, user_uembed_4#26384, user_uembed_5#26450, user_uembed_6#26516, user_uembed_7#26582, user_uembed_8#26648, user_uembed_9#26714, user_uembed_10#26780, user_uembed_11#26846, user_uembed_12#26912, user_uembed_13#26978, user_uembed_14#27044, user_uembed_15#27110, user_uembed_16#27176, user_uembed_17#27242, user_uembed_18#27308, user_uembed_19#27374, user_uembed_20#27440, user_uembed_21#27506, user_uembed_22#27572, ... 41 more fields]\n                  :                                                                                                     +- Project [user_id#25959, user_uembed_0#26120, user_uembed_1#26186, user_uembed_2#26252, user_uembed_3#26318, user_uembed_4#26384, user_uembed_5#26450, user_uembed_6#26516, user_uembed_7#26582, user_uembed_8#26648, user_uembed_9#26714, user_uembed_10#26780, user_uembed_11#26846, user_uembed_12#26912, user_uembed_13#26978, user_uembed_14#27044, user_uembed_15#27110, user_uembed_16#27176, user_uembed_17#27242, user_uembed_18#27308, user_uembed_19#27374, user_uembed_20#27440, user_uembed_21#27506, user_uembed_22#27572, ... 41 more fields]\n                  :                                                                                                        +- Project [user_id#25959, user_uembed_0#26120, user_uembed_1#26186, user_uembed_2#26252, user_uembed_3#26318, user_uembed_4#26384, user_uembed_5#26450, user_uembed_6#26516, user_uembed_7#26582, user_uembed_8#26648, user_uembed_9#26714, user_uembed_10#26780, user_uembed_11#26846, user_uembed_12#26912, user_uembed_13#26978, user_uembed_14#27044, user_uembed_15#27110, user_uembed_16#27176, user_uembed_17#27242, user_uembed_18#27308, user_uembed_19#27374, user_uembed_20#27440, user_uembed_21#27506, user_uembed_22#27572, ... 41 more fields]\n                  :                                                                                                           +- Project [user_id#25959, user_uembed_0#26120, user_uembed_1#26186, user_uembed_2#26252, user_uembed_3#26318, user_uembed_4#26384, user_uembed_5#26450, user_uembed_6#26516, user_uembed_7#26582, user_uembed_8#26648, user_uembed_9#26714, user_uembed_10#26780, user_uembed_11#26846, user_uembed_12#26912, user_uembed_13#26978, user_uembed_14#27044, user_uembed_15#27110, user_uembed_16#27176, user_uembed_17#27242, user_uembed_18#27308, user_uembed_19#27374, user_uembed_20#27440, user_uembed_21#27506, user_uembed_22#27572, ... 41 more fields]\n                  :                                                                                                              +- Project [user_id#25959, user_uembed_0#26120, user_uembed_1#26186, user_uembed_2#26252, user_uembed_3#26318, user_uembed_4#26384, user_uembed_5#26450, user_uembed_6#26516, user_uembed_7#26582, user_uembed_8#26648, user_uembed_9#26714, user_uembed_10#26780, user_uembed_11#26846, user_uembed_12#26912, user_uembed_13#26978, user_uembed_14#27044, user_uembed_15#27110, user_uembed_16#27176, user_uembed_17#27242, user_uembed_18#27308, user_uembed_19#27374, user_uembed_20#27440, user_uembed_21#27506, user_uembed_22#27572, ... 41 more fields]\n                  :                                                                                                                 +- Project [user_id#25959, user_uembed_0#26120, user_uembed_1#26186, user_uembed_2#26252, user_uembed_3#26318, user_uembed_4#26384, user_uembed_5#26450, user_uembed_6#26516, user_uembed_7#26582, user_uembed_8#26648, user_uembed_9#26714, user_uembed_10#26780, user_uembed_11#26846, user_uembed_12#26912, user_uembed_13#26978, user_uembed_14#27044, user_uembed_15#27110, user_uembed_16#27176, user_uembed_17#27242, user_uembed_18#27308, user_uembed_19#27374, user_uembed_20#27440, user_uembed_21#27506, user_uembed_22#27572, ... 41 more fields]\n                  :                                                                                                                    +- Project [user_id#25959, user_uembed_0#26120, user_uembed_1#26186, user_uembed_2#26252, user_uembed_3#26318, user_uembed_4#26384, user_uembed_5#26450, user_uembed_6#26516, user_uembed_7#26582, user_uembed_8#26648, user_uembed_9#26714, user_uembed_10#26780, user_uembed_11#26846, user_uembed_12#26912, user_uembed_13#26978, user_uembed_14#27044, user_uembed_15#27110, user_uembed_16#27176, user_uembed_17#27242, user_uembed_18#27308, user_uembed_19#27374, user_uembed_20#27440, user_uembed_21#27506, user_uembed_22#27572, ... 41 more fields]\n                  :                                                                                                                       +- Project [user_id#25959, user_uembed_0#26120, user_uembed_1#26186, user_uembed_2#26252, user_uembed_3#26318, user_uembed_4#26384, user_uembed_5#26450, user_uembed_6#26516, user_uembed_7#26582, user_uembed_8#26648, user_uembed_9#26714, user_uembed_10#26780, user_uembed_11#26846, user_uembed_12#26912, user_uembed_13#26978, user_uembed_14#27044, user_uembed_15#27110, user_uembed_16#27176, user_uembed_17#27242, user_uembed_18#27308, user_uembed_19#27374, user_uembed_20#27440, user_uembed_21#27506, user_uembed_22#27572, ... 41 more fields]\n                  :                                                                                                                          +- Project [user_id#25959, user_uembed_0#26120, user_uembed_1#26186, user_uembed_2#26252, user_uembed_3#26318, user_uembed_4#26384, user_uembed_5#26450, user_uembed_6#26516, user_uembed_7#26582, user_uembed_8#26648, user_uembed_9#26714, user_uembed_10#26780, user_uembed_11#26846, user_uembed_12#26912, user_uembed_13#26978, user_uembed_14#27044, user_uembed_15#27110, user_uembed_16#27176, user_uembed_17#27242, user_uembed_18#27308, user_uembed_19#27374, user_uembed_20#27440, user_uembed_21#27506, user_uembed_22#27572, ... 41 more fields]\n                  :                                                                                                                             +- Project [user_id#25959, user_uembed_0#26120, user_uembed_1#26186, user_uembed_2#26252, user_uembed_3#26318, user_uembed_4#26384, user_uembed_5#26450, user_uembed_6#26516, user_uembed_7#26582, user_uembed_8#26648, user_uembed_9#26714, user_uembed_10#26780, user_uembed_11#26846, user_uembed_12#26912, user_uembed_13#26978, user_uembed_14#27044, user_uembed_15#27110, user_uembed_16#27176, user_uembed_17#27242, user_uembed_18#27308, user_uembed_19#27374, user_uembed_20#27440, user_uembed_21#27506, user_uembed_22#27572, ... 41 more fields]\n                  :                                                                                                                                +- Project [user_id#25959, user_uembed_0#26120, user_uembed_1#26186, user_uembed_2#26252, user_uembed_3#26318, user_uembed_4#26384, user_uembed_5#26450, user_uembed_6#26516, user_uembed_7#26582, user_uembed_8#26648, user_uembed_9#26714, user_uembed_10#26780, user_uembed_11#26846, user_uembed_12#26912, user_uembed_13#26978, user_uembed_14#27044, user_uembed_15#27110, user_uembed_16#27176, user_uembed_17#27242, user_uembed_18#27308, user_uembed_19#27374, user_uembed_20#27440, user_uembed_21#27506, uembed_22#50257 AS user_uembed_22#27572, ... 41 more fields]\n                  :                                                                                                                                   +- Project [user_id#25959, user_uembed_0#26120, user_uembed_1#26186, user_uembed_2#26252, user_uembed_3#26318, user_uembed_4#26384, user_uembed_5#26450, user_uembed_6#26516, user_uembed_7#26582, user_uembed_8#26648, user_uembed_9#26714, user_uembed_10#26780, user_uembed_11#26846, user_uembed_12#26912, user_uembed_13#26978, user_uembed_14#27044, user_uembed_15#27110, user_uembed_16#27176, user_uembed_17#27242, user_uembed_18#27308, user_uembed_19#27374, user_uembed_20#27440, uembed_21#50256 AS user_uembed_21#27506, uembed_22#50257, ... 41 more fields]\n                  :                                                                                                                                      +- Project [user_id#25959, user_uembed_0#26120, user_uembed_1#26186, user_uembed_2#26252, user_uembed_3#26318, user_uembed_4#26384, user_uembed_5#26450, user_uembed_6#26516, user_uembed_7#26582, user_uembed_8#26648, user_uembed_9#26714, user_uembed_10#26780, user_uembed_11#26846, user_uembed_12#26912, user_uembed_13#26978, user_uembed_14#27044, user_uembed_15#27110, user_uembed_16#27176, user_uembed_17#27242, user_uembed_18#27308, user_uembed_19#27374, uembed_20#50255 AS user_uembed_20#27440, uembed_21#50256, uembed_22#50257, ... 41 more fields]\n                  :                                                                                                                                         +- Project [user_id#25959, user_uembed_0#26120, user_uembed_1#26186, user_uembed_2#26252, user_uembed_3#26318, user_uembed_4#26384, user_uembed_5#26450, user_uembed_6#26516, user_uembed_7#26582, user_uembed_8#26648, user_uembed_9#26714, user_uembed_10#26780, user_uembed_11#26846, user_uembed_12#26912, user_uembed_13#26978, user_uembed_14#27044, user_uembed_15#27110, user_uembed_16#27176, user_uembed_17#27242, user_uembed_18#27308, uembed_19#50254 AS user_uembed_19#27374, uembed_20#50255, uembed_21#50256, uembed_22#50257, ... 41 more fields]\n                  :                                                                                                                                            +- Project [user_id#25959, user_uembed_0#26120, user_uembed_1#26186, user_uembed_2#26252, user_uembed_3#26318, user_uembed_4#26384, user_uembed_5#26450, user_uembed_6#26516, user_uembed_7#26582, user_uembed_8#26648, user_uembed_9#26714, user_uembed_10#26780, user_uembed_11#26846, user_uembed_12#26912, user_uembed_13#26978, user_uembed_14#27044, user_uembed_15#27110, user_uembed_16#27176, user_uembed_17#27242, uembed_18#50253 AS user_uembed_18#27308, uembed_19#50254, uembed_20#50255, uembed_21#50256, uembed_22#50257, ... 41 more fields]\n                  :                                                                                                                                               +- Project [user_id#25959, user_uembed_0#26120, user_uembed_1#26186, user_uembed_2#26252, user_uembed_3#26318, user_uembed_4#26384, user_uembed_5#26450, user_uembed_6#26516, user_uembed_7#26582, user_uembed_8#26648, user_uembed_9#26714, user_uembed_10#26780, user_uembed_11#26846, user_uembed_12#26912, user_uembed_13#26978, user_uembed_14#27044, user_uembed_15#27110, user_uembed_16#27176, uembed_17#50252 AS user_uembed_17#27242, uembed_18#50253, uembed_19#50254, uembed_20#50255, uembed_21#50256, uembed_22#50257, ... 41 more fields]\n                  :                                                                                                                                                  +- Project [user_id#25959, user_uembed_0#26120, user_uembed_1#26186, user_uembed_2#26252, user_uembed_3#26318, user_uembed_4#26384, user_uembed_5#26450, user_uembed_6#26516, user_uembed_7#26582, user_uembed_8#26648, user_uembed_9#26714, user_uembed_10#26780, user_uembed_11#26846, user_uembed_12#26912, user_uembed_13#26978, user_uembed_14#27044, user_uembed_15#27110, uembed_16#50251 AS user_uembed_16#27176, uembed_17#50252, uembed_18#50253, uembed_19#50254, uembed_20#50255, uembed_21#50256, uembed_22#50257, ... 41 more fields]\n                  :                                                                                                                                                     +- Project [user_id#25959, user_uembed_0#26120, user_uembed_1#26186, user_uembed_2#26252, user_uembed_3#26318, user_uembed_4#26384, user_uembed_5#26450, user_uembed_6#26516, user_uembed_7#26582, user_uembed_8#26648, user_uembed_9#26714, user_uembed_10#26780, user_uembed_11#26846, user_uembed_12#26912, user_uembed_13#26978, user_uembed_14#27044, uembed_15#50250 AS user_uembed_15#27110, uembed_16#50251, uembed_17#50252, uembed_18#50253, uembed_19#50254, uembed_20#50255, uembed_21#50256, uembed_22#50257, ... 41 more fields]\n                  :                                                                                                                                                        +- Project [user_id#25959, user_uembed_0#26120, user_uembed_1#26186, user_uembed_2#26252, user_uembed_3#26318, user_uembed_4#26384, user_uembed_5#26450, user_uembed_6#26516, user_uembed_7#26582, user_uembed_8#26648, user_uembed_9#26714, user_uembed_10#26780, user_uembed_11#26846, user_uembed_12#26912, user_uembed_13#26978, uembed_14#50249 AS user_uembed_14#27044, uembed_15#50250, uembed_16#50251, uembed_17#50252, uembed_18#50253, uembed_19#50254, uembed_20#50255, uembed_21#50256, uembed_22#50257, ... 41 more fields]\n                  :                                                                                                                                                           +- Project [user_id#25959, user_uembed_0#26120, user_uembed_1#26186, user_uembed_2#26252, user_uembed_3#26318, user_uembed_4#26384, user_uembed_5#26450, user_uembed_6#26516, user_uembed_7#26582, user_uembed_8#26648, user_uembed_9#26714, user_uembed_10#26780, user_uembed_11#26846, user_uembed_12#26912, uembed_13#50248 AS user_uembed_13#26978, uembed_14#50249, uembed_15#50250, uembed_16#50251, uembed_17#50252, uembed_18#50253, uembed_19#50254, uembed_20#50255, uembed_21#50256, uembed_22#50257, ... 41 more fields]\n                  :                                                                                                                                                              +- Project [user_id#25959, user_uembed_0#26120, user_uembed_1#26186, user_uembed_2#26252, user_uembed_3#26318, user_uembed_4#26384, user_uembed_5#26450, user_uembed_6#26516, user_uembed_7#26582, user_uembed_8#26648, user_uembed_9#26714, user_uembed_10#26780, user_uembed_11#26846, uembed_12#50247 AS user_uembed_12#26912, uembed_13#50248, uembed_14#50249, uembed_15#50250, uembed_16#50251, uembed_17#50252, uembed_18#50253, uembed_19#50254, uembed_20#50255, uembed_21#50256, uembed_22#50257, ... 41 more fields]\n                  :                                                                                                                                                                 +- Project [user_id#25959, user_uembed_0#26120, user_uembed_1#26186, user_uembed_2#26252, user_uembed_3#26318, user_uembed_4#26384, user_uembed_5#26450, user_uembed_6#26516, user_uembed_7#26582, user_uembed_8#26648, user_uembed_9#26714, user_uembed_10#26780, uembed_11#50246 AS user_uembed_11#26846, uembed_12#50247, uembed_13#50248, uembed_14#50249, uembed_15#50250, uembed_16#50251, uembed_17#50252, uembed_18#50253, uembed_19#50254, uembed_20#50255, uembed_21#50256, uembed_22#50257, ... 41 more fields]\n                  :                                                                                                                                                                    +- Project [user_id#25959, user_uembed_0#26120, user_uembed_1#26186, user_uembed_2#26252, user_uembed_3#26318, user_uembed_4#26384, user_uembed_5#26450, user_uembed_6#26516, user_uembed_7#26582, user_uembed_8#26648, user_uembed_9#26714, uembed_10#50245 AS user_uembed_10#26780, uembed_11#50246, uembed_12#50247, uembed_13#50248, uembed_14#50249, uembed_15#50250, uembed_16#50251, uembed_17#50252, uembed_18#50253, uembed_19#50254, uembed_20#50255, uembed_21#50256, uembed_22#50257, ... 41 more fields]\n                  :                                                                                                                                                                       +- Project [user_id#25959, user_uembed_0#26120, user_uembed_1#26186, user_uembed_2#26252, user_uembed_3#26318, user_uembed_4#26384, user_uembed_5#26450, user_uembed_6#26516, user_uembed_7#26582, user_uembed_8#26648, uembed_9#50244 AS user_uembed_9#26714, uembed_10#50245, uembed_11#50246, uembed_12#50247, uembed_13#50248, uembed_14#50249, uembed_15#50250, uembed_16#50251, uembed_17#50252, uembed_18#50253, uembed_19#50254, uembed_20#50255, uembed_21#50256, uembed_22#50257, ... 41 more fields]\n                  :                                                                                                                                                                          +- Project [user_id#25959, user_uembed_0#26120, user_uembed_1#26186, user_uembed_2#26252, user_uembed_3#26318, user_uembed_4#26384, user_uembed_5#26450, user_uembed_6#26516, user_uembed_7#26582, uembed_8#50243 AS user_uembed_8#26648, uembed_9#50244, uembed_10#50245, uembed_11#50246, uembed_12#50247, uembed_13#50248, uembed_14#50249, uembed_15#50250, uembed_16#50251, uembed_17#50252, uembed_18#50253, uembed_19#50254, uembed_20#50255, uembed_21#50256, uembed_22#50257, ... 41 more fields]\n                  :                                                                                                                                                                             +- Project [user_id#25959, user_uembed_0#26120, user_uembed_1#26186, user_uembed_2#26252, user_uembed_3#26318, user_uembed_4#26384, user_uembed_5#26450, user_uembed_6#26516, uembed_7#50242 AS user_uembed_7#26582, uembed_8#50243, uembed_9#50244, uembed_10#50245, uembed_11#50246, uembed_12#50247, uembed_13#50248, uembed_14#50249, uembed_15#50250, uembed_16#50251, uembed_17#50252, uembed_18#50253, uembed_19#50254, uembed_20#50255, uembed_21#50256, uembed_22#50257, ... 41 more fields]\n                  :                                                                                                                                                                                +- Project [user_id#25959, user_uembed_0#26120, user_uembed_1#26186, user_uembed_2#26252, user_uembed_3#26318, user_uembed_4#26384, user_uembed_5#26450, uembed_6#50241 AS user_uembed_6#26516, uembed_7#50242, uembed_8#50243, uembed_9#50244, uembed_10#50245, uembed_11#50246, uembed_12#50247, uembed_13#50248, uembed_14#50249, uembed_15#50250, uembed_16#50251, uembed_17#50252, uembed_18#50253, uembed_19#50254, uembed_20#50255, uembed_21#50256, uembed_22#50257, ... 41 more fields]\n                  :                                                                                                                                                                                   +- Project [user_id#25959, user_uembed_0#26120, user_uembed_1#26186, user_uembed_2#26252, user_uembed_3#26318, user_uembed_4#26384, uembed_5#50240 AS user_uembed_5#26450, uembed_6#50241, uembed_7#50242, uembed_8#50243, uembed_9#50244, uembed_10#50245, uembed_11#50246, uembed_12#50247, uembed_13#50248, uembed_14#50249, uembed_15#50250, uembed_16#50251, uembed_17#50252, uembed_18#50253, uembed_19#50254, uembed_20#50255, uembed_21#50256, uembed_22#50257, ... 41 more fields]\n                  :                                                                                                                                                                                      +- Project [user_id#25959, user_uembed_0#26120, user_uembed_1#26186, user_uembed_2#26252, user_uembed_3#26318, uembed_4#50239 AS user_uembed_4#26384, uembed_5#50240, uembed_6#50241, uembed_7#50242, uembed_8#50243, uembed_9#50244, uembed_10#50245, uembed_11#50246, uembed_12#50247, uembed_13#50248, uembed_14#50249, uembed_15#50250, uembed_16#50251, uembed_17#50252, uembed_18#50253, uembed_19#50254, uembed_20#50255, uembed_21#50256, uembed_22#50257, ... 41 more fields]\n                  :                                                                                                                                                                                         +- Project [user_id#25959, user_uembed_0#26120, user_uembed_1#26186, user_uembed_2#26252, uembed_3#50238 AS user_uembed_3#26318, uembed_4#50239, uembed_5#50240, uembed_6#50241, uembed_7#50242, uembed_8#50243, uembed_9#50244, uembed_10#50245, uembed_11#50246, uembed_12#50247, uembed_13#50248, uembed_14#50249, uembed_15#50250, uembed_16#50251, uembed_17#50252, uembed_18#50253, uembed_19#50254, uembed_20#50255, uembed_21#50256, uembed_22#50257, ... 41 more fields]\n                  :                                                                                                                                                                                            +- Project [user_id#25959, user_uembed_0#26120, user_uembed_1#26186, uembed_2#50237 AS user_uembed_2#26252, uembed_3#50238, uembed_4#50239, uembed_5#50240, uembed_6#50241, uembed_7#50242, uembed_8#50243, uembed_9#50244, uembed_10#50245, uembed_11#50246, uembed_12#50247, uembed_13#50248, uembed_14#50249, uembed_15#50250, uembed_16#50251, uembed_17#50252, uembed_18#50253, uembed_19#50254, uembed_20#50255, uembed_21#50256, uembed_22#50257, ... 41 more fields]\n                  :                                                                                                                                                                                               +- Project [user_id#25959, user_uembed_0#26120, uembed_1#50236 AS user_uembed_1#26186, uembed_2#50237, uembed_3#50238, uembed_4#50239, uembed_5#50240, uembed_6#50241, uembed_7#50242, uembed_8#50243, uembed_9#50244, uembed_10#50245, uembed_11#50246, uembed_12#50247, uembed_13#50248, uembed_14#50249, uembed_15#50250, uembed_16#50251, uembed_17#50252, uembed_18#50253, uembed_19#50254, uembed_20#50255, uembed_21#50256, uembed_22#50257, ... 41 more fields]\n                  :                                                                                                                                                                                                  +- Project [user_id#25959, uembed_0#50235 AS user_uembed_0#26120, uembed_1#50236, uembed_2#50237, uembed_3#50238, uembed_4#50239, uembed_5#50240, uembed_6#50241, uembed_7#50242, uembed_8#50243, uembed_9#50244, uembed_10#50245, uembed_11#50246, uembed_12#50247, uembed_13#50248, uembed_14#50249, uembed_15#50250, uembed_16#50251, uembed_17#50252, uembed_18#50253, uembed_19#50254, uembed_20#50255, uembed_21#50256, uembed_22#50257, ... 41 more fields]\n                  :                                                                                                                                                                                                     +- Project [user_idx#50234 AS user_id#25959, uembed_0#50235, uembed_1#50236, uembed_2#50237, uembed_3#50238, uembed_4#50239, uembed_5#50240, uembed_6#50241, uembed_7#50242, uembed_8#50243, uembed_9#50244, uembed_10#50245, uembed_11#50246, uembed_12#50247, uembed_13#50248, uembed_14#50249, uembed_15#50250, uembed_16#50251, uembed_17#50252, uembed_18#50253, uembed_19#50254, uembed_20#50255, uembed_21#50256, uembed_22#50257, ... 41 more fields]\n                  :                                                                                                                                                                                                        +- Relation [user_idx#50234,uembed_0#50235,uembed_1#50236,uembed_2#50237,uembed_3#50238,uembed_4#50239,uembed_5#50240,uembed_6#50241,uembed_7#50242,uembed_8#50243,uembed_9#50244,uembed_10#50245,uembed_11#50246,uembed_12#50247,uembed_13#50248,uembed_14#50249,uembed_15#50250,uembed_16#50251,uembed_17#50252,uembed_18#50253,uembed_19#50254,uembed_20#50255,uembed_21#50256,uembed_22#50257,... 41 more fields] csv\n                  +- Project [item_id#26026, item_iembed_0#30344, item_iembed_1#30410, item_iembed_2#30476, item_iembed_3#30542, item_iembed_4#30608, item_iembed_5#30674, item_iembed_6#30740, item_iembed_7#30806, item_iembed_8#30872, item_iembed_9#30938, item_iembed_10#31004, item_iembed_11#31070, item_iembed_12#31136, item_iembed_13#31202, item_iembed_14#31268, item_iembed_15#31334, item_iembed_16#31400, item_iembed_17#31466, item_iembed_18#31532, item_iembed_19#31598, item_iembed_20#31664, item_iembed_21#31730, item_iembed_22#31796, ... 41 more fields]\n                     +- Project [item_id#26026, item_iembed_0#30344, item_iembed_1#30410, item_iembed_2#30476, item_iembed_3#30542, item_iembed_4#30608, item_iembed_5#30674, item_iembed_6#30740, item_iembed_7#30806, item_iembed_8#30872, item_iembed_9#30938, item_iembed_10#31004, item_iembed_11#31070, item_iembed_12#31136, item_iembed_13#31202, item_iembed_14#31268, item_iembed_15#31334, item_iembed_16#31400, item_iembed_17#31466, item_iembed_18#31532, item_iembed_19#31598, item_iembed_20#31664, item_iembed_21#31730, item_iembed_22#31796, ... 41 more fields]\n                        +- Project [item_id#26026, item_iembed_0#30344, item_iembed_1#30410, item_iembed_2#30476, item_iembed_3#30542, item_iembed_4#30608, item_iembed_5#30674, item_iembed_6#30740, item_iembed_7#30806, item_iembed_8#30872, item_iembed_9#30938, item_iembed_10#31004, item_iembed_11#31070, item_iembed_12#31136, item_iembed_13#31202, item_iembed_14#31268, item_iembed_15#31334, item_iembed_16#31400, item_iembed_17#31466, item_iembed_18#31532, item_iembed_19#31598, item_iembed_20#31664, item_iembed_21#31730, item_iembed_22#31796, ... 41 more fields]\n                           +- Project [item_id#26026, item_iembed_0#30344, item_iembed_1#30410, item_iembed_2#30476, item_iembed_3#30542, item_iembed_4#30608, item_iembed_5#30674, item_iembed_6#30740, item_iembed_7#30806, item_iembed_8#30872, item_iembed_9#30938, item_iembed_10#31004, item_iembed_11#31070, item_iembed_12#31136, item_iembed_13#31202, item_iembed_14#31268, item_iembed_15#31334, item_iembed_16#31400, item_iembed_17#31466, item_iembed_18#31532, item_iembed_19#31598, item_iembed_20#31664, item_iembed_21#31730, item_iembed_22#31796, ... 41 more fields]\n                              +- Project [item_id#26026, item_iembed_0#30344, item_iembed_1#30410, item_iembed_2#30476, item_iembed_3#30542, item_iembed_4#30608, item_iembed_5#30674, item_iembed_6#30740, item_iembed_7#30806, item_iembed_8#30872, item_iembed_9#30938, item_iembed_10#31004, item_iembed_11#31070, item_iembed_12#31136, item_iembed_13#31202, item_iembed_14#31268, item_iembed_15#31334, item_iembed_16#31400, item_iembed_17#31466, item_iembed_18#31532, item_iembed_19#31598, item_iembed_20#31664, item_iembed_21#31730, item_iembed_22#31796, ... 41 more fields]\n                                 +- Project [item_id#26026, item_iembed_0#30344, item_iembed_1#30410, item_iembed_2#30476, item_iembed_3#30542, item_iembed_4#30608, item_iembed_5#30674, item_iembed_6#30740, item_iembed_7#30806, item_iembed_8#30872, item_iembed_9#30938, item_iembed_10#31004, item_iembed_11#31070, item_iembed_12#31136, item_iembed_13#31202, item_iembed_14#31268, item_iembed_15#31334, item_iembed_16#31400, item_iembed_17#31466, item_iembed_18#31532, item_iembed_19#31598, item_iembed_20#31664, item_iembed_21#31730, item_iembed_22#31796, ... 41 more fields]\n                                    +- Project [item_id#26026, item_iembed_0#30344, item_iembed_1#30410, item_iembed_2#30476, item_iembed_3#30542, item_iembed_4#30608, item_iembed_5#30674, item_iembed_6#30740, item_iembed_7#30806, item_iembed_8#30872, item_iembed_9#30938, item_iembed_10#31004, item_iembed_11#31070, item_iembed_12#31136, item_iembed_13#31202, item_iembed_14#31268, item_iembed_15#31334, item_iembed_16#31400, item_iembed_17#31466, item_iembed_18#31532, item_iembed_19#31598, item_iembed_20#31664, item_iembed_21#31730, item_iembed_22#31796, ... 41 more fields]\n                                       +- Project [item_id#26026, item_iembed_0#30344, item_iembed_1#30410, item_iembed_2#30476, item_iembed_3#30542, item_iembed_4#30608, item_iembed_5#30674, item_iembed_6#30740, item_iembed_7#30806, item_iembed_8#30872, item_iembed_9#30938, item_iembed_10#31004, item_iembed_11#31070, item_iembed_12#31136, item_iembed_13#31202, item_iembed_14#31268, item_iembed_15#31334, item_iembed_16#31400, item_iembed_17#31466, item_iembed_18#31532, item_iembed_19#31598, item_iembed_20#31664, item_iembed_21#31730, item_iembed_22#31796, ... 41 more fields]\n                                          +- Project [item_id#26026, item_iembed_0#30344, item_iembed_1#30410, item_iembed_2#30476, item_iembed_3#30542, item_iembed_4#30608, item_iembed_5#30674, item_iembed_6#30740, item_iembed_7#30806, item_iembed_8#30872, item_iembed_9#30938, item_iembed_10#31004, item_iembed_11#31070, item_iembed_12#31136, item_iembed_13#31202, item_iembed_14#31268, item_iembed_15#31334, item_iembed_16#31400, item_iembed_17#31466, item_iembed_18#31532, item_iembed_19#31598, item_iembed_20#31664, item_iembed_21#31730, item_iembed_22#31796, ... 41 more fields]\n                                             +- Project [item_id#26026, item_iembed_0#30344, item_iembed_1#30410, item_iembed_2#30476, item_iembed_3#30542, item_iembed_4#30608, item_iembed_5#30674, item_iembed_6#30740, item_iembed_7#30806, item_iembed_8#30872, item_iembed_9#30938, item_iembed_10#31004, item_iembed_11#31070, item_iembed_12#31136, item_iembed_13#31202, item_iembed_14#31268, item_iembed_15#31334, item_iembed_16#31400, item_iembed_17#31466, item_iembed_18#31532, item_iembed_19#31598, item_iembed_20#31664, item_iembed_21#31730, item_iembed_22#31796, ... 41 more fields]\n                                                +- Project [item_id#26026, item_iembed_0#30344, item_iembed_1#30410, item_iembed_2#30476, item_iembed_3#30542, item_iembed_4#30608, item_iembed_5#30674, item_iembed_6#30740, item_iembed_7#30806, item_iembed_8#30872, item_iembed_9#30938, item_iembed_10#31004, item_iembed_11#31070, item_iembed_12#31136, item_iembed_13#31202, item_iembed_14#31268, item_iembed_15#31334, item_iembed_16#31400, item_iembed_17#31466, item_iembed_18#31532, item_iembed_19#31598, item_iembed_20#31664, item_iembed_21#31730, item_iembed_22#31796, ... 41 more fields]\n                                                   +- Project [item_id#26026, item_iembed_0#30344, item_iembed_1#30410, item_iembed_2#30476, item_iembed_3#30542, item_iembed_4#30608, item_iembed_5#30674, item_iembed_6#30740, item_iembed_7#30806, item_iembed_8#30872, item_iembed_9#30938, item_iembed_10#31004, item_iembed_11#31070, item_iembed_12#31136, item_iembed_13#31202, item_iembed_14#31268, item_iembed_15#31334, item_iembed_16#31400, item_iembed_17#31466, item_iembed_18#31532, item_iembed_19#31598, item_iembed_20#31664, item_iembed_21#31730, item_iembed_22#31796, ... 41 more fields]\n                                                      +- Project [item_id#26026, item_iembed_0#30344, item_iembed_1#30410, item_iembed_2#30476, item_iembed_3#30542, item_iembed_4#30608, item_iembed_5#30674, item_iembed_6#30740, item_iembed_7#30806, item_iembed_8#30872, item_iembed_9#30938, item_iembed_10#31004, item_iembed_11#31070, item_iembed_12#31136, item_iembed_13#31202, item_iembed_14#31268, item_iembed_15#31334, item_iembed_16#31400, item_iembed_17#31466, item_iembed_18#31532, item_iembed_19#31598, item_iembed_20#31664, item_iembed_21#31730, item_iembed_22#31796, ... 41 more fields]\n                                                         +- Project [item_id#26026, item_iembed_0#30344, item_iembed_1#30410, item_iembed_2#30476, item_iembed_3#30542, item_iembed_4#30608, item_iembed_5#30674, item_iembed_6#30740, item_iembed_7#30806, item_iembed_8#30872, item_iembed_9#30938, item_iembed_10#31004, item_iembed_11#31070, item_iembed_12#31136, item_iembed_13#31202, item_iembed_14#31268, item_iembed_15#31334, item_iembed_16#31400, item_iembed_17#31466, item_iembed_18#31532, item_iembed_19#31598, item_iembed_20#31664, item_iembed_21#31730, item_iembed_22#31796, ... 41 more fields]\n                                                            +- Project [item_id#26026, item_iembed_0#30344, item_iembed_1#30410, item_iembed_2#30476, item_iembed_3#30542, item_iembed_4#30608, item_iembed_5#30674, item_iembed_6#30740, item_iembed_7#30806, item_iembed_8#30872, item_iembed_9#30938, item_iembed_10#31004, item_iembed_11#31070, item_iembed_12#31136, item_iembed_13#31202, item_iembed_14#31268, item_iembed_15#31334, item_iembed_16#31400, item_iembed_17#31466, item_iembed_18#31532, item_iembed_19#31598, item_iembed_20#31664, item_iembed_21#31730, item_iembed_22#31796, ... 41 more fields]\n                                                               +- Project [item_id#26026, item_iembed_0#30344, item_iembed_1#30410, item_iembed_2#30476, item_iembed_3#30542, item_iembed_4#30608, item_iembed_5#30674, item_iembed_6#30740, item_iembed_7#30806, item_iembed_8#30872, item_iembed_9#30938, item_iembed_10#31004, item_iembed_11#31070, item_iembed_12#31136, item_iembed_13#31202, item_iembed_14#31268, item_iembed_15#31334, item_iembed_16#31400, item_iembed_17#31466, item_iembed_18#31532, item_iembed_19#31598, item_iembed_20#31664, item_iembed_21#31730, item_iembed_22#31796, ... 41 more fields]\n                                                                  +- Project [item_id#26026, item_iembed_0#30344, item_iembed_1#30410, item_iembed_2#30476, item_iembed_3#30542, item_iembed_4#30608, item_iembed_5#30674, item_iembed_6#30740, item_iembed_7#30806, item_iembed_8#30872, item_iembed_9#30938, item_iembed_10#31004, item_iembed_11#31070, item_iembed_12#31136, item_iembed_13#31202, item_iembed_14#31268, item_iembed_15#31334, item_iembed_16#31400, item_iembed_17#31466, item_iembed_18#31532, item_iembed_19#31598, item_iembed_20#31664, item_iembed_21#31730, item_iembed_22#31796, ... 41 more fields]\n                                                                     +- Project [item_id#26026, item_iembed_0#30344, item_iembed_1#30410, item_iembed_2#30476, item_iembed_3#30542, item_iembed_4#30608, item_iembed_5#30674, item_iembed_6#30740, item_iembed_7#30806, item_iembed_8#30872, item_iembed_9#30938, item_iembed_10#31004, item_iembed_11#31070, item_iembed_12#31136, item_iembed_13#31202, item_iembed_14#31268, item_iembed_15#31334, item_iembed_16#31400, item_iembed_17#31466, item_iembed_18#31532, item_iembed_19#31598, item_iembed_20#31664, item_iembed_21#31730, item_iembed_22#31796, ... 41 more fields]\n                                                                        +- Project [item_id#26026, item_iembed_0#30344, item_iembed_1#30410, item_iembed_2#30476, item_iembed_3#30542, item_iembed_4#30608, item_iembed_5#30674, item_iembed_6#30740, item_iembed_7#30806, item_iembed_8#30872, item_iembed_9#30938, item_iembed_10#31004, item_iembed_11#31070, item_iembed_12#31136, item_iembed_13#31202, item_iembed_14#31268, item_iembed_15#31334, item_iembed_16#31400, item_iembed_17#31466, item_iembed_18#31532, item_iembed_19#31598, item_iembed_20#31664, item_iembed_21#31730, item_iembed_22#31796, ... 41 more fields]\n                                                                           +- Project [item_id#26026, item_iembed_0#30344, item_iembed_1#30410, item_iembed_2#30476, item_iembed_3#30542, item_iembed_4#30608, item_iembed_5#30674, item_iembed_6#30740, item_iembed_7#30806, item_iembed_8#30872, item_iembed_9#30938, item_iembed_10#31004, item_iembed_11#31070, item_iembed_12#31136, item_iembed_13#31202, item_iembed_14#31268, item_iembed_15#31334, item_iembed_16#31400, item_iembed_17#31466, item_iembed_18#31532, item_iembed_19#31598, item_iembed_20#31664, item_iembed_21#31730, item_iembed_22#31796, ... 41 more fields]\n                                                                              +- Project [item_id#26026, item_iembed_0#30344, item_iembed_1#30410, item_iembed_2#30476, item_iembed_3#30542, item_iembed_4#30608, item_iembed_5#30674, item_iembed_6#30740, item_iembed_7#30806, item_iembed_8#30872, item_iembed_9#30938, item_iembed_10#31004, item_iembed_11#31070, item_iembed_12#31136, item_iembed_13#31202, item_iembed_14#31268, item_iembed_15#31334, item_iembed_16#31400, item_iembed_17#31466, item_iembed_18#31532, item_iembed_19#31598, item_iembed_20#31664, item_iembed_21#31730, item_iembed_22#31796, ... 41 more fields]\n                                                                                 +- Project [item_id#26026, item_iembed_0#30344, item_iembed_1#30410, item_iembed_2#30476, item_iembed_3#30542, item_iembed_4#30608, item_iembed_5#30674, item_iembed_6#30740, item_iembed_7#30806, item_iembed_8#30872, item_iembed_9#30938, item_iembed_10#31004, item_iembed_11#31070, item_iembed_12#31136, item_iembed_13#31202, item_iembed_14#31268, item_iembed_15#31334, item_iembed_16#31400, item_iembed_17#31466, item_iembed_18#31532, item_iembed_19#31598, item_iembed_20#31664, item_iembed_21#31730, item_iembed_22#31796, ... 41 more fields]\n                                                                                    +- Project [item_id#26026, item_iembed_0#30344, item_iembed_1#30410, item_iembed_2#30476, item_iembed_3#30542, item_iembed_4#30608, item_iembed_5#30674, item_iembed_6#30740, item_iembed_7#30806, item_iembed_8#30872, item_iembed_9#30938, item_iembed_10#31004, item_iembed_11#31070, item_iembed_12#31136, item_iembed_13#31202, item_iembed_14#31268, item_iembed_15#31334, item_iembed_16#31400, item_iembed_17#31466, item_iembed_18#31532, item_iembed_19#31598, item_iembed_20#31664, item_iembed_21#31730, item_iembed_22#31796, ... 41 more fields]\n                                                                                       +- Project [item_id#26026, item_iembed_0#30344, item_iembed_1#30410, item_iembed_2#30476, item_iembed_3#30542, item_iembed_4#30608, item_iembed_5#30674, item_iembed_6#30740, item_iembed_7#30806, item_iembed_8#30872, item_iembed_9#30938, item_iembed_10#31004, item_iembed_11#31070, item_iembed_12#31136, item_iembed_13#31202, item_iembed_14#31268, item_iembed_15#31334, item_iembed_16#31400, item_iembed_17#31466, item_iembed_18#31532, item_iembed_19#31598, item_iembed_20#31664, item_iembed_21#31730, item_iembed_22#31796, ... 41 more fields]\n                                                                                          +- Project [item_id#26026, item_iembed_0#30344, item_iembed_1#30410, item_iembed_2#30476, item_iembed_3#30542, item_iembed_4#30608, item_iembed_5#30674, item_iembed_6#30740, item_iembed_7#30806, item_iembed_8#30872, item_iembed_9#30938, item_iembed_10#31004, item_iembed_11#31070, item_iembed_12#31136, item_iembed_13#31202, item_iembed_14#31268, item_iembed_15#31334, item_iembed_16#31400, item_iembed_17#31466, item_iembed_18#31532, item_iembed_19#31598, item_iembed_20#31664, item_iembed_21#31730, item_iembed_22#31796, ... 41 more fields]\n                                                                                             +- Project [item_id#26026, item_iembed_0#30344, item_iembed_1#30410, item_iembed_2#30476, item_iembed_3#30542, item_iembed_4#30608, item_iembed_5#30674, item_iembed_6#30740, item_iembed_7#30806, item_iembed_8#30872, item_iembed_9#30938, item_iembed_10#31004, item_iembed_11#31070, item_iembed_12#31136, item_iembed_13#31202, item_iembed_14#31268, item_iembed_15#31334, item_iembed_16#31400, item_iembed_17#31466, item_iembed_18#31532, item_iembed_19#31598, item_iembed_20#31664, item_iembed_21#31730, item_iembed_22#31796, ... 41 more fields]\n                                                                                                +- Project [item_id#26026, item_iembed_0#30344, item_iembed_1#30410, item_iembed_2#30476, item_iembed_3#30542, item_iembed_4#30608, item_iembed_5#30674, item_iembed_6#30740, item_iembed_7#30806, item_iembed_8#30872, item_iembed_9#30938, item_iembed_10#31004, item_iembed_11#31070, item_iembed_12#31136, item_iembed_13#31202, item_iembed_14#31268, item_iembed_15#31334, item_iembed_16#31400, item_iembed_17#31466, item_iembed_18#31532, item_iembed_19#31598, item_iembed_20#31664, item_iembed_21#31730, item_iembed_22#31796, ... 41 more fields]\n                                                                                                   +- Project [item_id#26026, item_iembed_0#30344, item_iembed_1#30410, item_iembed_2#30476, item_iembed_3#30542, item_iembed_4#30608, item_iembed_5#30674, item_iembed_6#30740, item_iembed_7#30806, item_iembed_8#30872, item_iembed_9#30938, item_iembed_10#31004, item_iembed_11#31070, item_iembed_12#31136, item_iembed_13#31202, item_iembed_14#31268, item_iembed_15#31334, item_iembed_16#31400, item_iembed_17#31466, item_iembed_18#31532, item_iembed_19#31598, item_iembed_20#31664, item_iembed_21#31730, item_iembed_22#31796, ... 41 more fields]\n                                                                                                      +- Project [item_id#26026, item_iembed_0#30344, item_iembed_1#30410, item_iembed_2#30476, item_iembed_3#30542, item_iembed_4#30608, item_iembed_5#30674, item_iembed_6#30740, item_iembed_7#30806, item_iembed_8#30872, item_iembed_9#30938, item_iembed_10#31004, item_iembed_11#31070, item_iembed_12#31136, item_iembed_13#31202, item_iembed_14#31268, item_iembed_15#31334, item_iembed_16#31400, item_iembed_17#31466, item_iembed_18#31532, item_iembed_19#31598, item_iembed_20#31664, item_iembed_21#31730, item_iembed_22#31796, ... 41 more fields]\n                                                                                                         +- Project [item_id#26026, item_iembed_0#30344, item_iembed_1#30410, item_iembed_2#30476, item_iembed_3#30542, item_iembed_4#30608, item_iembed_5#30674, item_iembed_6#30740, item_iembed_7#30806, item_iembed_8#30872, item_iembed_9#30938, item_iembed_10#31004, item_iembed_11#31070, item_iembed_12#31136, item_iembed_13#31202, item_iembed_14#31268, item_iembed_15#31334, item_iembed_16#31400, item_iembed_17#31466, item_iembed_18#31532, item_iembed_19#31598, item_iembed_20#31664, item_iembed_21#31730, item_iembed_22#31796, ... 41 more fields]\n                                                                                                            +- Project [item_id#26026, item_iembed_0#30344, item_iembed_1#30410, item_iembed_2#30476, item_iembed_3#30542, item_iembed_4#30608, item_iembed_5#30674, item_iembed_6#30740, item_iembed_7#30806, item_iembed_8#30872, item_iembed_9#30938, item_iembed_10#31004, item_iembed_11#31070, item_iembed_12#31136, item_iembed_13#31202, item_iembed_14#31268, item_iembed_15#31334, item_iembed_16#31400, item_iembed_17#31466, item_iembed_18#31532, item_iembed_19#31598, item_iembed_20#31664, item_iembed_21#31730, item_iembed_22#31796, ... 41 more fields]\n                                                                                                               +- Project [item_id#26026, item_iembed_0#30344, item_iembed_1#30410, item_iembed_2#30476, item_iembed_3#30542, item_iembed_4#30608, item_iembed_5#30674, item_iembed_6#30740, item_iembed_7#30806, item_iembed_8#30872, item_iembed_9#30938, item_iembed_10#31004, item_iembed_11#31070, item_iembed_12#31136, item_iembed_13#31202, item_iembed_14#31268, item_iembed_15#31334, item_iembed_16#31400, item_iembed_17#31466, item_iembed_18#31532, item_iembed_19#31598, item_iembed_20#31664, item_iembed_21#31730, item_iembed_22#31796, ... 41 more fields]\n                                                                                                                  +- Project [item_id#26026, item_iembed_0#30344, item_iembed_1#30410, item_iembed_2#30476, item_iembed_3#30542, item_iembed_4#30608, item_iembed_5#30674, item_iembed_6#30740, item_iembed_7#30806, item_iembed_8#30872, item_iembed_9#30938, item_iembed_10#31004, item_iembed_11#31070, item_iembed_12#31136, item_iembed_13#31202, item_iembed_14#31268, item_iembed_15#31334, item_iembed_16#31400, item_iembed_17#31466, item_iembed_18#31532, item_iembed_19#31598, item_iembed_20#31664, item_iembed_21#31730, item_iembed_22#31796, ... 41 more fields]\n                                                                                                                     +- Project [item_id#26026, item_iembed_0#30344, item_iembed_1#30410, item_iembed_2#30476, item_iembed_3#30542, item_iembed_4#30608, item_iembed_5#30674, item_iembed_6#30740, item_iembed_7#30806, item_iembed_8#30872, item_iembed_9#30938, item_iembed_10#31004, item_iembed_11#31070, item_iembed_12#31136, item_iembed_13#31202, item_iembed_14#31268, item_iembed_15#31334, item_iembed_16#31400, item_iembed_17#31466, item_iembed_18#31532, item_iembed_19#31598, item_iembed_20#31664, item_iembed_21#31730, item_iembed_22#31796, ... 41 more fields]\n                                                                                                                        +- Project [item_id#26026, item_iembed_0#30344, item_iembed_1#30410, item_iembed_2#30476, item_iembed_3#30542, item_iembed_4#30608, item_iembed_5#30674, item_iembed_6#30740, item_iembed_7#30806, item_iembed_8#30872, item_iembed_9#30938, item_iembed_10#31004, item_iembed_11#31070, item_iembed_12#31136, item_iembed_13#31202, item_iembed_14#31268, item_iembed_15#31334, item_iembed_16#31400, item_iembed_17#31466, item_iembed_18#31532, item_iembed_19#31598, item_iembed_20#31664, item_iembed_21#31730, item_iembed_22#31796, ... 41 more fields]\n                                                                                                                           +- Project [item_id#26026, item_iembed_0#30344, item_iembed_1#30410, item_iembed_2#30476, item_iembed_3#30542, item_iembed_4#30608, item_iembed_5#30674, item_iembed_6#30740, item_iembed_7#30806, item_iembed_8#30872, item_iembed_9#30938, item_iembed_10#31004, item_iembed_11#31070, item_iembed_12#31136, item_iembed_13#31202, item_iembed_14#31268, item_iembed_15#31334, item_iembed_16#31400, item_iembed_17#31466, item_iembed_18#31532, item_iembed_19#31598, item_iembed_20#31664, item_iembed_21#31730, item_iembed_22#31796, ... 41 more fields]\n                                                                                                                              +- Project [item_id#26026, item_iembed_0#30344, item_iembed_1#30410, item_iembed_2#30476, item_iembed_3#30542, item_iembed_4#30608, item_iembed_5#30674, item_iembed_6#30740, item_iembed_7#30806, item_iembed_8#30872, item_iembed_9#30938, item_iembed_10#31004, item_iembed_11#31070, item_iembed_12#31136, item_iembed_13#31202, item_iembed_14#31268, item_iembed_15#31334, item_iembed_16#31400, item_iembed_17#31466, item_iembed_18#31532, item_iembed_19#31598, item_iembed_20#31664, item_iembed_21#31730, item_iembed_22#31796, ... 41 more fields]\n                                                                                                                                 +- Project [item_id#26026, item_iembed_0#30344, item_iembed_1#30410, item_iembed_2#30476, item_iembed_3#30542, item_iembed_4#30608, item_iembed_5#30674, item_iembed_6#30740, item_iembed_7#30806, item_iembed_8#30872, item_iembed_9#30938, item_iembed_10#31004, item_iembed_11#31070, item_iembed_12#31136, item_iembed_13#31202, item_iembed_14#31268, item_iembed_15#31334, item_iembed_16#31400, item_iembed_17#31466, item_iembed_18#31532, item_iembed_19#31598, item_iembed_20#31664, item_iembed_21#31730, item_iembed_22#31796, ... 41 more fields]\n                                                                                                                                    +- Project [item_id#26026, item_iembed_0#30344, item_iembed_1#30410, item_iembed_2#30476, item_iembed_3#30542, item_iembed_4#30608, item_iembed_5#30674, item_iembed_6#30740, item_iembed_7#30806, item_iembed_8#30872, item_iembed_9#30938, item_iembed_10#31004, item_iembed_11#31070, item_iembed_12#31136, item_iembed_13#31202, item_iembed_14#31268, item_iembed_15#31334, item_iembed_16#31400, item_iembed_17#31466, item_iembed_18#31532, item_iembed_19#31598, item_iembed_20#31664, item_iembed_21#31730, item_iembed_22#31796, ... 41 more fields]\n                                                                                                                                       +- Project [item_id#26026, item_iembed_0#30344, item_iembed_1#30410, item_iembed_2#30476, item_iembed_3#30542, item_iembed_4#30608, item_iembed_5#30674, item_iembed_6#30740, item_iembed_7#30806, item_iembed_8#30872, item_iembed_9#30938, item_iembed_10#31004, item_iembed_11#31070, item_iembed_12#31136, item_iembed_13#31202, item_iembed_14#31268, item_iembed_15#31334, item_iembed_16#31400, item_iembed_17#31466, item_iembed_18#31532, item_iembed_19#31598, item_iembed_20#31664, item_iembed_21#31730, item_iembed_22#31796, ... 41 more fields]\n                                                                                                                                          +- Project [item_id#26026, item_iembed_0#30344, item_iembed_1#30410, item_iembed_2#30476, item_iembed_3#30542, item_iembed_4#30608, item_iembed_5#30674, item_iembed_6#30740, item_iembed_7#30806, item_iembed_8#30872, item_iembed_9#30938, item_iembed_10#31004, item_iembed_11#31070, item_iembed_12#31136, item_iembed_13#31202, item_iembed_14#31268, item_iembed_15#31334, item_iembed_16#31400, item_iembed_17#31466, item_iembed_18#31532, item_iembed_19#31598, item_iembed_20#31664, item_iembed_21#31730, item_iembed_22#31796, ... 41 more fields]\n                                                                                                                                             +- Project [item_id#26026, item_iembed_0#30344, item_iembed_1#30410, item_iembed_2#30476, item_iembed_3#30542, item_iembed_4#30608, item_iembed_5#30674, item_iembed_6#30740, item_iembed_7#30806, item_iembed_8#30872, item_iembed_9#30938, item_iembed_10#31004, item_iembed_11#31070, item_iembed_12#31136, item_iembed_13#31202, item_iembed_14#31268, item_iembed_15#31334, item_iembed_16#31400, item_iembed_17#31466, item_iembed_18#31532, item_iembed_19#31598, item_iembed_20#31664, item_iembed_21#31730, iembed_22#50391 AS item_iembed_22#31796, ... 41 more fields]\n                                                                                                                                                +- Project [item_id#26026, item_iembed_0#30344, item_iembed_1#30410, item_iembed_2#30476, item_iembed_3#30542, item_iembed_4#30608, item_iembed_5#30674, item_iembed_6#30740, item_iembed_7#30806, item_iembed_8#30872, item_iembed_9#30938, item_iembed_10#31004, item_iembed_11#31070, item_iembed_12#31136, item_iembed_13#31202, item_iembed_14#31268, item_iembed_15#31334, item_iembed_16#31400, item_iembed_17#31466, item_iembed_18#31532, item_iembed_19#31598, item_iembed_20#31664, iembed_21#50390 AS item_iembed_21#31730, iembed_22#50391, ... 41 more fields]\n                                                                                                                                                   +- Project [item_id#26026, item_iembed_0#30344, item_iembed_1#30410, item_iembed_2#30476, item_iembed_3#30542, item_iembed_4#30608, item_iembed_5#30674, item_iembed_6#30740, item_iembed_7#30806, item_iembed_8#30872, item_iembed_9#30938, item_iembed_10#31004, item_iembed_11#31070, item_iembed_12#31136, item_iembed_13#31202, item_iembed_14#31268, item_iembed_15#31334, item_iembed_16#31400, item_iembed_17#31466, item_iembed_18#31532, item_iembed_19#31598, iembed_20#50389 AS item_iembed_20#31664, iembed_21#50390, iembed_22#50391, ... 41 more fields]\n                                                                                                                                                      +- Project [item_id#26026, item_iembed_0#30344, item_iembed_1#30410, item_iembed_2#30476, item_iembed_3#30542, item_iembed_4#30608, item_iembed_5#30674, item_iembed_6#30740, item_iembed_7#30806, item_iembed_8#30872, item_iembed_9#30938, item_iembed_10#31004, item_iembed_11#31070, item_iembed_12#31136, item_iembed_13#31202, item_iembed_14#31268, item_iembed_15#31334, item_iembed_16#31400, item_iembed_17#31466, item_iembed_18#31532, iembed_19#50388 AS item_iembed_19#31598, iembed_20#50389, iembed_21#50390, iembed_22#50391, ... 41 more fields]\n                                                                                                                                                         +- Project [item_id#26026, item_iembed_0#30344, item_iembed_1#30410, item_iembed_2#30476, item_iembed_3#30542, item_iembed_4#30608, item_iembed_5#30674, item_iembed_6#30740, item_iembed_7#30806, item_iembed_8#30872, item_iembed_9#30938, item_iembed_10#31004, item_iembed_11#31070, item_iembed_12#31136, item_iembed_13#31202, item_iembed_14#31268, item_iembed_15#31334, item_iembed_16#31400, item_iembed_17#31466, iembed_18#50387 AS item_iembed_18#31532, iembed_19#50388, iembed_20#50389, iembed_21#50390, iembed_22#50391, ... 41 more fields]\n                                                                                                                                                            +- Project [item_id#26026, item_iembed_0#30344, item_iembed_1#30410, item_iembed_2#30476, item_iembed_3#30542, item_iembed_4#30608, item_iembed_5#30674, item_iembed_6#30740, item_iembed_7#30806, item_iembed_8#30872, item_iembed_9#30938, item_iembed_10#31004, item_iembed_11#31070, item_iembed_12#31136, item_iembed_13#31202, item_iembed_14#31268, item_iembed_15#31334, item_iembed_16#31400, iembed_17#50386 AS item_iembed_17#31466, iembed_18#50387, iembed_19#50388, iembed_20#50389, iembed_21#50390, iembed_22#50391, ... 41 more fields]\n                                                                                                                                                               +- Project [item_id#26026, item_iembed_0#30344, item_iembed_1#30410, item_iembed_2#30476, item_iembed_3#30542, item_iembed_4#30608, item_iembed_5#30674, item_iembed_6#30740, item_iembed_7#30806, item_iembed_8#30872, item_iembed_9#30938, item_iembed_10#31004, item_iembed_11#31070, item_iembed_12#31136, item_iembed_13#31202, item_iembed_14#31268, item_iembed_15#31334, iembed_16#50385 AS item_iembed_16#31400, iembed_17#50386, iembed_18#50387, iembed_19#50388, iembed_20#50389, iembed_21#50390, iembed_22#50391, ... 41 more fields]\n                                                                                                                                                                  +- Project [item_id#26026, item_iembed_0#30344, item_iembed_1#30410, item_iembed_2#30476, item_iembed_3#30542, item_iembed_4#30608, item_iembed_5#30674, item_iembed_6#30740, item_iembed_7#30806, item_iembed_8#30872, item_iembed_9#30938, item_iembed_10#31004, item_iembed_11#31070, item_iembed_12#31136, item_iembed_13#31202, item_iembed_14#31268, iembed_15#50384 AS item_iembed_15#31334, iembed_16#50385, iembed_17#50386, iembed_18#50387, iembed_19#50388, iembed_20#50389, iembed_21#50390, iembed_22#50391, ... 41 more fields]\n                                                                                                                                                                     +- Project [item_id#26026, item_iembed_0#30344, item_iembed_1#30410, item_iembed_2#30476, item_iembed_3#30542, item_iembed_4#30608, item_iembed_5#30674, item_iembed_6#30740, item_iembed_7#30806, item_iembed_8#30872, item_iembed_9#30938, item_iembed_10#31004, item_iembed_11#31070, item_iembed_12#31136, item_iembed_13#31202, iembed_14#50383 AS item_iembed_14#31268, iembed_15#50384, iembed_16#50385, iembed_17#50386, iembed_18#50387, iembed_19#50388, iembed_20#50389, iembed_21#50390, iembed_22#50391, ... 41 more fields]\n                                                                                                                                                                        +- Project [item_id#26026, item_iembed_0#30344, item_iembed_1#30410, item_iembed_2#30476, item_iembed_3#30542, item_iembed_4#30608, item_iembed_5#30674, item_iembed_6#30740, item_iembed_7#30806, item_iembed_8#30872, item_iembed_9#30938, item_iembed_10#31004, item_iembed_11#31070, item_iembed_12#31136, iembed_13#50382 AS item_iembed_13#31202, iembed_14#50383, iembed_15#50384, iembed_16#50385, iembed_17#50386, iembed_18#50387, iembed_19#50388, iembed_20#50389, iembed_21#50390, iembed_22#50391, ... 41 more fields]\n                                                                                                                                                                           +- Project [item_id#26026, item_iembed_0#30344, item_iembed_1#30410, item_iembed_2#30476, item_iembed_3#30542, item_iembed_4#30608, item_iembed_5#30674, item_iembed_6#30740, item_iembed_7#30806, item_iembed_8#30872, item_iembed_9#30938, item_iembed_10#31004, item_iembed_11#31070, iembed_12#50381 AS item_iembed_12#31136, iembed_13#50382, iembed_14#50383, iembed_15#50384, iembed_16#50385, iembed_17#50386, iembed_18#50387, iembed_19#50388, iembed_20#50389, iembed_21#50390, iembed_22#50391, ... 41 more fields]\n                                                                                                                                                                              +- Project [item_id#26026, item_iembed_0#30344, item_iembed_1#30410, item_iembed_2#30476, item_iembed_3#30542, item_iembed_4#30608, item_iembed_5#30674, item_iembed_6#30740, item_iembed_7#30806, item_iembed_8#30872, item_iembed_9#30938, item_iembed_10#31004, iembed_11#50380 AS item_iembed_11#31070, iembed_12#50381, iembed_13#50382, iembed_14#50383, iembed_15#50384, iembed_16#50385, iembed_17#50386, iembed_18#50387, iembed_19#50388, iembed_20#50389, iembed_21#50390, iembed_22#50391, ... 41 more fields]\n                                                                                                                                                                                 +- Project [item_id#26026, item_iembed_0#30344, item_iembed_1#30410, item_iembed_2#30476, item_iembed_3#30542, item_iembed_4#30608, item_iembed_5#30674, item_iembed_6#30740, item_iembed_7#30806, item_iembed_8#30872, item_iembed_9#30938, iembed_10#50379 AS item_iembed_10#31004, iembed_11#50380, iembed_12#50381, iembed_13#50382, iembed_14#50383, iembed_15#50384, iembed_16#50385, iembed_17#50386, iembed_18#50387, iembed_19#50388, iembed_20#50389, iembed_21#50390, iembed_22#50391, ... 41 more fields]\n                                                                                                                                                                                    +- Project [item_id#26026, item_iembed_0#30344, item_iembed_1#30410, item_iembed_2#30476, item_iembed_3#30542, item_iembed_4#30608, item_iembed_5#30674, item_iembed_6#30740, item_iembed_7#30806, item_iembed_8#30872, iembed_9#50378 AS item_iembed_9#30938, iembed_10#50379, iembed_11#50380, iembed_12#50381, iembed_13#50382, iembed_14#50383, iembed_15#50384, iembed_16#50385, iembed_17#50386, iembed_18#50387, iembed_19#50388, iembed_20#50389, iembed_21#50390, iembed_22#50391, ... 41 more fields]\n                                                                                                                                                                                       +- Project [item_id#26026, item_iembed_0#30344, item_iembed_1#30410, item_iembed_2#30476, item_iembed_3#30542, item_iembed_4#30608, item_iembed_5#30674, item_iembed_6#30740, item_iembed_7#30806, iembed_8#50377 AS item_iembed_8#30872, iembed_9#50378, iembed_10#50379, iembed_11#50380, iembed_12#50381, iembed_13#50382, iembed_14#50383, iembed_15#50384, iembed_16#50385, iembed_17#50386, iembed_18#50387, iembed_19#50388, iembed_20#50389, iembed_21#50390, iembed_22#50391, ... 41 more fields]\n                                                                                                                                                                                          +- Project [item_id#26026, item_iembed_0#30344, item_iembed_1#30410, item_iembed_2#30476, item_iembed_3#30542, item_iembed_4#30608, item_iembed_5#30674, item_iembed_6#30740, iembed_7#50376 AS item_iembed_7#30806, iembed_8#50377, iembed_9#50378, iembed_10#50379, iembed_11#50380, iembed_12#50381, iembed_13#50382, iembed_14#50383, iembed_15#50384, iembed_16#50385, iembed_17#50386, iembed_18#50387, iembed_19#50388, iembed_20#50389, iembed_21#50390, iembed_22#50391, ... 41 more fields]\n                                                                                                                                                                                             +- Project [item_id#26026, item_iembed_0#30344, item_iembed_1#30410, item_iembed_2#30476, item_iembed_3#30542, item_iembed_4#30608, item_iembed_5#30674, iembed_6#50375 AS item_iembed_6#30740, iembed_7#50376, iembed_8#50377, iembed_9#50378, iembed_10#50379, iembed_11#50380, iembed_12#50381, iembed_13#50382, iembed_14#50383, iembed_15#50384, iembed_16#50385, iembed_17#50386, iembed_18#50387, iembed_19#50388, iembed_20#50389, iembed_21#50390, iembed_22#50391, ... 41 more fields]\n                                                                                                                                                                                                +- Project [item_id#26026, item_iembed_0#30344, item_iembed_1#30410, item_iembed_2#30476, item_iembed_3#30542, item_iembed_4#30608, iembed_5#50374 AS item_iembed_5#30674, iembed_6#50375, iembed_7#50376, iembed_8#50377, iembed_9#50378, iembed_10#50379, iembed_11#50380, iembed_12#50381, iembed_13#50382, iembed_14#50383, iembed_15#50384, iembed_16#50385, iembed_17#50386, iembed_18#50387, iembed_19#50388, iembed_20#50389, iembed_21#50390, iembed_22#50391, ... 41 more fields]\n                                                                                                                                                                                                   +- Project [item_id#26026, item_iembed_0#30344, item_iembed_1#30410, item_iembed_2#30476, item_iembed_3#30542, iembed_4#50373 AS item_iembed_4#30608, iembed_5#50374, iembed_6#50375, iembed_7#50376, iembed_8#50377, iembed_9#50378, iembed_10#50379, iembed_11#50380, iembed_12#50381, iembed_13#50382, iembed_14#50383, iembed_15#50384, iembed_16#50385, iembed_17#50386, iembed_18#50387, iembed_19#50388, iembed_20#50389, iembed_21#50390, iembed_22#50391, ... 41 more fields]\n                                                                                                                                                                                                      +- Project [item_id#26026, item_iembed_0#30344, item_iembed_1#30410, item_iembed_2#30476, iembed_3#50372 AS item_iembed_3#30542, iembed_4#50373, iembed_5#50374, iembed_6#50375, iembed_7#50376, iembed_8#50377, iembed_9#50378, iembed_10#50379, iembed_11#50380, iembed_12#50381, iembed_13#50382, iembed_14#50383, iembed_15#50384, iembed_16#50385, iembed_17#50386, iembed_18#50387, iembed_19#50388, iembed_20#50389, iembed_21#50390, iembed_22#50391, ... 41 more fields]\n                                                                                                                                                                                                         +- Project [item_id#26026, item_iembed_0#30344, item_iembed_1#30410, iembed_2#50371 AS item_iembed_2#30476, iembed_3#50372, iembed_4#50373, iembed_5#50374, iembed_6#50375, iembed_7#50376, iembed_8#50377, iembed_9#50378, iembed_10#50379, iembed_11#50380, iembed_12#50381, iembed_13#50382, iembed_14#50383, iembed_15#50384, iembed_16#50385, iembed_17#50386, iembed_18#50387, iembed_19#50388, iembed_20#50389, iembed_21#50390, iembed_22#50391, ... 41 more fields]\n                                                                                                                                                                                                            +- Project [item_id#26026, item_iembed_0#30344, iembed_1#50370 AS item_iembed_1#30410, iembed_2#50371, iembed_3#50372, iembed_4#50373, iembed_5#50374, iembed_6#50375, iembed_7#50376, iembed_8#50377, iembed_9#50378, iembed_10#50379, iembed_11#50380, iembed_12#50381, iembed_13#50382, iembed_14#50383, iembed_15#50384, iembed_16#50385, iembed_17#50386, iembed_18#50387, iembed_19#50388, iembed_20#50389, iembed_21#50390, iembed_22#50391, ... 41 more fields]\n                                                                                                                                                                                                               +- Project [item_id#26026, iembed_0#50369 AS item_iembed_0#30344, iembed_1#50370, iembed_2#50371, iembed_3#50372, iembed_4#50373, iembed_5#50374, iembed_6#50375, iembed_7#50376, iembed_8#50377, iembed_9#50378, iembed_10#50379, iembed_11#50380, iembed_12#50381, iembed_13#50382, iembed_14#50383, iembed_15#50384, iembed_16#50385, iembed_17#50386, iembed_18#50387, iembed_19#50388, iembed_20#50389, iembed_21#50390, iembed_22#50391, ... 41 more fields]\n                                                                                                                                                                                                                  +- Project [item_idx#50368 AS item_id#26026, iembed_0#50369, iembed_1#50370, iembed_2#50371, iembed_3#50372, iembed_4#50373, iembed_5#50374, iembed_6#50375, iembed_7#50376, iembed_8#50377, iembed_9#50378, iembed_10#50379, iembed_11#50380, iembed_12#50381, iembed_13#50382, iembed_14#50383, iembed_15#50384, iembed_16#50385, iembed_17#50386, iembed_18#50387, iembed_19#50388, iembed_20#50389, iembed_21#50390, iembed_22#50391, ... 41 more fields]\n                                                                                                                                                                                                                     +- Relation [item_idx#50368,iembed_0#50369,iembed_1#50370,iembed_2#50371,iembed_3#50372,iembed_4#50373,iembed_5#50374,iembed_6#50375,iembed_7#50376,iembed_8#50377,iembed_9#50378,iembed_10#50379,iembed_11#50380,iembed_12#50381,iembed_13#50382,iembed_14#50383,iembed_15#50384,iembed_16#50385,iembed_17#50386,iembed_18#50387,iembed_19#50388,iembed_20#50389,iembed_21#50390,iembed_22#50391,... 41 more fields] csv\n"
     ]
    }
   ],
   "source": [
    "def get_baseline(test_df):\n",
    "    pred_df = test_df.merge(avg_item_ratings.toPandas(), on='item_id', how='inner')\n",
    "    pred_df['baseline'] = (pred_df['item_rating_avg']-pred_df['item_rating_avg'].min())/(pred_df['item_rating_avg'].max()-pred_df['item_rating_avg'].min())\n",
    "    pred_df['baseline_bin'] = np.where(pred_df['baseline'] > 0.5, 1, 0) \n",
    "    print(f\"ROC AUC (baseline): {roc_auc_score(pred_df.relevance, pred_df.baseline)}\")\n",
    "    print(f\"Precision (baseline): {precision_score(pred_df.relevance, pred_df.baseline_bin)}\")\n",
    "    print(f\"Recall (baseline): {recall_score(pred_df.relevance, pred_df.baseline_bin)}\")\n",
    "    print(f\"Accuracy (baseline): {accuracy_score(pred_df.relevance, pred_df.baseline_bin)}\")\n",
    "    print()\n",
    "\n",
    "def assess_models(model, test_df):\n",
    "    pred_df = model.transform(test_df).select(\"user_id\", \"item_id\", \"relevance\", \"scores\").toPandas()\n",
    "    pred_df['response_bin'] = np.where(pred_df['scores'] > 0.5, 1, 0)\n",
    "    print(f\"ROC AUC (classificator): {roc_auc_score(pred_df.relevance, pred_df.scores)}\")\n",
    "    print(f\"Precision (classificator): {precision_score(pred_df.relevance, pred_df.response_bin)}\")\n",
    "    print(f\"Recall (classificator): {recall_score(pred_df.relevance, pred_df.response_bin)}\")\n",
    "    print(f\"Accuracy (classificator): {accuracy_score(pred_df.relevance, pred_df.response_bin)}\")\n",
    "    print()\n",
    "\n",
    "get_baseline(val_df)\n",
    "assess_models(pipeline_lr, val_df)\n",
    "assess_models(pipeline_rf, val_df)\n",
    "assess_models(pipeline_fm, val_df)"
   ]
  },
  {
   "cell_type": "code",
   "execution_count": 6,
   "metadata": {},
   "outputs": [
    {
     "name": "stderr",
     "output_type": "stream",
     "text": [
      "                                                                                \r"
     ]
    }
   ],
   "source": [
    "indexer = Indexer(user_col='user_id', item_col='item_id')\n",
    "indexer.fit(users=users_generator.sample(1.0), items=items_df_train)\n",
    "\n",
    "dummy_log = pandas_to_spark(pd.DataFrame({'user_id' : [1], 'item_id' : [1], 'relevance' : [0.0]}))\n",
    "\n",
    "ucb_lr = UCB()\n",
    "ucb_lr.fit(indexer.transform(dummy_log))\n",
    "\n",
    "ucb_rf = UCB()\n",
    "ucb_rf.fit(indexer.transform(dummy_log))\n",
    "\n",
    "ucb_fm = UCB()\n",
    "ucb_fm.fit(indexer.transform(dummy_log))\n",
    "\n",
    "ucb_rand = UCB()\n",
    "ucb_rand.fit(indexer.transform(dummy_log))"
   ]
  },
  {
   "cell_type": "code",
   "execution_count": 7,
   "metadata": {},
   "outputs": [],
   "source": [
    "evaluator = EvaluateMetrics(\n",
    "    userKeyCol='user_id',\n",
    "    itemKeyCol='item_id',\n",
    "    predictionCol='relevance',\n",
    "    labelCol='response',\n",
    "    replay_label_filter=1.0,\n",
    "    replay_metrics={NDCG() : 5, Precision() : 5, RocAuc(): 5}\n",
    ")"
   ]
  },
  {
   "cell_type": "code",
   "execution_count": 8,
   "metadata": {},
   "outputs": [
    {
     "name": "stdout",
     "output_type": "stream",
     "text": [
      "------------------------Stage 0------------------------\n"
     ]
    },
    {
     "name": "stderr",
     "output_type": "stream",
     "text": [
      "                                                                                ]\r"
     ]
    },
    {
     "name": "stderr",
     "output_type": "stream",
     "text": [
      "                                                                                \r"
     ]
    },
    {
     "name": "stdout",
     "output_type": "stream",
     "text": [
      "Time of 1 iteration: \n",
      "70.20141935348511\n",
      "------------------------Stage 1------------------------\n"
     ]
    },
    {
     "name": "stderr",
     "output_type": "stream",
     "text": [
      "                                                                                \r"
     ]
    },
    {
     "name": "stdout",
     "output_type": "stream",
     "text": [
      "Time of 2 iteration: \n",
      "76.7910258769989\n",
      "------------------------Stage 2------------------------\n"
     ]
    },
    {
     "name": "stderr",
     "output_type": "stream",
     "text": [
      "                                                                                \r"
     ]
    },
    {
     "name": "stdout",
     "output_type": "stream",
     "text": [
      "Time of 3 iteration: \n",
      "75.18873906135559\n",
      "------------------------Stage 3------------------------\n"
     ]
    },
    {
     "name": "stderr",
     "output_type": "stream",
     "text": [
      "                                                                                \r"
     ]
    },
    {
     "name": "stdout",
     "output_type": "stream",
     "text": [
      "Time of 4 iteration: \n",
      "78.01183772087097\n",
      "------------------------Stage 4------------------------\n"
     ]
    },
    {
     "name": "stderr",
     "output_type": "stream",
     "text": [
      "                                                                                \r"
     ]
    },
    {
     "name": "stdout",
     "output_type": "stream",
     "text": [
      "Time of 5 iteration: \n",
      "80.67429995536804\n",
      "------------------------Stage 5------------------------\n"
     ]
    },
    {
     "name": "stderr",
     "output_type": "stream",
     "text": [
      "                                                                                ]\r"
     ]
    },
    {
     "name": "stdout",
     "output_type": "stream",
     "text": [
      "Time of 6 iteration: \n",
      "85.8936836719513\n",
      "------------------------Stage 6------------------------\n"
     ]
    },
    {
     "name": "stderr",
     "output_type": "stream",
     "text": [
      "                                                                                ]\r"
     ]
    },
    {
     "name": "stdout",
     "output_type": "stream",
     "text": [
      "Time of 7 iteration: \n",
      "90.52545380592346\n",
      "------------------------Stage 7------------------------\n"
     ]
    },
    {
     "name": "stderr",
     "output_type": "stream",
     "text": [
      "                                                                                \r"
     ]
    },
    {
     "name": "stdout",
     "output_type": "stream",
     "text": [
      "Time of 8 iteration: \n",
      "92.77522611618042\n",
      "------------------------Stage 8------------------------\n"
     ]
    },
    {
     "name": "stderr",
     "output_type": "stream",
     "text": [
      "                                                                                \r"
     ]
    },
    {
     "name": "stdout",
     "output_type": "stream",
     "text": [
      "Time of 9 iteration: \n",
      "99.586510181427\n",
      "------------------------Stage 9------------------------\n"
     ]
    },
    {
     "name": "stderr",
     "output_type": "stream",
     "text": [
      "                                                                                ]\r"
     ]
    },
    {
     "name": "stdout",
     "output_type": "stream",
     "text": [
      "Time of 10 iteration: \n",
      "96.66665291786194\n",
      "------------------------Stage 10------------------------\n"
     ]
    },
    {
     "name": "stderr",
     "output_type": "stream",
     "text": [
      "                                                                                ]\r"
     ]
    },
    {
     "name": "stdout",
     "output_type": "stream",
     "text": [
      "Time of 11 iteration: \n",
      "101.08822202682495\n",
      "------------------------Stage 11------------------------\n"
     ]
    },
    {
     "name": "stderr",
     "output_type": "stream",
     "text": [
      "                                                                                ]\r"
     ]
    },
    {
     "name": "stdout",
     "output_type": "stream",
     "text": [
      "Time of 12 iteration: \n",
      "107.84695649147034\n",
      "------------------------Stage 12------------------------\n"
     ]
    },
    {
     "name": "stderr",
     "output_type": "stream",
     "text": [
      "                                                                                \r"
     ]
    },
    {
     "name": "stdout",
     "output_type": "stream",
     "text": [
      "Time of 13 iteration: \n",
      "105.39374566078186\n",
      "------------------------Stage 13------------------------\n"
     ]
    },
    {
     "name": "stderr",
     "output_type": "stream",
     "text": [
      "                                                                                1]\r"
     ]
    },
    {
     "name": "stdout",
     "output_type": "stream",
     "text": [
      "Time of 14 iteration: \n",
      "115.41744780540466\n",
      "------------------------Stage 14------------------------\n"
     ]
    },
    {
     "name": "stderr",
     "output_type": "stream",
     "text": [
      "                                                                                ]]\r"
     ]
    },
    {
     "name": "stdout",
     "output_type": "stream",
     "text": [
      "Time of 15 iteration: \n",
      "122.55508923530579\n",
      "------------------------Stage 15------------------------\n"
     ]
    },
    {
     "name": "stderr",
     "output_type": "stream",
     "text": [
      "                                                                                ]\r"
     ]
    },
    {
     "name": "stdout",
     "output_type": "stream",
     "text": [
      "Time of 16 iteration: \n",
      "114.71332430839539\n",
      "------------------------Stage 16------------------------\n"
     ]
    },
    {
     "name": "stderr",
     "output_type": "stream",
     "text": [
      "                                                                                ]]\r"
     ]
    },
    {
     "name": "stdout",
     "output_type": "stream",
     "text": [
      "Time of 17 iteration: \n",
      "115.78596377372742\n",
      "------------------------Stage 17------------------------\n"
     ]
    },
    {
     "name": "stderr",
     "output_type": "stream",
     "text": [
      "                                                                                ]\r"
     ]
    },
    {
     "name": "stdout",
     "output_type": "stream",
     "text": [
      "Time of 18 iteration: \n",
      "117.03970170021057\n",
      "------------------------Stage 18------------------------\n"
     ]
    },
    {
     "name": "stderr",
     "output_type": "stream",
     "text": [
      "                                                                                \r"
     ]
    },
    {
     "name": "stdout",
     "output_type": "stream",
     "text": [
      "Time of 19 iteration: \n",
      "118.27858424186707\n",
      "------------------------Stage 19------------------------\n"
     ]
    },
    {
     "name": "stderr",
     "output_type": "stream",
     "text": [
      "                                                                                ]\r"
     ]
    },
    {
     "name": "stdout",
     "output_type": "stream",
     "text": [
      "Time of 20 iteration: \n",
      "119.5287401676178\n",
      "------------------------Stage 20------------------------\n"
     ]
    },
    {
     "name": "stderr",
     "output_type": "stream",
     "text": [
      "                                                                                ]\r"
     ]
    },
    {
     "name": "stdout",
     "output_type": "stream",
     "text": [
      "Time of 21 iteration: \n",
      "126.40496921539307\n",
      "------------------------Stage 21------------------------\n"
     ]
    },
    {
     "name": "stderr",
     "output_type": "stream",
     "text": [
      "                                                                                ]192]\r"
     ]
    },
    {
     "name": "stdout",
     "output_type": "stream",
     "text": [
      "Time of 22 iteration: \n",
      "136.08345985412598\n",
      "------------------------Stage 22------------------------\n"
     ]
    },
    {
     "name": "stderr",
     "output_type": "stream",
     "text": [
      "                                                                                2]\r"
     ]
    },
    {
     "name": "stdout",
     "output_type": "stream",
     "text": [
      "Time of 23 iteration: \n",
      "133.66346192359924\n",
      "------------------------Stage 23------------------------\n"
     ]
    },
    {
     "name": "stderr",
     "output_type": "stream",
     "text": [
      "                                                                                ]]\r"
     ]
    },
    {
     "name": "stdout",
     "output_type": "stream",
     "text": [
      "Time of 24 iteration: \n",
      "140.92277574539185\n",
      "------------------------Stage 24------------------------\n"
     ]
    },
    {
     "name": "stderr",
     "output_type": "stream",
     "text": [
      "                                                                                \r"
     ]
    },
    {
     "name": "stdout",
     "output_type": "stream",
     "text": [
      "Time of 25 iteration: \n",
      "138.86961340904236\n",
      "------------------------Stage 25------------------------\n"
     ]
    },
    {
     "name": "stderr",
     "output_type": "stream",
     "text": [
      "                                                                                ]]\r"
     ]
    },
    {
     "name": "stdout",
     "output_type": "stream",
     "text": [
      "Time of 26 iteration: \n",
      "140.6434781551361\n",
      "------------------------Stage 26------------------------\n"
     ]
    },
    {
     "name": "stderr",
     "output_type": "stream",
     "text": [
      "                                                                                ]]\r"
     ]
    },
    {
     "name": "stdout",
     "output_type": "stream",
     "text": [
      "Time of 27 iteration: \n",
      "145.99971222877502\n",
      "------------------------Stage 27------------------------\n"
     ]
    },
    {
     "name": "stderr",
     "output_type": "stream",
     "text": [
      "                                                                                1]92]\r"
     ]
    },
    {
     "name": "stdout",
     "output_type": "stream",
     "text": [
      "Time of 28 iteration: \n",
      "184.3443648815155\n",
      "------------------------Stage 28------------------------\n"
     ]
    },
    {
     "name": "stderr",
     "output_type": "stream",
     "text": [
      "                                                                                1]\r"
     ]
    },
    {
     "name": "stdout",
     "output_type": "stream",
     "text": [
      "Time of 29 iteration: \n",
      "157.28454518318176\n",
      "------------------------Stage 29------------------------\n"
     ]
    },
    {
     "name": "stderr",
     "output_type": "stream",
     "text": [
      "                                                                                1]\r"
     ]
    },
    {
     "name": "stdout",
     "output_type": "stream",
     "text": [
      "Time of 30 iteration: \n",
      "157.22682523727417\n",
      "------------------------Stage 30------------------------\n"
     ]
    },
    {
     "name": "stderr",
     "output_type": "stream",
     "text": [
      "                                                                                ]\r"
     ]
    },
    {
     "name": "stdout",
     "output_type": "stream",
     "text": [
      "Time of 31 iteration: \n",
      "156.5724971294403\n",
      "------------------------Stage 31------------------------\n"
     ]
    },
    {
     "name": "stderr",
     "output_type": "stream",
     "text": [
      "                                                                                ]\r"
     ]
    },
    {
     "name": "stdout",
     "output_type": "stream",
     "text": [
      "Time of 32 iteration: \n",
      "160.20110273361206\n",
      "------------------------Stage 32------------------------\n"
     ]
    },
    {
     "name": "stderr",
     "output_type": "stream",
     "text": [
      "                                                                                1]\r"
     ]
    },
    {
     "name": "stdout",
     "output_type": "stream",
     "text": [
      "Time of 33 iteration: \n",
      "161.2432324886322\n",
      "------------------------Stage 33------------------------\n"
     ]
    },
    {
     "name": "stderr",
     "output_type": "stream",
     "text": [
      "                                                                                ]]\r"
     ]
    },
    {
     "name": "stdout",
     "output_type": "stream",
     "text": [
      "Time of 34 iteration: \n",
      "179.24119186401367\n",
      "------------------------Stage 34------------------------\n"
     ]
    },
    {
     "name": "stderr",
     "output_type": "stream",
     "text": [
      "                                                                                1]]]\r"
     ]
    },
    {
     "name": "stdout",
     "output_type": "stream",
     "text": [
      "Time of 35 iteration: \n",
      "181.1114616394043\n",
      "------------------------Stage 35------------------------\n"
     ]
    },
    {
     "name": "stderr",
     "output_type": "stream",
     "text": [
      "                                                                                2]\r"
     ]
    },
    {
     "name": "stdout",
     "output_type": "stream",
     "text": [
      "Time of 36 iteration: \n",
      "182.8468279838562\n",
      "------------------------Stage 36------------------------\n"
     ]
    },
    {
     "name": "stderr",
     "output_type": "stream",
     "text": [
      "                                                                                1]\r"
     ]
    },
    {
     "name": "stdout",
     "output_type": "stream",
     "text": [
      "Time of 37 iteration: \n",
      "194.03921604156494\n",
      "------------------------Stage 37------------------------\n"
     ]
    },
    {
     "name": "stderr",
     "output_type": "stream",
     "text": [
      "                                                                                1]2]\r"
     ]
    },
    {
     "name": "stdout",
     "output_type": "stream",
     "text": [
      "Time of 38 iteration: \n",
      "192.37576174736023\n",
      "------------------------Stage 38------------------------\n"
     ]
    },
    {
     "name": "stderr",
     "output_type": "stream",
     "text": [
      "                                                                                ]]92]\r"
     ]
    },
    {
     "name": "stdout",
     "output_type": "stream",
     "text": [
      "Time of 39 iteration: \n",
      "228.15108585357666\n",
      "------------------------Stage 39------------------------\n"
     ]
    },
    {
     "name": "stderr",
     "output_type": "stream",
     "text": [
      "                                                                                1]2]\r"
     ]
    },
    {
     "name": "stdout",
     "output_type": "stream",
     "text": [
      "Time of 40 iteration: \n",
      "201.91944694519043\n",
      "------------------------Stage 40------------------------\n"
     ]
    },
    {
     "name": "stderr",
     "output_type": "stream",
     "text": [
      "                                                                                ]]\r"
     ]
    },
    {
     "name": "stdout",
     "output_type": "stream",
     "text": [
      "Time of 41 iteration: \n",
      "209.64403986930847\n",
      "------------------------Stage 41------------------------\n"
     ]
    },
    {
     "name": "stderr",
     "output_type": "stream",
     "text": [
      "                                                                                 192]\r"
     ]
    },
    {
     "name": "stdout",
     "output_type": "stream",
     "text": [
      "Time of 42 iteration: \n",
      "204.562335729599\n",
      "------------------------Stage 42------------------------\n"
     ]
    },
    {
     "name": "stderr",
     "output_type": "stream",
     "text": [
      "                                                                                ]]\r"
     ]
    },
    {
     "name": "stdout",
     "output_type": "stream",
     "text": [
      "Time of 43 iteration: \n",
      "210.83139634132385\n",
      "------------------------Stage 43------------------------\n"
     ]
    },
    {
     "name": "stderr",
     "output_type": "stream",
     "text": [
      "                                                                                \r"
     ]
    },
    {
     "name": "stdout",
     "output_type": "stream",
     "text": [
      "Time of 44 iteration: \n",
      "222.8288872241974\n",
      "------------------------Stage 44------------------------\n"
     ]
    },
    {
     "name": "stderr",
     "output_type": "stream",
     "text": [
      "                                                                                1]92]\r"
     ]
    },
    {
     "name": "stdout",
     "output_type": "stream",
     "text": [
      "Time of 45 iteration: \n",
      "231.12147426605225\n",
      "------------------------Stage 45------------------------\n"
     ]
    },
    {
     "name": "stderr",
     "output_type": "stream",
     "text": [
      "                                                                                ]\r"
     ]
    },
    {
     "name": "stdout",
     "output_type": "stream",
     "text": [
      "Time of 46 iteration: \n",
      "240.49310064315796\n",
      "------------------------Stage 46------------------------\n"
     ]
    },
    {
     "name": "stderr",
     "output_type": "stream",
     "text": [
      "                                                                                ]\r"
     ]
    },
    {
     "name": "stdout",
     "output_type": "stream",
     "text": [
      "Time of 47 iteration: \n",
      "247.03285193443298\n",
      "------------------------Stage 47------------------------\n"
     ]
    },
    {
     "name": "stderr",
     "output_type": "stream",
     "text": [
      "                                                                                ]]\r"
     ]
    },
    {
     "name": "stdout",
     "output_type": "stream",
     "text": [
      "Time of 48 iteration: \n",
      "230.56444811820984\n",
      "------------------------Stage 48------------------------\n"
     ]
    },
    {
     "name": "stderr",
     "output_type": "stream",
     "text": [
      "                                                                                192]\r"
     ]
    },
    {
     "name": "stdout",
     "output_type": "stream",
     "text": [
      "Time of 49 iteration: \n",
      "229.42898797988892\n",
      "------------------------Stage 49------------------------\n"
     ]
    },
    {
     "name": "stderr",
     "output_type": "stream",
     "text": [
      "                                                                                ]\r"
     ]
    },
    {
     "name": "stdout",
     "output_type": "stream",
     "text": [
      "Time of 50 iteration: \n",
      "235.91935348510742\n",
      "------------------------Stage 50------------------------\n"
     ]
    },
    {
     "name": "stderr",
     "output_type": "stream",
     "text": [
      "                                                                                ]]\r"
     ]
    },
    {
     "name": "stdout",
     "output_type": "stream",
     "text": [
      "Time of 51 iteration: \n",
      "235.3606460094452\n",
      "------------------------Stage 51------------------------\n"
     ]
    },
    {
     "name": "stderr",
     "output_type": "stream",
     "text": [
      "                                                                                ]\r"
     ]
    },
    {
     "name": "stdout",
     "output_type": "stream",
     "text": [
      "Time of 52 iteration: \n",
      "241.55387020111084\n",
      "------------------------Stage 52------------------------\n"
     ]
    },
    {
     "name": "stderr",
     "output_type": "stream",
     "text": [
      "                                                                                 192]\r"
     ]
    },
    {
     "name": "stdout",
     "output_type": "stream",
     "text": [
      "Time of 53 iteration: \n",
      "248.2946321964264\n",
      "------------------------Stage 53------------------------\n"
     ]
    },
    {
     "name": "stderr",
     "output_type": "stream",
     "text": [
      "                                                                                ]92]\r"
     ]
    },
    {
     "name": "stdout",
     "output_type": "stream",
     "text": [
      "Time of 54 iteration: \n",
      "244.62647151947021\n",
      "------------------------Stage 54------------------------\n"
     ]
    },
    {
     "name": "stderr",
     "output_type": "stream",
     "text": [
      "                                                                                192]\r"
     ]
    },
    {
     "name": "stdout",
     "output_type": "stream",
     "text": [
      "Time of 55 iteration: \n",
      "254.35282397270203\n",
      "------------------------Stage 55------------------------\n"
     ]
    },
    {
     "name": "stderr",
     "output_type": "stream",
     "text": [
      "                                                                                ]]\r"
     ]
    },
    {
     "name": "stdout",
     "output_type": "stream",
     "text": [
      "Time of 56 iteration: \n",
      "267.0679075717926\n",
      "------------------------Stage 56------------------------\n"
     ]
    },
    {
     "name": "stderr",
     "output_type": "stream",
     "text": [
      "                                                                                 192]\r"
     ]
    },
    {
     "name": "stdout",
     "output_type": "stream",
     "text": [
      "Time of 57 iteration: \n",
      "266.3134055137634\n",
      "------------------------Stage 57------------------------\n"
     ]
    },
    {
     "name": "stderr",
     "output_type": "stream",
     "text": [
      "                                                                                 192]\r"
     ]
    },
    {
     "name": "stdout",
     "output_type": "stream",
     "text": [
      "Time of 58 iteration: \n",
      "261.53346252441406\n",
      "------------------------Stage 58------------------------\n"
     ]
    },
    {
     "name": "stderr",
     "output_type": "stream",
     "text": [
      "OpenJDK 64-Bit Server VM warning: CodeHeap 'profiled nmethods' is full. Compiler has been disabled.\n",
      "OpenJDK 64-Bit Server VM warning: Try increasing the code heap size using -XX:ProfiledCodeHeapSize=\n"
     ]
    },
    {
     "name": "stdout",
     "output_type": "stream",
     "text": [
      "[10215.201s][warning][codecache] CodeHeap 'profiled nmethods' is full. Compiler has been disabled.\n",
      "[10215.201s][warning][codecache] Try increasing the code heap size using -XX:ProfiledCodeHeapSize=\n",
      "CodeHeap 'non-profiled nmethods': size=118596Kb used=106473Kb max_used=118232Kb free=12122Kb\n",
      " bounds [0x00007f862c427000, 0x00007f86337f8000, 0x00007f86337f8000]\n",
      "CodeHeap 'profiled nmethods': size=118596Kb used=96225Kb max_used=99396Kb free=22371Kb\n",
      " bounds [0x00007f8625056000, 0x00007f862c427000, 0x00007f862c427000]\n",
      "CodeHeap 'non-nmethods': size=8568Kb used=2003Kb max_used=5043Kb free=6564Kb\n",
      " bounds [0x00007f86247f8000, 0x00007f8624ce8000, 0x00007f8625056000]\n",
      " total_blobs=34114 nmethods=32716 adapters=1309\n",
      " compilation: disabled (not enough contiguous free space left)\n",
      "              stopped_count=1, restarted_count=0\n",
      " full_count=0\n"
     ]
    },
    {
     "name": "stderr",
     "output_type": "stream",
     "text": [
      "                                                                                \r"
     ]
    },
    {
     "name": "stdout",
     "output_type": "stream",
     "text": [
      "Time of 59 iteration: \n",
      "327.3367729187012\n",
      "------------------------Stage 59------------------------\n"
     ]
    },
    {
     "name": "stderr",
     "output_type": "stream",
     "text": [
      "                                                                                2]92]\r"
     ]
    },
    {
     "name": "stdout",
     "output_type": "stream",
     "text": [
      "Time of 60 iteration: \n",
      "414.6599326133728\n",
      "------------------------Stage 60------------------------\n"
     ]
    },
    {
     "name": "stderr",
     "output_type": "stream",
     "text": [
      "                                                                                1]2]\r"
     ]
    },
    {
     "name": "stdout",
     "output_type": "stream",
     "text": [
      "Time of 61 iteration: \n",
      "403.6991786956787\n",
      "------------------------Stage 61------------------------\n"
     ]
    },
    {
     "name": "stderr",
     "output_type": "stream",
     "text": [
      "                                                                                 192]\r"
     ]
    },
    {
     "name": "stdout",
     "output_type": "stream",
     "text": [
      "Time of 62 iteration: \n",
      "414.4889945983887\n",
      "------------------------Stage 62------------------------\n"
     ]
    },
    {
     "name": "stderr",
     "output_type": "stream",
     "text": [
      "                                                                                192]\r"
     ]
    },
    {
     "name": "stdout",
     "output_type": "stream",
     "text": [
      "Time of 63 iteration: \n",
      "413.92458486557007\n",
      "------------------------Stage 63------------------------\n"
     ]
    },
    {
     "name": "stderr",
     "output_type": "stream",
     "text": [
      "                                                                                ]\r"
     ]
    },
    {
     "name": "stdout",
     "output_type": "stream",
     "text": [
      "Time of 64 iteration: \n",
      "405.98619866371155\n",
      "------------------------Stage 64------------------------\n"
     ]
    },
    {
     "name": "stderr",
     "output_type": "stream",
     "text": [
      "                                                                                192]\r"
     ]
    },
    {
     "name": "stdout",
     "output_type": "stream",
     "text": [
      "Time of 65 iteration: \n",
      "423.96464586257935\n",
      "------------------------Stage 65------------------------\n"
     ]
    },
    {
     "name": "stderr",
     "output_type": "stream",
     "text": [
      "                                                                                1]\r"
     ]
    },
    {
     "name": "stdout",
     "output_type": "stream",
     "text": [
      "Time of 66 iteration: \n",
      "316.98726892471313\n",
      "------------------------Stage 66------------------------\n"
     ]
    },
    {
     "name": "stderr",
     "output_type": "stream",
     "text": [
      "                                                                                2]\r"
     ]
    },
    {
     "name": "stdout",
     "output_type": "stream",
     "text": [
      "Time of 67 iteration: \n",
      "293.1023943424225\n",
      "------------------------Stage 67------------------------\n"
     ]
    },
    {
     "name": "stderr",
     "output_type": "stream",
     "text": [
      "                                                                                1]92]\r"
     ]
    },
    {
     "name": "stdout",
     "output_type": "stream",
     "text": [
      "Time of 68 iteration: \n",
      "291.7755105495453\n",
      "------------------------Stage 68------------------------\n"
     ]
    },
    {
     "name": "stderr",
     "output_type": "stream",
     "text": [
      "                                                                                ]92]\r"
     ]
    },
    {
     "name": "stdout",
     "output_type": "stream",
     "text": [
      "Time of 69 iteration: \n",
      "289.14581823349\n",
      "------------------------Stage 69------------------------\n"
     ]
    },
    {
     "name": "stderr",
     "output_type": "stream",
     "text": [
      "                                                                                1]2]\r"
     ]
    },
    {
     "name": "stdout",
     "output_type": "stream",
     "text": [
      "Time of 70 iteration: \n",
      "288.60714316368103\n",
      "------------------------Stage 70------------------------\n"
     ]
    },
    {
     "name": "stderr",
     "output_type": "stream",
     "text": [
      "                                                                                1]\r"
     ]
    },
    {
     "name": "stdout",
     "output_type": "stream",
     "text": [
      "Time of 71 iteration: \n",
      "302.6159613132477\n",
      "------------------------Stage 71------------------------\n"
     ]
    },
    {
     "name": "stderr",
     "output_type": "stream",
     "text": [
      "                                                                                ]\r"
     ]
    },
    {
     "name": "stdout",
     "output_type": "stream",
     "text": [
      "Time of 72 iteration: \n",
      "313.2582175731659\n",
      "------------------------Stage 72------------------------\n"
     ]
    },
    {
     "name": "stderr",
     "output_type": "stream",
     "text": [
      "                                                                                1]]]\r"
     ]
    },
    {
     "name": "stdout",
     "output_type": "stream",
     "text": [
      "Time of 73 iteration: \n",
      "310.8067829608917\n",
      "------------------------Stage 73------------------------\n"
     ]
    },
    {
     "name": "stderr",
     "output_type": "stream",
     "text": [
      "                                                                                1]92]\r"
     ]
    },
    {
     "name": "stdout",
     "output_type": "stream",
     "text": [
      "Time of 74 iteration: \n",
      "320.07342743873596\n",
      "------------------------Stage 74------------------------\n"
     ]
    },
    {
     "name": "stderr",
     "output_type": "stream",
     "text": [
      "                                                                                 192]\r"
     ]
    },
    {
     "name": "stdout",
     "output_type": "stream",
     "text": [
      "Time of 75 iteration: \n",
      "317.97713232040405\n",
      "------------------------Stage 75------------------------\n"
     ]
    },
    {
     "name": "stderr",
     "output_type": "stream",
     "text": [
      "                                                                                ]]]]]\r"
     ]
    },
    {
     "name": "stdout",
     "output_type": "stream",
     "text": [
      "Time of 76 iteration: \n",
      "328.8272030353546\n",
      "------------------------Stage 76------------------------\n"
     ]
    },
    {
     "name": "stderr",
     "output_type": "stream",
     "text": [
      "                                                                                ]]\r"
     ]
    },
    {
     "name": "stdout",
     "output_type": "stream",
     "text": [
      "Time of 77 iteration: \n",
      "321.12470746040344\n",
      "------------------------Stage 77------------------------\n"
     ]
    },
    {
     "name": "stderr",
     "output_type": "stream",
     "text": [
      "                                                                                ]]\r"
     ]
    },
    {
     "name": "stdout",
     "output_type": "stream",
     "text": [
      "Time of 78 iteration: \n",
      "317.8325228691101\n",
      "------------------------Stage 78------------------------\n"
     ]
    },
    {
     "name": "stderr",
     "output_type": "stream",
     "text": [
      "                                                                                ]\r"
     ]
    },
    {
     "name": "stdout",
     "output_type": "stream",
     "text": [
      "Time of 79 iteration: \n",
      "324.14968371391296\n",
      "------------------------Stage 79------------------------\n"
     ]
    },
    {
     "name": "stderr",
     "output_type": "stream",
     "text": [
      "                                                                                ]]\r"
     ]
    },
    {
     "name": "stdout",
     "output_type": "stream",
     "text": [
      "Time of 80 iteration: \n",
      "323.26149320602417\n",
      "------------------------Stage 80------------------------\n"
     ]
    },
    {
     "name": "stderr",
     "output_type": "stream",
     "text": [
      "                                                                                1]\r"
     ]
    },
    {
     "name": "stdout",
     "output_type": "stream",
     "text": [
      "Time of 81 iteration: \n",
      "327.447301864624\n",
      "------------------------Stage 81------------------------\n"
     ]
    },
    {
     "name": "stderr",
     "output_type": "stream",
     "text": [
      "                                                                                ]92]\r"
     ]
    },
    {
     "name": "stdout",
     "output_type": "stream",
     "text": [
      "Time of 82 iteration: \n",
      "358.1748423576355\n",
      "------------------------Stage 82------------------------\n"
     ]
    },
    {
     "name": "stderr",
     "output_type": "stream",
     "text": [
      "                                                                                2]]\r"
     ]
    },
    {
     "name": "stdout",
     "output_type": "stream",
     "text": [
      "Time of 83 iteration: \n",
      "354.3805811405182\n",
      "------------------------Stage 83------------------------\n"
     ]
    },
    {
     "name": "stderr",
     "output_type": "stream",
     "text": [
      "                                                                                ]\r"
     ]
    },
    {
     "name": "stdout",
     "output_type": "stream",
     "text": [
      "Time of 84 iteration: \n",
      "334.6145033836365\n",
      "------------------------Stage 84------------------------\n"
     ]
    },
    {
     "name": "stderr",
     "output_type": "stream",
     "text": [
      "                                                                                1]\r"
     ]
    },
    {
     "name": "stdout",
     "output_type": "stream",
     "text": [
      "Time of 85 iteration: \n",
      "341.87591314315796\n",
      "------------------------Stage 85------------------------\n"
     ]
    },
    {
     "name": "stderr",
     "output_type": "stream",
     "text": [
      "                                                                                92]\r"
     ]
    },
    {
     "name": "stdout",
     "output_type": "stream",
     "text": [
      "Time of 86 iteration: \n",
      "339.3620707988739\n",
      "------------------------Stage 86------------------------\n"
     ]
    },
    {
     "name": "stderr",
     "output_type": "stream",
     "text": [
      "                                                                                ]]]192]\r"
     ]
    },
    {
     "name": "stdout",
     "output_type": "stream",
     "text": [
      "Time of 87 iteration: \n",
      "346.9026622772217\n",
      "------------------------Stage 87------------------------\n"
     ]
    },
    {
     "name": "stderr",
     "output_type": "stream",
     "text": [
      "                                                                                192]\r"
     ]
    },
    {
     "name": "stdout",
     "output_type": "stream",
     "text": [
      "Time of 88 iteration: \n",
      "329.39674401283264\n",
      "------------------------Stage 88------------------------\n"
     ]
    },
    {
     "name": "stderr",
     "output_type": "stream",
     "text": [
      "                                                                                2]2]\r"
     ]
    },
    {
     "name": "stdout",
     "output_type": "stream",
     "text": [
      "Time of 89 iteration: \n",
      "350.5439381599426\n",
      "------------------------Stage 89------------------------\n"
     ]
    },
    {
     "name": "stderr",
     "output_type": "stream",
     "text": [
      "                                                                                1]]\r"
     ]
    },
    {
     "name": "stdout",
     "output_type": "stream",
     "text": [
      "Time of 90 iteration: \n",
      "338.400586605072\n",
      "------------------------Stage 90------------------------\n"
     ]
    },
    {
     "name": "stderr",
     "output_type": "stream",
     "text": [
      "                                                                                ]2]2]\r"
     ]
    },
    {
     "name": "stdout",
     "output_type": "stream",
     "text": [
      "Time of 91 iteration: \n",
      "343.87939834594727\n",
      "------------------------Stage 91------------------------\n"
     ]
    },
    {
     "name": "stderr",
     "output_type": "stream",
     "text": [
      "                                                                                ]]]]\r"
     ]
    },
    {
     "name": "stdout",
     "output_type": "stream",
     "text": [
      "Time of 92 iteration: \n",
      "367.6034116744995\n",
      "------------------------Stage 92------------------------\n"
     ]
    },
    {
     "name": "stderr",
     "output_type": "stream",
     "text": [
      "                                                                                92]\r"
     ]
    },
    {
     "name": "stdout",
     "output_type": "stream",
     "text": [
      "Time of 93 iteration: \n",
      "347.38210439682007\n",
      "------------------------Stage 93------------------------\n"
     ]
    },
    {
     "name": "stderr",
     "output_type": "stream",
     "text": [
      "                                                                                92]\r"
     ]
    },
    {
     "name": "stdout",
     "output_type": "stream",
     "text": [
      "Time of 94 iteration: \n",
      "347.7070882320404\n",
      "------------------------Stage 94------------------------\n"
     ]
    },
    {
     "name": "stderr",
     "output_type": "stream",
     "text": [
      "                                                                                2]2]\r"
     ]
    },
    {
     "name": "stdout",
     "output_type": "stream",
     "text": [
      "Time of 95 iteration: \n",
      "347.0202717781067\n",
      "------------------------Stage 95------------------------\n"
     ]
    },
    {
     "name": "stderr",
     "output_type": "stream",
     "text": [
      "                                                                                192]\r"
     ]
    },
    {
     "name": "stdout",
     "output_type": "stream",
     "text": [
      "Time of 96 iteration: \n",
      "350.26837706565857\n",
      "------------------------Stage 96------------------------\n"
     ]
    },
    {
     "name": "stderr",
     "output_type": "stream",
     "text": [
      "                                                                                 192]\r"
     ]
    },
    {
     "name": "stdout",
     "output_type": "stream",
     "text": [
      "Time of 97 iteration: \n",
      "353.04156041145325\n",
      "------------------------Stage 97------------------------\n"
     ]
    },
    {
     "name": "stderr",
     "output_type": "stream",
     "text": [
      "                                                                                 1]192]\r"
     ]
    },
    {
     "name": "stdout",
     "output_type": "stream",
     "text": [
      "Time of 98 iteration: \n",
      "362.540235042572\n",
      "------------------------Stage 98------------------------\n"
     ]
    },
    {
     "name": "stderr",
     "output_type": "stream",
     "text": [
      "                                                                                ]\r"
     ]
    },
    {
     "name": "stdout",
     "output_type": "stream",
     "text": [
      "Time of 99 iteration: \n",
      "358.42765164375305\n",
      "------------------------Stage 99------------------------\n"
     ]
    },
    {
     "name": "stderr",
     "output_type": "stream",
     "text": [
      "                                                                                / 192]\r"
     ]
    },
    {
     "name": "stdout",
     "output_type": "stream",
     "text": [
      "Time of 100 iteration: \n",
      "372.6605486869812\n"
     ]
    }
   ],
   "source": [
    "def do_a_cycle(simul, model, pipeline, iteration, metrics):\n",
    "    users = simul.sample_users(1.0).dropna().cache()\n",
    "    items = simul.sample_items(0.2).dropna().cache()\n",
    "    log = simul.get_log(user_df=users)\n",
    "    log = dummy_log if log is None else log\n",
    "    log = log.cache()\n",
    "\n",
    "    recs = model.predict(\n",
    "        log=indexer.transform(log),\n",
    "        k=5,\n",
    "        users=indexer.transform(users),\n",
    "        items=indexer.transform(items),\n",
    "        filter_seen_items=True\n",
    "    )\n",
    "    recs = indexer.inverse_transform(recs).cache()\n",
    "\n",
    "    resp = simul.sample_responses(\n",
    "        recs_df=recs,\n",
    "        user_features=users,\n",
    "        item_features=items,\n",
    "        action_models=pipeline\n",
    "    ).select('user_id', 'item_id', 'relevance', 'response').cache()\n",
    "    simul.update_log(resp, iteration=iteration)\n",
    "\n",
    "    metrics.append(evaluator(resp))\n",
    "\n",
    "    model._clear_cache()\n",
    "    ucb_train_log = simul.log.cache()\n",
    "    model.fit(log=indexer.transform(\n",
    "        ucb_train_log.select('user_id', 'item_id', 'response').withColumnRenamed('response', 'relevance')\n",
    "    ))\n",
    "\n",
    "    log.unpersist()\n",
    "    users.unpersist()\n",
    "    items.unpersist()\n",
    "    recs.unpersist()\n",
    "    resp.unpersist()\n",
    "    ucb_train_log.unpersist()\n",
    "\n",
    "sim_lr = Simulator(users_generator, items_generator, f'checkpoints/lr', None, 'user_id', 'item_id', spark)\n",
    "sim_rf = Simulator(users_generator, items_generator, f'checkpoints/rf', None, 'user_id', 'item_id', spark)\n",
    "sim_fm = Simulator(users_generator, items_generator, f'checkpoints/fm', None, 'user_id', 'item_id', spark)\n",
    "sim_rand = Simulator(users_generator, items_generator, f'checkpoints/rand', None, 'user_id', 'item_id', spark)\n",
    "\n",
    "lr_metrics = []\n",
    "rf_metrics = []\n",
    "fm_metrics = []\n",
    "rnd_metrics = []\n",
    "\n",
    "for i in range(100):\n",
    "    print(f'------------------------Stage {i}------------------------')\n",
    "    start_iter = time.time()\n",
    "\n",
    "    do_a_cycle(sim_lr, ucb_lr, pipeline_lr, i, lr_metrics)\n",
    "    do_a_cycle(sim_rf, ucb_rf, pipeline_rf, i, rf_metrics)\n",
    "    do_a_cycle(sim_fm, ucb_fm, pipeline_fm, i, fm_metrics)\n",
    "    do_a_cycle(sim_rand, ucb_rand, pipeline_rand, i, rnd_metrics)\n",
    "    \n",
    "    end_iter = time.time()\n",
    "    print(f\"Time of {i+1} iteration: \")\n",
    "    print(end_iter - start_iter)"
   ]
  },
  {
   "cell_type": "code",
   "execution_count": 12,
   "metadata": {},
   "outputs": [
    {
     "data": {
      "image/png": "[encoded data removed]",
      "text/plain": [
       "<Figure size 640x480 with 1 Axes>"
      ]
     },
     "metadata": {},
     "output_type": "display_data"
    }
   ],
   "source": [
    "lr_metrics_dict = pd.DataFrame(lr_metrics)\n",
    "rf_metrics_dict = pd.DataFrame(rf_metrics)\n",
    "fm_metrics_dict = pd.DataFrame(fm_metrics)\n",
    "rand_metrics_dict = pd.DataFrame(rnd_metrics)\n",
    "\n",
    "plt.plot(lr_metrics_dict['NDCG@5'], color='b')\n",
    "plt.plot(rf_metrics_dict['NDCG@5'], color='g')\n",
    "plt.plot(fm_metrics_dict['NDCG@5'], color='r')\n",
    "plt.plot(rand_metrics_dict['NDCG@5'], color='c')\n",
    "plt.xlabel('iteration')\n",
    "plt.ylabel('NDCG')\n",
    "plt.ylim(0.5, 0.7)\n",
    "plt.savefig('ndcg_als_lr.png', dpi=300)"
   ]
  },
  {
   "cell_type": "code",
   "execution_count": 14,
   "metadata": {},
   "outputs": [
    {
     "data": {
      "text/html": [
       "<div>\n",
       "<style scoped>\n",
       "    .dataframe tbody tr th:only-of-type {\n",
       "        vertical-align: middle;\n",
       "    }\n",
       "\n",
       "    .dataframe tbody tr th {\n",
       "        vertical-align: top;\n",
       "    }\n",
       "\n",
       "    .dataframe thead th {\n",
       "        text-align: right;\n",
       "    }\n",
       "</style>\n",
       "<table border=\"1\" class=\"dataframe\">\n",
       "  <thead>\n",
       "    <tr style=\"text-align: right;\">\n",
       "      <th></th>\n",
       "      <th>NDCG@5</th>\n",
       "      <th>Precision@5</th>\n",
       "      <th>RocAuc@5</th>\n",
       "    </tr>\n",
       "  </thead>\n",
       "  <tbody>\n",
       "    <tr>\n",
       "      <th>0</th>\n",
       "      <td>0.638790</td>\n",
       "      <td>0.277129</td>\n",
       "      <td>0.496148</td>\n",
       "    </tr>\n",
       "    <tr>\n",
       "      <th>1</th>\n",
       "      <td>0.641480</td>\n",
       "      <td>0.269002</td>\n",
       "      <td>0.507749</td>\n",
       "    </tr>\n",
       "    <tr>\n",
       "      <th>2</th>\n",
       "      <td>0.636716</td>\n",
       "      <td>0.275860</td>\n",
       "      <td>0.504912</td>\n",
       "    </tr>\n",
       "    <tr>\n",
       "      <th>3</th>\n",
       "      <td>0.630504</td>\n",
       "      <td>0.276982</td>\n",
       "      <td>0.484128</td>\n",
       "    </tr>\n",
       "    <tr>\n",
       "      <th>4</th>\n",
       "      <td>0.648598</td>\n",
       "      <td>0.275777</td>\n",
       "      <td>0.516536</td>\n",
       "    </tr>\n",
       "    <tr>\n",
       "      <th>...</th>\n",
       "      <td>...</td>\n",
       "      <td>...</td>\n",
       "      <td>...</td>\n",
       "    </tr>\n",
       "    <tr>\n",
       "      <th>95</th>\n",
       "      <td>0.642637</td>\n",
       "      <td>0.281410</td>\n",
       "      <td>0.503666</td>\n",
       "    </tr>\n",
       "    <tr>\n",
       "      <th>96</th>\n",
       "      <td>0.651709</td>\n",
       "      <td>0.275483</td>\n",
       "      <td>0.519319</td>\n",
       "    </tr>\n",
       "    <tr>\n",
       "      <th>97</th>\n",
       "      <td>0.639799</td>\n",
       "      <td>0.282113</td>\n",
       "      <td>0.497061</td>\n",
       "    </tr>\n",
       "    <tr>\n",
       "      <th>98</th>\n",
       "      <td>0.644189</td>\n",
       "      <td>0.279227</td>\n",
       "      <td>0.500226</td>\n",
       "    </tr>\n",
       "    <tr>\n",
       "      <th>99</th>\n",
       "      <td>0.630649</td>\n",
       "      <td>0.279442</td>\n",
       "      <td>0.482500</td>\n",
       "    </tr>\n",
       "  </tbody>\n",
       "</table>\n",
       "<p>100 rows × 3 columns</p>\n",
       "</div>"
      ],
      "text/plain": [
       "      NDCG@5  Precision@5  RocAuc@5\n",
       "0   0.638790     0.277129  0.496148\n",
       "1   0.641480     0.269002  0.507749\n",
       "2   0.636716     0.275860  0.504912\n",
       "3   0.630504     0.276982  0.484128\n",
       "4   0.648598     0.275777  0.516536\n",
       "..       ...          ...       ...\n",
       "95  0.642637     0.281410  0.503666\n",
       "96  0.651709     0.275483  0.519319\n",
       "97  0.639799     0.282113  0.497061\n",
       "98  0.644189     0.279227  0.500226\n",
       "99  0.630649     0.279442  0.482500\n",
       "\n",
       "[100 rows x 3 columns]"
      ]
     },
     "execution_count": 14,
     "metadata": {},
     "output_type": "execute_result"
    }
   ],
   "source": [
    "lr_metrics_dict"
   ]
  },
  {
   "cell_type": "code",
   "execution_count": 13,
   "metadata": {},
   "outputs": [
    {
     "data": {
      "text/html": [
       "<div>\n",
       "<style scoped>\n",
       "    .dataframe tbody tr th:only-of-type {\n",
       "        vertical-align: middle;\n",
       "    }\n",
       "\n",
       "    .dataframe tbody tr th {\n",
       "        vertical-align: top;\n",
       "    }\n",
       "\n",
       "    .dataframe thead th {\n",
       "        text-align: right;\n",
       "    }\n",
       "</style>\n",
       "<table border=\"1\" class=\"dataframe\">\n",
       "  <thead>\n",
       "    <tr style=\"text-align: right;\">\n",
       "      <th></th>\n",
       "      <th>NDCG@5</th>\n",
       "      <th>Precision@5</th>\n",
       "      <th>RocAuc@5</th>\n",
       "    </tr>\n",
       "  </thead>\n",
       "  <tbody>\n",
       "    <tr>\n",
       "      <th>0</th>\n",
       "      <td>0.782402</td>\n",
       "      <td>0.518865</td>\n",
       "      <td>0.522883</td>\n",
       "    </tr>\n",
       "    <tr>\n",
       "      <th>1</th>\n",
       "      <td>0.777479</td>\n",
       "      <td>0.517940</td>\n",
       "      <td>0.516436</td>\n",
       "    </tr>\n",
       "    <tr>\n",
       "      <th>2</th>\n",
       "      <td>0.775118</td>\n",
       "      <td>0.516561</td>\n",
       "      <td>0.513977</td>\n",
       "    </tr>\n",
       "    <tr>\n",
       "      <th>3</th>\n",
       "      <td>0.775574</td>\n",
       "      <td>0.513800</td>\n",
       "      <td>0.517395</td>\n",
       "    </tr>\n",
       "    <tr>\n",
       "      <th>4</th>\n",
       "      <td>0.774003</td>\n",
       "      <td>0.515868</td>\n",
       "      <td>0.513215</td>\n",
       "    </tr>\n",
       "    <tr>\n",
       "      <th>...</th>\n",
       "      <td>...</td>\n",
       "      <td>...</td>\n",
       "      <td>...</td>\n",
       "    </tr>\n",
       "    <tr>\n",
       "      <th>95</th>\n",
       "      <td>0.777878</td>\n",
       "      <td>0.515042</td>\n",
       "      <td>0.516426</td>\n",
       "    </tr>\n",
       "    <tr>\n",
       "      <th>96</th>\n",
       "      <td>0.775513</td>\n",
       "      <td>0.516076</td>\n",
       "      <td>0.515736</td>\n",
       "    </tr>\n",
       "    <tr>\n",
       "      <th>97</th>\n",
       "      <td>0.778476</td>\n",
       "      <td>0.517646</td>\n",
       "      <td>0.515733</td>\n",
       "    </tr>\n",
       "    <tr>\n",
       "      <th>98</th>\n",
       "      <td>0.775498</td>\n",
       "      <td>0.514527</td>\n",
       "      <td>0.516489</td>\n",
       "    </tr>\n",
       "    <tr>\n",
       "      <th>99</th>\n",
       "      <td>0.773074</td>\n",
       "      <td>0.510797</td>\n",
       "      <td>0.512985</td>\n",
       "    </tr>\n",
       "  </tbody>\n",
       "</table>\n",
       "<p>100 rows × 3 columns</p>\n",
       "</div>"
      ],
      "text/plain": [
       "      NDCG@5  Precision@5  RocAuc@5\n",
       "0   0.782402     0.518865  0.522883\n",
       "1   0.777479     0.517940  0.516436\n",
       "2   0.775118     0.516561  0.513977\n",
       "3   0.775574     0.513800  0.517395\n",
       "4   0.774003     0.515868  0.513215\n",
       "..       ...          ...       ...\n",
       "95  0.777878     0.515042  0.516426\n",
       "96  0.775513     0.516076  0.515736\n",
       "97  0.778476     0.517646  0.515733\n",
       "98  0.775498     0.514527  0.516489\n",
       "99  0.773074     0.510797  0.512985\n",
       "\n",
       "[100 rows x 3 columns]"
      ]
     },
     "execution_count": 13,
     "metadata": {},
     "output_type": "execute_result"
    }
   ],
   "source": [
    "rand_metrics_dict"
   ]
  }
 ],
 "metadata": {
  "kernelspec": {
   "display_name": "sim4rec",
   "language": "python",
   "name": "python3"
  },
  "language_info": {
   "codemirror_mode": {
    "name": "ipython",
    "version": 3
   },
   "file_extension": ".py",
   "mimetype": "text/x-python",
   "name": "python",
   "nbconvert_exporter": "python",
   "pygments_lexer": "ipython3",
   "version": "3.9.18"
  }
 },
 "nbformat": 4,
 "nbformat_minor": 2
}
