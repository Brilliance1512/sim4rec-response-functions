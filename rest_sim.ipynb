{
 "cells": [
  {
   "cell_type": "code",
   "execution_count": 1,
   "id": "3a4ca285",
   "metadata": {},
   "outputs": [
    {
     "name": "stderr",
     "output_type": "stream",
     "text": [
      "/home/syudosaev/anaconda3/envs/sim4rec/lib/python3.9/site-packages/tqdm/auto.py:21: TqdmWarning: IProgress not found. Please update jupyter and ipywidgets. See https://ipywidgets.readthedocs.io/en/stable/user_install.html\n",
      "  from .autonotebook import tqdm as notebook_tqdm\n"
     ]
    },
    {
     "name": "stdout",
     "output_type": "stream",
     "text": [
      "24/04/21 13:24:58 WARN Utils: Your hostname, ecs-syudosaev-big resolves to a loopback address: 127.0.1.1; using 10.11.12.124 instead (on interface eth0)\n",
      "24/04/21 13:24:58 WARN Utils: Set SPARK_LOCAL_IP if you need to bind to another address\n"
     ]
    },
    {
     "name": "stderr",
     "output_type": "stream",
     "text": [
      "Setting default log level to \"WARN\".\n",
      "To adjust logging level use sc.setLogLevel(newLevel). For SparkR, use setLogLevel(newLevel).\n"
     ]
    },
    {
     "name": "stdout",
     "output_type": "stream",
     "text": [
      "24/04/21 13:24:58 WARN NativeCodeLoader: Unable to load native-hadoop library for your platform... using builtin-java classes where applicable\n"
     ]
    }
   ],
   "source": [
    "import os\n",
    "\n",
    "import pandas as pd\n",
    "import numpy as np\n",
    "\n",
    "import time\n",
    "\n",
    "from pyspark.sql import SparkSession\n",
    "from pyspark.ml.feature import VectorAssembler, PCA\n",
    "from pyspark.ml.functions import vector_to_array\n",
    "from pyspark.sql.functions import col\n",
    "import pyspark.sql.functions as sf\n",
    "import pyspark.sql.types as st\n",
    "from pyspark.ml.classification import LogisticRegression, RandomForestClassifier, NaiveBayes, FMClassifier\n",
    "from pyspark.ml import Pipeline, PipelineModel\n",
    "from sim4rec.modules import Simulator\n",
    "\n",
    "from replay.metrics import NDCG, Precision, RocAuc, Metric\n",
    "from sklearn.metrics import roc_auc_score, precision_score, recall_score, accuracy_score, f1_score\n",
    "from replay.data_preparator import Indexer\n",
    "\n",
    "from sim4rec.utils import pandas_to_spark, VectorElementExtractor\n",
    "from sim4rec.modules import RealDataGenerator, SDVDataGenerator\n",
    "from sim4rec.modules import evaluate_synthetic, EvaluateMetrics\n",
    "from sim4rec.response import ParametricResponseFunction, BernoulliResponse, NoiseResponse\n",
    "\n",
    "from replay.models import UCB, ItemKNN\n",
    "from replay.models import RandomRec\n",
    "from replay.splitters import RandomSplitter\n",
    "\n",
    "%matplotlib inline\n",
    "import matplotlib.pyplot as plt\n",
    "\n",
    "import warnings\n",
    "warnings.filterwarnings(\"ignore\")\n",
    "\n",
    "spark = SparkSession.builder\\\n",
    "    .appName('simulator_movielens')\\\n",
    "    .master('local[*]')\\\n",
    "    .config('spark.sql.shuffle.partitions', '192')\\\n",
    "    .config('spark.default.parallelism', '192')\\\n",
    "    .config('spark.driver.extraJavaOptions', '-XX:+UseG1GC')\\\n",
    "    .config('spark.executor.extraJavaOptions', '-XX:+UseG1GC')\\\n",
    "    .config('spark.sql.autoBroadcastJoinThreshold', '-1')\\\n",
    "    .config('spark.driver.memory', '256g')\\\n",
    "    .config('spark.driver.maxResultSize', '256g')\\\n",
    "    .getOrCreate()\n",
    "spark.sparkContext.setLogLevel('ERROR')\n",
    "\n",
    "def calc_metric(response_df):\n",
    "    return response_df.groupBy(\"user_idx\").agg(sf.sum(\"response\").alias(\"num_positive\")).select(sf.mean(\"num_positive\")).collect()[0][0]"
   ]
  },
  {
   "cell_type": "code",
   "execution_count": 2,
   "id": "7cafd3cd",
   "metadata": {},
   "outputs": [
    {
     "name": "stderr",
     "output_type": "stream",
     "text": [
      "                                                                                \r"
     ]
    },
    {
     "name": "stdout",
     "output_type": "stream",
     "text": [
      "133\n"
     ]
    },
    {
     "name": "stderr",
     "output_type": "stream",
     "text": [
      "                                                                                \r"
     ]
    },
    {
     "name": "stdout",
     "output_type": "stream",
     "text": [
      "85\n",
      "1161\n"
     ]
    }
   ],
   "source": [
    "users_df = spark.read.parquet('preprocessed/users.parquet')\n",
    "items_df = spark.read.parquet('preprocessed/items.parquet')\n",
    "log_df   = spark.read.parquet('preprocessed/rating.parquet')\n",
    "\n",
    "items_df = items_df.dropDuplicates(subset=['item_idx'])\n",
    "users_df = users_df.dropDuplicates(subset=['user_idx'])\n",
    "log_df = log_df.dropDuplicates(subset=['user_idx', 'item_idx'])\n",
    "\n",
    "# users_df = users_df.withColumnRenamed(\"user_idx\", \"user_id\")\n",
    "# items_df = items_df.withColumnRenamed(\"item_idx\", \"item_id\")\n",
    "# log_df = log_df.withColumnRenamed(\"user_idx\", \"user_id\")\n",
    "# log_df = log_df.withColumnRenamed(\"item_idx\", \"item_id\")\n",
    "\n",
    "# log_df = log_df.join(users_df, log_df['user_idx'] == users_df['user_idx'], 'leftsemi')\n",
    "# log_df = log_df.join(items_df, log_df['item_idx'] == items_df['item_idx'], 'leftsemi')\n",
    "\n",
    "for c in users_df.columns[1:]:\n",
    "    users_df = users_df.withColumnRenamed(c, 'user_' + c)\n",
    "\n",
    "for c in items_df.columns[1:]:\n",
    "    items_df = items_df.withColumnRenamed(c, 'item_' + c)\n",
    "\n",
    "users_df = users_df.cache()\n",
    "items_df = items_df.cache()\n",
    "log_df = log_df.cache()\n",
    "\n",
    "print(users_df.count())\n",
    "print(items_df.count())\n",
    "print(log_df.count())"
   ]
  },
  {
   "cell_type": "code",
   "execution_count": 3,
   "id": "38019362",
   "metadata": {},
   "outputs": [
    {
     "name": "stderr",
     "output_type": "stream",
     "text": [
      "                                                                                \r"
     ]
    }
   ],
   "source": [
    "full_dataframe = log_df.join(items_df, on='item_idx', how='inner').join(users_df, on='user_idx', how='inner').drop('timestamp')\n",
    "train_df, test_df = RandomSplitter(test_size=0.3, seed=9, drop_cold_items=True, drop_cold_users=True).split(full_dataframe)"
   ]
  },
  {
   "cell_type": "code",
   "execution_count": 4,
   "id": "a12c6608",
   "metadata": {},
   "outputs": [],
   "source": [
    "avg_item_ratings = full_dataframe.select('item_idx', 'relevance').groupBy('item_idx').agg(sf.mean(\"relevance\").alias('item_rating_avg'))\n",
    "test_df = test_df.join(avg_item_ratings, on='item_idx', how='inner')\n",
    "train_df = train_df.join(avg_item_ratings, on='item_idx', how='inner')"
   ]
  },
  {
   "cell_type": "code",
   "execution_count": 5,
   "id": "bebb3bc1",
   "metadata": {},
   "outputs": [
    {
     "name": "stderr",
     "output_type": "stream",
     "text": [
      "                                                                                \r"
     ]
    }
   ],
   "source": [
    "train_df.toPandas().to_parquet('preprocessed/train.parquet', index=False)\n",
    "test_df.toPandas().to_parquet('preprocessed/test.parquet', index=False)"
   ]
  },
  {
   "cell_type": "code",
   "execution_count": 6,
   "id": "46cb29a3",
   "metadata": {},
   "outputs": [],
   "source": [
    "train_df = train_df.withColumn('relevance', sf.when(sf.col('relevance') >= 1, 1).otherwise(0))\n",
    "test_df = test_df.withColumn('relevance', sf.when(sf.col('relevance') >= 1, 1).otherwise(0))"
   ]
  },
  {
   "cell_type": "code",
   "execution_count": 7,
   "id": "117f73a0",
   "metadata": {},
   "outputs": [],
   "source": [
    "item_svd = spark.read.csv('item_svd.csv', header=True, inferSchema=True)\n",
    "user_svd = spark.read.csv('user_svd.csv', header=True, inferSchema=True)\n",
    "\n",
    "train_df = train_df.join(item_svd, on='item_idx', how='inner')\n",
    "train_df = train_df.join(user_svd, on='user_idx', how='inner')\n",
    "\n",
    "test_df = test_df.join(item_svd, on='item_idx', how='inner')\n",
    "test_df = test_df.join(user_svd, on='user_idx', how='inner')"
   ]
  },
  {
   "cell_type": "code",
   "execution_count": 8,
   "id": "56cd2385",
   "metadata": {},
   "outputs": [
    {
     "name": "stdout",
     "output_type": "stream",
     "text": [
      "train statistics\n",
      "537\n",
      "128\n",
      "84\n",
      "0.04994419642857143\n",
      "\n",
      "test statistics\n",
      "194\n",
      "93\n",
      "69\n",
      "0.03023219573009194\n"
     ]
    }
   ],
   "source": [
    "print('train statistics')\n",
    "print(train_df.count())\n",
    "print(train_df.select('user_idx').distinct().count())\n",
    "print(train_df.select('item_idx').distinct().count())\n",
    "print(train_df.count() / (train_df.select('user_idx').distinct().count() * train_df.select('item_idx').distinct().count()))\n",
    "print()\n",
    "\n",
    "print('test statistics')\n",
    "print(test_df.count())\n",
    "print(test_df.select('user_idx').distinct().count())\n",
    "print(test_df.select('item_idx').distinct().count())\n",
    "print(test_df.count() / (test_df.select('user_idx').distinct().count() * test_df.select('item_idx').distinct().count()))"
   ]
  },
  {
   "cell_type": "code",
   "execution_count": 9,
   "id": "85d6db4a",
   "metadata": {},
   "outputs": [],
   "source": [
    "# train statistics\n",
    "# 537\n",
    "# 128\n",
    "# 84\n",
    "# 0.04994419642857143\n",
    "\n",
    "# test statistics\n",
    "# 194 \n",
    "# 93\n",
    "# 69\n",
    "# 0.03023219573009194"
   ]
  },
  {
   "cell_type": "code",
   "execution_count": 10,
   "id": "b5b68b58",
   "metadata": {},
   "outputs": [
    {
     "name": "stderr",
     "output_type": "stream",
     "text": [
      "                                                                                 1]\r"
     ]
    }
   ],
   "source": [
    "va = VectorAssembler(\n",
    "    inputCols=item_svd.columns[1:] + user_svd.columns[1:] + users_df.columns[1:] + items_df.columns[1:],\n",
    "    outputCol='features'\n",
    ")\n",
    "\n",
    "fm = FMClassifier(\n",
    "    featuresCol='features',\n",
    "    labelCol='relevance',\n",
    "    probabilityCol='proba'\n",
    ")\n",
    "\n",
    "rf = RandomForestClassifier(\n",
    "    featuresCol='features',\n",
    "    labelCol='relevance',\n",
    "    probabilityCol='proba'\n",
    ")\n",
    "\n",
    "lr = LogisticRegression(\n",
    "    featuresCol='features',\n",
    "    labelCol='relevance',\n",
    "    probabilityCol='proba'\n",
    ")\n",
    "\n",
    "vee = VectorElementExtractor(inputCol='proba', outputCol='scores', index=1)\n",
    "mc = ParametricResponseFunction(inputCols=['scores'], outputCol='__pr', weights=[0.25])\n",
    "br = BernoulliResponse(inputCol='__pr', outputCol='response', seed=1234)\n",
    "pipeline_lr = Pipeline(stages=[va, lr, vee, mc, br])\n",
    "pipeline_rf = Pipeline(stages=[va, rf, vee, mc, br])\n",
    "pipeline_fm = Pipeline(stages=[va, fm, vee, mc, br])\n",
    "\n",
    "noise_resp = NoiseResponse(mu=0.5, sigma=0.2, outputCol='scores')\n",
    "br = BernoulliResponse(inputCol='scores', outputCol='response')\n",
    "pipeline_rand = Pipeline(stages=[noise_resp, br])\n",
    "\n",
    "lr_model = pipeline_lr.fit(train_df)\n",
    "rf_model = pipeline_rf.fit(train_df)\n",
    "fm_model = pipeline_fm.fit(train_df)\n",
    "rand_model = pipeline_rand.fit(train_df)"
   ]
  },
  {
   "cell_type": "code",
   "execution_count": 11,
   "id": "2ac7e45b",
   "metadata": {},
   "outputs": [
    {
     "name": "stdout",
     "output_type": "stream",
     "text": [
      "ROC AUC (baseline): 0.7048992673992674\n",
      "Precision (baseline): 0.9259259259259259\n",
      "Recall (baseline): 0.44642857142857145\n",
      "Accuracy (baseline): 0.4896907216494845\n",
      "F1 (baseline): 0.6024096385542168\n",
      "\n"
     ]
    },
    {
     "name": "stderr",
     "output_type": "stream",
     "text": [
      "                                                                                \r"
     ]
    },
    {
     "name": "stdout",
     "output_type": "stream",
     "text": [
      "ROC AUC (classificator): 0.7554945054945056\n",
      "Precision (classificator): 0.925\n",
      "Recall (classificator): 0.8809523809523809\n",
      "Accuracy (classificator): 0.8350515463917526\n",
      "F1 (classificator): 0.9024390243902439\n",
      "\n",
      "ROC AUC (classificator): 0.7936126373626374\n",
      "Precision (classificator): 0.865979381443299\n",
      "Recall (classificator): 1.0\n",
      "Accuracy (classificator): 0.865979381443299\n",
      "F1 (classificator): 0.9281767955801106\n",
      "\n",
      "ROC AUC (classificator): 0.6628891941391941\n",
      "Precision (classificator): 0.9155844155844156\n",
      "Recall (classificator): 0.8392857142857143\n",
      "Accuracy (classificator): 0.7938144329896907\n",
      "F1 (classificator): 0.8757763975155279\n",
      "\n",
      "ROC AUC (classificator): 0.48511904761904767\n",
      "Precision (classificator): 0.8490566037735849\n",
      "Recall (classificator): 0.5357142857142857\n",
      "Accuracy (classificator): 0.5154639175257731\n",
      "F1 (classificator): 0.6569343065693432\n",
      "\n"
     ]
    }
   ],
   "source": [
    "from sklearn.metrics import roc_auc_score, precision_score, recall_score, f1_score, accuracy_score\n",
    "\n",
    "def get_baseline(test_df):\n",
    "    test_df = test_df.select('item_rating_avg', 'relevance').toPandas()\n",
    "    test_df['baseline'] = (test_df['item_rating_avg']-test_df['item_rating_avg'].min())/(test_df['item_rating_avg'].max()-test_df['item_rating_avg'].min())\n",
    "    test_df['baseline_bin'] = np.where(test_df['baseline'] > 0.5, 1, 0) \n",
    "    print(f\"ROC AUC (baseline): {roc_auc_score(test_df.relevance, test_df.baseline)}\")\n",
    "    print(f\"Precision (baseline): {precision_score(test_df.relevance, test_df.baseline_bin)}\")\n",
    "    print(f\"Recall (baseline): {recall_score(test_df.relevance, test_df.baseline_bin)}\")\n",
    "    print(f\"Accuracy (baseline): {accuracy_score(test_df.relevance, test_df.baseline_bin)}\")\n",
    "    print(f\"F1 (baseline): {f1_score(test_df.relevance, test_df.baseline_bin)}\")\n",
    "    print()\n",
    "\n",
    "def assess_models(model, test_df):\n",
    "    pred_df = model.transform(test_df).select(\"relevance\", \"scores\").toPandas()\n",
    "    pred_df['response_bin'] = np.where(pred_df['scores'] > 0.5, 1, 0)\n",
    "    print(f\"ROC AUC (classificator): {roc_auc_score(pred_df.relevance, pred_df.scores)}\")\n",
    "    print(f\"Precision (classificator): {precision_score(pred_df.relevance, pred_df.response_bin)}\")\n",
    "    print(f\"Recall (classificator): {recall_score(pred_df.relevance, pred_df.response_bin)}\")\n",
    "    print(f\"Accuracy (classificator): {accuracy_score(pred_df.relevance, pred_df.response_bin)}\")\n",
    "    print(f\"F1 (classificator): {f1_score(pred_df.relevance, pred_df.response_bin)}\")\n",
    "    print()\n",
    "\n",
    "get_baseline(test_df)\n",
    "assess_models(lr_model, test_df)\n",
    "assess_models(rf_model, test_df)\n",
    "assess_models(fm_model, test_df)\n",
    "assess_models(rand_model, test_df)"
   ]
  },
  {
   "cell_type": "code",
   "execution_count": 12,
   "id": "56bb9de5",
   "metadata": {},
   "outputs": [],
   "source": [
    "# Base features\n",
    "\n",
    "# ROC AUC (baseline): 0.7048992673992674\n",
    "# Precision (baseline): 0.9259259259259259\n",
    "# Recall (baseline): 0.44642857142857145\n",
    "# Accuracy (baseline): 0.4896907216494845\n",
    "# F1 (baseline): 0.6024096385542168\n",
    "\n",
    "# ROC AUC (classificator): 0.7348901098901099\n",
    "# Precision (classificator): 0.9130434782608695\n",
    "# Recall (classificator): 0.875\n",
    "# Accuracy (classificator): 0.8195876288659794\n",
    "# F1 (classificator): 0.8936170212765957\n",
    "\n",
    "# ROC AUC (classificator): 0.7649954212454212\n",
    "# Precision (classificator): 0.865979381443299\n",
    "# Recall (classificator): 1.0\n",
    "# Accuracy (classificator): 0.865979381443299\n",
    "# F1 (classificator): 0.9281767955801106\n",
    "\n",
    "# ROC AUC (classificator): 0.652014652014652\n",
    "# Precision (classificator): 0.90625\n",
    "# Recall (classificator): 0.8630952380952381\n",
    "# Accuracy (classificator): 0.8041237113402062\n",
    "# F1 (classificator): 0.8841463414634146\n",
    "\n",
    "# ROC AUC (classificator): 0.3923992673992674\n",
    "# Precision (classificator): 0.8478260869565217\n",
    "# Recall (classificator): 0.4642857142857143\n",
    "# Accuracy (classificator): 0.4639175257731959\n",
    "# F1 (classificator): 0.6000000000000001"
   ]
  },
  {
   "cell_type": "code",
   "execution_count": 13,
   "id": "0f32fde5",
   "metadata": {},
   "outputs": [],
   "source": [
    "# All features\n",
    "\n",
    "# ROC AUC (classificator): 0.7554945054945056\n",
    "# Precision (classificator): 0.925\n",
    "# Recall (classificator): 0.8809523809523809\n",
    "# Accuracy (classificator): 0.8350515463917526\n",
    "# F1 (classificator): 0.9024390243902439\n",
    "\n",
    "# ROC AUC (classificator): 0.756868131868132\n",
    "# Precision (classificator): 0.8704663212435233\n",
    "# Recall (classificator): 1.0\n",
    "# Accuracy (classificator): 0.8711340206185567\n",
    "# F1 (classificator): 0.9307479224376731\n",
    "\n",
    "# ROC AUC (classificator): 0.6195054945054945\n",
    "# Precision (classificator): 0.9\n",
    "# Recall (classificator): 0.8571428571428571\n",
    "# Accuracy (classificator): 0.7938144329896907\n",
    "# F1 (classificator): 0.8780487804878048"
   ]
  },
  {
   "cell_type": "code",
   "execution_count": 14,
   "id": "095a93ea",
   "metadata": {},
   "outputs": [],
   "source": [
    "# Only embeds\n",
    "\n",
    "# ROC AUC (classificator): 0.6236263736263737\n",
    "# Precision (classificator): 0.8777777777777778\n",
    "# Recall (classificator): 0.9404761904761905\n",
    "# Accuracy (classificator): 0.8350515463917526\n",
    "# F1 (classificator): 0.9080459770114943\n",
    "\n",
    "# ROC AUC (classificator): 0.7834249084249084\n",
    "# Precision (classificator): 0.8870967741935484\n",
    "# Recall (classificator): 0.9821428571428571\n",
    "# Accuracy (classificator): 0.8762886597938144\n",
    "# F1 (classificator): 0.9322033898305085\n",
    "\n",
    "# ROC AUC (classificator): 0.7065018315018315\n",
    "# Precision (classificator): 0.9323308270676691\n",
    "# Recall (classificator): 0.7380952380952381\n",
    "# Accuracy (classificator): 0.7268041237113402\n",
    "# F1 (classificator): 0.8239202657807309"
   ]
  },
  {
   "cell_type": "code",
   "execution_count": 15,
   "id": "f548d2a0",
   "metadata": {},
   "outputs": [
    {
     "data": {
      "text/plain": [
       "DataFrame[user_idx: string, user_smoker: bigint, user_weight: bigint, user_height: double, user_drink_level_abstemious: smallint, user_drink_level_casual drinker: smallint, user_drink_level_social drinker: smallint, user_dress_preference_?: smallint, user_dress_preference_elegant: smallint, user_dress_preference_formal: smallint, user_dress_preference_informal: smallint, user_dress_preference_no preference: smallint, user_ambience_?: smallint, user_ambience_family: smallint, user_ambience_friends: smallint, user_ambience_solitary: smallint, user_transport_?: smallint, user_transport_car owner: smallint, user_transport_on foot: smallint, user_transport_public: smallint, user_marital_status_?: smallint, user_marital_status_married: smallint, user_marital_status_single: smallint, user_marital_status_widow: smallint, user_hijos_?: smallint, user_hijos_dependent: smallint, user_hijos_independent: smallint, user_hijos_kids: smallint, user_birth_year_1930: smallint, user_birth_year_1940: smallint, user_birth_year_1943: smallint, user_birth_year_1952: smallint, user_birth_year_1967: smallint, user_birth_year_1969: smallint, user_birth_year_1979: smallint, user_birth_year_1981: smallint, user_birth_year_1982: smallint, user_birth_year_1983: smallint, user_birth_year_1984: smallint, user_birth_year_1985: smallint, user_birth_year_1986: smallint, user_birth_year_1987: smallint, user_birth_year_1988: smallint, user_birth_year_1989: smallint, user_birth_year_1990: smallint, user_birth_year_1991: smallint, user_birth_year_1992: smallint, user_birth_year_1993: smallint, user_birth_year_1994: smallint, user_interest_eco-friendly: smallint, user_interest_none: smallint, user_interest_retro: smallint, user_interest_technology: smallint, user_interest_variety: smallint, user_personality_conformist: smallint, user_personality_hard-worker: smallint, user_personality_hunter-ostentatious: smallint, user_personality_thrifty-protector: smallint, user_religion_Catholic: smallint, user_religion_Christian: smallint, user_religion_Jewish: smallint, user_religion_Mormon: smallint, user_religion_none: smallint, user_activity_?: smallint, user_activity_professional: smallint, user_activity_student: smallint, user_activity_unemployed: smallint, user_activity_working-class: smallint, user_color_black: smallint, user_color_blue: smallint, user_color_green: smallint, user_color_orange: smallint, user_color_purple: smallint, user_color_red: smallint, user_color_white: smallint, user_color_yellow: smallint, user_budget_?: smallint, user_budget_high: smallint, user_budget_low: smallint, user_budget_medium: smallint, user_Upayment_American_Express: smallint, user_Upayment_MasterCard-Eurocard: smallint, user_Upayment_VISA: smallint, user_Upayment_bank_debit_cards: smallint, user_Upayment_cash: smallint, user_Rcuisine_Afghan: smallint, user_Rcuisine_African: smallint, user_Rcuisine_American: smallint, user_Rcuisine_Armenian: smallint, user_Rcuisine_Asian: smallint, user_Rcuisine_Australian: smallint, user_Rcuisine_Austrian: smallint, user_Rcuisine_Bagels: smallint, user_Rcuisine_Bakery: smallint, user_Rcuisine_Bar: smallint, user_Rcuisine_Bar_Pub_Brewery: smallint, user_Rcuisine_Barbecue: smallint, user_Rcuisine_Basque: smallint, user_Rcuisine_Brazilian: smallint, user_Rcuisine_Breakfast-Brunch: smallint, user_Rcuisine_British: smallint, user_Rcuisine_Burgers: smallint, user_Rcuisine_Burmese: smallint, user_Rcuisine_Cafe-Coffee_Shop: smallint, user_Rcuisine_Cafeteria: smallint, user_Rcuisine_Cajun-Creole: smallint, user_Rcuisine_California: smallint, user_Rcuisine_Cambodian: smallint, user_Rcuisine_Canadian: smallint, user_Rcuisine_Caribbean: smallint, user_Rcuisine_Chilean: smallint, user_Rcuisine_Chinese: smallint, user_Rcuisine_Contemporary: smallint, user_Rcuisine_Continental-European: smallint, user_Rcuisine_Cuban: smallint, user_Rcuisine_Deli-Sandwiches: smallint, user_Rcuisine_Dessert-Ice_Cream: smallint, user_Rcuisine_Dim_Sum: smallint, user_Rcuisine_Diner: smallint, user_Rcuisine_Doughnuts: smallint, user_Rcuisine_Dutch-Belgian: smallint, user_Rcuisine_Eastern_European: smallint, user_Rcuisine_Eclectic: smallint, user_Rcuisine_Ethiopian: smallint, user_Rcuisine_Family: smallint, user_Rcuisine_Fast_Food: smallint, user_Rcuisine_Filipino: smallint, user_Rcuisine_Fine_Dining: smallint, user_Rcuisine_French: smallint, user_Rcuisine_Fusion: smallint, user_Rcuisine_Game: smallint, user_Rcuisine_German: smallint, user_Rcuisine_Greek: smallint, user_Rcuisine_Hawaiian: smallint, user_Rcuisine_Hot_Dogs: smallint, user_Rcuisine_Hungarian: smallint, user_Rcuisine_Indian-Pakistani: smallint, user_Rcuisine_Indigenous: smallint, user_Rcuisine_Indonesian: smallint, user_Rcuisine_International: smallint, user_Rcuisine_Irish: smallint, user_Rcuisine_Israeli: smallint, user_Rcuisine_Italian: smallint, user_Rcuisine_Jamaican: smallint, user_Rcuisine_Japanese: smallint, user_Rcuisine_Juice: smallint, user_Rcuisine_Korean: smallint, user_Rcuisine_Kosher: smallint, user_Rcuisine_Latin_American: smallint, user_Rcuisine_Lebanese: smallint, user_Rcuisine_Malaysian: smallint, user_Rcuisine_Mediterranean: smallint, user_Rcuisine_Mexican: smallint, user_Rcuisine_Middle_Eastern: smallint, user_Rcuisine_Mongolian: smallint, user_Rcuisine_Moroccan: smallint, user_Rcuisine_North_African: smallint, user_Rcuisine_Organic-Healthy: smallint, user_Rcuisine_Pacific_Northwest: smallint, user_Rcuisine_Pacific_Rim: smallint, user_Rcuisine_Persian: smallint, user_Rcuisine_Peruvian: smallint, user_Rcuisine_Pizzeria: smallint, user_Rcuisine_Polish: smallint, user_Rcuisine_Polynesian: smallint, user_Rcuisine_Portuguese: smallint, user_Rcuisine_Regional: smallint, user_Rcuisine_Romanian: smallint, user_Rcuisine_Russian-Ukrainian: smallint, user_Rcuisine_Scandinavian: smallint, user_Rcuisine_Seafood: smallint, user_Rcuisine_Soup: smallint, user_Rcuisine_Southeast_Asian: smallint, user_Rcuisine_Southern: smallint, user_Rcuisine_Southwestern: smallint, user_Rcuisine_Spanish: smallint, user_Rcuisine_Steaks: smallint, user_Rcuisine_Sushi: smallint, user_Rcuisine_Swiss: smallint, user_Rcuisine_Tapas: smallint, user_Rcuisine_Tea_House: smallint, user_Rcuisine_Tex-Mex: smallint, user_Rcuisine_Thai: smallint, user_Rcuisine_Tibetan: smallint, user_Rcuisine_Tunisian: smallint, user_Rcuisine_Turkish: smallint, user_Rcuisine_Vegetarian: smallint, user_Rcuisine_Vietnamese: smallint, uembed_0: double, uembed_1: double, uembed_2: double, uembed_3: double, uembed_4: double, uembed_5: double, uembed_6: double, uembed_7: double, uembed_8: double, uembed_9: double, uembed_10: double, uembed_11: double, uembed_12: double, uembed_13: double]"
      ]
     },
     "execution_count": 15,
     "metadata": {},
     "output_type": "execute_result"
    }
   ],
   "source": [
    "full_dataframe = log_df.join(items_df, on='item_idx', how='inner').join(users_df, on='user_idx', how='inner').drop('timestamp')\n",
    "avg_item_ratings = full_dataframe.select('item_idx', 'relevance').groupBy('item_idx').agg(sf.mean(\"relevance\").alias('item_rating_avg'))\n",
    "full_dataframe = full_dataframe.withColumn('relevance', sf.when(sf.col('relevance') >= 1, 1).otherwise(0))\n",
    "full_dataframe = full_dataframe.join(avg_item_ratings, on='item_idx', how='inner')\n",
    "\n",
    "users_df = users_df.join(user_svd, on='user_idx', how='inner').cache()\n",
    "items_df = items_df.join(item_svd, on='item_idx', how='inner').cache()\n",
    "\n",
    "item_generator = RealDataGenerator(label='items_real', seed=42)\n",
    "user_generator = RealDataGenerator(label='users_real', seed=42)\n",
    "\n",
    "# передадим популяции пользователей и айтемов\n",
    "item_generator.fit(items_df)\n",
    "user_generator.fit(users_df)\n",
    "\n",
    "# будем использовать всех пользователей и айтемы из популяции\n",
    "item_generator.generate(items_df.count())\n",
    "user_generator.generate(users_df.count())"
   ]
  },
  {
   "cell_type": "code",
   "execution_count": 16,
   "id": "ffede23e",
   "metadata": {},
   "outputs": [
    {
     "name": "stderr",
     "output_type": "stream",
     "text": [
      "                                                                                \r"
     ]
    }
   ],
   "source": [
    "indexer = Indexer(user_col='user_idx', item_col='item_idx')\n",
    "indexer.fit(users=users_df, items=items_df)\n",
    "\n",
    "dummy_log = pandas_to_spark(pd.DataFrame({'user_idx' : [1], 'item_idx' : [1], 'relevance' : [0.0]}))\n",
    "\n",
    "ucb_lr = UCB()\n",
    "ucb_lr.fit(indexer.transform(dummy_log))\n",
    "\n",
    "ucb_rf = UCB()\n",
    "ucb_rf.fit(indexer.transform(dummy_log))\n",
    "\n",
    "ucb_fm = UCB()\n",
    "ucb_fm.fit(indexer.transform(dummy_log))\n",
    "\n",
    "ucb_rand = UCB()\n",
    "ucb_rand.fit(indexer.transform(dummy_log))"
   ]
  },
  {
   "cell_type": "code",
   "execution_count": 17,
   "id": "a31d600a",
   "metadata": {},
   "outputs": [],
   "source": [
    "evaluator = EvaluateMetrics(\n",
    "    userKeyCol='user_idx',\n",
    "    itemKeyCol='item_idx',\n",
    "    predictionCol='relevance',\n",
    "    labelCol='response',\n",
    "    replay_label_filter=1.0,\n",
    "    replay_metrics={NDCG() : 5, Precision() : 5, RocAuc(): 5}\n",
    ")\n",
    "\n",
    "def calc_metric(response_df):\n",
    "    return (response_df\n",
    "            .groupBy(\"user_idx\").agg(sf.sum(\"response\").alias(\"num_positive\"))\n",
    "            .select(sf.mean(\"num_positive\")).collect()[0][0]\n",
    "           )"
   ]
  },
  {
   "cell_type": "code",
   "execution_count": 19,
   "id": "aedd6780",
   "metadata": {},
   "outputs": [
    {
     "name": "stdout",
     "output_type": "stream",
     "text": [
      "------------------------Stage 0------------------------\n"
     ]
    },
    {
     "name": "stderr",
     "output_type": "stream",
     "text": [
      "                                                                                \r"
     ]
    },
    {
     "name": "stdout",
     "output_type": "stream",
     "text": [
      "Time of 1 iteration: \n",
      "32.479371786117554\n",
      "------------------------Stage 1------------------------\n"
     ]
    },
    {
     "name": "stderr",
     "output_type": "stream",
     "text": [
      "                                                                                \r"
     ]
    },
    {
     "name": "stdout",
     "output_type": "stream",
     "text": [
      "Time of 2 iteration: \n",
      "45.90041780471802\n",
      "------------------------Stage 2------------------------\n"
     ]
    },
    {
     "name": "stderr",
     "output_type": "stream",
     "text": [
      "                                                                                \r"
     ]
    },
    {
     "name": "stdout",
     "output_type": "stream",
     "text": [
      "Time of 3 iteration: \n",
      "44.42529344558716\n",
      "------------------------Stage 3------------------------\n"
     ]
    },
    {
     "name": "stderr",
     "output_type": "stream",
     "text": [
      "                                                                                \r"
     ]
    },
    {
     "name": "stdout",
     "output_type": "stream",
     "text": [
      "Time of 4 iteration: \n",
      "44.81239032745361\n",
      "------------------------Stage 4------------------------\n"
     ]
    },
    {
     "name": "stderr",
     "output_type": "stream",
     "text": [
      "                                                                                \r"
     ]
    },
    {
     "name": "stdout",
     "output_type": "stream",
     "text": [
      "Time of 5 iteration: \n",
      "44.56375598907471\n",
      "------------------------Stage 5------------------------\n"
     ]
    },
    {
     "name": "stderr",
     "output_type": "stream",
     "text": [
      "                                                                                \r"
     ]
    },
    {
     "name": "stdout",
     "output_type": "stream",
     "text": [
      "Time of 6 iteration: \n",
      "45.41217660903931\n",
      "------------------------Stage 6------------------------\n"
     ]
    },
    {
     "name": "stderr",
     "output_type": "stream",
     "text": [
      "                                                                                \r"
     ]
    },
    {
     "name": "stdout",
     "output_type": "stream",
     "text": [
      "Time of 7 iteration: \n",
      "45.316253662109375\n",
      "------------------------Stage 7------------------------\n"
     ]
    },
    {
     "name": "stderr",
     "output_type": "stream",
     "text": [
      "                                                                                \r"
     ]
    },
    {
     "name": "stdout",
     "output_type": "stream",
     "text": [
      "Time of 8 iteration: \n",
      "45.622103691101074\n",
      "------------------------Stage 8------------------------\n"
     ]
    },
    {
     "name": "stderr",
     "output_type": "stream",
     "text": [
      "                                                                                \r"
     ]
    },
    {
     "name": "stdout",
     "output_type": "stream",
     "text": [
      "Time of 9 iteration: \n",
      "44.96225333213806\n",
      "------------------------Stage 9------------------------\n"
     ]
    },
    {
     "name": "stderr",
     "output_type": "stream",
     "text": [
      "                                                                                \r"
     ]
    },
    {
     "name": "stdout",
     "output_type": "stream",
     "text": [
      "Time of 10 iteration: \n",
      "44.900471448898315\n",
      "------------------------Stage 10------------------------\n"
     ]
    },
    {
     "name": "stderr",
     "output_type": "stream",
     "text": [
      "                                                                                \r"
     ]
    },
    {
     "name": "stdout",
     "output_type": "stream",
     "text": [
      "Time of 11 iteration: \n",
      "44.97688579559326\n",
      "------------------------Stage 11------------------------\n"
     ]
    },
    {
     "name": "stderr",
     "output_type": "stream",
     "text": [
      "                                                                                \r"
     ]
    },
    {
     "name": "stdout",
     "output_type": "stream",
     "text": [
      "Time of 12 iteration: \n",
      "46.116472005844116\n",
      "------------------------Stage 12------------------------\n"
     ]
    },
    {
     "name": "stderr",
     "output_type": "stream",
     "text": [
      "                                                                                \r"
     ]
    },
    {
     "name": "stdout",
     "output_type": "stream",
     "text": [
      "Time of 13 iteration: \n",
      "44.613990783691406\n",
      "------------------------Stage 13------------------------\n"
     ]
    },
    {
     "name": "stderr",
     "output_type": "stream",
     "text": [
      "                                                                                \r"
     ]
    },
    {
     "name": "stdout",
     "output_type": "stream",
     "text": [
      "Time of 14 iteration: \n",
      "44.58865165710449\n",
      "------------------------Stage 14------------------------\n"
     ]
    },
    {
     "name": "stderr",
     "output_type": "stream",
     "text": [
      "                                                                                \r"
     ]
    },
    {
     "name": "stdout",
     "output_type": "stream",
     "text": [
      "Time of 15 iteration: \n",
      "44.48060584068298\n",
      "------------------------Stage 15------------------------\n"
     ]
    },
    {
     "name": "stderr",
     "output_type": "stream",
     "text": [
      "                                                                                \r"
     ]
    },
    {
     "name": "stdout",
     "output_type": "stream",
     "text": [
      "Time of 16 iteration: \n",
      "44.61485028266907\n",
      "------------------------Stage 16------------------------\n"
     ]
    },
    {
     "name": "stderr",
     "output_type": "stream",
     "text": [
      "                                                                                \r"
     ]
    },
    {
     "name": "stdout",
     "output_type": "stream",
     "text": [
      "Time of 17 iteration: \n",
      "45.14234113693237\n",
      "------------------------Stage 17------------------------\n"
     ]
    },
    {
     "name": "stderr",
     "output_type": "stream",
     "text": [
      "                                                                                \r"
     ]
    },
    {
     "name": "stdout",
     "output_type": "stream",
     "text": [
      "Time of 18 iteration: \n",
      "44.81842827796936\n",
      "------------------------Stage 18------------------------\n"
     ]
    },
    {
     "name": "stderr",
     "output_type": "stream",
     "text": [
      "                                                                                \r"
     ]
    },
    {
     "name": "stdout",
     "output_type": "stream",
     "text": [
      "Time of 19 iteration: \n",
      "45.275198459625244\n",
      "------------------------Stage 19------------------------\n"
     ]
    },
    {
     "name": "stderr",
     "output_type": "stream",
     "text": [
      "                                                                                \r"
     ]
    },
    {
     "name": "stdout",
     "output_type": "stream",
     "text": [
      "Time of 20 iteration: \n",
      "45.00616407394409\n",
      "------------------------Stage 20------------------------\n"
     ]
    },
    {
     "name": "stderr",
     "output_type": "stream",
     "text": [
      "                                                                                \r"
     ]
    },
    {
     "name": "stdout",
     "output_type": "stream",
     "text": [
      "Time of 21 iteration: \n",
      "44.80604600906372\n",
      "------------------------Stage 21------------------------\n"
     ]
    },
    {
     "name": "stderr",
     "output_type": "stream",
     "text": [
      "                                                                                \r"
     ]
    },
    {
     "name": "stdout",
     "output_type": "stream",
     "text": [
      "Time of 22 iteration: \n",
      "45.954612016677856\n",
      "------------------------Stage 22------------------------\n"
     ]
    },
    {
     "name": "stderr",
     "output_type": "stream",
     "text": [
      "                                                                                \r"
     ]
    },
    {
     "name": "stdout",
     "output_type": "stream",
     "text": [
      "Time of 23 iteration: \n",
      "46.21726632118225\n",
      "------------------------Stage 23------------------------\n"
     ]
    },
    {
     "name": "stderr",
     "output_type": "stream",
     "text": [
      "                                                                                \r"
     ]
    },
    {
     "name": "stdout",
     "output_type": "stream",
     "text": [
      "Time of 24 iteration: \n",
      "45.120391607284546\n",
      "------------------------Stage 24------------------------\n"
     ]
    },
    {
     "name": "stderr",
     "output_type": "stream",
     "text": [
      "                                                                                \r"
     ]
    },
    {
     "name": "stdout",
     "output_type": "stream",
     "text": [
      "Time of 25 iteration: \n",
      "45.35531735420227\n",
      "------------------------Stage 25------------------------\n"
     ]
    },
    {
     "name": "stderr",
     "output_type": "stream",
     "text": [
      "                                                                                \r"
     ]
    },
    {
     "name": "stdout",
     "output_type": "stream",
     "text": [
      "Time of 26 iteration: \n",
      "45.3832049369812\n",
      "------------------------Stage 26------------------------\n"
     ]
    },
    {
     "name": "stderr",
     "output_type": "stream",
     "text": [
      "                                                                                \r"
     ]
    },
    {
     "name": "stdout",
     "output_type": "stream",
     "text": [
      "Time of 27 iteration: \n",
      "45.41691756248474\n",
      "------------------------Stage 27------------------------\n"
     ]
    },
    {
     "name": "stderr",
     "output_type": "stream",
     "text": [
      "                                                                                \r"
     ]
    },
    {
     "name": "stdout",
     "output_type": "stream",
     "text": [
      "Time of 28 iteration: \n",
      "44.87651586532593\n",
      "------------------------Stage 28------------------------\n"
     ]
    },
    {
     "name": "stderr",
     "output_type": "stream",
     "text": [
      "                                                                                \r"
     ]
    },
    {
     "name": "stdout",
     "output_type": "stream",
     "text": [
      "Time of 29 iteration: \n",
      "45.27524971961975\n",
      "------------------------Stage 29------------------------\n"
     ]
    },
    {
     "name": "stderr",
     "output_type": "stream",
     "text": [
      "                                                                                \r"
     ]
    },
    {
     "name": "stdout",
     "output_type": "stream",
     "text": [
      "Time of 30 iteration: \n",
      "45.17724680900574\n"
     ]
    }
   ],
   "source": [
    "def do_a_cycle(simul, model, pipeline, iteration, metrics):\n",
    "    users = simul.sample_users(0.1).dropna().cache()\n",
    "    log = simul.get_log(user_df=users)\n",
    "    log = dummy_log if log is None else log\n",
    "    log = log.cache()\n",
    "\n",
    "    recs = model.predict(\n",
    "        log=indexer.transform(log),\n",
    "        k=1,\n",
    "        users=indexer.transform(users),\n",
    "        items=indexer.transform(items_df),\n",
    "    )\n",
    "    recs = indexer.inverse_transform(recs).cache()\n",
    "\n",
    "    resp = simul.sample_responses(\n",
    "        recs_df=recs, \n",
    "        user_features=users,\n",
    "        item_features=items_df,\n",
    "        action_models=pipeline\n",
    "    ).select('user_idx', 'item_idx', 'relevance', 'response').cache()\n",
    "    simul.update_log(resp, iteration=iteration)\n",
    "\n",
    "    metrics.append(calc_metric(resp))\n",
    "\n",
    "    model._clear_cache()\n",
    "    ucb_train_log = simul.log.cache()\n",
    "    model.fit(log=indexer.transform(\n",
    "        ucb_train_log.select('user_idx', 'item_idx', 'response').withColumnRenamed('response', 'relevance')\n",
    "    ))\n",
    "\n",
    "    log.unpersist()\n",
    "    users.unpersist()\n",
    "    recs.unpersist()\n",
    "    resp.unpersist()\n",
    "    ucb_train_log.unpersist()\n",
    "\n",
    "sim_lr = Simulator(user_generator, item_generator, f'checkpoints/lr', None, 'user_idx', 'item_idx', spark)\n",
    "sim_rf = Simulator(user_generator, item_generator, f'checkpoints/rf', None, 'user_idx', 'item_idx', spark)\n",
    "sim_fm = Simulator(user_generator, item_generator, f'checkpoints/fm', None, 'user_idx', 'item_idx', spark)\n",
    "sim_rand = Simulator(user_generator, item_generator, f'checkpoints/rand', None, 'user_idx', 'item_idx', spark)\n",
    "\n",
    "lr_metrics = []\n",
    "rf_metrics = []\n",
    "fm_metrics = []\n",
    "rnd_metrics = []\n",
    "\n",
    "for i in range(30):\n",
    "    print(f'------------------------Stage {i}------------------------')\n",
    "    start_iter = time.time()\n",
    "\n",
    "    do_a_cycle(sim_lr, ucb_lr, lr_model, i, lr_metrics)\n",
    "    # do_a_cycle(sim_rf, ucb_rf, rf_model, i, rf_metrics)\n",
    "    # do_a_cycle(sim_fm, ucb_fm, fm_model, i, fm_metrics)\n",
    "    # do_a_cycle(sim_rand, ucb_rand, rand_model, i, rnd_metrics)\n",
    "    \n",
    "    end_iter = time.time()\n",
    "    print(f\"Time of {i+1} iteration: \")\n",
    "    print(end_iter - start_iter)"
   ]
  },
  {
   "cell_type": "code",
   "execution_count": 20,
   "id": "279f07e9",
   "metadata": {},
   "outputs": [
    {
     "data": {
      "image/png": "[encoded data removed]",
      "text/plain": [
       "<Figure size 640x480 with 1 Axes>"
      ]
     },
     "metadata": {},
     "output_type": "display_data"
    }
   ],
   "source": [
    "plt.plot(lr_metrics)\n",
    "plt.grid()\n",
    "plt.xlabel('iteration')\n",
    "plt.ylabel('# of clicks')\n",
    "plt.show()"
   ]
  }
 ],
 "metadata": {
  "kernelspec": {
   "display_name": "sim4rec",
   "language": "python",
   "name": "python3"
  },
  "language_info": {
   "codemirror_mode": {
    "name": "ipython",
    "version": 3
   },
   "file_extension": ".py",
   "mimetype": "text/x-python",
   "name": "python",
   "nbconvert_exporter": "python",
   "pygments_lexer": "ipython3",
   "version": "3.9.18"
  }
 },
 "nbformat": 4,
 "nbformat_minor": 5
}
