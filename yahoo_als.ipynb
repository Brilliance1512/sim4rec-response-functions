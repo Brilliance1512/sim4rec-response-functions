{
 "cells": [
  {
   "cell_type": "code",
   "execution_count": 1,
   "metadata": {},
   "outputs": [
    {
     "data": {
      "text/html": [
       "<style type='text/css'>\n",
       ".datatable table.frame { margin-bottom: 0; }\n",
       ".datatable table.frame thead { border-bottom: none; }\n",
       ".datatable table.frame tr.coltypes td {  color: #FFFFFF;  line-height: 6px;  padding: 0 0.5em;}\n",
       ".datatable .bool    { background: #DDDD99; }\n",
       ".datatable .object  { background: #565656; }\n",
       ".datatable .int     { background: #5D9E5D; }\n",
       ".datatable .float   { background: #4040CC; }\n",
       ".datatable .str     { background: #CC4040; }\n",
       ".datatable .time    { background: #40CC40; }\n",
       ".datatable .row_index {  background: var(--jp-border-color3);  border-right: 1px solid var(--jp-border-color0);  color: var(--jp-ui-font-color3);  font-size: 9px;}\n",
       ".datatable .frame tbody td { text-align: left; }\n",
       ".datatable .frame tr.coltypes .row_index {  background: var(--jp-border-color0);}\n",
       ".datatable th:nth-child(2) { padding-left: 12px; }\n",
       ".datatable .hellipsis {  color: var(--jp-cell-editor-border-color);}\n",
       ".datatable .vellipsis {  background: var(--jp-layout-color0);  color: var(--jp-cell-editor-border-color);}\n",
       ".datatable .na {  color: var(--jp-cell-editor-border-color);  font-size: 80%;}\n",
       ".datatable .sp {  opacity: 0.25;}\n",
       ".datatable .footer { font-size: 9px; }\n",
       ".datatable .frame_dimensions {  background: var(--jp-border-color3);  border-top: 1px solid var(--jp-border-color0);  color: var(--jp-ui-font-color3);  display: inline-block;  opacity: 0.6;  padding: 1px 10px 1px 5px;}\n",
       "</style>\n"
      ],
      "text/plain": [
       "<IPython.core.display.HTML object>"
      ]
     },
     "metadata": {},
     "output_type": "display_data"
    },
    {
     "name": "stdout",
     "output_type": "stream",
     "text": [
      "24/05/26 18:42:55 WARN Utils: Your hostname, ecs-syudosaev-big resolves to a loopback address: 127.0.1.1; using 10.11.12.124 instead (on interface eth0)\n",
      "24/05/26 18:42:55 WARN Utils: Set SPARK_LOCAL_IP if you need to bind to another address\n"
     ]
    },
    {
     "name": "stderr",
     "output_type": "stream",
     "text": [
      "Setting default log level to \"WARN\".\n",
      "To adjust logging level use sc.setLogLevel(newLevel). For SparkR, use setLogLevel(newLevel).\n"
     ]
    },
    {
     "name": "stdout",
     "output_type": "stream",
     "text": [
      "24/05/26 18:42:55 WARN NativeCodeLoader: Unable to load native-hadoop library for your platform... using builtin-java classes where applicable\n"
     ]
    }
   ],
   "source": [
    "import pandas as pd\n",
    "from surprise import Reader, SVD, Dataset, accuracy\n",
    "from surprise.model_selection import train_test_split, cross_validate\n",
    "from rs_datasets import MovieLens\n",
    "import pickle\n",
    "\n",
    "from sim4rec.utils import pandas_to_spark\n",
    "from pyspark.ml.recommendation import ALS\n",
    "from pyspark.sql import SparkSession\n",
    "\n",
    "spark = SparkSession.builder\\\n",
    "    .appName('simulator_movielens')\\\n",
    "    .master('local[*]')\\\n",
    "    .config('spark.sql.shuffle.partitions', '192')\\\n",
    "    .config('spark.default.parallelism', '192')\\\n",
    "    .config('spark.driver.extraJavaOptions', '-XX:+UseG1GC')\\\n",
    "    .config('spark.executor.extraJavaOptions', '-XX:+UseG1GC')\\\n",
    "    .config('spark.driver.memory', '256g')\\\n",
    "    .getOrCreate()\n",
    "\n",
    "data = spark.read.parquet('train_trim.parquet')"
   ]
  },
  {
   "cell_type": "code",
   "execution_count": 2,
   "metadata": {},
   "outputs": [
    {
     "name": "stderr",
     "output_type": "stream",
     "text": [
      "                                                                                \r"
     ]
    },
    {
     "name": "stdout",
     "output_type": "stream",
     "text": [
      "24/05/26 18:43:20 WARN InstanceBuilder$NativeBLAS: Failed to load implementation from:dev.ludovic.netlib.blas.JNIBLAS\n",
      "24/05/26 18:43:20 WARN InstanceBuilder$NativeBLAS: Failed to load implementation from:dev.ludovic.netlib.blas.ForeignLinkerBLAS\n",
      "24/05/26 18:43:21 WARN InstanceBuilder$NativeLAPACK: Failed to load implementation from:dev.ludovic.netlib.lapack.JNILAPACK\n"
     ]
    },
    {
     "name": "stderr",
     "output_type": "stream",
     "text": [
      "                                                                                \r"
     ]
    },
    {
     "name": "stdout",
     "output_type": "stream",
     "text": [
      "24/05/26 19:00:28 WARN DAGScheduler: Broadcasting large task binary with size 1064.9 KiB\n"
     ]
    },
    {
     "name": "stderr",
     "output_type": "stream",
     "text": [
      "                                                                                \r"
     ]
    },
    {
     "name": "stdout",
     "output_type": "stream",
     "text": [
      "24/05/26 19:01:48 WARN DAGScheduler: Broadcasting large task binary with size 1132.8 KiB\n"
     ]
    },
    {
     "name": "stderr",
     "output_type": "stream",
     "text": [
      "                                                                                \r"
     ]
    },
    {
     "name": "stdout",
     "output_type": "stream",
     "text": [
      "24/05/26 19:03:06 WARN DAGScheduler: Broadcasting large task binary with size 1065.8 KiB\n",
      "24/05/26 19:03:06 WARN DAGScheduler: Broadcasting large task binary with size 1200.8 KiB\n"
     ]
    },
    {
     "name": "stderr",
     "output_type": "stream",
     "text": [
      "                                                                                \r"
     ]
    },
    {
     "name": "stdout",
     "output_type": "stream",
     "text": [
      "24/05/26 19:04:25 WARN DAGScheduler: Broadcasting large task binary with size 1133.7 KiB\n",
      "24/05/26 19:04:25 WARN DAGScheduler: Broadcasting large task binary with size 1268.7 KiB\n"
     ]
    },
    {
     "name": "stderr",
     "output_type": "stream",
     "text": [
      "                                                                                \r"
     ]
    },
    {
     "name": "stdout",
     "output_type": "stream",
     "text": [
      "24/05/26 19:05:44 WARN DAGScheduler: Broadcasting large task binary with size 1201.6 KiB\n",
      "24/05/26 19:05:44 WARN DAGScheduler: Broadcasting large task binary with size 1336.6 KiB\n"
     ]
    },
    {
     "name": "stderr",
     "output_type": "stream",
     "text": [
      "                                                                                \r"
     ]
    },
    {
     "name": "stdout",
     "output_type": "stream",
     "text": [
      "24/05/26 19:07:03 WARN DAGScheduler: Broadcasting large task binary with size 1269.6 KiB\n",
      "24/05/26 19:07:03 WARN DAGScheduler: Broadcasting large task binary with size 1404.6 KiB\n"
     ]
    },
    {
     "name": "stderr",
     "output_type": "stream",
     "text": [
      "                                                                                \r"
     ]
    },
    {
     "name": "stdout",
     "output_type": "stream",
     "text": [
      "24/05/26 19:08:21 WARN DAGScheduler: Broadcasting large task binary with size 1337.5 KiB\n",
      "24/05/26 19:08:21 WARN DAGScheduler: Broadcasting large task binary with size 1472.5 KiB\n"
     ]
    },
    {
     "name": "stderr",
     "output_type": "stream",
     "text": [
      "                                                                                \r"
     ]
    },
    {
     "name": "stdout",
     "output_type": "stream",
     "text": [
      "24/05/26 19:09:40 WARN DAGScheduler: Broadcasting large task binary with size 1405.5 KiB\n",
      "24/05/26 19:09:41 WARN DAGScheduler: Broadcasting large task binary with size 1540.5 KiB\n"
     ]
    },
    {
     "name": "stderr",
     "output_type": "stream",
     "text": [
      "                                                                                \r"
     ]
    },
    {
     "name": "stdout",
     "output_type": "stream",
     "text": [
      "24/05/26 19:10:59 WARN DAGScheduler: Broadcasting large task binary with size 1473.4 KiB\n",
      "24/05/26 19:10:59 WARN DAGScheduler: Broadcasting large task binary with size 1608.4 KiB\n"
     ]
    },
    {
     "name": "stderr",
     "output_type": "stream",
     "text": [
      "                                                                                \r"
     ]
    },
    {
     "name": "stdout",
     "output_type": "stream",
     "text": [
      "24/05/26 19:12:18 WARN DAGScheduler: Broadcasting large task binary with size 1541.3 KiB\n",
      "24/05/26 19:12:19 WARN DAGScheduler: Broadcasting large task binary with size 1676.3 KiB\n"
     ]
    },
    {
     "name": "stderr",
     "output_type": "stream",
     "text": [
      "                                                                                \r"
     ]
    },
    {
     "name": "stdout",
     "output_type": "stream",
     "text": [
      "24/05/26 19:13:39 WARN DAGScheduler: Broadcasting large task binary with size 1609.3 KiB\n",
      "24/05/26 19:13:39 WARN DAGScheduler: Broadcasting large task binary with size 1744.3 KiB\n"
     ]
    },
    {
     "name": "stderr",
     "output_type": "stream",
     "text": [
      "                                                                                \r"
     ]
    },
    {
     "name": "stdout",
     "output_type": "stream",
     "text": [
      "24/05/26 19:14:59 WARN DAGScheduler: Broadcasting large task binary with size 1677.2 KiB\n",
      "24/05/26 19:14:59 WARN DAGScheduler: Broadcasting large task binary with size 1812.2 KiB\n"
     ]
    },
    {
     "name": "stderr",
     "output_type": "stream",
     "text": [
      "                                                                                \r"
     ]
    },
    {
     "name": "stdout",
     "output_type": "stream",
     "text": [
      "24/05/26 19:16:17 WARN DAGScheduler: Broadcasting large task binary with size 1745.2 KiB\n",
      "24/05/26 19:16:17 WARN DAGScheduler: Broadcasting large task binary with size 1880.1 KiB\n"
     ]
    },
    {
     "name": "stderr",
     "output_type": "stream",
     "text": [
      "                                                                                \r"
     ]
    },
    {
     "name": "stdout",
     "output_type": "stream",
     "text": [
      "24/05/26 19:17:37 WARN DAGScheduler: Broadcasting large task binary with size 1813.1 KiB\n",
      "24/05/26 19:17:37 WARN DAGScheduler: Broadcasting large task binary with size 1948.1 KiB\n"
     ]
    },
    {
     "name": "stderr",
     "output_type": "stream",
     "text": [
      "                                                                                \r"
     ]
    },
    {
     "name": "stdout",
     "output_type": "stream",
     "text": [
      "24/05/26 19:18:56 WARN DAGScheduler: Broadcasting large task binary with size 1881.0 KiB\n",
      "24/05/26 19:18:56 WARN DAGScheduler: Broadcasting large task binary with size 2016.0 KiB\n"
     ]
    },
    {
     "name": "stderr",
     "output_type": "stream",
     "text": [
      "                                                                                \r"
     ]
    },
    {
     "name": "stdout",
     "output_type": "stream",
     "text": [
      "24/05/26 19:20:15 WARN DAGScheduler: Broadcasting large task binary with size 1949.0 KiB\n",
      "24/05/26 19:20:16 WARN DAGScheduler: Broadcasting large task binary with size 2.0 MiB\n"
     ]
    },
    {
     "name": "stderr",
     "output_type": "stream",
     "text": [
      "                                                                                \r"
     ]
    },
    {
     "name": "stdout",
     "output_type": "stream",
     "text": [
      "24/05/26 19:21:34 WARN DAGScheduler: Broadcasting large task binary with size 2016.9 KiB\n",
      "24/05/26 19:21:34 WARN DAGScheduler: Broadcasting large task binary with size 2.0 MiB\n"
     ]
    },
    {
     "name": "stderr",
     "output_type": "stream",
     "text": [
      "                                                                                \r"
     ]
    },
    {
     "name": "stdout",
     "output_type": "stream",
     "text": [
      "24/05/26 19:22:54 WARN DAGScheduler: Broadcasting large task binary with size 2017.5 KiB\n"
     ]
    }
   ],
   "source": [
    "als = ALS(userCol=\"user_id\",\n",
    "          itemCol=\"song_id\",\n",
    "          ratingCol=\"rating\",\n",
    "          implicitPrefs=True,\n",
    "          rank=128,\n",
    "          maxIter=15,\n",
    "          seed=12345)\n",
    "model = als.fit(data)"
   ]
  },
  {
   "cell_type": "code",
   "execution_count": 3,
   "metadata": {},
   "outputs": [
    {
     "name": "stdout",
     "output_type": "stream",
     "text": [
      "24/05/26 19:26:33 WARN DAGScheduler: Broadcasting large task binary with size 2.0 MiB\n",
      "24/05/26 19:26:39 WARN DAGScheduler: Broadcasting large task binary with size 2024.6 KiB\n"
     ]
    }
   ],
   "source": [
    "user_embs = model.userFactors.toPandas()\n",
    "user_cols = [f'uembed_{i}' for i in range(128)]\n",
    "user_features = pd.DataFrame(user_embs['features'].tolist(), columns=user_cols)\n",
    "user_features['user_id'] = user_embs['id']\n",
    "\n",
    "item_embs = model.itemFactors.toPandas()\n",
    "item_cols = [f'iembed_{i}' for i in range(128)]\n",
    "item_features = pd.DataFrame(item_embs['features'].tolist(), columns=item_cols)\n",
    "item_features['song_id'] = item_embs['id']"
   ]
  },
  {
   "cell_type": "code",
   "execution_count": 4,
   "metadata": {},
   "outputs": [],
   "source": [
    "user_features.to_parquet('user_svd.parquet', index=False)\n",
    "item_features.to_parquet('item_svd.parquet', index=False)"
   ]
  }
 ],
 "metadata": {
  "kernelspec": {
   "display_name": "sim4rec",
   "language": "python",
   "name": "python3"
  },
  "language_info": {
   "codemirror_mode": {
    "name": "ipython",
    "version": 3
   },
   "file_extension": ".py",
   "mimetype": "text/x-python",
   "name": "python",
   "nbconvert_exporter": "python",
   "pygments_lexer": "ipython3",
   "version": "3.9.undefined"
  }
 },
 "nbformat": 4,
 "nbformat_minor": 2
}
