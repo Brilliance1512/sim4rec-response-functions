{
 "cells": [
  {
   "cell_type": "code",
   "execution_count": 4,
   "metadata": {},
   "outputs": [],
   "source": [
    "import pandas as pd\n",
    "\n",
    "user_data = pd.read_csv('userprofile.csv')\n",
    "\n",
    "user_data = user_data.drop(['latitude', 'longitude'], axis = 1)\n",
    "user_data['smoker'] = user_data['smoker'].apply(lambda x: 0 if x=='false' else 1)\n",
    "user_data['birth_year'] = user_data['birth_year'].astype('str')\n",
    "\n",
    "user_payment = pd.read_csv('userpayment.csv')\n",
    "user_data = user_data.merge(user_payment, on='userID', how='inner')\n",
    "\n",
    "user_cuisine = pd.read_csv('usercuisine.csv')\n",
    "user_data = user_data.merge(user_cuisine, on='userID', how='inner')\n",
    "\n",
    "cat_cols = ['drink_level', 'dress_preference', 'ambience', 'transport', 'marital_status', 'hijos', 'birth_year', 'interest', 'personality', 'religion', 'activity', 'color', 'budget', 'Upayment', 'Rcuisine']\n",
    "user_data = pd.get_dummies(user_data, columns=cat_cols)\n",
    "\n",
    "user_data = user_data.rename({'userID': 'user_idx'}, axis = 1)\n",
    "user_data['user_idx'] = user_data['user_idx'].apply(lambda x: x.strip())\n",
    "\n",
    "user_ids = user_data['user_idx'].unique()\n",
    "user2ext = {id_ : k for k, id_ in enumerate(user_ids)}\n",
    "user_data['user_idx'] = user_data['user_idx'].map(user2ext)"
   ]
  },
  {
   "cell_type": "code",
   "execution_count": 2,
   "metadata": {},
   "outputs": [],
   "source": [
    "ratings = pd.read_csv('rating_final.csv')\n",
    "ratings['relevance'] = (ratings['rating'] + ratings['food_rating'] + ratings['service_rating']) / 3\n",
    "ratings = ratings.drop(['rating', 'food_rating', 'service_rating'], axis = 1)\n",
    "ratings = ratings.rename({'userID': 'user_idx', 'placeID': 'item_idx'}, axis = 1)\n",
    "ratings['item_idx'] = ratings['item_idx'].astype(str)\n",
    "\n",
    "ratings['item_idx'] = ratings['item_idx'].apply(lambda x: x.strip())\n",
    "ratings['user_idx'] = ratings['user_idx'].apply(lambda x: x.strip())\n",
    "ratings['user_idx'] = ratings['user_idx'].map(user2ext)"
   ]
  },
  {
   "cell_type": "code",
   "execution_count": 3,
   "metadata": {},
   "outputs": [],
   "source": [
    "item_data = pd.read_csv('geoplaces2.csv')\n",
    "item_cuisine = pd.read_csv('chefmozcuisine.csv')\n",
    "item_hours = pd.read_csv('chefmozhours4.csv')\n",
    "item_parking = pd.read_csv('chefmozparking.csv')\n",
    "item_accept = pd.read_csv('chefmozaccepts.csv')\n",
    "\n",
    "item_data = item_data.merge(item_cuisine, on='placeID', how='inner')\n",
    "item_data = item_data.merge(item_hours, on='placeID', how='inner')\n",
    "item_data = item_data.merge(item_parking, on='placeID', how='inner')\n",
    "item_data = item_data.merge(item_accept, on='placeID', how='inner')\n",
    "\n",
    "item_data = item_data.drop(['latitude', 'longitude', 'the_geom_meter', 'name', 'address', 'city', 'state', 'country', 'fax', 'url', 'zip'], axis = 1)\n",
    "cat_cols = ['alcohol', 'smoking_area', 'dress_code', 'accessibility', 'price', 'Rambience', 'franchise', 'area', 'other_services', 'Rcuisine', 'parking_lot', 'Rpayment']\n",
    "\n",
    "item_data['open_hrs'] = item_data['hours'].apply(lambda x: int(x.split('-')[0].split(':')[0]))\n",
    "item_data['close_hrs'] = item_data['hours'].apply(lambda x: int(x.split('-')[0].split(':')[0]))\n",
    "item_data = item_data.drop(['days', 'hours'], axis = 1)\n",
    "item_data = item_data.rename({'placeID': 'item_idx'}, axis = 1)\n",
    "item_data = pd.get_dummies(item_data, columns=cat_cols)\n",
    "item_data['item_idx'] = item_data['item_idx'].astype(str)\n",
    "item_data['item_idx'] = item_data['item_idx'].apply(lambda x: x.strip())"
   ]
  },
  {
   "cell_type": "code",
   "execution_count": 4,
   "metadata": {},
   "outputs": [],
   "source": [
    "item_data.to_parquet(\"preprocessed/items.parquet\", index=False)\n",
    "user_data.to_parquet(\"preprocessed/users.parquet\", index=False)\n",
    "ratings.to_parquet(\"preprocessed/rating.parquet\", index=False)"
   ]
  }
 ],
 "metadata": {
  "kernelspec": {
   "display_name": "Python 3.9.6 ('.venv': venv)",
   "language": "python",
   "name": "python3"
  },
  "language_info": {
   "codemirror_mode": {
    "name": "ipython",
    "version": 3
   },
   "file_extension": ".py",
   "mimetype": "text/x-python",
   "name": "python",
   "nbconvert_exporter": "python",
   "pygments_lexer": "ipython3",
   "version": "3.9.18"
  },
  "name": "movielens_nmf.ipynb",
  "pycharm": {
   "stem_cell": {
    "cell_type": "raw",
    "metadata": {
     "collapsed": false
    },
    "source": [
     "null"
    ]
   }
  },
  "vscode": {
   "interpreter": {
    "hash": "2e7cb45cb9e942450ddf4e57ba99c929215192dab4b3e5d4b59b5877c1991cae"
   }
  }
 },
 "nbformat": 4,
 "nbformat_minor": 4
}
