{
 "cells": [
  {
   "cell_type": "code",
   "execution_count": 4,
   "metadata": {},
   "outputs": [],
   "source": [
    "import pandas as pd\n",
    "from surprise import Reader, SVD, Dataset, accuracy\n",
    "from surprise.model_selection import train_test_split, cross_validate\n",
    "from rs_datasets import MovieLens\n",
    "import pickle\n",
    "\n",
    "log_df_train = pd.read_csv('train/rating.csv').drop('timestamp', axis = 1)"
   ]
  },
  {
   "cell_type": "code",
   "execution_count": 5,
   "metadata": {},
   "outputs": [
    {
     "data": {
      "text/plain": [
       "<surprise.prediction_algorithms.matrix_factorization.SVD at 0x7f815a8d2580>"
      ]
     },
     "execution_count": 5,
     "metadata": {},
     "output_type": "execute_result"
    }
   ],
   "source": [
    "reader = Reader(rating_scale=(1, 5))\n",
    "\n",
    "data = Dataset.load_from_df(log_df_train, reader)\n",
    "data = data.build_full_trainset()\n",
    "# trainset, testset = train_test_split(data, test_size=.25)\n",
    "\n",
    "svd_model = SVD(n_factors=64)\n",
    "svd_model.fit(data)\n",
    "\n",
    "# predictions = svd_model.test(testset)\n",
    "# print(accuracy.rmse(predictions))\n",
    "# print(accuracy.mae(predictions))"
   ]
  },
  {
   "cell_type": "code",
   "execution_count": 22,
   "metadata": {},
   "outputs": [],
   "source": [
    "user_cols = [f'uembed_{i}' for i in range(64)]\n",
    "user_features = pd.DataFrame(svd_model.pu, columns=user_cols)\n",
    "user_features['user_idx'] = sorted(log_df_train['user_idx'].unique())\n",
    "user_cols.insert(0, 'user_idx')\n",
    "user_features = user_features[user_cols]\n",
    "\n",
    "item_cols = [f'iembed_{i}' for i in range(64)]\n",
    "item_features = pd.DataFrame(svd_model.qi, columns=item_cols)\n",
    "item_features['item_idx'] = sorted(log_df_train['item_idx'].unique())\n",
    "item_cols.insert(0, 'item_idx')\n",
    "item_features = item_features[item_cols]"
   ]
  },
  {
   "cell_type": "code",
   "execution_count": 9,
   "metadata": {},
   "outputs": [],
   "source": [
    "user_features.to_csv('user_svd.csv', index=False)\n",
    "item_features.to_csv('item_svd.csv', index=False)"
   ]
  }
 ],
 "metadata": {
  "kernelspec": {
   "display_name": "sim4rec",
   "language": "python",
   "name": "python3"
  },
  "language_info": {
   "codemirror_mode": {
    "name": "ipython",
    "version": 3
   },
   "file_extension": ".py",
   "mimetype": "text/x-python",
   "name": "python",
   "nbconvert_exporter": "python",
   "pygments_lexer": "ipython3",
   "version": "3.9.18"
  }
 },
 "nbformat": 4,
 "nbformat_minor": 2
}
