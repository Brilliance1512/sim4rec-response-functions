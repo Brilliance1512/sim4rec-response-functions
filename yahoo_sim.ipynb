{
 "cells": [
  {
   "cell_type": "code",
   "execution_count": 1,
   "metadata": {},
   "outputs": [
    {
     "name": "stdout",
     "output_type": "stream",
     "text": [
      "24/05/26 22:08:00 WARN Utils: Your hostname, ecs-syudosaev-big resolves to a loopback address: 127.0.1.1; using 10.11.12.124 instead (on interface eth0)\n",
      "24/05/26 22:08:00 WARN Utils: Set SPARK_LOCAL_IP if you need to bind to another address\n"
     ]
    },
    {
     "name": "stderr",
     "output_type": "stream",
     "text": [
      "Setting default log level to \"WARN\".\n",
      "To adjust logging level use sc.setLogLevel(newLevel). For SparkR, use setLogLevel(newLevel).\n"
     ]
    },
    {
     "name": "stdout",
     "output_type": "stream",
     "text": [
      "24/05/26 22:08:00 WARN NativeCodeLoader: Unable to load native-hadoop library for your platform... using builtin-java classes where applicable\n"
     ]
    }
   ],
   "source": [
    "import os\n",
    "\n",
    "import pandas as pd\n",
    "import numpy as np\n",
    "\n",
    "import time\n",
    "\n",
    "from pyspark.sql import SparkSession\n",
    "from pyspark.ml.feature import VectorAssembler\n",
    "import pyspark.sql.functions as sf\n",
    "import pyspark.sql.types as st\n",
    "from pyspark.ml.classification import LogisticRegression, RandomForestClassifier, FMClassifier\n",
    "from pyspark.ml import PipelineModel\n",
    "from sim4rec.modules import Simulator\n",
    "\n",
    "from replay.metrics import NDCG, Precision, RocAuc, Metric\n",
    "from sklearn.metrics import roc_auc_score, precision_score, recall_score, accuracy_score, f1_score\n",
    "from IPython.display import clear_output\n",
    "\n",
    "from sim4rec.utils import VectorElementExtractor\n",
    "from sim4rec.modules import RealDataGenerator, SDVDataGenerator\n",
    "from sim4rec.modules import EvaluateMetrics\n",
    "from sim4rec.response import ParametricResponseFunction, BernoulliResponse\n",
    "\n",
    "from replay.models import UCB, ThompsonSampling\n",
    "from replay.models import RandomRec\n",
    "from replay.splitters import RandomSplitter\n",
    "\n",
    "%matplotlib inline\n",
    "import matplotlib.pyplot as plt\n",
    "\n",
    "import warnings\n",
    "warnings.filterwarnings(\"ignore\")\n",
    "\n",
    "spark = SparkSession.builder\\\n",
    "    .appName('simulator_movielens')\\\n",
    "    .master('local[*]')\\\n",
    "    .config('spark.sql.shuffle.partitions', '192')\\\n",
    "    .config('spark.default.parallelism', '192')\\\n",
    "    .config('spark.driver.extraJavaOptions', '-XX:+UseG1GC')\\\n",
    "    .config('spark.executor.extraJavaOptions', '-XX:+UseG1GC')\\\n",
    "    .config('spark.sql.autoBroadcastJoinThreshold', '-1')\\\n",
    "    .config('spark.driver.memory', '256g')\\\n",
    "    .config('spark.driver.maxResultSize', '256g')\\\n",
    "    .getOrCreate()\n",
    "spark.sparkContext.setLogLevel('ERROR')\n",
    "\n",
    "def calc_metric(response_df):\n",
    "    return response_df.groupBy(\"user_idx\").agg(sf.sum(\"response\").alias(\"num_positive\")).select(sf.mean(\"num_positive\")).collect()[0][0]"
   ]
  },
  {
   "cell_type": "code",
   "execution_count": 2,
   "metadata": {},
   "outputs": [],
   "source": [
    "song_attrs = spark.read.csv('song_attributes.csv', header=True, inferSchema=True)"
   ]
  },
  {
   "cell_type": "code",
   "execution_count": 3,
   "metadata": {},
   "outputs": [],
   "source": [
    "train_df = spark.read.parquet('train_trim.parquet')\n",
    "test_df = spark.read.parquet('test_trim.parquet')\n",
    "\n",
    "item_svd = spark.read.parquet('item_svd.parquet').limit(2000)\n",
    "user_svd = spark.read.parquet('user_svd.parquet').limit(6000)\n",
    "\n",
    "train_df = train_df.join(item_svd, on='song_id', how='inner')\n",
    "train_df = train_df.join(user_svd, on='user_id', how='inner')\n",
    "\n",
    "test_df = test_df.join(item_svd, on='song_id', how='inner')\n",
    "test_df = test_df.join(user_svd, on='user_id', how='inner')\n",
    "\n",
    "avg_item_ratings = train_df.select('song_id', 'rating').groupBy('song_id').agg(sf.mean(\"rating\").alias('item_rating_avg'))\n",
    "train_df = train_df.join(avg_item_ratings, on='song_id', how='inner')\n",
    "test_df = test_df.join(avg_item_ratings, on='song_id', how='inner')\n",
    "\n",
    "train_df = train_df.withColumn('relevance', sf.when(sf.col('rating') >= 3, 1).otherwise(0))\n",
    "test_df = test_df.withColumn('relevance', sf.when(sf.col('rating') >= 3, 1).otherwise(0))"
   ]
  },
  {
   "cell_type": "code",
   "execution_count": 4,
   "metadata": {},
   "outputs": [],
   "source": [
    "items = item_svd.join(song_attrs, on='song_id', how='inner')\n",
    "funcs = [f'iembed_{i}' for i in range(128)]\n",
    "artist_embeds = items.groupby('artist_id').agg(*[sf.mean(emb).alias('a_' + emb) for emb in funcs])\n",
    "\n",
    "train_df = train_df.join(song_attrs, on='song_id', how='inner')\n",
    "train_df = train_df.join(artist_embeds, on='artist_id', how='inner')\n",
    "train_df = train_df.withColumnRenamed('user_id', 'user_idx').withColumnRenamed('song_id', 'item_idx').cache()\n",
    "test_df = test_df.join(song_attrs, on='song_id', how='inner')\n",
    "test_df = test_df.join(artist_embeds, on='artist_id', how='inner')"
   ]
  },
  {
   "cell_type": "code",
   "execution_count": 5,
   "metadata": {},
   "outputs": [
    {
     "name": "stderr",
     "output_type": "stream",
     "text": [
      "                                                                                \r"
     ]
    }
   ],
   "source": [
    "va = VectorAssembler(\n",
    "    inputCols=item_svd.columns[:-1] + user_svd.columns[:-1],\n",
    "    outputCol='features'\n",
    ")\n",
    "\n",
    "lr = LogisticRegression(\n",
    "    featuresCol='features',\n",
    "    labelCol='relevance',\n",
    "    probabilityCol='proba'\n",
    ")\n",
    "fm = FMClassifier(\n",
    "    featuresCol='features',\n",
    "    labelCol='relevance',\n",
    "    probabilityCol='proba'\n",
    ")\n",
    "rf = RandomForestClassifier(\n",
    "    featuresCol='features',\n",
    "    labelCol='relevance',\n",
    "    probabilityCol='proba'\n",
    ")\n",
    "lr_model = lr.fit(va.transform(train_df))\n",
    "rf_model = rf.fit(va.transform(train_df))\n",
    "fm_model = fm.fit(va.transform(train_df))\n",
    "\n",
    "vee = VectorElementExtractor(inputCol='proba', outputCol='scores', index=1)\n",
    "mc = ParametricResponseFunction(inputCols=['scores'], outputCol='__pr', weights=[0.25])\n",
    "br = BernoulliResponse(inputCol='__pr', outputCol='response', seed=1234)\n",
    "pipeline_lr = PipelineModel(stages=[va, lr_model, vee, mc, br])\n",
    "pipeline_rf = PipelineModel(stages=[va, rf_model, vee, mc, br])\n",
    "pipeline_fm = PipelineModel(stages=[va, fm_model, vee, mc, br])"
   ]
  },
  {
   "cell_type": "code",
   "execution_count": 6,
   "metadata": {},
   "outputs": [
    {
     "name": "stderr",
     "output_type": "stream",
     "text": [
      "                                                                                \r"
     ]
    },
    {
     "name": "stdout",
     "output_type": "stream",
     "text": [
      "ROC AUC (baseline): 0.6314382862141088\n",
      "Precision (baseline): 0.6321177223288548\n",
      "Recall (baseline): 0.8715083798882681\n",
      "Accuracy (baseline): 0.626210235131397\n",
      "\n"
     ]
    },
    {
     "name": "stderr",
     "output_type": "stream",
     "text": [
      "                                                                                \r"
     ]
    },
    {
     "name": "stdout",
     "output_type": "stream",
     "text": [
      "ROC AUC (classificator): 0.7497673847007305\n",
      "Precision (classificator): 0.7033662363958492\n",
      "Recall (classificator): 0.8171126139370773\n",
      "Accuracy (classificator): 0.6898340248962656\n",
      "\n"
     ]
    },
    {
     "name": "stderr",
     "output_type": "stream",
     "text": [
      "                                                                                \r"
     ]
    },
    {
     "name": "stdout",
     "output_type": "stream",
     "text": [
      "ROC AUC (classificator): 0.7042128509264449\n",
      "Precision (classificator): 0.6343414634146342\n",
      "Recall (classificator): 0.9558953249044398\n",
      "Accuracy (classificator): 0.6500691562932227\n",
      "\n"
     ]
    },
    {
     "name": "stderr",
     "output_type": "stream",
     "text": [
      "                                                                                \r"
     ]
    },
    {
     "name": "stdout",
     "output_type": "stream",
     "text": [
      "ROC AUC (classificator): 0.7605715186086687\n",
      "Precision (classificator): 0.6729411764705883\n",
      "Recall (classificator): 0.9250220523375478\n",
      "Accuracy (classificator): 0.6915629322268326\n",
      "\n"
     ]
    }
   ],
   "source": [
    "from sklearn.metrics import roc_auc_score, precision_score, recall_score, f1_score, accuracy_score\n",
    "\n",
    "def get_baseline(pred_df):\n",
    "    pred_df = pred_df.select('item_rating_avg', 'relevance').toPandas()\n",
    "    pred_df['baseline'] = (pred_df['item_rating_avg']-pred_df['item_rating_avg'].min())/(pred_df['item_rating_avg'].max()-pred_df['item_rating_avg'].min())\n",
    "    pred_df['baseline_bin'] = np.where(pred_df['baseline'] > 0.5, 1, 0) \n",
    "    print(f\"ROC AUC (baseline): {roc_auc_score(pred_df.relevance, pred_df.baseline)}\")\n",
    "    print(f\"Precision (baseline): {precision_score(pred_df.relevance, pred_df.baseline_bin)}\")\n",
    "    print(f\"Recall (baseline): {recall_score(pred_df.relevance, pred_df.baseline_bin)}\")\n",
    "    print(f\"Accuracy (baseline): {accuracy_score(pred_df.relevance, pred_df.baseline_bin)}\")\n",
    "    print()\n",
    "\n",
    "def assess_models(model, test_df):\n",
    "    pred_df = model.transform(test_df).select(\"relevance\", \"scores\").toPandas()\n",
    "    pred_df['response_bin'] = np.where(pred_df['scores'] > 0.5, 1, 0)\n",
    "    print(f\"ROC AUC (classificator): {roc_auc_score(pred_df.relevance, pred_df.scores)}\")\n",
    "    print(f\"Precision (classificator): {precision_score(pred_df.relevance, pred_df.response_bin)}\")\n",
    "    print(f\"Recall (classificator): {recall_score(pred_df.relevance, pred_df.response_bin)}\")\n",
    "    print(f\"Accuracy (classificator): {accuracy_score(pred_df.relevance, pred_df.response_bin)}\")\n",
    "    print()\n",
    "\n",
    "get_baseline(test_df)\n",
    "assess_models(pipeline_lr, test_df)\n",
    "assess_models(pipeline_rf, test_df)\n",
    "assess_models(pipeline_fm, test_df)\n",
    "\n",
    "# 0.7355"
   ]
  },
  {
   "cell_type": "code",
   "execution_count": 7,
   "metadata": {},
   "outputs": [],
   "source": [
    "ts_lr = ThompsonSampling(sample = True)\n",
    "ts_lr.fit(log=train_df.drop('response').limit(1))\n",
    "\n",
    "ts_rf = ThompsonSampling(sample = True)\n",
    "ts_rf.fit(log=train_df.drop('response').limit(1))\n",
    "\n",
    "ts_fm = ThompsonSampling(sample = True)\n",
    "ts_fm.fit(log=train_df.drop('response').limit(1))\n",
    "\n",
    "random_uni = RandomRec(distribution=\"uniform\")\n",
    "random_uni.fit(log=train_df.drop('response').limit(1))"
   ]
  },
  {
   "cell_type": "code",
   "execution_count": 14,
   "metadata": {},
   "outputs": [],
   "source": [
    "evaluator = EvaluateMetrics(\n",
    "    userKeyCol='user_idx',\n",
    "    itemKeyCol='item_idx',\n",
    "    predictionCol='relevance',\n",
    "    labelCol='response',\n",
    "    replay_label_filter=1.0,\n",
    "    replay_metrics={NDCG() : 10, Precision() : 10, RocAuc(): 10}\n",
    ")\n",
    "\n",
    "users_df = user_svd.withColumnRenamed('user_id', 'user_idx').cache()\n",
    "items_df = item_svd.withColumnRenamed('song_id', 'item_idx').cache()\n",
    "\n",
    "users_generator = RealDataGenerator(label='users_real', seed=1234)\n",
    "items_generator = RealDataGenerator(label='items_real', seed=1234)\n",
    "users_generator.fit(users_df)\n",
    "items_generator.fit(items_df)\n",
    "_ = users_generator.generate(users_df.count())"
   ]
  },
  {
   "cell_type": "code",
   "execution_count": 15,
   "metadata": {},
   "outputs": [
    {
     "name": "stdout",
     "output_type": "stream",
     "text": [
      "Time of 50 iteration: \n",
      "82.63243651390076\n"
     ]
    }
   ],
   "source": [
    "def do_a_cycle(simul, model, pipeline, iteration, metrics):\n",
    "    users = simul.sample_users(1.0).cache()\n",
    "    log = simul.get_log(user_df=users)\n",
    "    log = train_df.drop('response').limit(1) if log is None else log\n",
    "\n",
    "    item_ids = items_df.select(\"item_idx\").sample(0.2).cache()\n",
    "    recs = model.predict(\n",
    "        log,\n",
    "        k=10,\n",
    "        users=users.select(\"user_idx\"),\n",
    "        items=item_ids,\n",
    "        filter_seen_items = False\n",
    "    )\n",
    "    resp = simul.sample_responses(\n",
    "        recs_df=recs, \n",
    "        user_features=users,\n",
    "        item_features=items_df,\n",
    "        action_models=pipeline,\n",
    "    ).select('user_idx', 'item_idx', 'relevance', 'response').cache()\n",
    "    simul.update_log(resp, iteration=iteration)\n",
    "    met = calc_metric(resp)\n",
    "    ev = evaluator(resp)\n",
    "    ev['CR'] = met\n",
    "    metrics.append(ev)\n",
    "\n",
    "    model._clear_cache()\n",
    "    train_log = simul.log.cache()\n",
    "    model.fit(train_log.select('user_idx', 'item_idx', 'response').withColumnRenamed('response', 'relevance'))\n",
    "\n",
    "    log.unpersist()\n",
    "    users.unpersist()\n",
    "    recs.unpersist()\n",
    "    resp.unpersist()\n",
    "    train_log.unpersist()\n",
    "\n",
    "sim_lr = Simulator(users_generator, items_generator, f'checkpoints/lr', None, 'user_idx', 'item_idx', spark)\n",
    "sim_rf = Simulator(users_generator, items_generator, f'checkpoints/rf', None, 'user_idx', 'item_idx', spark)\n",
    "sim_fm = Simulator(users_generator, items_generator, f'checkpoints/fm', None, 'user_idx', 'item_idx', spark)\n",
    "sim_rand = Simulator(users_generator, items_generator, f'checkpoints/rand', None, 'user_idx', 'item_idx', spark)\n",
    "\n",
    "lr_metrics = []\n",
    "rf_metrics = []\n",
    "fm_metrics = []\n",
    "rnd_metrics = []\n",
    "\n",
    "for i in range(50):\n",
    "    print(f'------------------------Stage {i}------------------------')\n",
    "    start_iter = time.time()\n",
    "\n",
    "    do_a_cycle(sim_lr, ts_lr, pipeline_lr, i, lr_metrics)\n",
    "    do_a_cycle(sim_rf, ts_rf, pipeline_rf, i, rf_metrics)\n",
    "    do_a_cycle(sim_fm, ts_fm, pipeline_fm, i, fm_metrics)\n",
    "    do_a_cycle(sim_rand, random_uni, pipeline_lr, i, rnd_metrics)\n",
    "    # plot_metric(lr_metrics)\n",
    "    clear_output(wait=True)\n",
    "    end_iter = time.time()\n",
    "    print(f\"Time of {i+1} iteration: \")\n",
    "    print(end_iter - start_iter)"
   ]
  },
  {
   "cell_type": "code",
   "execution_count": 23,
   "metadata": {},
   "outputs": [
    {
     "data": {
      "image/png": "[encoded data removed]",
      "text/plain": [
       "<Figure size 640x480 with 1 Axes>"
      ]
     },
     "metadata": {},
     "output_type": "display_data"
    }
   ],
   "source": [
    "metrics_lr = pd.DataFrame(lr_metrics)\n",
    "metrics_rnd = pd.DataFrame(rnd_metrics)\n",
    "metrics_rf = pd.DataFrame(rf_metrics)\n",
    "metrics_fm = pd.DataFrame(fm_metrics)\n",
    "\n",
    "plt.plot(metrics_lr['CR'], color='b')\n",
    "plt.plot(metrics_rnd['CR'], color='g')\n",
    "plt.plot(metrics_rf['CR'], color='r')\n",
    "plt.plot(metrics_fm['CR'], color='y')\n",
    "plt.xlabel('iteration')\n",
    "plt.ylabel('CR')\n",
    "plt.ylim(1.35, 1.6)\n",
    "plt.savefig('ml_ndcg_new_users_base.png', dpi=300)"
   ]
  }
 ],
 "metadata": {
  "kernelspec": {
   "display_name": "sim4rec",
   "language": "python",
   "name": "python3"
  },
  "language_info": {
   "name": "python",
   "version": "3.9.18"
  }
 },
 "nbformat": 4,
 "nbformat_minor": 2
}
